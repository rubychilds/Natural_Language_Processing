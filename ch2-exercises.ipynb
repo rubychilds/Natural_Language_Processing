{
 "metadata": {
  "name": ""
 },
 "nbformat": 3,
 "nbformat_minor": 0,
 "worksheets": [
  {
   "cells": [
    {
     "cell_type": "code",
     "collapsed": false,
     "input": [
      "import nltk"
     ],
     "language": "python",
     "metadata": {},
     "outputs": [],
     "prompt_number": 1
    },
    {
     "cell_type": "code",
     "collapsed": false,
     "input": [
      "# Q1 "
     ],
     "language": "python",
     "metadata": {},
     "outputs": [],
     "prompt_number": 2
    },
    {
     "cell_type": "code",
     "collapsed": false,
     "input": [],
     "language": "python",
     "metadata": {},
     "outputs": [],
     "prompt_number": 2
    },
    {
     "cell_type": "code",
     "collapsed": false,
     "input": [
      "phrase = ['a','chip','on','your','shoulder']"
     ],
     "language": "python",
     "metadata": {},
     "outputs": [],
     "prompt_number": 3
    },
    {
     "cell_type": "code",
     "collapsed": false,
     "input": [],
     "language": "python",
     "metadata": {},
     "outputs": [],
     "prompt_number": 3
    },
    {
     "cell_type": "code",
     "collapsed": false,
     "input": [
      "# Q2"
     ],
     "language": "python",
     "metadata": {},
     "outputs": [],
     "prompt_number": 4
    },
    {
     "cell_type": "code",
     "collapsed": false,
     "input": [
      "from nltk.corpus import gutenberg"
     ],
     "language": "python",
     "metadata": {},
     "outputs": [],
     "prompt_number": 5
    },
    {
     "cell_type": "code",
     "collapsed": false,
     "input": [
      "fileids = gutenberg.fileids()"
     ],
     "language": "python",
     "metadata": {},
     "outputs": [],
     "prompt_number": 6
    },
    {
     "cell_type": "code",
     "collapsed": false,
     "input": [
      "pers = gutenberg.words('austen-persuasion.txt')"
     ],
     "language": "python",
     "metadata": {},
     "outputs": [],
     "prompt_number": 7
    },
    {
     "cell_type": "code",
     "collapsed": false,
     "input": [
      "types = len(pers) # word tokens without reducing capitialisation"
     ],
     "language": "python",
     "metadata": {},
     "outputs": [],
     "prompt_number": 8
    },
    {
     "cell_type": "code",
     "collapsed": false,
     "input": [
      "num_vocab = len(set([word.lower() for word in pers])) # word types"
     ],
     "language": "python",
     "metadata": {},
     "outputs": [],
     "prompt_number": 9
    },
    {
     "cell_type": "code",
     "collapsed": false,
     "input": [
      "# Q3. "
     ],
     "language": "python",
     "metadata": {},
     "outputs": [],
     "prompt_number": 10
    },
    {
     "cell_type": "code",
     "collapsed": false,
     "input": [
      "from nltk.corpus import brown"
     ],
     "language": "python",
     "metadata": {},
     "outputs": [],
     "prompt_number": 11
    },
    {
     "cell_type": "code",
     "collapsed": false,
     "input": [
      "brown.categories()"
     ],
     "language": "python",
     "metadata": {},
     "outputs": [
      {
       "metadata": {},
       "output_type": "pyout",
       "prompt_number": 12,
       "text": [
        "['adventure',\n",
        " 'belles_lettres',\n",
        " 'editorial',\n",
        " 'fiction',\n",
        " 'government',\n",
        " 'hobbies',\n",
        " 'humor',\n",
        " 'learned',\n",
        " 'lore',\n",
        " 'mystery',\n",
        " 'news',\n",
        " 'religion',\n",
        " 'reviews',\n",
        " 'romance',\n",
        " 'science_fiction']"
       ]
      }
     ],
     "prompt_number": 12
    },
    {
     "cell_type": "code",
     "collapsed": false,
     "input": [
      "ad = brown.words(categories = 'adventure')"
     ],
     "language": "python",
     "metadata": {},
     "outputs": [],
     "prompt_number": 13
    },
    {
     "cell_type": "code",
     "collapsed": false,
     "input": [
      "len(ad) # word tokens"
     ],
     "language": "python",
     "metadata": {},
     "outputs": [
      {
       "metadata": {},
       "output_type": "pyout",
       "prompt_number": 14,
       "text": [
        "69342"
       ]
      }
     ],
     "prompt_number": 14
    },
    {
     "cell_type": "code",
     "collapsed": false,
     "input": [
      "len(set([word.lower() for word in ad])) # word types"
     ],
     "language": "python",
     "metadata": {},
     "outputs": [
      {
       "metadata": {},
       "output_type": "pyout",
       "prompt_number": 15,
       "text": [
        "8289"
       ]
      }
     ],
     "prompt_number": 15
    },
    {
     "cell_type": "code",
     "collapsed": false,
     "input": [
      "rom = brown.words(categories='romance')"
     ],
     "language": "python",
     "metadata": {},
     "outputs": [],
     "prompt_number": 16
    },
    {
     "cell_type": "code",
     "collapsed": false,
     "input": [
      "len(rom)"
     ],
     "language": "python",
     "metadata": {},
     "outputs": [
      {
       "metadata": {},
       "output_type": "pyout",
       "prompt_number": 17,
       "text": [
        "70022"
       ]
      }
     ],
     "prompt_number": 17
    },
    {
     "cell_type": "code",
     "collapsed": false,
     "input": [
      "len(set([word.lower() for word in rom])) "
     ],
     "language": "python",
     "metadata": {},
     "outputs": [
      {
       "metadata": {},
       "output_type": "pyout",
       "prompt_number": 18,
       "text": [
        "7883"
       ]
      }
     ],
     "prompt_number": 18
    },
    {
     "cell_type": "code",
     "collapsed": false,
     "input": [
      "genre_words = [(genre,word) for genre in ['adventure','romance'] for word in brown.words(categories = genre)]"
     ],
     "language": "python",
     "metadata": {},
     "outputs": [],
     "prompt_number": 19
    },
    {
     "cell_type": "code",
     "collapsed": false,
     "input": [
      "cfd = nltk.ConditionalFreqDist(genre_words)"
     ],
     "language": "python",
     "metadata": {},
     "outputs": [],
     "prompt_number": 20
    },
    {
     "cell_type": "code",
     "collapsed": false,
     "input": [
      "cfd.conditions()"
     ],
     "language": "python",
     "metadata": {},
     "outputs": [
      {
       "metadata": {},
       "output_type": "pyout",
       "prompt_number": 21,
       "text": [
        "['adventure', 'romance']"
       ]
      }
     ],
     "prompt_number": 21
    },
    {
     "cell_type": "code",
     "collapsed": false,
     "input": [
      "cfd['adventure']"
     ],
     "language": "python",
     "metadata": {},
     "outputs": [
      {
       "metadata": {},
       "output_type": "pyout",
       "prompt_number": 22,
       "text": [
        "<FreqDist with 8874 samples and 69342 outcomes>"
       ]
      }
     ],
     "prompt_number": 22
    },
    {
     "cell_type": "code",
     "collapsed": false,
     "input": [
      "cfd['romance']"
     ],
     "language": "python",
     "metadata": {},
     "outputs": [
      {
       "metadata": {},
       "output_type": "pyout",
       "prompt_number": 23,
       "text": [
        "<FreqDist with 8452 samples and 70022 outcomes>"
       ]
      }
     ],
     "prompt_number": 23
    },
    {
     "cell_type": "code",
     "collapsed": false,
     "input": [],
     "language": "python",
     "metadata": {},
     "outputs": [],
     "prompt_number": 23
    },
    {
     "cell_type": "code",
     "collapsed": false,
     "input": [
      "# Q4."
     ],
     "language": "python",
     "metadata": {},
     "outputs": [],
     "prompt_number": 24
    },
    {
     "cell_type": "code",
     "collapsed": false,
     "input": [
      "from nltk.corpus import state_union"
     ],
     "language": "python",
     "metadata": {},
     "outputs": [],
     "prompt_number": 25
    },
    {
     "cell_type": "code",
     "collapsed": false,
     "input": [
      "fileids = state_union.fileids()"
     ],
     "language": "python",
     "metadata": {},
     "outputs": [],
     "prompt_number": 26
    },
    {
     "cell_type": "code",
     "collapsed": false,
     "input": [
      "genders = ['men','women','people']"
     ],
     "language": "python",
     "metadata": {},
     "outputs": [],
     "prompt_number": 27
    },
    {
     "cell_type": "code",
     "collapsed": false,
     "input": [
      "for fileid in fileids:\n",
      "    words = state_union.words(fileid)\n",
      "    for index, gender in enumerate(genders):\n",
      "        count = 0\n",
      "        for word in words:\n",
      "           if word.lower() == gender:\n",
      "                count += 1\n",
      "        print fileid, gender, count"
     ],
     "language": "python",
     "metadata": {},
     "outputs": [
      {
       "output_type": "stream",
       "stream": "stdout",
       "text": [
        "1945-Truman.txt men 2\n",
        "1945-Truman.txt women 2\n",
        "1945-Truman.txt people 10\n",
        "1946-Truman.txt men 12\n",
        "1946-Truman.txt"
       ]
      },
      {
       "output_type": "stream",
       "stream": "stdout",
       "text": [
        " women 7\n",
        "1946-Truman.txt people 49\n",
        "1947-Truman.txt men 7\n",
        "1947-Truman.txt women 2\n",
        "1947-Truman.txt people 12\n",
        "1948-Truman.txt men 5\n",
        "1948-Truman.txt"
       ]
      },
      {
       "output_type": "stream",
       "stream": "stdout",
       "text": [
        " women 1\n",
        "1948-Truman.txt people 22\n",
        "1949-Truman.txt men 2\n",
        "1949-Truman.txt women 1\n",
        "1949-Truman.txt people 15\n",
        "1950-Truman.txt men 6\n",
        "1950-Truman.txt women 2\n",
        "1950-Truman.txt people 15\n",
        "1951-Truman.txt men 8\n",
        "1951-Truman.txt women 2\n",
        "1951-Truman.txt people 10\n",
        "1953-Eisenhower.txt men 3\n",
        "1953-Eisenhower.txt"
       ]
      },
      {
       "output_type": "stream",
       "stream": "stdout",
       "text": [
        " women 0\n",
        "1953-Eisenhower.txt people 17\n",
        "1954-Eisenhower.txt men 2\n",
        "1954-Eisenhower.txt women 0\n",
        "1954-Eisenhower.txt people 15\n",
        "1955-Eisenhower.txt men 4\n",
        "1955-Eisenhower.txt women 0\n",
        "1955-Eisenhower.txt people 26\n",
        "1956-Eisenhower.txt"
       ]
      },
      {
       "output_type": "stream",
       "stream": "stdout",
       "text": [
        " men 2\n",
        "1956-Eisenhower.txt women 2\n",
        "1956-Eisenhower.txt people 30\n",
        "1957-Eisenhower.txt men 5\n",
        "1957-Eisenhower.txt women 2\n",
        "1957-Eisenhower.txt people 11\n",
        "1958-Eisenhower.txt men 2\n",
        "1958-Eisenhower.txt women 1\n",
        "1958-Eisenhower.txt people 19\n",
        "1959-Eisenhower.txt men 4\n",
        "1959-Eisenhower.txt women 1\n",
        "1959-Eisenhower.txt"
       ]
      },
      {
       "output_type": "stream",
       "stream": "stdout",
       "text": [
        " people 11\n",
        "1960-Eisenhower.txt men 2\n",
        "1960-Eisenhower.txt women 0\n",
        "1960-Eisenhower.txt people 10\n",
        "1961-Kennedy.txt men 6\n",
        "1961-Kennedy.txt women 0\n",
        "1961-Kennedy.txt people 10\n",
        "1962-Kennedy.txt men 6\n",
        "1962-Kennedy.txt women 2\n",
        "1962-Kennedy.txt"
       ]
      },
      {
       "output_type": "stream",
       "stream": "stdout",
       "text": [
        " people 10\n",
        "1963-Johnson.txt men 0\n",
        "1963-Johnson.txt women 0\n",
        "1963-Johnson.txt people 3\n",
        "1963-Kennedy.txt men 8\n",
        "1963-Kennedy.txt women 5\n",
        "1963-Kennedy.txt people 12\n",
        "1964-Johnson.txt men 3\n",
        "1964-Johnson.txt women 1\n",
        "1964-Johnson.txt people 3\n",
        "1965-Johnson-1.txt men 7\n",
        "1965-Johnson-1.txt women 0\n",
        "1965-Johnson-1.txt people 16\n",
        "1965-Johnson-2.txt men 12\n",
        "1965-Johnson-2.txt women 3\n",
        "1965-Johnson-2.txt"
       ]
      },
      {
       "output_type": "stream",
       "stream": "stdout",
       "text": [
        " people 14\n",
        "1966-Johnson.txt men 12\n",
        "1966-Johnson.txt women 1\n",
        "1966-Johnson.txt people 35\n",
        "1967-Johnson.txt men 11\n",
        "1967-Johnson.txt women 1\n",
        "1967-Johnson.txt people 25\n",
        "1968-Johnson.txt men 4\n",
        "1968-Johnson.txt women 0\n",
        "1968-Johnson.txt"
       ]
      },
      {
       "output_type": "stream",
       "stream": "stdout",
       "text": [
        " people 17\n",
        "1969-Johnson.txt men 5\n",
        "1969-Johnson.txt women 2\n",
        "1969-Johnson.txt people 6\n",
        "1970-Nixon.txt men 2\n",
        "1970-Nixon.txt women 0\n",
        "1970-Nixon.txt people 23\n",
        "1971-Nixon.txt men 1\n",
        "1971-Nixon.txt women 0\n",
        "1971-Nixon.txt people 34\n",
        "1972-Nixon.txt men 1\n",
        "1972-Nixon.txt women 0\n",
        "1972-Nixon.txt people 9\n",
        "1973-Nixon.txt men 1\n",
        "1973-Nixon.txt"
       ]
      },
      {
       "output_type": "stream",
       "stream": "stdout",
       "text": [
        " women 0\n",
        "1973-Nixon.txt people 10\n",
        "1974-Nixon.txt men 0\n",
        "1974-Nixon.txt women 0\n",
        "1974-Nixon.txt people 22\n",
        "1975-Ford.txt men 0\n",
        "1975-Ford.txt women 0\n",
        "1975-Ford.txt people 14\n",
        "1976-Ford.txt men 3\n",
        "1976-Ford.txt women 1\n",
        "1976-Ford.txt people 18\n",
        "1977-Ford.txt men 2\n",
        "1977-Ford.txt"
       ]
      },
      {
       "output_type": "stream",
       "stream": "stdout",
       "text": [
        " women 1\n",
        "1977-Ford.txt people 19\n",
        "1978-Carter.txt men 0\n",
        "1978-Carter.txt women 1\n",
        "1978-Carter.txt people 26\n",
        "1979-Carter.txt men 0\n",
        "1979-Carter.txt women 1\n",
        "1979-Carter.txt people 15\n",
        "1980-Carter.txt men 1\n",
        "1980-Carter.txt women 2\n",
        "1980-Carter.txt people 12\n",
        "1981-Reagan.txt men 1\n",
        "1981-Reagan.txt women 1\n",
        "1981-Reagan.txt people 11\n",
        "1982-Reagan.txt"
       ]
      },
      {
       "output_type": "stream",
       "stream": "stdout",
       "text": [
        " men 1\n",
        "1982-Reagan.txt women 2\n",
        "1982-Reagan.txt people 17\n",
        "1983-Reagan.txt men 3\n",
        "1983-Reagan.txt women 7\n",
        "1983-Reagan.txt people 19\n",
        "1984-Reagan.txt men 3\n",
        "1984-Reagan.txt women 5\n",
        "1984-Reagan.txt people 27\n",
        "1985-Reagan.txt men 1\n",
        "1985-Reagan.txt women 1\n",
        "1985-Reagan.txt"
       ]
      },
      {
       "output_type": "stream",
       "stream": "stdout",
       "text": [
        " people 12\n",
        "1986-Reagan.txt men 2\n",
        "1986-Reagan.txt women 2\n",
        "1986-Reagan.txt people 14\n",
        "1987-Reagan.txt men 1\n",
        "1987-Reagan.txt women 0\n",
        "1987-Reagan.txt people 24\n",
        "1988-Reagan.txt men 1\n",
        "1988-Reagan.txt women 0\n",
        "1988-Reagan.txt people 17\n",
        "1989-Bush.txt men 2\n",
        "1989-Bush.txt women 3\n",
        "1989-Bush.txt people 13\n",
        "1990-Bush.txt"
       ]
      },
      {
       "output_type": "stream",
       "stream": "stdout",
       "text": [
        " men 3\n",
        "1990-Bush.txt women 2\n",
        "1990-Bush.txt people 9\n",
        "1991-Bush-1.txt men 2\n",
        "1991-Bush-1.txt women 2\n",
        "1991-Bush-1.txt people 14\n",
        "1991-Bush-2.txt men 7\n",
        "1991-Bush-2.txt women 7\n",
        "1991-Bush-2.txt people 13\n",
        "1992-Bush.txt men 4\n",
        "1992-Bush.txt women 4\n",
        "1992-Bush.txt people 27\n",
        "1993-Clinton.txt men 1\n",
        "1993-Clinton.txt"
       ]
      },
      {
       "output_type": "stream",
       "stream": "stdout",
       "text": [
        " women 2\n",
        "1993-Clinton.txt people 45\n",
        "1994-Clinton.txt men 1\n",
        "1994-Clinton.txt women 1\n",
        "1994-Clinton.txt people 66\n",
        "1995-Clinton.txt men 1\n",
        "1995-Clinton.txt women 3\n",
        "1995-Clinton.txt"
       ]
      },
      {
       "output_type": "stream",
       "stream": "stdout",
       "text": [
        " people 73\n",
        "1996-Clinton.txt men 2\n",
        "1996-Clinton.txt women 3\n",
        "1996-Clinton.txt people 43\n",
        "1997-Clinton.txt men 1\n",
        "1997-Clinton.txt women 2\n",
        "1997-Clinton.txt people 31\n",
        "1998-Clinton.txt men 2\n",
        "1998-Clinton.txt"
       ]
      },
      {
       "output_type": "stream",
       "stream": "stdout",
       "text": [
        " women 2\n",
        "1998-Clinton.txt people 22\n",
        "1999-Clinton.txt men 2\n",
        "1999-Clinton.txt women 3\n",
        "1999-Clinton.txt people 22\n",
        "2000-Clinton.txt men 5\n",
        "2000-Clinton.txt women 7\n",
        "2000-Clinton.txt"
       ]
      },
      {
       "output_type": "stream",
       "stream": "stdout",
       "text": [
        " people 41\n",
        "2001-GWBush-1.txt men 3\n",
        "2001-GWBush-1.txt women 3\n",
        "2001-GWBush-1.txt people 15\n",
        "2001-GWBush-2.txt men 1\n",
        "2001-GWBush-2.txt women 3\n",
        "2001-GWBush-2.txt people 12\n",
        "2002-GWBush.txt men 3\n",
        "2002-GWBush.txt women 6\n",
        "2002-GWBush.txt people 14\n",
        "2003-GWBush.txt men 6\n",
        "2003-GWBush.txt women 4\n",
        "2003-GWBush.txt"
       ]
      },
      {
       "output_type": "stream",
       "stream": "stdout",
       "text": [
        " people 33\n",
        "2004-GWBush.txt men 7\n",
        "2004-GWBush.txt women 8\n",
        "2004-GWBush.txt people 21\n",
        "2005-GWBush.txt men 8\n",
        "2005-GWBush.txt women 11\n",
        "2005-GWBush.txt people 18\n",
        "2006-GWBush.txt men 7\n",
        "2006-GWBush.txt women 7\n",
        "2006-GWBush.txt people 22\n"
       ]
      }
     ],
     "prompt_number": 28
    },
    {
     "cell_type": "code",
     "collapsed": false,
     "input": [
      "# Q5."
     ],
     "language": "python",
     "metadata": {},
     "outputs": [],
     "prompt_number": 29
    },
    {
     "cell_type": "code",
     "collapsed": false,
     "input": [
      "sentence = [(\"the\", \"DT\"), (\"little\", \"JJ\"), (\"yellow\", \"JJ\"),\n",
      " (\"dog\", \"NN\"), (\"barked\", \"VBD\"), (\"at\", \"IN\"),  (\"the\", \"DT\"), (\"cat\", \"NN\")]                                                      "
     ],
     "language": "python",
     "metadata": {},
     "outputs": [],
     "prompt_number": 30
    },
    {
     "cell_type": "code",
     "collapsed": false,
     "input": [
      "nouns = [word for word,chunk in sentence if chunk=='NN' ]"
     ],
     "language": "python",
     "metadata": {},
     "outputs": [],
     "prompt_number": 31
    },
    {
     "cell_type": "code",
     "collapsed": false,
     "input": [
      "from nltk.corpus import wordnet as wn"
     ],
     "language": "python",
     "metadata": {},
     "outputs": [],
     "prompt_number": 32
    },
    {
     "cell_type": "code",
     "collapsed": false,
     "input": [
      "for noun in nouns:\n",
      "    print noun.upper()\n",
      "    synset = wn.synset(noun +'.n.01')\n",
      "    print synset\n",
      "    print synset.definition\n",
      "    print synset.examples\n",
      "    print synset.hyponyms()\n",
      "    \n",
      "    print synset.member_meronyms()\n",
      "    print synset.part_meronyms()\n",
      "    print synset.substance_meronyms()\n",
      "    \n",
      "    print synset.member_holonyms()\n",
      "    print synset.part_holonyms()\n",
      "    print synset.substance_holonyms()\n",
      "    print '\\n'"
     ],
     "language": "python",
     "metadata": {},
     "outputs": [
      {
       "output_type": "stream",
       "stream": "stdout",
       "text": [
        "DOG\n",
        "Synset('dog.n.01')"
       ]
      },
      {
       "output_type": "stream",
       "stream": "stdout",
       "text": [
        "\n",
        "a member of the genus Canis (probably descended from the common wolf) that has been domesticated by man since prehistoric times; occurs in many breeds\n",
        "['the dog barked all night']\n",
        "[Synset('puppy.n.01'), Synset('great_pyrenees.n.01'), Synset('basenji.n.01'), Synset('newfoundland.n.01'), Synset('lapdog.n.01'), Synset('poodle.n.01'), Synset('leonberg.n.01'), Synset('toy_dog.n.01'), Synset('spitz.n.01'), Synset('pooch.n.01'), Synset('cur.n.01'), Synset('mexican_hairless.n.01'), Synset('hunting_dog.n.01'), Synset('working_dog.n.01'), Synset('dalmatian.n.02'), Synset('pug.n.01'), Synset('corgi.n.01'), Synset('griffon.n.02')]\n",
        "[]\n",
        "[Synset('flag.n.07')]\n",
        "[]\n",
        "[Synset('pack.n.06'), Synset('canis.n.01')]\n",
        "[]\n",
        "[]\n",
        "\n",
        "\n",
        "CAT\n",
        "Synset('cat.n.01')\n",
        "feline mammal usually having thick soft fur and no ability to roar: domestic cats; wildcats\n",
        "[]\n",
        "[Synset('domestic_cat.n.01'), Synset('wildcat.n.03')]\n",
        "[]\n",
        "[]\n",
        "[]\n",
        "[]\n",
        "[]\n",
        "[]\n",
        "\n",
        "\n"
       ]
      }
     ],
     "prompt_number": 33
    },
    {
     "cell_type": "code",
     "collapsed": false,
     "input": [
      "# Q8. "
     ],
     "language": "python",
     "metadata": {},
     "outputs": [],
     "prompt_number": 34
    },
    {
     "cell_type": "code",
     "collapsed": false,
     "input": [
      "from nltk.corpus import names"
     ],
     "language": "python",
     "metadata": {},
     "outputs": [],
     "prompt_number": 35
    },
    {
     "cell_type": "code",
     "collapsed": false,
     "input": [
      "names.fileids()"
     ],
     "language": "python",
     "metadata": {},
     "outputs": [
      {
       "metadata": {},
       "output_type": "pyout",
       "prompt_number": 36,
       "text": [
        "['female.txt', 'male.txt']"
       ]
      }
     ],
     "prompt_number": 36
    },
    {
     "cell_type": "code",
     "collapsed": false,
     "input": [
      "males = names.words('male.txt')"
     ],
     "language": "python",
     "metadata": {},
     "outputs": [],
     "prompt_number": 37
    },
    {
     "cell_type": "code",
     "collapsed": false,
     "input": [
      "females = names.words('female.txt')"
     ],
     "language": "python",
     "metadata": {},
     "outputs": [],
     "prompt_number": 38
    },
    {
     "cell_type": "code",
     "collapsed": false,
     "input": [
      "cfd = nltk.ConditionalFreqDist( (fileid, word[0]) for fileid in names.fileids() for word in names.words(fileid) )"
     ],
     "language": "python",
     "metadata": {},
     "outputs": [],
     "prompt_number": 39
    },
    {
     "cell_type": "code",
     "collapsed": false,
     "input": [
      "cfd.plot()"
     ],
     "language": "python",
     "metadata": {},
     "outputs": [],
     "prompt_number": 40
    },
    {
     "cell_type": "code",
     "collapsed": false,
     "input": [
      "# Q9."
     ],
     "language": "python",
     "metadata": {},
     "outputs": [],
     "prompt_number": 41
    },
    {
     "cell_type": "code",
     "collapsed": false,
     "input": [
      "from nltk.corpus import gutenberg\n",
      "from __future__ import division"
     ],
     "language": "python",
     "metadata": {},
     "outputs": [],
     "prompt_number": 26
    },
    {
     "cell_type": "code",
     "collapsed": false,
     "input": [
      "gutenberg.fileids()"
     ],
     "language": "python",
     "metadata": {},
     "outputs": [
      {
       "metadata": {},
       "output_type": "pyout",
       "prompt_number": 43,
       "text": [
        "['austen-emma.txt',\n",
        " 'austen-persuasion.txt',\n",
        " 'austen-sense.txt',\n",
        " 'bible-kjv.txt',\n",
        " 'blake-poems.txt',\n",
        " 'bryant-stories.txt',\n",
        " 'burgess-busterbrown.txt',\n",
        " 'carroll-alice.txt',\n",
        " 'chesterton-ball.txt',\n",
        " 'chesterton-brown.txt',\n",
        " 'chesterton-thursday.txt',\n",
        " 'edgeworth-parents.txt',\n",
        " 'melville-moby_dick.txt',\n",
        " 'milton-paradise.txt',\n",
        " 'shakespeare-caesar.txt',\n",
        " 'shakespeare-hamlet.txt',\n",
        " 'shakespeare-macbeth.txt',\n",
        " 'whitman-leaves.txt']"
       ]
      }
     ],
     "prompt_number": 43
    },
    {
     "cell_type": "code",
     "collapsed": false,
     "input": [
      "def lexical_diversity(text):\n",
      "    return len(text)/len(set(text))"
     ],
     "language": "python",
     "metadata": {},
     "outputs": [],
     "prompt_number": 44
    },
    {
     "cell_type": "code",
     "collapsed": false,
     "input": [
      "def unusual_words(text):\n",
      "    textwords = set([word.lower() for word in text if word.isalpha()])\n",
      "    english_words = set(nltk.corpus.words.words())\n",
      "    dif = textwords.difference(english_words)\n",
      "    return sorted(dif)"
     ],
     "language": "python",
     "metadata": {},
     "outputs": [],
     "prompt_number": 45
    },
    {
     "cell_type": "code",
     "collapsed": false,
     "input": [
      "fileids_chosen = ['shakespeare-hamlet.txt', 'shakespeare-macbeth.txt']"
     ],
     "language": "python",
     "metadata": {},
     "outputs": [],
     "prompt_number": 46
    },
    {
     "cell_type": "code",
     "collapsed": false,
     "input": [
      "def text_comparison():\n",
      "    word_lists = {}\n",
      "    for fileid in fileids_chosen:\n",
      "        text = gutenberg.words(fileid)\n",
      "        lex_div = lexical_diversity(text)\n",
      "        words = unusual_words(text)\n",
      "        print lex_div, words[0:10]\n",
      "        word_lists[fileid] = words\n",
      "    return word_lists"
     ],
     "language": "python",
     "metadata": {},
     "outputs": [],
     "prompt_number": 47
    },
    {
     "cell_type": "code",
     "collapsed": false,
     "input": [
      "words = text_comparison()"
     ],
     "language": "python",
     "metadata": {},
     "outputs": [
      {
       "output_type": "stream",
       "stream": "stdout",
       "text": [
        "6.85882136956 ['abhominably', 'abhorred', 'abilitie', 'aboord', 'aboue', 'abridgements', 'abstracts', 'abus', 'abuses', 'accepts']\n",
        "5.76051779935"
       ]
      },
      {
       "output_type": "stream",
       "stream": "stdout",
       "text": [
        " ['abhorred', 'abiure', 'aboue', 'accents', 'accesse', 'accounted', 'accurs', 'accust', 'acheron', 'acted']\n"
       ]
      }
     ],
     "prompt_number": 48
    },
    {
     "cell_type": "code",
     "collapsed": false,
     "input": [
      "words.keys()"
     ],
     "language": "python",
     "metadata": {},
     "outputs": [
      {
       "metadata": {},
       "output_type": "pyout",
       "prompt_number": 49,
       "text": [
        "['shakespeare-hamlet.txt', 'shakespeare-macbeth.txt']"
       ]
      }
     ],
     "prompt_number": 49
    },
    {
     "cell_type": "code",
     "collapsed": false,
     "input": [
      "s = set([1,2,3])\n",
      "b = set([23,31,3])\n",
      "print s.union(b)\n",
      "print s.difference(b)\n",
      "print b.difference(s)\n",
      "print s & b"
     ],
     "language": "python",
     "metadata": {},
     "outputs": [
      {
       "output_type": "stream",
       "stream": "stdout",
       "text": [
        "set([1, 2, 3, 23, 31])\n",
        "set([1, 2])\n",
        "set([23, 31])\n",
        "set([3])\n"
       ]
      }
     ],
     "prompt_number": 50
    },
    {
     "cell_type": "code",
     "collapsed": false,
     "input": [
      "shared_words = set(words['shakespeare-hamlet.txt']) & set(words['shakespeare-macbeth.txt']) # produce a list of all words, that appear in both texts"
     ],
     "language": "python",
     "metadata": {},
     "outputs": [],
     "prompt_number": 51
    },
    {
     "cell_type": "code",
     "collapsed": false,
     "input": [
      "text1 = nltk.Text(gutenberg.words('shakespeare-hamlet.txt'))\n",
      "text2 = nltk.Text(gutenberg.words('shakespeare-macbeth.txt')) # map texts to vars"
     ],
     "language": "python",
     "metadata": {},
     "outputs": [],
     "prompt_number": 52
    },
    {
     "cell_type": "code",
     "collapsed": false,
     "input": [
      "text1.concordance('abhorred') "
     ],
     "language": "python",
     "metadata": {},
     "outputs": [
      {
       "output_type": "stream",
       "stream": "stdout",
       "text": [
        "Building index...\n",
        "Displaying 1 of 1 matches:\n",
        "s backe a thousand times : And how abhorred my Imagination is , my gorge rises\n"
       ]
      }
     ],
     "prompt_number": 53
    },
    {
     "cell_type": "code",
     "collapsed": false,
     "input": [
      "text2.concordance('abhorred') "
     ],
     "language": "python",
     "metadata": {},
     "outputs": [
      {
       "output_type": "stream",
       "stream": "stdout",
       "text": [
        "Building index...\n",
        "Displaying 1 of 1 matches:\n",
        "ore fearefull Y . Sey . Thou lyest abhorred Tyrant , with my Sword Ile proue t\n"
       ]
      }
     ],
     "prompt_number": 54
    },
    {
     "cell_type": "code",
     "collapsed": false,
     "input": [
      "cfd1 = nltk.ConditionalFreqDist(('shakespeare-hamlet',word) for word in gutenberg.words('shakespeare-hamlet.txt') if word in shared_words   )"
     ],
     "language": "python",
     "metadata": {},
     "outputs": [],
     "prompt_number": 55
    },
    {
     "cell_type": "code",
     "collapsed": false,
     "input": [
      "cfd2 = nltk.ConditionalFreqDist(('shakespeare-macbeth',word) for word in gutenberg.words('shakespeare-macbeth.txt') if word in shared_words )"
     ],
     "language": "python",
     "metadata": {},
     "outputs": [],
     "prompt_number": 56
    },
    {
     "cell_type": "code",
     "collapsed": false,
     "input": [
      "# Q10. "
     ],
     "language": "python",
     "metadata": {},
     "outputs": []
    },
    {
     "cell_type": "code",
     "collapsed": false,
     "input": [
      "# Q11."
     ],
     "language": "python",
     "metadata": {},
     "outputs": [],
     "prompt_number": 1
    },
    {
     "cell_type": "code",
     "collapsed": false,
     "input": [
      "# Q12."
     ],
     "language": "python",
     "metadata": {},
     "outputs": []
    },
    {
     "cell_type": "code",
     "collapsed": false,
     "input": [
      "import nltk\n",
      "from nltk.corpus import wordnet as wn"
     ],
     "language": "python",
     "metadata": {},
     "outputs": [],
     "prompt_number": 28
    },
    {
     "cell_type": "code",
     "collapsed": false,
     "input": [
      "prondict = nltk.corpus.cmudict.dict()"
     ],
     "language": "python",
     "metadata": {},
     "outputs": [],
     "prompt_number": 7
    },
    {
     "cell_type": "code",
     "collapsed": false,
     "input": [
      "print len(prondict.keys())\n",
      "print prondict.values()[0]"
     ],
     "language": "python",
     "metadata": {},
     "outputs": [
      {
       "output_type": "stream",
       "stream": "stdout",
       "text": [
        "123455\n",
        "[['F', 'AO1', 'N']]\n"
       ]
      }
     ],
     "prompt_number": 14
    },
    {
     "cell_type": "code",
     "collapsed": false,
     "input": [
      "vals_length = [len(val) for val in prondict.values() if len(val) >1]"
     ],
     "language": "python",
     "metadata": {},
     "outputs": [],
     "prompt_number": 18
    },
    {
     "cell_type": "code",
     "collapsed": false,
     "input": [
      "print len(vals_length) # number that have more than one pronounciation in dic"
     ],
     "language": "python",
     "metadata": {},
     "outputs": [
      {
       "output_type": "stream",
       "stream": "stdout",
       "text": [
        "9241\n"
       ]
      }
     ],
     "prompt_number": 23
    },
    {
     "cell_type": "code",
     "collapsed": false,
     "input": [
      "print len(vals_length)/len(prondict.keys()) # fraction of total cmu dic"
     ],
     "language": "python",
     "metadata": {},
     "outputs": [
      {
       "output_type": "stream",
       "stream": "stdout",
       "text": [
        "0.0748531853712\n"
       ]
      }
     ],
     "prompt_number": 27
    },
    {
     "cell_type": "code",
     "collapsed": false,
     "input": [
      "# Q13."
     ],
     "language": "python",
     "metadata": {},
     "outputs": []
    },
    {
     "cell_type": "code",
     "collapsed": false,
     "input": [
      "noun_synsets = wn.all_synsets('n')"
     ],
     "language": "python",
     "metadata": {},
     "outputs": [],
     "prompt_number": 29
    },
    {
     "cell_type": "code",
     "collapsed": false,
     "input": [
      "count = 0\n",
      "for noun in noun_synsets:\n",
      "    if len(noun.hyponyms())==0:\n",
      "        count += 1\n",
      "print count"
     ],
     "language": "python",
     "metadata": {},
     "outputs": [
      {
       "output_type": "stream",
       "stream": "stdout",
       "text": [
        "0\n"
       ]
      }
     ],
     "prompt_number": 34
    },
    {
     "cell_type": "code",
     "collapsed": false,
     "input": [
      "# Q14."
     ],
     "language": "python",
     "metadata": {},
     "outputs": []
    },
    {
     "cell_type": "code",
     "collapsed": false,
     "input": [
      "def supergloss(s):\n",
      "    definitions = s.definition\n",
      "    for hypernym in s.hypernyms():\n",
      "        definitions += hypernym.definition\n",
      "    for hyponym in s.hyponyms():\n",
      "        definitions += hyponym.definition\n",
      "    return definitions"
     ],
     "language": "python",
     "metadata": {},
     "outputs": [],
     "prompt_number": 40
    },
    {
     "cell_type": "code",
     "collapsed": false,
     "input": [
      "print supergloss(wn.synset('dog.n.01'))"
     ],
     "language": "python",
     "metadata": {},
     "outputs": [
      {
       "output_type": "stream",
       "stream": "stdout",
       "text": [
        "a member of the genus Canis (probably descended from the common wolf) that has been domesticated by man since prehistoric times; occurs in many breedsany of various animals that have been tamed and made fit for a human environmentany of various fissiped mammals with nonretractile claws and typically long muzzlesa young dogbred of large heavy-coated white dogs resembling the Newfoundlandsmall smooth-haired breed of African origin having a tightly curled tail and the inability to barka breed of very large heavy dogs with a thick coarse usually black coat; highly intelligent dogs and vigorous swimmers; developed in Newfoundlanda dog small and tame enough to be held in the lapan intelligent dog with a heavy curly solid-colored coat that is usually clipped; an old breed sometimes trained as sporting dogs or as performing dogsa large dog (usually with a golden coat) produced by crossing a St Bernard and a Newfoundlandany of several breeds of very small dogs kept purely as petsany of various stocky heavy-coated breeds of dogs native to northern regions having pointed muzzles and erect ears with a curled furry tailinformal terms for dogsan inferior dog or one of mixed breedany of an old breed of small nearly hairless dogs of Mexicoa dog used in hunting gameany of several breeds of usually large powerful dogs bred to work as draft animals and guard and guide dogsa large breed having a smooth white coat with black or brown spots; originated in Dalmatiasmall compact smooth-coated breed of Asiatic origin having a tightly curled tail and broad flat wrinkled muzzleeither of two Welsh breeds of long-bodied short-legged dogs with erect ears and a fox-like headbreed of various very small compact wiry-coated dogs of Belgian origin having a short bearded muzzle\n"
       ]
      }
     ],
     "prompt_number": 41
    },
    {
     "cell_type": "code",
     "collapsed": false,
     "input": [
      "# Q15."
     ],
     "language": "python",
     "metadata": {},
     "outputs": []
    }
   ],
   "metadata": {}
  }
 ]
}