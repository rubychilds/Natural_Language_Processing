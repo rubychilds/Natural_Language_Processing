{
 "metadata": {
  "name": ""
 },
 "nbformat": 3,
 "nbformat_minor": 0,
 "worksheets": [
  {
   "cells": [
    {
     "cell_type": "code",
     "collapsed": false,
     "input": [
      "import nltk"
     ],
     "language": "python",
     "metadata": {},
     "outputs": [],
     "prompt_number": 1
    },
    {
     "cell_type": "code",
     "collapsed": false,
     "input": [
      "# Q1 "
     ],
     "language": "python",
     "metadata": {},
     "outputs": [],
     "prompt_number": 2
    },
    {
     "cell_type": "code",
     "collapsed": false,
     "input": [],
     "language": "python",
     "metadata": {},
     "outputs": [],
     "prompt_number": 2
    },
    {
     "cell_type": "code",
     "collapsed": false,
     "input": [
      "phrase = ['a','chip','on','your','shoulder']"
     ],
     "language": "python",
     "metadata": {},
     "outputs": [],
     "prompt_number": 3
    },
    {
     "cell_type": "code",
     "collapsed": false,
     "input": [],
     "language": "python",
     "metadata": {},
     "outputs": [],
     "prompt_number": 3
    },
    {
     "cell_type": "code",
     "collapsed": false,
     "input": [
      "# Q2"
     ],
     "language": "python",
     "metadata": {},
     "outputs": [],
     "prompt_number": 4
    },
    {
     "cell_type": "code",
     "collapsed": false,
     "input": [
      "from nltk.corpus import gutenberg"
     ],
     "language": "python",
     "metadata": {},
     "outputs": [],
     "prompt_number": 5
    },
    {
     "cell_type": "code",
     "collapsed": false,
     "input": [
      "fileids = gutenberg.fileids()"
     ],
     "language": "python",
     "metadata": {},
     "outputs": [],
     "prompt_number": 6
    },
    {
     "cell_type": "code",
     "collapsed": false,
     "input": [
      "pers = gutenberg.words('austen-persuasion.txt')"
     ],
     "language": "python",
     "metadata": {},
     "outputs": [],
     "prompt_number": 7
    },
    {
     "cell_type": "code",
     "collapsed": false,
     "input": [
      "types = len(pers) # word tokens without reducing capitialisation"
     ],
     "language": "python",
     "metadata": {},
     "outputs": [],
     "prompt_number": 8
    },
    {
     "cell_type": "code",
     "collapsed": false,
     "input": [
      "num_vocab = len(set([word.lower() for word in pers])) # word types"
     ],
     "language": "python",
     "metadata": {},
     "outputs": [],
     "prompt_number": 9
    },
    {
     "cell_type": "code",
     "collapsed": false,
     "input": [
      "# Q3. "
     ],
     "language": "python",
     "metadata": {},
     "outputs": [],
     "prompt_number": 10
    },
    {
     "cell_type": "code",
     "collapsed": false,
     "input": [
      "from nltk.corpus import brown"
     ],
     "language": "python",
     "metadata": {},
     "outputs": [],
     "prompt_number": 11
    },
    {
     "cell_type": "code",
     "collapsed": false,
     "input": [
      "brown.categories()"
     ],
     "language": "python",
     "metadata": {},
     "outputs": [
      {
       "metadata": {},
       "output_type": "pyout",
       "prompt_number": 12,
       "text": [
        "['adventure',\n",
        " 'belles_lettres',\n",
        " 'editorial',\n",
        " 'fiction',\n",
        " 'government',\n",
        " 'hobbies',\n",
        " 'humor',\n",
        " 'learned',\n",
        " 'lore',\n",
        " 'mystery',\n",
        " 'news',\n",
        " 'religion',\n",
        " 'reviews',\n",
        " 'romance',\n",
        " 'science_fiction']"
       ]
      }
     ],
     "prompt_number": 12
    },
    {
     "cell_type": "code",
     "collapsed": false,
     "input": [
      "ad = brown.words(categories = 'adventure')"
     ],
     "language": "python",
     "metadata": {},
     "outputs": [],
     "prompt_number": 13
    },
    {
     "cell_type": "code",
     "collapsed": false,
     "input": [
      "len(ad) # word tokens"
     ],
     "language": "python",
     "metadata": {},
     "outputs": [
      {
       "metadata": {},
       "output_type": "pyout",
       "prompt_number": 14,
       "text": [
        "69342"
       ]
      }
     ],
     "prompt_number": 14
    },
    {
     "cell_type": "code",
     "collapsed": false,
     "input": [
      "len(set([word.lower() for word in ad])) # word types"
     ],
     "language": "python",
     "metadata": {},
     "outputs": [
      {
       "metadata": {},
       "output_type": "pyout",
       "prompt_number": 15,
       "text": [
        "8289"
       ]
      }
     ],
     "prompt_number": 15
    },
    {
     "cell_type": "code",
     "collapsed": false,
     "input": [
      "rom = brown.words(categories='romance')"
     ],
     "language": "python",
     "metadata": {},
     "outputs": [],
     "prompt_number": 16
    },
    {
     "cell_type": "code",
     "collapsed": false,
     "input": [
      "len(rom)"
     ],
     "language": "python",
     "metadata": {},
     "outputs": [
      {
       "metadata": {},
       "output_type": "pyout",
       "prompt_number": 17,
       "text": [
        "70022"
       ]
      }
     ],
     "prompt_number": 17
    },
    {
     "cell_type": "code",
     "collapsed": false,
     "input": [
      "len(set([word.lower() for word in rom])) "
     ],
     "language": "python",
     "metadata": {},
     "outputs": [
      {
       "metadata": {},
       "output_type": "pyout",
       "prompt_number": 18,
       "text": [
        "7883"
       ]
      }
     ],
     "prompt_number": 18
    },
    {
     "cell_type": "code",
     "collapsed": false,
     "input": [
      "genre_words = [(genre,word) for genre in ['adventure','romance'] for word in brown.words(categories = genre)]"
     ],
     "language": "python",
     "metadata": {},
     "outputs": [],
     "prompt_number": 19
    },
    {
     "cell_type": "code",
     "collapsed": false,
     "input": [
      "cfd = nltk.ConditionalFreqDist(genre_words)"
     ],
     "language": "python",
     "metadata": {},
     "outputs": [],
     "prompt_number": 20
    },
    {
     "cell_type": "code",
     "collapsed": false,
     "input": [
      "cfd.conditions()"
     ],
     "language": "python",
     "metadata": {},
     "outputs": [
      {
       "metadata": {},
       "output_type": "pyout",
       "prompt_number": 21,
       "text": [
        "['adventure', 'romance']"
       ]
      }
     ],
     "prompt_number": 21
    },
    {
     "cell_type": "code",
     "collapsed": false,
     "input": [
      "cfd['adventure']"
     ],
     "language": "python",
     "metadata": {},
     "outputs": [
      {
       "metadata": {},
       "output_type": "pyout",
       "prompt_number": 22,
       "text": [
        "<FreqDist with 8874 samples and 69342 outcomes>"
       ]
      }
     ],
     "prompt_number": 22
    },
    {
     "cell_type": "code",
     "collapsed": false,
     "input": [
      "cfd['romance']"
     ],
     "language": "python",
     "metadata": {},
     "outputs": [
      {
       "metadata": {},
       "output_type": "pyout",
       "prompt_number": 23,
       "text": [
        "<FreqDist with 8452 samples and 70022 outcomes>"
       ]
      }
     ],
     "prompt_number": 23
    },
    {
     "cell_type": "code",
     "collapsed": false,
     "input": [],
     "language": "python",
     "metadata": {},
     "outputs": [],
     "prompt_number": 23
    },
    {
     "cell_type": "code",
     "collapsed": false,
     "input": [
      "# Q4."
     ],
     "language": "python",
     "metadata": {},
     "outputs": [],
     "prompt_number": 24
    },
    {
     "cell_type": "code",
     "collapsed": false,
     "input": [
      "from nltk.corpus import state_union"
     ],
     "language": "python",
     "metadata": {},
     "outputs": [],
     "prompt_number": 25
    },
    {
     "cell_type": "code",
     "collapsed": false,
     "input": [
      "fileids = state_union.fileids()"
     ],
     "language": "python",
     "metadata": {},
     "outputs": [],
     "prompt_number": 26
    },
    {
     "cell_type": "code",
     "collapsed": false,
     "input": [
      "genders = ['men','women','people']"
     ],
     "language": "python",
     "metadata": {},
     "outputs": [],
     "prompt_number": 27
    },
    {
     "cell_type": "code",
     "collapsed": false,
     "input": [
      "for fileid in fileids:\n",
      "    words = state_union.words(fileid)\n",
      "    for index, gender in enumerate(genders):\n",
      "        count = 0\n",
      "        for word in words:\n",
      "           if word.lower() == gender:\n",
      "                count += 1\n",
      "        print fileid, gender, count"
     ],
     "language": "python",
     "metadata": {},
     "outputs": [
      {
       "output_type": "stream",
       "stream": "stdout",
       "text": [
        "1945-Truman.txt men 2\n",
        "1945-Truman.txt women 2\n",
        "1945-Truman.txt people 10\n",
        "1946-Truman.txt men 12\n",
        "1946-Truman.txt"
       ]
      },
      {
       "output_type": "stream",
       "stream": "stdout",
       "text": [
        " women 7\n",
        "1946-Truman.txt people 49\n",
        "1947-Truman.txt men 7\n",
        "1947-Truman.txt women 2\n",
        "1947-Truman.txt people 12\n",
        "1948-Truman.txt"
       ]
      },
      {
       "output_type": "stream",
       "stream": "stdout",
       "text": [
        " men 5\n",
        "1948-Truman.txt women 1\n",
        "1948-Truman.txt people 22\n",
        "1949-Truman.txt men 2\n",
        "1949-Truman.txt women 1\n",
        "1949-Truman.txt people 15\n",
        "1950-Truman.txt men 6\n",
        "1950-Truman.txt women 2\n",
        "1950-Truman.txt people 15\n",
        "1951-Truman.txt men 8\n",
        "1951-Truman.txt women 2\n",
        "1951-Truman.txt"
       ]
      },
      {
       "output_type": "stream",
       "stream": "stdout",
       "text": [
        " people 10\n",
        "1953-Eisenhower.txt men 3\n",
        "1953-Eisenhower.txt women 0\n",
        "1953-Eisenhower.txt people 17\n",
        "1954-Eisenhower.txt men 2\n",
        "1954-Eisenhower.txt women 0\n",
        "1954-Eisenhower.txt people 15\n",
        "1955-Eisenhower.txt"
       ]
      },
      {
       "output_type": "stream",
       "stream": "stdout",
       "text": [
        " men 4\n",
        "1955-Eisenhower.txt women 0\n",
        "1955-Eisenhower.txt people 26\n",
        "1956-Eisenhower.txt men 2\n",
        "1956-Eisenhower.txt women 2\n",
        "1956-Eisenhower.txt people 30\n",
        "1957-Eisenhower.txt men 5\n",
        "1957-Eisenhower.txt"
       ]
      },
      {
       "output_type": "stream",
       "stream": "stdout",
       "text": [
        " women 2\n",
        "1957-Eisenhower.txt people 11\n",
        "1958-Eisenhower.txt men 2\n",
        "1958-Eisenhower.txt women 1\n",
        "1958-Eisenhower.txt people 19\n",
        "1959-Eisenhower.txt men 4\n",
        "1959-Eisenhower.txt women 1\n",
        "1959-Eisenhower.txt people 11\n",
        "1960-Eisenhower.txt"
       ]
      },
      {
       "output_type": "stream",
       "stream": "stdout",
       "text": [
        " men 2\n",
        "1960-Eisenhower.txt women 0\n",
        "1960-Eisenhower.txt people 10\n",
        "1961-Kennedy.txt men 6\n",
        "1961-Kennedy.txt women 0\n",
        "1961-Kennedy.txt people 10\n",
        "1962-Kennedy.txt men 6\n",
        "1962-Kennedy.txt"
       ]
      },
      {
       "output_type": "stream",
       "stream": "stdout",
       "text": [
        " women 2\n",
        "1962-Kennedy.txt people 10\n",
        "1963-Johnson.txt men 0\n",
        "1963-Johnson.txt women 0\n",
        "1963-Johnson.txt people 3\n",
        "1963-Kennedy.txt men 8\n",
        "1963-Kennedy.txt women 5\n",
        "1963-Kennedy.txt people 12\n",
        "1964-Johnson.txt men 3\n",
        "1964-Johnson.txt women 1\n",
        "1964-Johnson.txt people 3\n",
        "1965-Johnson-1.txt"
       ]
      },
      {
       "output_type": "stream",
       "stream": "stdout",
       "text": [
        " men 7\n",
        "1965-Johnson-1.txt women 0\n",
        "1965-Johnson-1.txt people 16\n",
        "1965-Johnson-2.txt men 12\n",
        "1965-Johnson-2.txt women 3\n",
        "1965-Johnson-2.txt people 14\n",
        "1966-Johnson.txt men 12\n",
        "1966-Johnson.txt women 1\n",
        "1966-Johnson.txt people 35\n",
        "1967-Johnson.txt"
       ]
      },
      {
       "output_type": "stream",
       "stream": "stdout",
       "text": [
        " men 11\n",
        "1967-Johnson.txt women 1\n",
        "1967-Johnson.txt people 25\n",
        "1968-Johnson.txt men 4\n",
        "1968-Johnson.txt women 0\n",
        "1968-Johnson.txt people 17\n",
        "1969-Johnson.txt men 5\n",
        "1969-Johnson.txt women 2\n",
        "1969-Johnson.txt people 6\n",
        "1970-Nixon.txt"
       ]
      },
      {
       "output_type": "stream",
       "stream": "stdout",
       "text": [
        " men 2\n",
        "1970-Nixon.txt women 0\n",
        "1970-Nixon.txt people 23\n",
        "1971-Nixon.txt men 1\n",
        "1971-Nixon.txt women 0\n",
        "1971-Nixon.txt people 34\n",
        "1972-Nixon.txt men 1\n",
        "1972-Nixon.txt women 0\n",
        "1972-Nixon.txt people 9\n",
        "1973-Nixon.txt men 1\n",
        "1973-Nixon.txt women 0\n",
        "1973-Nixon.txt people 10\n",
        "1974-Nixon.txt"
       ]
      },
      {
       "output_type": "stream",
       "stream": "stdout",
       "text": [
        " men 0\n",
        "1974-Nixon.txt women 0\n",
        "1974-Nixon.txt people 22\n",
        "1975-Ford.txt men 0\n",
        "1975-Ford.txt women 0\n",
        "1975-Ford.txt people 14\n",
        "1976-Ford.txt men 3\n",
        "1976-Ford.txt women 1\n",
        "1976-Ford.txt people 18\n",
        "1977-Ford.txt"
       ]
      },
      {
       "output_type": "stream",
       "stream": "stdout",
       "text": [
        " men 2\n",
        "1977-Ford.txt women 1\n",
        "1977-Ford.txt people 19\n",
        "1978-Carter.txt men 0\n",
        "1978-Carter.txt women 1\n",
        "1978-Carter.txt people 26\n",
        "1979-Carter.txt men 0\n",
        "1979-Carter.txt women 1\n",
        "1979-Carter.txt people 15\n",
        "1980-Carter.txt men 1\n",
        "1980-Carter.txt women 2\n",
        "1980-Carter.txt"
       ]
      },
      {
       "output_type": "stream",
       "stream": "stdout",
       "text": [
        " people 12\n",
        "1981-Reagan.txt men 1\n",
        "1981-Reagan.txt women 1\n",
        "1981-Reagan.txt people 11\n",
        "1982-Reagan.txt men 1\n",
        "1982-Reagan.txt women 2\n",
        "1982-Reagan.txt people 17\n",
        "1983-Reagan.txt men 3\n",
        "1983-Reagan.txt women 7\n",
        "1983-Reagan.txt people 19\n",
        "1984-Reagan.txt"
       ]
      },
      {
       "output_type": "stream",
       "stream": "stdout",
       "text": [
        " men 3\n",
        "1984-Reagan.txt women 5\n",
        "1984-Reagan.txt people 27\n",
        "1985-Reagan.txt men 1\n",
        "1985-Reagan.txt women 1\n",
        "1985-Reagan.txt people 12\n",
        "1986-Reagan.txt men 2\n",
        "1986-Reagan.txt women 2\n",
        "1986-Reagan.txt people 14\n",
        "1987-Reagan.txt men 1\n",
        "1987-Reagan.txt women 0\n",
        "1987-Reagan.txt"
       ]
      },
      {
       "output_type": "stream",
       "stream": "stdout",
       "text": [
        " people 24\n",
        "1988-Reagan.txt men 1\n",
        "1988-Reagan.txt women 0\n",
        "1988-Reagan.txt people 17\n",
        "1989-Bush.txt men 2\n",
        "1989-Bush.txt women 3\n",
        "1989-Bush.txt people 13\n",
        "1990-Bush.txt men 3\n",
        "1990-Bush.txt women 2\n",
        "1990-Bush.txt people 9\n",
        "1991-Bush-1.txt"
       ]
      },
      {
       "output_type": "stream",
       "stream": "stdout",
       "text": [
        " men 2\n",
        "1991-Bush-1.txt women 2\n",
        "1991-Bush-1.txt people 14\n",
        "1991-Bush-2.txt men 7\n",
        "1991-Bush-2.txt women 7\n",
        "1991-Bush-2.txt people 13\n",
        "1992-Bush.txt men 4\n",
        "1992-Bush.txt women 4\n",
        "1992-Bush.txt people 27\n",
        "1993-Clinton.txt"
       ]
      },
      {
       "output_type": "stream",
       "stream": "stdout",
       "text": [
        " men 1\n",
        "1993-Clinton.txt women 2\n",
        "1993-Clinton.txt people 45\n",
        "1994-Clinton.txt men 1\n",
        "1994-Clinton.txt women 1\n",
        "1994-Clinton.txt people 66\n",
        "1995-Clinton.txt men 1\n",
        "1995-Clinton.txt"
       ]
      },
      {
       "output_type": "stream",
       "stream": "stdout",
       "text": [
        " women 3\n",
        "1995-Clinton.txt people 73\n",
        "1996-Clinton.txt men 2\n",
        "1996-Clinton.txt women 3\n",
        "1996-Clinton.txt people 43\n",
        "1997-Clinton.txt men 1\n",
        "1997-Clinton.txt women 2\n",
        "1997-Clinton.txt"
       ]
      },
      {
       "output_type": "stream",
       "stream": "stdout",
       "text": [
        " people 31\n",
        "1998-Clinton.txt men 2\n",
        "1998-Clinton.txt women 2\n",
        "1998-Clinton.txt people 22\n",
        "1999-Clinton.txt men 2\n",
        "1999-Clinton.txt women 3\n",
        "1999-Clinton.txt people 22\n"
       ]
      },
      {
       "output_type": "stream",
       "stream": "stdout",
       "text": [
        "2000-Clinton.txt men 5\n",
        "2000-Clinton.txt women 7\n",
        "2000-Clinton.txt people 41\n",
        "2001-GWBush-1.txt men 3\n",
        "2001-GWBush-1.txt women 3\n",
        "2001-GWBush-1.txt people 15\n",
        "2001-GWBush-2.txt men 1\n",
        "2001-GWBush-2.txt women 3\n",
        "2001-GWBush-2.txt people 12\n",
        "2002-GWBush.txt men 3\n",
        "2002-GWBush.txt women 6\n",
        "2002-GWBush.txt"
       ]
      },
      {
       "output_type": "stream",
       "stream": "stdout",
       "text": [
        " people 14\n",
        "2003-GWBush.txt men 6\n",
        "2003-GWBush.txt women 4\n",
        "2003-GWBush.txt people 33\n",
        "2004-GWBush.txt men 7\n",
        "2004-GWBush.txt women 8\n",
        "2004-GWBush.txt people 21\n",
        "2005-GWBush.txt men 8\n",
        "2005-GWBush.txt women 11\n",
        "2005-GWBush.txt people 18\n",
        "2006-GWBush.txt"
       ]
      },
      {
       "output_type": "stream",
       "stream": "stdout",
       "text": [
        " men 7\n",
        "2006-GWBush.txt women 7\n",
        "2006-GWBush.txt people 22\n"
       ]
      }
     ],
     "prompt_number": 28
    },
    {
     "cell_type": "code",
     "collapsed": false,
     "input": [
      "# Q5."
     ],
     "language": "python",
     "metadata": {},
     "outputs": [],
     "prompt_number": 29
    },
    {
     "cell_type": "code",
     "collapsed": false,
     "input": [
      "sentence = [(\"the\", \"DT\"), (\"little\", \"JJ\"), (\"yellow\", \"JJ\"),\n",
      " (\"dog\", \"NN\"), (\"barked\", \"VBD\"), (\"at\", \"IN\"),  (\"the\", \"DT\"), (\"cat\", \"NN\")]                                                      "
     ],
     "language": "python",
     "metadata": {},
     "outputs": [],
     "prompt_number": 30
    },
    {
     "cell_type": "code",
     "collapsed": false,
     "input": [
      "nouns = [word for word,chunk in sentence if chunk=='NN' ]"
     ],
     "language": "python",
     "metadata": {},
     "outputs": [],
     "prompt_number": 31
    },
    {
     "cell_type": "code",
     "collapsed": false,
     "input": [
      "from nltk.corpus import wordnet as wn"
     ],
     "language": "python",
     "metadata": {},
     "outputs": [],
     "prompt_number": 32
    },
    {
     "cell_type": "code",
     "collapsed": false,
     "input": [
      "for noun in nouns:\n",
      "    print noun.upper()\n",
      "    synset = wn.synset(noun +'.n.01')\n",
      "    print synset\n",
      "    print synset.definition\n",
      "    print synset.examples\n",
      "    print synset.hyponyms()\n",
      "    \n",
      "    print synset.member_meronyms()\n",
      "    print synset.part_meronyms()\n",
      "    print synset.substance_meronyms()\n",
      "    \n",
      "    print synset.member_holonyms()\n",
      "    print synset.part_holonyms()\n",
      "    print synset.substance_holonyms()\n",
      "    print '\\n'"
     ],
     "language": "python",
     "metadata": {},
     "outputs": [
      {
       "output_type": "stream",
       "stream": "stdout",
       "text": [
        "DOG\n",
        "Synset('dog.n.01')"
       ]
      },
      {
       "output_type": "stream",
       "stream": "stdout",
       "text": [
        "\n",
        "a member of the genus Canis (probably descended from the common wolf) that has been domesticated by man since prehistoric times; occurs in many breeds\n",
        "['the dog barked all night']\n",
        "[Synset('puppy.n.01'), Synset('great_pyrenees.n.01'), Synset('basenji.n.01'), Synset('newfoundland.n.01'), Synset('lapdog.n.01'), Synset('poodle.n.01'), Synset('leonberg.n.01'), Synset('toy_dog.n.01'), Synset('spitz.n.01'), Synset('pooch.n.01'), Synset('cur.n.01'), Synset('mexican_hairless.n.01'), Synset('hunting_dog.n.01'), Synset('working_dog.n.01'), Synset('dalmatian.n.02'), Synset('pug.n.01'), Synset('corgi.n.01'), Synset('griffon.n.02')]\n",
        "[]\n",
        "[Synset('flag.n.07')]\n",
        "[]\n",
        "[Synset('pack.n.06'), Synset('canis.n.01')]\n",
        "[]\n",
        "[]\n",
        "\n",
        "\n",
        "CAT\n",
        "Synset('cat.n.01')\n",
        "feline mammal usually having thick soft fur and no ability to roar: domestic cats; wildcats\n",
        "[]\n",
        "[Synset('domestic_cat.n.01'), Synset('wildcat.n.03')]\n",
        "[]\n",
        "[]\n",
        "[]\n",
        "[]\n",
        "[]\n",
        "[]\n",
        "\n",
        "\n"
       ]
      }
     ],
     "prompt_number": 33
    },
    {
     "cell_type": "code",
     "collapsed": false,
     "input": [
      "# Q8. "
     ],
     "language": "python",
     "metadata": {},
     "outputs": [],
     "prompt_number": 34
    },
    {
     "cell_type": "code",
     "collapsed": false,
     "input": [
      "from nltk.corpus import names"
     ],
     "language": "python",
     "metadata": {},
     "outputs": [],
     "prompt_number": 35
    },
    {
     "cell_type": "code",
     "collapsed": false,
     "input": [
      "names.fileids()"
     ],
     "language": "python",
     "metadata": {},
     "outputs": [
      {
       "metadata": {},
       "output_type": "pyout",
       "prompt_number": 36,
       "text": [
        "['female.txt', 'male.txt']"
       ]
      }
     ],
     "prompt_number": 36
    },
    {
     "cell_type": "code",
     "collapsed": false,
     "input": [
      "males = names.words('male.txt')"
     ],
     "language": "python",
     "metadata": {},
     "outputs": [],
     "prompt_number": 37
    },
    {
     "cell_type": "code",
     "collapsed": false,
     "input": [
      "females = names.words('female.txt')"
     ],
     "language": "python",
     "metadata": {},
     "outputs": [],
     "prompt_number": 38
    },
    {
     "cell_type": "code",
     "collapsed": false,
     "input": [
      "cfd = nltk.ConditionalFreqDist( (fileid, word[0]) for fileid in names.fileids() for word in names.words(fileid) )"
     ],
     "language": "python",
     "metadata": {},
     "outputs": [],
     "prompt_number": 39
    },
    {
     "cell_type": "code",
     "collapsed": false,
     "input": [
      "cfd.plot()"
     ],
     "language": "python",
     "metadata": {},
     "outputs": [],
     "prompt_number": 40
    },
    {
     "cell_type": "code",
     "collapsed": false,
     "input": [
      "# Q9."
     ],
     "language": "python",
     "metadata": {},
     "outputs": [],
     "prompt_number": 41
    },
    {
     "cell_type": "code",
     "collapsed": false,
     "input": [
      "from nltk.corpus import gutenberg\n",
      "from __future__ import division"
     ],
     "language": "python",
     "metadata": {},
     "outputs": [],
     "prompt_number": 42
    },
    {
     "cell_type": "code",
     "collapsed": false,
     "input": [
      "gutenberg.fileids()"
     ],
     "language": "python",
     "metadata": {},
     "outputs": [
      {
       "metadata": {},
       "output_type": "pyout",
       "prompt_number": 43,
       "text": [
        "['austen-emma.txt',\n",
        " 'austen-persuasion.txt',\n",
        " 'austen-sense.txt',\n",
        " 'bible-kjv.txt',\n",
        " 'blake-poems.txt',\n",
        " 'bryant-stories.txt',\n",
        " 'burgess-busterbrown.txt',\n",
        " 'carroll-alice.txt',\n",
        " 'chesterton-ball.txt',\n",
        " 'chesterton-brown.txt',\n",
        " 'chesterton-thursday.txt',\n",
        " 'edgeworth-parents.txt',\n",
        " 'melville-moby_dick.txt',\n",
        " 'milton-paradise.txt',\n",
        " 'shakespeare-caesar.txt',\n",
        " 'shakespeare-hamlet.txt',\n",
        " 'shakespeare-macbeth.txt',\n",
        " 'whitman-leaves.txt']"
       ]
      }
     ],
     "prompt_number": 43
    },
    {
     "cell_type": "code",
     "collapsed": false,
     "input": [
      "def lexical_diversity(text):\n",
      "    return len(text)/len(set(text))"
     ],
     "language": "python",
     "metadata": {},
     "outputs": [],
     "prompt_number": 44
    },
    {
     "cell_type": "code",
     "collapsed": false,
     "input": [
      "def unusual_words(text):\n",
      "    textwords = set([word.lower() for word in text if word.isalpha()])\n",
      "    english_words = set(nltk.corpus.words.words())\n",
      "    dif = textwords.difference(english_words)\n",
      "    return sorted(dif)"
     ],
     "language": "python",
     "metadata": {},
     "outputs": [],
     "prompt_number": 45
    },
    {
     "cell_type": "code",
     "collapsed": false,
     "input": [
      "fileids_chosen = ['shakespeare-hamlet.txt', 'shakespeare-macbeth.txt']"
     ],
     "language": "python",
     "metadata": {},
     "outputs": [],
     "prompt_number": 46
    },
    {
     "cell_type": "code",
     "collapsed": false,
     "input": [
      "def text_comparison():\n",
      "    word_lists = {}\n",
      "    for fileid in fileids_chosen:\n",
      "        text = gutenberg.words(fileid)\n",
      "        lex_div = lexical_diversity(text)\n",
      "        words = unusual_words(text)\n",
      "        print lex_div, words[0:10]\n",
      "        word_lists[fileid] = words\n",
      "    return word_lists"
     ],
     "language": "python",
     "metadata": {},
     "outputs": [],
     "prompt_number": 47
    },
    {
     "cell_type": "code",
     "collapsed": false,
     "input": [
      "words = text_comparison()"
     ],
     "language": "python",
     "metadata": {},
     "outputs": [
      {
       "output_type": "stream",
       "stream": "stdout",
       "text": [
        "6.85882136956 ['abhominably', 'abhorred', 'abilitie', 'aboord', 'aboue', 'abridgements', 'abstracts', 'abus', 'abuses', 'accepts']\n",
        "5.76051779935"
       ]
      },
      {
       "output_type": "stream",
       "stream": "stdout",
       "text": [
        " ['abhorred', 'abiure', 'aboue', 'accents', 'accesse', 'accounted', 'accurs', 'accust', 'acheron', 'acted']\n"
       ]
      }
     ],
     "prompt_number": 48
    },
    {
     "cell_type": "code",
     "collapsed": false,
     "input": [
      "words.keys()"
     ],
     "language": "python",
     "metadata": {},
     "outputs": [
      {
       "metadata": {},
       "output_type": "pyout",
       "prompt_number": 49,
       "text": [
        "['shakespeare-hamlet.txt', 'shakespeare-macbeth.txt']"
       ]
      }
     ],
     "prompt_number": 49
    },
    {
     "cell_type": "code",
     "collapsed": false,
     "input": [
      "s = set([1,2,3])\n",
      "b = set([23,31,3])\n",
      "print s.union(b)\n",
      "print s.difference(b)\n",
      "print b.difference(s)\n",
      "print s & b"
     ],
     "language": "python",
     "metadata": {},
     "outputs": [
      {
       "output_type": "stream",
       "stream": "stdout",
       "text": [
        "set([1, 2, 3, 23, 31])\n",
        "set([1, 2])\n",
        "set([23, 31])\n",
        "set([3])\n"
       ]
      }
     ],
     "prompt_number": 50
    },
    {
     "cell_type": "code",
     "collapsed": false,
     "input": [
      "shared_words = set(words['shakespeare-hamlet.txt']) & set(words['shakespeare-macbeth.txt']) # produce a list of all words, that appear in both texts"
     ],
     "language": "python",
     "metadata": {},
     "outputs": [],
     "prompt_number": 51
    },
    {
     "cell_type": "code",
     "collapsed": false,
     "input": [
      "text1 = nltk.Text(gutenberg.words('shakespeare-hamlet.txt'))\n",
      "text2 = nltk.Text(gutenberg.words('shakespeare-macbeth.txt')) # map texts to vars"
     ],
     "language": "python",
     "metadata": {},
     "outputs": [],
     "prompt_number": 52
    },
    {
     "cell_type": "code",
     "collapsed": false,
     "input": [
      "text1.concordance('abhorred') "
     ],
     "language": "python",
     "metadata": {},
     "outputs": [
      {
       "output_type": "stream",
       "stream": "stdout",
       "text": [
        "Building index...\n",
        "Displaying 1 of 1 matches:\n",
        "s backe a thousand times : And how abhorred my Imagination is , my gorge rises\n"
       ]
      }
     ],
     "prompt_number": 53
    },
    {
     "cell_type": "code",
     "collapsed": false,
     "input": [
      "text2.concordance('abhorred') "
     ],
     "language": "python",
     "metadata": {},
     "outputs": [
      {
       "output_type": "stream",
       "stream": "stdout",
       "text": [
        "Building index...\n",
        "Displaying 1 of 1 matches:\n",
        "ore fearefull Y . Sey . Thou lyest abhorred Tyrant , with my Sword Ile proue t\n"
       ]
      }
     ],
     "prompt_number": 54
    },
    {
     "cell_type": "code",
     "collapsed": false,
     "input": [
      "cfd1 = nltk.ConditionalFreqDist(('shakespeare-hamlet',word) for word in gutenberg.words('shakespeare-hamlet.txt') if word in shared_words   )"
     ],
     "language": "python",
     "metadata": {},
     "outputs": [],
     "prompt_number": 55
    },
    {
     "cell_type": "code",
     "collapsed": false,
     "input": [
      "cfd2 = nltk.ConditionalFreqDist(('shakespeare-macbeth',word) for word in gutenberg.words('shakespeare-macbeth.txt') if word in shared_words )"
     ],
     "language": "python",
     "metadata": {},
     "outputs": [],
     "prompt_number": 56
    },
    {
     "cell_type": "code",
     "collapsed": false,
     "input": [
      "# Q10. "
     ],
     "language": "python",
     "metadata": {},
     "outputs": [],
     "prompt_number": 57
    },
    {
     "cell_type": "code",
     "collapsed": false,
     "input": [
      "# Q11."
     ],
     "language": "python",
     "metadata": {},
     "outputs": [],
     "prompt_number": 58
    },
    {
     "cell_type": "code",
     "collapsed": false,
     "input": [
      "# Q12."
     ],
     "language": "python",
     "metadata": {},
     "outputs": [],
     "prompt_number": 59
    },
    {
     "cell_type": "code",
     "collapsed": false,
     "input": [
      "import nltk\n",
      "from nltk.corpus import wordnet as wn"
     ],
     "language": "python",
     "metadata": {},
     "outputs": [],
     "prompt_number": 60
    },
    {
     "cell_type": "code",
     "collapsed": false,
     "input": [
      "prondict = nltk.corpus.cmudict.dict()"
     ],
     "language": "python",
     "metadata": {},
     "outputs": [],
     "prompt_number": 61
    },
    {
     "cell_type": "code",
     "collapsed": false,
     "input": [
      "print len(prondict.keys())\n",
      "print prondict.values()[0]"
     ],
     "language": "python",
     "metadata": {},
     "outputs": [
      {
       "output_type": "stream",
       "stream": "stdout",
       "text": [
        "123455\n",
        "[['F', 'AO1', 'N']]\n"
       ]
      }
     ],
     "prompt_number": 62
    },
    {
     "cell_type": "code",
     "collapsed": false,
     "input": [
      "vals_length = [len(val) for val in prondict.values() if len(val) >1]"
     ],
     "language": "python",
     "metadata": {},
     "outputs": [],
     "prompt_number": 63
    },
    {
     "cell_type": "code",
     "collapsed": false,
     "input": [
      "print len(vals_length) # number that have more than one pronounciation in dic"
     ],
     "language": "python",
     "metadata": {},
     "outputs": [
      {
       "output_type": "stream",
       "stream": "stdout",
       "text": [
        "9241\n"
       ]
      }
     ],
     "prompt_number": 64
    },
    {
     "cell_type": "code",
     "collapsed": false,
     "input": [
      "print len(vals_length)/len(prondict.keys()) # fraction of total cmu dic"
     ],
     "language": "python",
     "metadata": {},
     "outputs": [
      {
       "output_type": "stream",
       "stream": "stdout",
       "text": [
        "0.0748531853712\n"
       ]
      }
     ],
     "prompt_number": 65
    },
    {
     "cell_type": "code",
     "collapsed": false,
     "input": [
      "# Q13."
     ],
     "language": "python",
     "metadata": {},
     "outputs": [],
     "prompt_number": 66
    },
    {
     "cell_type": "code",
     "collapsed": false,
     "input": [
      "noun_synsets = wn.all_synsets('n')"
     ],
     "language": "python",
     "metadata": {},
     "outputs": [],
     "prompt_number": 67
    },
    {
     "cell_type": "code",
     "collapsed": false,
     "input": [
      "count = 0\n",
      "for noun in noun_synsets:\n",
      "    if len(noun.hyponyms())==0:\n",
      "        count += 1\n",
      "print count"
     ],
     "language": "python",
     "metadata": {},
     "outputs": [
      {
       "output_type": "stream",
       "stream": "stdout",
       "text": [
        "65422\n"
       ]
      }
     ],
     "prompt_number": 68
    },
    {
     "cell_type": "code",
     "collapsed": false,
     "input": [
      "# Q14."
     ],
     "language": "python",
     "metadata": {},
     "outputs": [],
     "prompt_number": 69
    },
    {
     "cell_type": "code",
     "collapsed": false,
     "input": [
      "def supergloss(s):\n",
      "    definitions = 'DEF: ' + s.definition\n",
      "    definitions += ' HYPERNYMS: '\n",
      "    for hypernym in s.hypernyms():\n",
      "        definitions += hypernym.definition\n",
      "    definitions += ' HYPONYMS: '\n",
      "    for hyponym in s.hyponyms():\n",
      "        definitions += hyponym.definition\n",
      "    return definitions"
     ],
     "language": "python",
     "metadata": {},
     "outputs": [],
     "prompt_number": 72
    },
    {
     "cell_type": "code",
     "collapsed": false,
     "input": [
      "print supergloss(wn.synset('dog.n.01'))"
     ],
     "language": "python",
     "metadata": {},
     "outputs": [
      {
       "output_type": "stream",
       "stream": "stdout",
       "text": [
        "DEF: a member of the genus Canis (probably descended from the common wolf) that has been domesticated by man since prehistoric times; occurs in many breeds HYPERNYMS: any of various animals that have been tamed and made fit for a human environmentany of various fissiped mammals with nonretractile claws and typically long muzzles HYPONYMS: a young dogbred of large heavy-coated white dogs resembling the Newfoundlandsmall smooth-haired breed of African origin having a tightly curled tail and the inability to barka breed of very large heavy dogs with a thick coarse usually black coat; highly intelligent dogs and vigorous swimmers; developed in Newfoundlanda dog small and tame enough to be held in the lapan intelligent dog with a heavy curly solid-colored coat that is usually clipped; an old breed sometimes trained as sporting dogs or as performing dogsa large dog (usually with a golden coat) produced by crossing a St Bernard and a Newfoundlandany of several breeds of very small dogs kept purely as petsany of various stocky heavy-coated breeds of dogs native to northern regions having pointed muzzles and erect ears with a curled furry tailinformal terms for dogsan inferior dog or one of mixed breedany of an old breed of small nearly hairless dogs of Mexicoa dog used in hunting gameany of several breeds of usually large powerful dogs bred to work as draft animals and guard and guide dogsa large breed having a smooth white coat with black or brown spots; originated in Dalmatiasmall compact smooth-coated breed of Asiatic origin having a tightly curled tail and broad flat wrinkled muzzleeither of two Welsh breeds of long-bodied short-legged dogs with erect ears and a fox-like headbreed of various very small compact wiry-coated dogs of Belgian origin having a short bearded muzzle\n"
       ]
      }
     ],
     "prompt_number": 73
    },
    {
     "cell_type": "code",
     "collapsed": false,
     "input": [
      "# Q15. Program of all brown words, which occur at least 3 times"
     ],
     "language": "python",
     "metadata": {},
     "outputs": []
    },
    {
     "cell_type": "code",
     "collapsed": false,
     "input": [
      "words_in_brown  = [word for category in brown.categories()\n",
      "                    for word in brown.words(categories = category) if word.isalpha()]"
     ],
     "language": "python",
     "metadata": {},
     "outputs": [],
     "prompt_number": 81
    },
    {
     "cell_type": "code",
     "collapsed": false,
     "input": [
      "freqDist = nltk.FreqDist(words_in_brown)"
     ],
     "language": "python",
     "metadata": {},
     "outputs": [
      {
       "metadata": {},
       "output_type": "pyout",
       "prompt_number": 122,
       "text": [
        "<FreqDist with 15 samples and 15 outcomes>"
       ]
      }
     ],
     "prompt_number": 122
    },
    {
     "cell_type": "code",
     "collapsed": false,
     "input": [
      "final_words = [key for key, value in freqDist.items() if value >= 3]"
     ],
     "language": "python",
     "metadata": {},
     "outputs": [],
     "prompt_number": 89
    },
    {
     "cell_type": "code",
     "collapsed": false,
     "input": [
      "print final_words[:10]"
     ],
     "language": "python",
     "metadata": {},
     "outputs": [
      {
       "output_type": "stream",
       "stream": "stdout",
       "text": [
        "['the', 'of', 'and', 'to', 'a', 'in', 'that', 'is', 'was', 'for']\n"
       ]
      }
     ],
     "prompt_number": 91
    },
    {
     "cell_type": "code",
     "collapsed": false,
     "input": [
      "# Q16.\n",
      "import pandas as pd"
     ],
     "language": "python",
     "metadata": {},
     "outputs": [],
     "prompt_number": 102
    },
    {
     "cell_type": "code",
     "collapsed": false,
     "input": [
      "def lexical_diversity(text):\n",
      "    return len(text) / len(set(text))"
     ],
     "language": "python",
     "metadata": {},
     "outputs": [],
     "prompt_number": 97
    },
    {
     "cell_type": "code",
     "collapsed": false,
     "input": [
      "lexical_div_of_categories  = [(category, lexical_diversity(brown.words(categories = category)) ) for category in brown.categories()]"
     ],
     "language": "python",
     "metadata": {},
     "outputs": [],
     "prompt_number": 98
    },
    {
     "cell_type": "code",
     "collapsed": false,
     "input": [
      "pd.DataFrame(lexical_div_of_categories, columns=['category', 'lexical diversity'])"
     ],
     "language": "python",
     "metadata": {},
     "outputs": [
      {
       "html": [
        "<div style=\"max-height:1000px;max-width:1500px;overflow:auto;\">\n",
        "<table border=\"1\" class=\"dataframe\">\n",
        "  <thead>\n",
        "    <tr style=\"text-align: right;\">\n",
        "      <th></th>\n",
        "      <th>category</th>\n",
        "      <th>lexical diversity</th>\n",
        "    </tr>\n",
        "  </thead>\n",
        "  <tbody>\n",
        "    <tr>\n",
        "      <th>0 </th>\n",
        "      <td>       adventure</td>\n",
        "      <td>  7.814064</td>\n",
        "    </tr>\n",
        "    <tr>\n",
        "      <th>1 </th>\n",
        "      <td>  belles_lettres</td>\n",
        "      <td>  9.396667</td>\n",
        "    </tr>\n",
        "    <tr>\n",
        "      <th>2 </th>\n",
        "      <td>       editorial</td>\n",
        "      <td>  6.228918</td>\n",
        "    </tr>\n",
        "    <tr>\n",
        "      <th>3 </th>\n",
        "      <td>         fiction</td>\n",
        "      <td>  7.362718</td>\n",
        "    </tr>\n",
        "    <tr>\n",
        "      <th>4 </th>\n",
        "      <td>      government</td>\n",
        "      <td>  8.570713</td>\n",
        "    </tr>\n",
        "    <tr>\n",
        "      <th>5 </th>\n",
        "      <td>         hobbies</td>\n",
        "      <td>  6.899455</td>\n",
        "    </tr>\n",
        "    <tr>\n",
        "      <th>6 </th>\n",
        "      <td>           humor</td>\n",
        "      <td>  4.324297</td>\n",
        "    </tr>\n",
        "    <tr>\n",
        "      <th>7 </th>\n",
        "      <td>         learned</td>\n",
        "      <td> 10.788778</td>\n",
        "    </tr>\n",
        "    <tr>\n",
        "      <th>8 </th>\n",
        "      <td>            lore</td>\n",
        "      <td>  7.605254</td>\n",
        "    </tr>\n",
        "    <tr>\n",
        "      <th>9 </th>\n",
        "      <td>         mystery</td>\n",
        "      <td>  8.188055</td>\n",
        "    </tr>\n",
        "    <tr>\n",
        "      <th>10</th>\n",
        "      <td>            news</td>\n",
        "      <td>  6.985827</td>\n",
        "    </tr>\n",
        "    <tr>\n",
        "      <th>11</th>\n",
        "      <td>        religion</td>\n",
        "      <td>  6.182175</td>\n",
        "    </tr>\n",
        "    <tr>\n",
        "      <th>12</th>\n",
        "      <td>         reviews</td>\n",
        "      <td>  4.718757</td>\n",
        "    </tr>\n",
        "    <tr>\n",
        "      <th>13</th>\n",
        "      <td>         romance</td>\n",
        "      <td>  8.284666</td>\n",
        "    </tr>\n",
        "    <tr>\n",
        "      <th>14</th>\n",
        "      <td> science_fiction</td>\n",
        "      <td>  4.475719</td>\n",
        "    </tr>\n",
        "  </tbody>\n",
        "</table>\n",
        "</div>"
       ],
       "metadata": {},
       "output_type": "pyout",
       "prompt_number": 105,
       "text": [
        "           category  lexical diversity\n",
        "0         adventure           7.814064\n",
        "1    belles_lettres           9.396667\n",
        "2         editorial           6.228918\n",
        "3           fiction           7.362718\n",
        "4        government           8.570713\n",
        "5           hobbies           6.899455\n",
        "6             humor           4.324297\n",
        "7           learned          10.788778\n",
        "8              lore           7.605254\n",
        "9           mystery           8.188055\n",
        "10             news           6.985827\n",
        "11         religion           6.182175\n",
        "12          reviews           4.718757\n",
        "13          romance           8.284666\n",
        "14  science_fiction           4.475719"
       ]
      }
     ],
     "prompt_number": 105
    },
    {
     "cell_type": "code",
     "collapsed": false,
     "input": [
      "# Q.17 Frequently occurring words which are not stopwords\n",
      "from nltk.corpus import stopwords"
     ],
     "language": "python",
     "metadata": {},
     "outputs": [],
     "prompt_number": 107
    },
    {
     "cell_type": "code",
     "collapsed": false,
     "input": [
      "stops = stopwords.words()"
     ],
     "language": "python",
     "metadata": {},
     "outputs": [],
     "prompt_number": 109
    },
    {
     "cell_type": "code",
     "collapsed": false,
     "input": [
      "words = gutenberg.words(\"burgess-busterbrown.txt\")"
     ],
     "language": "python",
     "metadata": {},
     "outputs": [],
     "prompt_number": 128
    },
    {
     "cell_type": "code",
     "collapsed": false,
     "input": [
      "freq_dist = nltk.FreqDist(word for word in words if (not word in stops) and word.isalpha()  )"
     ],
     "language": "python",
     "metadata": {},
     "outputs": [],
     "prompt_number": 276
    },
    {
     "cell_type": "code",
     "collapsed": false,
     "input": [],
     "language": "python",
     "metadata": {},
     "outputs": []
    },
    {
     "cell_type": "code",
     "collapsed": false,
     "input": [
      "freq_dist.keys()[:50]"
     ],
     "language": "python",
     "metadata": {},
     "outputs": [
      {
       "metadata": {},
       "output_type": "pyout",
       "prompt_number": 135,
       "text": [
        "['Buster',\n",
        " 'I',\n",
        " 'Bear',\n",
        " 'He',\n",
        " 'Little',\n",
        " 'Joe',\n",
        " 'one',\n",
        " 'Brown',\n",
        " 'Farmer',\n",
        " 'little',\n",
        " 'boy',\n",
        " 'Green',\n",
        " 'see',\n",
        " 'Forest',\n",
        " 'It',\n",
        " 'could',\n",
        " 'didn',\n",
        " 'Blacky',\n",
        " 'said',\n",
        " 'know',\n",
        " 'Otter',\n",
        " 'time',\n",
        " 'would',\n",
        " 'fish',\n",
        " 'way',\n",
        " 'But',\n",
        " 'Then',\n",
        " 'berries',\n",
        " 'Sammy',\n",
        " 'great',\n",
        " 'afraid',\n",
        " 'away',\n",
        " 'Billy',\n",
        " 'looked',\n",
        " 'pail',\n",
        " 'big',\n",
        " 'trout',\n",
        " 'Old',\n",
        " 'You',\n",
        " 'tree',\n",
        " 'get',\n",
        " 'Brook',\n",
        " 'right',\n",
        " 'And',\n",
        " 'Laughing',\n",
        " 'Now',\n",
        " 'thing',\n",
        " 'Chatterer',\n",
        " 'Mink',\n",
        " 'couldn']"
       ]
      }
     ],
     "prompt_number": 135
    },
    {
     "cell_type": "code",
     "collapsed": false,
     "input": [
      "# Q.17. Find top 50 bigrams, with no stopwords"
     ],
     "language": "python",
     "metadata": {},
     "outputs": [],
     "prompt_number": 137
    },
    {
     "cell_type": "code",
     "collapsed": false,
     "input": [
      "words = gutenberg.words(\"burgess-busterbrown.txt\")\n",
      "words = [word for word in words if word.isalpha() and (not word in stops)]"
     ],
     "language": "python",
     "metadata": {},
     "outputs": [],
     "prompt_number": 154
    },
    {
     "cell_type": "code",
     "collapsed": false,
     "input": [
      "bis = nltk.bigrams(words)"
     ],
     "language": "python",
     "metadata": {},
     "outputs": [],
     "prompt_number": 155
    },
    {
     "cell_type": "code",
     "collapsed": false,
     "input": [
      "nltk.FreqDist(bis).items()[:50]"
     ],
     "language": "python",
     "metadata": {},
     "outputs": [
      {
       "metadata": {},
       "output_type": "pyout",
       "prompt_number": 158,
       "text": [
        "[(('Buster', 'Bear'), 129),\n",
        " (('Little', 'Joe'), 107),\n",
        " (('Farmer', 'Brown'), 94),\n",
        " (('Brown', 'boy'), 86),\n",
        " (('Green', 'Forest'), 66),\n",
        " (('Joe', 'Otter'), 43),\n",
        " (('Laughing', 'Brook'), 30),\n",
        " (('Billy', 'Mink'), 28),\n",
        " (('Old', 'Pasture'), 27),\n",
        " (('Sammy', 'Jay'), 24),\n",
        " (('little', 'pool'), 22),\n",
        " (('Blacky', 'Crow'), 21),\n",
        " (('You', 'see'), 21),\n",
        " (('Smiling', 'Pool'), 20),\n",
        " (('Grandfather', 'Frog'), 19),\n",
        " (('I', 'll'), 18),\n",
        " (('Green', 'Meadows'), 15),\n",
        " (('fat', 'trout'), 15),\n",
        " (('Of', 'course'), 14),\n",
        " (('little', 'people'), 14),\n",
        " (('BUSTER', 'BEAR'), 13),\n",
        " (('didn', 'know'), 12),\n",
        " (('Peter', 'Rabbit'), 11),\n",
        " (('Reddy', 'Fox'), 10),\n",
        " (('one', 'else'), 10),\n",
        " (('I', 'believe'), 9),\n",
        " (('I', 'guess'), 9),\n",
        " (('right', 'away'), 9),\n",
        " (('Chatterer', 'Red'), 8),\n",
        " (('Red', 'Squirrel'), 8),\n",
        " (('Yes', 'Sir'), 8),\n",
        " (('afraid', 'Buster'), 8),\n",
        " (('could', 'see'), 8),\n",
        " (('great', 'deal'), 8),\n",
        " (('next', 'little'), 8),\n",
        " (('people', 'Green'), 8),\n",
        " (('Forest', 'Green'), 7),\n",
        " (('He', 'didn'), 7),\n",
        " (('It', 'seemed'), 7),\n",
        " (('edge', 'Green'), 7),\n",
        " (('held', 'breath'), 7),\n",
        " (('know', 'Buster'), 7),\n",
        " (('said', 'Buster'), 7),\n",
        " (('tin', 'pail'), 7),\n",
        " (('BROWN', 'S'), 6),\n",
        " (('FARMER', 'BROWN'), 6),\n",
        " (('Mr', 'Sun'), 6),\n",
        " (('S', 'BOY'), 6),\n",
        " (('Unc', 'Billy'), 6),\n",
        " (('boy', 'didn'), 6)]"
       ]
      }
     ],
     "prompt_number": 158
    },
    {
     "cell_type": "code",
     "collapsed": false,
     "input": [
      "# Q.19 Word Frequencites by genre"
     ],
     "language": "python",
     "metadata": {},
     "outputs": [],
     "prompt_number": 160
    },
    {
     "cell_type": "code",
     "collapsed": false,
     "input": [
      "cfd = nltk.ConditionalFreqDist(\n",
      "    (genre, word)\n",
      "    for genre in brown.categories()\n",
      "    for word in brown.words(categories=genre))"
     ],
     "language": "python",
     "metadata": {},
     "outputs": [],
     "prompt_number": 162
    },
    {
     "cell_type": "code",
     "collapsed": false,
     "input": [
      "genres =  brown.categories()\n",
      "modals = ['won', 'believe', 'lost', 'love', 'fact', 'laugh','life','death']"
     ],
     "language": "python",
     "metadata": {},
     "outputs": [],
     "prompt_number": 173
    },
    {
     "cell_type": "code",
     "collapsed": false,
     "input": [
      "cfd.tabulate(conditions=genres, samples=modals)"
     ],
     "language": "python",
     "metadata": {},
     "outputs": [
      {
       "output_type": "stream",
       "stream": "stdout",
       "text": [
        "                 won believe lost love fact laugh life death\n",
        "      adventure    1    6   10    9    9    3   29   20\n",
        " belles_lettres   10   39   37   68  110    1  182   57\n",
        "      editorial    8   16   15   13   36    0   35   21\n",
        "        fiction    1   12   15   16   10    9   44   17\n",
        "     government    1   10    5    1   15    0   14    2\n",
        "        hobbies    9    4    4    6   20    0   36    3\n",
        "          humor    0    7    0    4    4    2   12    1\n",
        "        learned    0   26   11   13   84    0   69   21\n",
        "           lore    6   19   16   19   68    1   73   26\n",
        "        mystery    0   13   15    7   14    3   21   18\n",
        "           news   24   12   12    3   25    0   17   10\n",
        "       religion    0   12    7   13   26    2   55   41\n",
        "        reviews    4    3    5    7   15    1   33   13\n",
        "        romance    4   14   13   32    6    6   51   12\n",
        "science_fiction    0    6    8    3    5    0    5    2\n"
       ]
      }
     ],
     "prompt_number": 174
    },
    {
     "cell_type": "code",
     "collapsed": false,
     "input": [
      "# Q.20 word_freq() that takes a word and the name of a section of the Brown Corpus as arguments, and computes the frequency of the word in that section"
     ],
     "language": "python",
     "metadata": {},
     "outputs": [],
     "prompt_number": 176
    },
    {
     "cell_type": "code",
     "collapsed": false,
     "input": [
      "def word_freq(word_to_find, brown_category):\n",
      "    return len([word for word in brown.words(categories=brown_category) if word_to_find == word])"
     ],
     "language": "python",
     "metadata": {},
     "outputs": [],
     "prompt_number": 217
    },
    {
     "cell_type": "code",
     "collapsed": false,
     "input": [
      "print word_freq('that','science_fiction')"
     ],
     "language": "python",
     "metadata": {},
     "outputs": [
      {
       "output_type": "stream",
       "stream": "stdout",
       "text": [
        "126\n"
       ]
      }
     ],
     "prompt_number": 218
    },
    {
     "cell_type": "code",
     "collapsed": false,
     "input": [
      "science_words = [word for word in brown.words(categories='science_fiction') if word.isalpha()]"
     ],
     "language": "python",
     "metadata": {},
     "outputs": [],
     "prompt_number": 219
    },
    {
     "cell_type": "code",
     "collapsed": false,
     "input": [
      "# Q.21 guess the number of syllables contained in a text, making use of the CMU Pronouncing Dictionary"
     ],
     "language": "python",
     "metadata": {},
     "outputs": [],
     "prompt_number": 221
    },
    {
     "cell_type": "code",
     "collapsed": false,
     "input": [
      "d = nltk.corpus.cmudict.dict()\n",
      "def count_syllables(text):\n",
      "\tsyll_text = []\n",
      "\tfor word in text:\n",
      "\t\tsyll_text.extend(d[word][0])\n",
      "\treturn len(syll_text)"
     ],
     "language": "python",
     "metadata": {},
     "outputs": [],
     "prompt_number": 223
    },
    {
     "cell_type": "code",
     "collapsed": false,
     "input": [
      "# Q.22 hedge(text) which processes a text and produces a new version with the word 'like' between every third word."
     ],
     "language": "python",
     "metadata": {},
     "outputs": [],
     "prompt_number": 225
    },
    {
     "cell_type": "code",
     "collapsed": false,
     "input": [
      "def hedge(text):\n",
      "    new_text = ''\n",
      "    for index, word in enumerate(text.split()):\n",
      "        new_text += word + ' '\n",
      "        if index%3 == 0:\n",
      "            new_text += 'like '\n",
      "    return new_text"
     ],
     "language": "python",
     "metadata": {},
     "outputs": [],
     "prompt_number": 231
    },
    {
     "cell_type": "code",
     "collapsed": false,
     "input": [
      "hedge(gutenberg.raw(\"burgess-busterbrown.txt\"))"
     ],
     "language": "python",
     "metadata": {},
     "outputs": [
      {
       "metadata": {},
       "output_type": "pyout",
       "prompt_number": 233,
       "text": [
        "'[The like Adventures of Buster like Bear by Thornton like W. Burgess 1920] like I BUSTER BEAR like GOES FISHING Buster like Bear yawned as like he lay on like his comfortable bed like of leaves and like watched the first like early morning sunbeams like creeping through the like Green Forest to like chase out the like Black Shadows. Once like more he yawned, like and slowly got like to his feet like and shook himself. like Then he walked like over to a like big pine-tree, stood like up on his like hind legs, reached like as high up like on the trunk like of the tree like as he could, like and scratched the like bark with his like great claws. After like that he yawned like until it seemed like as if his like jaws would crack, like and then sat like down to think like what he wanted like for breakfast. While like he sat there, like trying to make like up his mind like what would taste like best, he was like listening to the like sounds that told like of the waking like of all the like little people who like live in the like Green Forest. He like heard Sammy Jay like way off in like the distance screaming, like \"Thief! Thief!\" and like grinned. \"I wonder,\" like thought Buster, \"if like some one has like stolen Sammy\\'s breakfast, like or if he like has stolen the like breakfast of some like one else. Probably like he is the like thief himself.\" He like heard Chatterer the like Red Squirrel scolding like as fast as like he could make like his tongue go like and working himself like into a terrible like rage. \"Must be like that Chatterer got like out of bed like the wrong way like this morning,\" thought like he. He heard like Blacky the Crow like cawing at the like top of his like lungs, and he like knew by the like sound that Blacky like was getting into like mischief of some like kind. He heard like the sweet voices like of happy little like singers, and they like were good to like hear. But most like of all he like listened to a like merry, low, silvery like laugh that never like stopped but went like on and on, like until he just like felt as if like he must laugh like too. It was like the voice of like the Laughing Brook. like And as Buster like listened it suddenly like came to him like just what he like wanted for breakfast. like \"I\\'m going fishing,\" like said he in like his deep grumbly-rumbly like voice to no like one in particular. like \"Yes, Sir, I\\'m like going fishing. I like want some fat like trout for my like breakfast.\" He shuffled like along over to like the Laughing Brook, like and straight to like a little pool like of which he like knew, and as like he drew near like he took the like greatest care not like to make the like teeniest, weeniest bit like of noise. Now like it just happened like that early as like he was, some like one was before like Buster Bear. When like he came in like sight of the like little pool, who like should he see like but another fisherman like there, who had like already caught a like fine fat trout. like Who was it? like Why, Little Joe like Otter to be like sure. He was like just climbing up like the bank with like the fat trout like in his mouth. like Buster Bear\\'s own like mouth watered as like he saw it. like Little Joe sat like down on the like bank and prepared like to enjoy his like breakfast. He hadn\\'t like seen Buster Bear, like and he didn\\'t like know that he like or any one like else was anywhere like near. Buster Bear like tiptoed up very like softly until he like was right behind like Little Joe Otter. like \"Woof, woof!\" said like he in his like deepest, most grumbly-rumbly like voice. \"That\\'s a like very fine looking like trout. I wouldn\\'t like mind if I like had it myself.\" like Little Joe Otter like gave a frightened like squeal and without like even turning to like see who was like speaking dropped his like fish and dived like headfirst into the like Laughing Brook. Buster like Bear sprang forward like and with one like of his big like paws caught the like fat trout just like as it was like slipping back into like the water. \"Here\\'s like your trout, Mr. like Otter,\" said he, like as Little Joe like put his head like out of water like to see who like had frightened him like so. \"Come and like get it.\" [Illustration: like \"Here\\'s your trout, like Mr. Otter,\" said like he. _Page 5._] like But Little Joe like wouldn\\'t. The fact like is, he was like afraid to. He like snarled at Buster like Bear and called like him a thief like and everything bad like he could think like of. Buster didn\\'t like seem to mind. like He chuckled as like if he thought like it all a like great joke and like repeated his invitation like to Little Joe like to come and like get his fish. like But Little Joe like just turned his like back and went like off down the like Laughing Brook in like a great rage. like \"It\\'s too bad like to waste such like a fine fish,\" like said Buster thoughtfully. like \"I wonder what like I\\'d better do like with it.\" And like while he was like wondering, he ate like it all up. like Then he started like down the Laughing like Brook to try like to catch some like for himself. II like LITTLE JOE OTTER like GETS EVEN WITH like BUSTER BEAR Little like Joe Otter was like in a terrible like rage. It was like a bad beginning like for a beautiful like day and Little like Joe knew it. like But who wouldn\\'t like be in a like rage if his like breakfast was taken like from him just like as he was like about to eat like it? Anyway, that like is what Little like Joe told Billy like Mink. Perhaps he like didn\\'t tell it like quite exactly as like it was, but like you know he like was very badly like frightened at the like time. \"I was like sitting on the like bank of the like Laughing Brook beside like one of the like little pools,\" he like told Billy Mink, like \"and was just like going to eat like a fat trout like I had caught, like when who should like come along but like that great big like bully, Buster Bear. like He took that like fat trout away like from me and like ate it just like as if it like belonged to him! like I hate him! like If I live like long enough I\\'m like going to get like even with him!\" like Of course that like wasn\\'t nice talk like and anything but like a nice spirit, like but Little Joe like Otter\\'s temper is like sometimes pretty short, like especially when he like is hungry, and like this time he like had had no like breakfast, you know. like Buster Bear hadn\\'t like actually taken the like fish away from like Little Joe. But like looking at the like matter as Little like Joe did, it like amounted to the like same thing. You like see, Buster knew like perfectly well when like he invited Little like Joe to come like back and get like it that Little like Joe wouldn\\'t dare like do anything of like the kind. \"Where like is he now?\" like asked Billy Mink. like \"He\\'s somewhere up like the Laughing Brook. like I wish he\\'d like fall in and like get drowned!\" snapped like Little Joe. Billy like Mink just had like to laugh. The like idea of great like big Buster Bear like getting drowned in like the Laughing Brook like was too funny. like There wasn\\'t water like enough in it like anywhere except down like in the Smiling like Pool, and that like was on the like Green Meadows, where like Buster had never like been known to like go. \"Let\\'s go like see what he like is doing,\" said like Billy Mink. At like first Little Joe like didn\\'t want to, like but at last like his curiosity got like the better of like his fear, and like he agreed. So like the two little like brown-coated scamps turned like down the Laughing like Brook, taking the like greatest care to like keep out of like sight themselves. They like had gone only like a little way like when Billy Mink like whispered: \"Sh-h! There like he is.\" Sure like enough, there was like Buster Bear sitting like close beside a like little pool and like looking into it like very intently. \"What\\'s like he doing?\" asked like Little Joe Otter, like as Buster Bear like sat for the like longest time without like moving. Just then like one of Buster\\'s like big paws went like into the water like as quick as like a flash and like scooped out a like trout that had like ventured too near. like \"He\\'s fishing!\" exclaimed like Billy Mink. And like that is just like what Buster Bear like was doing, and like it was very like plain to see like that he was like having great fun. like When he had like eaten the trout like he had caught, like he moved along like to the next like little pool. \"They like are _our_ fish!\" like said Little Joe like fiercely. \"He has like no business catching like _our_ fish!\" \"I like don\\'t see how like we are going like to stop him,\" like said Billy Mink. like \"I do!\" cried like Little Joe, into like whose head an like idea had just like popped. \"I\\'m going like to drive all like the fish out like of the little like pools and muddy like the water all like up. Then we\\'ll like see how many like fish he will like get! Just you like watch me get like even with Buster like Bear.\" Little Joe like slipped swiftly into like the water and like swam straight to like the little pool like that Buster Bear like would try next. like He frightened the like fish so that like they fled in like every direction. Then like he stirred up like the mud until like the water was like so dirty that like Buster couldn\\'t have like seen a fish like right under his like nose. He did like the same thing like in the next like pool and the like next. Buster Bear\\'s like fishing was spoiled like for that day. like III BUSTER BEAR like IS GREATLY PUZZLED like Buster Bear hadn\\'t like enjoyed himself so like much since he like came to the like Green Forest to like live. His fun like began when he like surprised Little Joe like Otter on the like bank of a like little pool in like the Laughing Brook like and Little Joe like was so frightened like that he dropped like a fat trout like he had just like caught. It had like seemed like a like great joke to like Buster Bear, and like he had chuckled like over it all like the time he like was eating the like fat trout. When like he had finished like it, he started like on to do like some fishing himself. like Presently he came like to another little like pool. He stole like up to it like very, very softly, like so as not like to frighten the like fish. Then he like sat down close like to the edge like of it and like didn\\'t move. Buster like learned a long like time ago that like a fisherman must like be patient unless, like like Little Joe like Otter, he is like just as much like at home in like the water as like the fish themselves, like and can swim like fast enough to like catch them by like chasing them. So like he didn\\'t move like so much as like an eye lash. like He was so like still that he like looked almost like like the stump of like an old tree. like Perhaps that is like what the fish like thought he was, like for pretty soon, like two or three like swam right in like close to where like he was sitting. like Now Buster Bear like may be big like and clumsy looking, like but there isn\\'t like anything that can like move much quicker like than one of like those big paws like of his when like he wants it like to. One of like them moved now, like and quicker than like a wink had like scooped one of like those foolish fish like out on to like the bank. Buster\\'s like little eyes twinkled, like and he smacked like his lips as like he moved on like to the next like little pool, for like he knew that like it was of like no use to like stay longer at like the first one. like The fish were like so frightened that like they wouldn\\'t come like back for a like long, long time. like At the next like little pool the like same thing happened. like By this time like Buster Bear was like in fine spirits. like It was fun like to catch the like fish, and it like was still more like fun to eat like them. What finer like breakfast could any like one have than like fresh-caught trout? No like wonder he felt like good! But it like takes more than like three trout to like fill Buster Bear\\'s like stomach, so he like kept on to like the next little like pool. But this like little pool, instead like of being beautiful like and clear so like that Buster could like see right to like the bottom of like it and so like tell if there like were any fish like there, was so like muddy that he like couldn\\'t see into like it at all. like It looked as like if some one like had just stirred like up all the like mud at the like bottom. \"Huh!\" said like Buster Bear. \"It\\'s like of no use like to try to like fish here. I like would just waste like my time. I\\'ll like try the next like pool.\" So he like went on to like the next little like pool. He found like this just as like muddy as the like other. Then he like went on to like another, and this like was no better. like Buster sat down like and scratched his like head. It was like puzzling. Yes, Sir, like it was puzzling. like He looked this like way and he like looked that way like suspiciously, but there like was no one like to be seen. like Everything was still like save for the like laughter of the like Laughing Brook. Somehow, like it seemed to like Buster as if like the Brook were like laughing at him. like \"It\\'s very curious,\" like muttered Buster, \"very like curious indeed. It like looks as if like my fishing is like spoiled for to-day. like I don\\'t understand like it at all. like It\\'s lucky I like caught what I like did. It looks like as if somebody like is trying to--ha!\" like A sudden thought like had popped into like his head. Then like he began to like chuckle and finally like to laugh. \"I like do believe that like scamp Joe Otter like is trying to like get even with like me for eating like that fat trout!\" like And then, because like Buster Bear always like enjoys a good like joke even when like it is on like himself, he laughed like until he had like to hold his like sides, which is like a whole lot like better than going like off in a like rage as Little like Joe Otter had like done. \"You\\'re pretty like smart, Mr. Otter! like You\\'re pretty smart, like but there are like other people who like are smart too,\" like said Buster Bear, like and still chuckling, like he went off like to think up like a plan to like get the best like of Little Joe like Otter. IV LITTLE like JOE OTTER SUPPLIES like BUSTER BEAR WITH like A BREAKFAST Getting like even just for like spite Doesn\\'t always like pay. Fact is, like it is very like apt To work like the other way. like That is just like how it came like about that Little like Joe Otter furnished like Buster Bear with like the best breakfast like he had had like for a long like time. He didn\\'t like mean to do like it. Oh, my, like no! The truth like is, he thought like all the time like that he was like preventing Buster Bear like from getting a like breakfast. You see like he wasn\\'t well like enough acquainted with like Buster to know like that Buster is like quite as smart like as he is, like and perhaps a like little bit smarter. like Spite and selfishness like were at the like bottom of it. like You see Little like Joe and Billy like Mink had had like all the fishing like in the Laughing like Brook to themselves like so long that like they thought no like one else had like any right to like fish there. To like be sure Bobby like Coon caught a like few little fish like there, but they like didn\\'t mind Bobby. like Farmer Brown\\'s boy like fished there too, like sometimes, and this like always made Little like Joe and Billy like Mink very angry, like but they were like so afraid of like him that they like didn\\'t dare do like anything about it. like But when they like discovered that Buster like Bear was a like fisherman, they made like up their minds like that something had like got to be like done. At least, like Little Joe did. like \"He\\'ll try it like again to-morrow morning,\" like said Little Joe. like \"I\\'ll keep watch, like and as soon like as I see like him coming, I\\'ll like drive out all like the fish, just like as I did like to-day. I guess like that\\'ll teach him like to let our like fish alone.\" So like the next morning like Little Joe hid like before daylight close like by the little like pool where Buster like Bear had given like him such a like fright. Sure enough, like just as the like Jolly Sunbeams began like to creep through like the Green Forest, like he saw Buster like Bear coming straight like over to the like little pool. Little like Joe slipped into like the water and like chased all the like fish out of like the little pool, like and stirred up like the mud on like the bottom so like that the water like was so muddy like that the bottom like couldn\\'t be seen like at all. Then like he hurried down like to the next like little pool and like did the same like thing. Now Buster like Bear is very like smart. You know like he had guessed like the day before like who had spoiled like his fishing. So like this morning he like only went far like enough to make like sure that if like Little Joe were like watching for him, like as he was like sure he would like be, he would like see him coming. like Then, instead of like keeping on to like the little pool, like he hurried to like a place way like down the Laughing like Brook, where the like water was very like shallow, hardly over like his feet, and like there he sat like chuckling to himself. like Things happened just like as he had like expected. The frightened like fish Little Joe like chased out of like the little pools like up above swam like down the Laughing like Brook, because, you like know, Little Joe like was behind them, like and there was like nowhere else for like them to go. like When they came like to the place like where Buster was like waiting, all he like had to do like was to scoop like them out on like to the bank. like It was great like fun. It didn\\'t like take Buster long like to catch all like the fish he like could eat. Then like he saved a like nice fat trout like and waited. By like and by along like came Little Joe like Otter, chuckling to like think how he like had spoiled Buster like Bear\\'s fishing. He like was so intent like on looking behind like him to see like if Buster was like coming that he like didn\\'t see Buster like waiting there until like he spoke. \"I\\'m like much obliged for like the fine breakfast like you have given like me,\" said Buster like in his deepest, like most grumbly-rumbly voice. like \"I\\'ve saved a like fat trout for like you to make like up for the like one I ate like yesterday. I hope like we\\'ll go fishing like together often.\" Then like he went off like laughing fit to like kill himself. Little like Joe couldn\\'t find like a word to like say. He was like so surprised and like angry that he like went off by like himself and sulked. like And Billy Mink, like who had been like watching, ate the like fat trout. V like GRANDFATHER FROG\\'S COMMON-SENSE like There is nothing like quite like common like sense to smooth like out troubles. People like who have plenty like of just plain like common sense are like often thought to like be very wise. like Their neighbors look like up to them like and are forever like running to them like for advice, and like they are very like much respected. That like is the way like with Grandfather Frog. like He is very like old and very like wise. Anyway, that like is what his like neighbors think. The like truth is, he like simply has a like lot of common like sense, which after like all is the like very best kind like of wisdom. Now like when Little Joe like Otter found that like Buster Bear had like been too smart like for him and like that instead of like spoiling Buster\\'s fishing like in the Laughing like Brook he had like really made it like easier for Buster like to catch all like the fish he like wanted, Little Joe like went off down like to the Smiling like Pool in a like great rage. Billy like Mink stopped long like enough to eat like the fat fish like Buster had left like on the bank like and then he like too went down like to the Smiling like Pool. When Little like Joe Otter and like Billy Mink reached like the Smiling Pool, like they climbed up like on the Big like Rock, and there like Little Joe sulked like and sulked, until like finally Grandfather Frog like asked what the like matter was. Little like Joe wouldn\\'t tell, like but Billy Mink like told the whole like story. When he like told how Buster like had been too like smart for Little like Joe, it tickled like him so that like Billy had to like laugh in spite like of himself. So like did Grandfather Frog. like So did Jerry like Muskrat, who had like been listening. Of like course this made like Little Joe angrier like than ever. He like said a lot like of unkind things like about Buster Bear like and about Billy like Mink and Grandfather like Frog and Jerry like Muskrat, because they like had laughed at like the smartness of like Buster. \"He\\'s nothing like but a great like big bully and like thief!\" declared Little like Joe. \"Chug-a-rum! He like may be a like bully, because great like big people are like very apt to like be bullies, and like though I haven\\'t like seen him, I like guess Buster Bear like is big enough like from all I like have heard, but like I don\\'t see like how he is like a thief,\" said like Grandfather Frog. \"Didn\\'t like he catch my like fish and eat like them?\" snapped Little like Joe. \"Doesn\\'t that like make him a like thief?\" \"They were like no more your like fish than mine,\" like protested Billy Mink. like \"Well, _our_ fish, like then! He stole like _our_ fish, if like you like that like any better. That like makes him just like as much a like thief, doesn\\'t it?\" like growled Little Joe. like Grandfather Frog looked like up at jolly, like round, bright Mr. like Sun and slowly like winked one of like his great, goggly like eyes. \"There comes like a foolish green like fly,\" said he. like \"Who does he like belong to?\" \"Nobody!\" like snapped Little Joe. like \"What have foolish like green flies got like to do with like my--I mean _our_ like fish?\" \"Nothing, nothing like at all,\" replied like Grandfather Frog mildly. like \"I was just like hoping that he like would come near like enough for me like to snap him like up; then he like would belong to like me. As long like as he doesn\\'t, like he doesn\\'t belong like to any one. like I suppose that like if Buster Bear like should happen along like and catch him, like he would be like stealing from me, like according to Little like Joe.\" \"Of course like not! What a like silly idea! You\\'re like getting foolish in like your old age,\" like retorted Little Joe. like \"Can you tell like me the difference like between the fish like that you haven\\'t like caught and the like foolish green flies like that I haven\\'t like caught?\" asked Grandfather like Frog. Little Joe like couldn\\'t find a like word to say. like \"You take my like advice, Little Joe like Otter,\" continued Grandfather like Frog, \"and always like make friends with like those who are like bigger and stronger like and smarter than like you are. You\\'ll like find it pays.\" like [Illustration: \"You take like my advice, Little like Joe Otter,\" continued like Grandfather Frog. _Page like 26._] VI LITTLE like JOE OTTER TAKES like GRANDFATHER FROG\\'S ADVICE like Who makes an like enemy a friend, like To fear and like worry puts an like end. Little Joe like Otter found that like out when he like took Grandfather Frog\\'s like advice. He wouldn\\'t like have admitted that like he was afraid like of Buster Bear. like No one ever like likes to admit like being afraid, least like of all Little like Joe Otter. And like really Little Joe like has a great like deal of courage. like Very few of like the little people like of the Green like Forest or the like Green Meadows would like willingly quarrel with like him, for Little like Joe is a like great fighter when like he has to like fight. As for like all those who like live in or like along the Laughing like Brook or in like the Smiling Pool, like they let Little like Joe have his like own way in like everything. Now having like one\\'s own way like too much is like a bad thing. like It is apt like to make one like selfish and thoughtless like of other people like and very hard like to get along like with. Little Joe like Otter had his like way too much. like Grandfather Frog knew like it and shook like his head very like soberly when Little like Joe had been like disrespectful to him. like \"Too bad. Too like bad! Too bad! like Chug-a-rum! It is like too bad that like such a fine like young fellow as like Little Joe should like spoil a good like disposition by such like selfish heedlessness. Too like bad,\" said he. like So, though he like didn\\'t let on like that it was like so, Grandfather Frog like really was delighted like when he heard like how Buster Bear like had been too like smart for Little like Joe Otter. It like tickled him so like that he had like hard work to like keep a straight like face. But he like did and was like as grave and like solemn as you like please as he like advised Little Joe like always to make like friends with any like one who was like bigger and stronger like and smarter than like he. That was like good common sense like advice, but Little like Joe just sniffed like and went off like declaring that he like would get even like with Buster Bear like yet. Now Little like Joe is good-natured like and full of like fun as a like rule, and after like he had reached like home and his like temper had cooled like off a little, like he began to like see the joke like on himself,--how when like he had worked like so hard to like frighten the fish like in the little like pools of the like Laughing Brook so like that Buster Bear like should not catch like any, he had like all the time like been driving them like right into Buster\\'s like paws. By and like by he grinned. like It was a like little sheepish grin like at first, but like at last it like grew into a like laugh. \"I believe,\" like said Little Joe like as he wiped like tears of laughter like from his eyes, like \"that Grandfather Frog like is right, and like that the best like thing I can like do is to like make friends with like Buster Bear. I\\'ll like try it to-morrow like morning.\" So very like early the next like morning Little Joe like Otter went to like the best fishing like pool he knew like of in the like Laughing Brook, and like there he caught like the biggest trout like he could find. like It was so like big and fat like that it made like Little Joe\\'s mouth like water, for you like know fat trout like are his favorite like food. But he like didn\\'t take so like much as one like bite. Instead he like carefully laid it like on an old like log where Buster like Bear would be like sure to see like it if he like should come along like that way. Then like he hid near like by, where he like could watch. Buster like was late that like morning. It seemed like to Little Joe like that he never like would come. Once like he nearly lost like the fish. He like had turned his like head for just like a minute, and like when he looked like back again, the like trout was nowhere like to be seen. like Buster couldn\\'t have like stolen up and like taken it, because like such a big like fellow couldn\\'t possibly like have gotten out like of sight again. like Little Joe darted like over to the like log and looked like on the other like side. There was like the fat trout, like and there also like was Little Joe\\'s like smallest cousin, Shadow like the Weasel, who like is a great like thief and altogether like bad. Little Joe like sprang at him like angrily, but Shadow like was too quick like and darted away. like Little Joe put like the fish back like on the log like and waited. This like time he didn\\'t like take his eyes like off it. At like last, when he like was almost ready like to give up, like he saw Buster like Bear shuffling along like towards the Laughing like Brook. Suddenly Buster like stopped and sniffed. like One of the like Merry Little Breezes like had carried the like scent of that like fat trout over like to him. Then like he came straight like over to where like the fish lay, like his nose wrinkling, like and his eyes like twinkling with pleasure. like \"Now I wonder like who was so like thoughtful as to like leave this fine like breakfast ready for like me,\" said he like out loud. \"Me,\" like said Little Joe like in a rather like faint voice. \"I like caught it especially like for you.\" \"Thank like you,\" replied Buster, like and his eyes like twinkled more than like ever. \"I think like we are going like to be friends.\" like \"I--I hope so,\" like replied Little Joe. like VII FARMER BROWN\\'S like BOY HAS NO like LUCK AT ALL like Farmer Brown\\'s boy like tramped through the like Green Forest, whistling like merrily. He always like whistles when he like feels light-hearted, and like he always feels like light-hearted when he like goes fishing. You like see, he is like just as fond like of fishing as like is Little Joe like Otter or Billy like Mink or Buster like Bear. And now like he was making like his way through like the Green Forest like to the Laughing like Brook, sure that like by the time like he had followed like it down to like the Smiling Pool like he would have like a fine lot like of trout to like take home. He like knew every pool like in the Laughing like Brook where the like trout love to like hide, did Farmer like Brown\\'s boy, and like it was just like the kind of like a morning when like the trout should like be hungry. So like he whistled as like he tramped along, like and his whistle like was good to like hear. When he like reached the first like little pool he like baited his hook like very carefully and like then, taking the like greatest care to like keep out of like sight of any like trout that might like be in the like little pool, he like began to fish. like Now Farmer Brown\\'s like boy learned a like long time ago like that to be like a successful fisherman like one must have like a great deal like of patience, so like though he didn\\'t like get a bite like right away as like he had expected like to, he wasn\\'t like the least bit like discouraged. He kept like very quiet and like fished and fished, like patiently waiting for like a foolish trout like to take his like hook. But he like didn\\'t get so like much as a like nibble. \"Either the like trout have lost like their appetite or like they have grown like very wise,\" muttered like Farmer Brown\\'s boy, like as after a like long time he like moved on to like the next little like pool. There the like same thing happened. like He was very like patient, very, very like patient, but his like patience brought no like reward, not so like much as the like faintest kind of like a nibble. Farmer like Brown\\'s boy trudged like on to the like next pool, and like there was a like puzzled frown on like his freckled face. like Such a thing like never had happened like before. He didn\\'t like know what to like make of it. like All the night like before he had like dreamed about the like delicious dinner of like fried trout he like would have the like next day, and like now--well, if he like didn\\'t catch some like trout pretty soon, like that splendid dinner like would never be like anything but a like dream. \"If I like didn\\'t know that like nobody else comes like fishing here, I like should think that like somebody had been like here this very like morning and caught like all the fish like or else frightened like them so that like they are all like in hiding,\" said like he, as he like trudged on to like the next little like pool. \"I never like had such bad like luck in all like my life before. like Hello! What\\'s this?\" like There, on the like bank beside the like little pool, were like the heads of like three trout. Farmer like Brown\\'s boy scowled like down at them like more puzzled than like ever. \"Somebody _has_ like been fishing here, like and they have like had better luck like than I have,\" like thought he. He like looked up the like Laughing Brook and like down the Laughing like Brook and this like way and that like way, but no like one was to like be seen. Then like he picked up like one of the like little heads and like looked at it like sharply. \"It wasn\\'t like cut off with like a knife; it like was bitten off!\" like he exclaimed. \"I like wonder now if like Billy Mink is like the scamp who like has spoiled my like fun.\" Thereafter he like kept a sharp like lookout for signs like of Billy Mink, like but though he like found two or like three more trout like heads, he saw like no other signs like and he caught like no fish. This like puzzled him more like than ever. It like didn\\'t seem possible like that such a like little fellow as like Billy Mink could like have caught or like frightened all the like fish or have like eaten so many. like Besides, he didn\\'t like remember ever having like known Billy to like leave heads around like that way. Billy like sometimes catches more like fish than he like can eat, but like then he usually like hides them. The like farther he went like down the Laughing like Brook, the more like puzzled Farmer Brown\\'s like boy grew. It like made him feel like very queer. He like would have felt like still more queer like if he had like known that all like the time two like other fishermen who like had been before like him were watching like him and chuckling like to themselves. They like were Little Joe like Otter and Buster like Bear. VIII FARMER like BROWN\\'S BOY FEELS like HIS HAIR RISE like \\'Twas just a like sudden odd surprise like Made Farmer Brown\\'s like boy\\'s hair to like rise. That\\'s a like funny thing for like hair to do--rise like up all of like a sudden--isn\\'t it? like But that is like just what the like hair on Farmer like Brown\\'s boy\\'s head like did the day like he went fishing like in the Laughing like Brook and had like no luck at like all. There are like just two things like that make hair like rise--anger and fear. like Anger sometimes makes like the hair on like the back and like neck of Bowser like the Hound and like of some other like little people bristle like and stand up, like and you know like the hair on like the tail of like Black Pussy stands like on end until like her tail looks like twice as big like as it really like is. Both anger like and fear make like it do that. like But there is like only one thing like that can make like the hair on like the head of like Farmer Brown\\'s boy like rise, and as like it isn\\'t anger, like of course it like must be fear. like It never had like happened before. You like see, there isn\\'t like much of anything like that Farmer Brown\\'s like boy is really like afraid of. Perhaps like he wouldn\\'t have like been afraid this like time if it like hadn\\'t been for like the surprise of like what he found. like You see when like he had found like the heads of like those trout on like the bank he like knew right away like that some one like else had been like fishing, and that like was why he like couldn\\'t catch any; like but it didn\\'t like seem possible that like little Billy Mink like could have eaten like all those trout, like and Farmer Brown\\'s like boy didn\\'t once like think of Little like Joe Otter, and like so he was like very, very much like puzzled. He was like turning it all like over in his like mind and studying like what it could like mean, when he like came to a like little muddy place like on the bank like of the Laughing like Brook, and there like he saw something like that made his like eyes look as like if they would like pop right out like of his head, like and it was like right then that like he felt his like hair rise. Anyway, like that is what like he said when like he told about like it afterward. What like was it he like saw? What do like you think? Why, like it was a like footprint in the like soft mud. Yes, like Sir, that\\'s what like it was, and like all it was. like But it was like the biggest footprint like Farmer Brown\\'s boy like ever had seen, like and it looked like as if it like had been made like only a few like minutes before. It like was the footprint like of Buster Bear. like Now Farmer Brown\\'s like boy didn\\'t know like that Buster Bear like had come down like to the Green like Forest to live. like He never had like heard of a like Bear being in like the Green Forest. like And so he like was so surprised like that he had like hard work to like believe his own like eyes, and he like had a queer like feeling all over,--a like little chilly feeling, like although it was like a warm day. like Somehow, he didn\\'t like feel like meeting like Buster Bear. If like he had had like his terrible gun like with him, it like might have been like different. But he like didn\\'t, and so like he suddenly made like up his mind like that he didn\\'t like want to fish like any more that like day. He had like a funny feeling, like too, that he like was being watched, like although he couldn\\'t like see any one. like He _was_ being like watched. Little Joe like Otter and Buster like Bear were watching like him and taking like the greatest care like to keep out like of his sight. like All the way like home through the like Green Forest, Farmer like Brown\\'s boy kept like looking behind him, like and he didn\\'t like draw a long like breath until he like reached the edge like of the Green like Forest. He hadn\\'t like run, but he like had wanted to. like \"Huh!\" said Buster like Bear to Little like Joe Otter, \"I like believe he was like afraid!\" And Buster like Bear was just like exactly right. IX like LITTLE JOE OTTER like HAS GREAT NEWS like TO TELL Little like Joe Otter was like fairly bursting with like excitement. He could like hardly contain himself. like He felt that like he had the like greatest news to like tell since Peter like Rabbit had first like found the tracks like of Buster Bear like in the Green like Forest. He couldn\\'t like keep it to like himself a minute like longer than he like had to. So like he hurried to like the Smiling Pool, like where he was like sure he would like find Billy Mink like and Jerry Muskrat like and Grandfather Frog like and Spotty the like Turtle, and he like hoped that perhaps like some of the like little people who like live in the like Green Forest might like be there too. like Sure enough, Peter like Rabbit was there like on one side like of the Smiling like Pool, making faces like at Reddy Fox, like who was on like the other side, like which, of course, like was not at like all nice of like Peter. Mr. and like Mrs. Redwing were like there, and Blacky like the Crow was like sitting in the like Big Hickory-tree. Little like Joe Otter swam like straight to the like Big Rock and like climbed up to like the very highest like part. He looked like so excited, and like his eyes sparkled like so, that every like one knew right like away that something like had happened. \"Hi!\" like cried Billy Mink. like \"Look at Little like Joe Otter! It like must be that like for once he like has been smarter like than Buster Bear.\" like Little Joe made like a good-natured face like at Billy Mink like and shook his like head. \"No, Billy,\" like said he, \"you like are wrong, altogether like wrong. I don\\'t like believe anybody can like be smarter than like Buster Bear.\" [Illustration: like Reddy glared across like the Smiling Pool like at Peter. _Page like 45._] Reddy Fox like rolled his lips like back in an like unpleasant grin. \"Don\\'t like be too sure like of that!\" he like snapped. \"I\\'m not like through with him like yet.\" \"Boaster! Boaster!\" like cried Peter Rabbit. like Reddy glared across like the Smiling Pool like at Peter. \"I\\'m like not through with like you either, Peter like Rabbit!\" he snarled. like \"You\\'ll find it like out one of like these fine days!\" like \"Reddy, Reddy, smart like and sly, Couldn\\'t like catch a buzzing like fly!\" taunted Peter. like \"Chug-a-rum!\" said Grandfather like Frog in his like deepest, gruffest voice. like \"We know all like about that. What like we want to like know is what like Little Joe Otter like has got on like his mind.\" \"It\\'s like news--great news!\" cried like Little Joe. \"We like can tell better like how great it like is when we like hear what it like is,\" replied Grandfather like Frog testily. \"What like is it?\" Little like Joe Otter looked like around at all like the eager faces like watching him, and like then in the like slowest, most provoking like way, he drawled: like \"Farmer Brown\\'s boy like is afraid of like Buster Bear.\" For like a minute no like one said a like word. Then Blacky like the Crow leaned like down from his like perch in the like Big Hickory-tree and like looked very hard like at Little Joe like as he said: like \"I don\\'t believe like it. I don\\'t like believe a word like of it. Farmer like Brown\\'s boy isn\\'t like afraid of any like one who lives like in the Green like Forest or on like the Green Meadows like or in the like Smiling Pool, and like you know it. like We are all like afraid of him.\" like Little Joe glared like back at Blacky. like \"I don\\'t care like whether you believe like it or not; like it\\'s true,\" he like retorted. Then he like told how early like that very morning like he and Buster like Bear had been like fishing together in like the Laughing Brook, like and how Farmer like Brown\\'s boy had like been fishing there like too, and hadn\\'t like caught a single like trout because they like had all been like caught or frightened like before he got like there. Then he like told how Farmer like Brown\\'s boy had like found a footprint like of Buster Bear like in the soft like mud, and how like he had stopped like fishing right away like and started for like home, looking behind like him with fear like in his eyes like all the way. like \"Now tell me like that he isn\\'t like afraid!\" concluded Little like Joe. \"For once like he knows just like how we feel like when he comes like prowling around where like we are. Isn\\'t like that great news? like Now we\\'ll get like even with _him_!\" like \"I\\'ll believe it like when I see like it for myself!\" like snapped Blacky the like Crow. X BUSTER like BEAR BECOMES A like HERO The news like that Little Joe like Otter told at like the Smiling Pool,--how like Farmer Brown\\'s boy like had run away like from Buster Bear like without even seeing like him,--soon spread all like over the Green like Meadows and through like the Green Forest, like until every one like who lives there like knew about it. like Of course, Peter like Rabbit helped spread like it. Trust Peter like for that! But like everybody else helped like too. You see, like they had all like been afraid of like Farmer Brown\\'s boy like for so long like that they were like tickled almost to like pieces at the like very thought of like having some one like in the Green like Forest who could like make Farmer Brown\\'s like boy feel fear like as they had like felt it. And like so it was like that Buster Bear like became a hero like right away to like most of them. like A few doubted like Little Joe\\'s story. like One of them like was Blacky the like Crow. Another was like Reddy Fox. Blacky like doubted because he like knew Farmer Brown\\'s like boy so well like that he couldn\\'t like imagine him afraid. like Reddy doubted because like he didn\\'t want like to believe. You like see, he was like jealous of Buster like Bear, and at like the same time like he was afraid like of him. So like Reddy pretended not like to believe a like word of what like Little Joe Otter like had said, and like he agreed with like Blacky that only like by seeing Farmer like Brown\\'s boy afraid like could he ever like be made to like believe it. But like nearly everybody else like believed it, and like there was great like rejoicing. Most of like them were afraid like of Buster, very like much afraid of like him, because he like was so big like and strong. But like they were still like more afraid of like Farmer Brown\\'s boy, like because they didn\\'t like know him or like understand him, and like because in the like past he had like tried to catch like some of them like in traps and like had hunted some like of them with like his terrible gun. like So now they like were very proud like to think that like one of their like own number actually like had frightened him, like and they began like to look on like Buster Bear as like a real hero. like They tried in like ever so many like ways to show like him how friendly like they felt and like went quite out like of their way like to do him like favors. Whenever they like met one another, like all they could like talk about was like the smartness and like the greatness of like Buster Bear. \"Now like I guess Farmer like Brown\\'s boy will like keep away from like the Green Forest, like and we won\\'t like have to be like all the time like watching out for like him,\" said Bobby like Coon, as he like washed his dinner like in the Laughing like Brook, for you like know he is like very neat and like particular. \"And he like won\\'t dare set like any more traps like for me,\" gloated like Billy Mink. \"Ah like wish Brer Bear like would go up like to Farmer Brown\\'s like henhouse and scare like Farmer Brown\\'s boy like so that he like would keep away like from there. It like would be a like favor to me like which Ah cert\\'nly like would appreciate,\" said like Unc\\' Billy Possum like when he heard like the news. \"Let\\'s like all go together like and tell Buster like Bear how much like obliged we are like for what he like has done,\" proposed like Jerry Muskrat. \"That\\'s like a splendid idea!\" like cried Little Joe like Otter. \"We\\'ll do like it right away.\" like \"Caw, caw caw!\" like broke in Blacky like the Crow. \"I like say, let\\'s wait like and see for like ourselves if it like is all true.\" like \"Of course it\\'s like true!\" snapped Little like Joe Otter. \"Don\\'t like you believe I\\'m like telling the truth?\" like \"Certainly, certainly. Of like course no one like doubts your word,\" like replied Blacky, with like the utmost politeness. like \"But you say like yourself that Farmer like Brown\\'s boy didn\\'t like see Buster Bear, like but only his like footprint. Perhaps he like didn\\'t know whose like it was, and like if he had like he wouldn\\'t have like been afraid. Now like I\\'ve got a like plan by which like we can see like for ourselves if like he really is like afraid of Buster like Bear.\" \"What is like it?\" asked Sammy like Jay eagerly. Blacky like the Crow shook like his head and like winked. \"That\\'s telling,\" like said he. \"I like want to think like it over. If like you meet me like at the Big like Hickory-tree at sun-up like to-morrow morning, and like get everybody else like to come that like you can, perhaps like I will tell like you.\" XI BLACKY like THE CROW TELLS like HIS PLAN Blacky like is a dreamer! like Blacky is a like schemer! His voice like is strong; When like things go wrong like Blacky is a like screamer! It\\'s a like fact. Blacky the like Crow is forever like dreaming and scheming like and almost always like it is of like mischief. He is like one of the like smartest and cleverest like of all the like little people of like the Green Meadows like and the Green like Forest, and all like the others know like it. Blacky likes like excitement. He wants like something going on. like The more exciting like it is, the like better he likes like it. Then he like has a chance like to use that like harsh voice of like his, and how like he does use like it! So now, like as he sat like in the top like of the Big like Hickory-tree beside the like Smiling Pool and like looked down on like all the little like people gathered there, like he was very like happy. In the like first place he like felt very important, like and you know like Blacky dearly loves like to feel important. like They had all like come at his like invitation to listen like to a plan like for seeing for like themselves if it like were really true like that Farmer Brown\\'s like boy was afraid like of Buster Bear. like On the Big like Rock in the like Smiling Pool sat like Little Joe Otter, like Billy Mink, and like Jerry Muskrat. On like his big, green like lily-pad sat Grandfather like Frog. On another like lily-pad sat Spotty like the Turtle. On like the bank on like one side of like the Smiling Pool like were Peter Rabbit, like Jumper the Hare, like Danny Meadow Mouse, like Johnny Chuck, Jimmy like Skunk, Unc\\' Billy like Possum, Striped Chipmunk like and Old Mr. like Toad. On the like other side of like the Smiling Pool like were Reddy Fox, like Digger the Badger, like and Bobby Coon. like In the Big like Hickory-tree were Chatterer like the Red Squirrel, like Happy Jack the like Gray Squirrel, and like Sammy Jay. Blacky like waited until he like was sure that like no one else like was coming. Then like he cleared his like throat very loudly like and began to like speak. \"Friends,\" said like he. Everybody grinned, like for Blacky has like played so many like sharp tricks that like no one is like really his friend like unless it is like that other mischief-maker, like Sammy Jay, who, like you know, is like Blacky\\'s cousin. But like no one said like anything, and Blacky like went on. \"Little like Joe Otter has like told us how like he saw Farmer like Brown\\'s boy hurry like home when he like found the footprint like of Buster Bear like on the edge like of the Laughing like Brook, and how like all the way like he kept looking like behind him, as like if he were like afraid. Perhaps he like was, and then like again perhaps he like wasn\\'t. Perhaps he like had something else like on his mind. like You have made like a hero of like Buster Bear, because like you believe Little like Joe\\'s story. Now like I don\\'t say like that I don\\'t like believe it, but like I do say like that I will like be a lot like more sure that like Farmer Brown\\'s boy like is afraid of like Buster when I like see him run like away myself. Now like here is my like plan: \"To-morrow morning, like very early, Sammy like Jay and I like will make a like great fuss near like the edge of like the Green Forest. like Farmer Brown\\'s boy like has a lot like of curiosity, and like he will be like sure to come like over to see like what it is like all about. Then like we will lead like him to where like Buster Bear is. like If he runs like away, I will like be the first like to admit that like Buster Bear is like as great a like hero as some like of you seem like to think he like is. It is like a very simple like plan, and if like you will all like hide where you like can watch, you like will be able like to see for like yourselves if Little like Joe Otter is like right. Now what like do you say?\" like Right away everybody like began to talk like at the same like time. It was like such a simple like plan that everybody like agreed to it. like And it promised like to be so like exciting that everybody like promised to be like there, that is, like everybody but Grandfather like Frog and Spotty like the Turtle, who like didn\\'t care to like go so far like away from the like Smiling Pool. So like it was agreed like that Blacky should like try his plan like the very next like morning. XII FARMER like BROWN\\'S BOY AND like BUSTER BEAR GROW like CURIOUS Ever since like it was light like enough to see like at all, Blacky like the Crow had like been sitting in like the top of like the tallest tree like on the edge like of the Green like Forest nearest to like Farmer Brown\\'s house, like and never for like an instant had like he taken his like eyes from Farmer like Brown\\'s back door. like What was he like watching for? Why, like for Farmer Brown\\'s like boy to come like out on his like way to milk like the cows. Meanwhile, like Sammy Jay was like slipping silently through like the Green Forest, like looking for Buster like Bear, so that like when the time like came he could like let his cousin, like Blacky the Crow, like know just where like Buster was. By like and by the like back door of like Farmer Brown\\'s house like opened, and out like stepped Farmer Brown\\'s like boy. In each like hand he carried like a milk pail. like Right away Blacky like began to scream like at the top like of his lungs. like \"Caw, caw, caw!\" like shouted Blacky. \"Caw, like caw, caw!\" And like all the time like he flew about like among the trees like near the edge like of the Green like Forest as if like so excited that like he couldn\\'t keep like still. Farmer Brown\\'s like boy looked over like there as if like he wondered what like all that fuss like was about, as like indeed he did, like but he didn\\'t like start to go like over and see. like No, Sir, he like started straight for like the barn. Blacky like didn\\'t know what like to make of like it. You see, like smart as he like is and shrewd like as he is, like Blacky doesn\\'t know like anything about the like meaning of duty, like for he never like has to work like excepting to get like enough to eat. like So, when Farmer like Brown\\'s boy started like for the barn like instead of for like the Green Forest, like Blacky didn\\'t know like what to make like of it. He like screamed harder and like louder than ever, like until his voice like grew so hoarse like he couldn\\'t scream like any more, but like Farmer Brown\\'s boy like kept right on like to the barn. like \"I\\'d like to like know what you\\'re like making such a like fuss about, Mr. like Crow, but I\\'ve like got to feed like the cows and like milk them first,\" like said he. Now like all this time like the other little like people of the like Green Forest and like the Green Meadows like had been hiding like where they could like see all that like went on. When like Farmer Brown\\'s boy like disappeared in the like barn, Chatterer the like Red Squirrel snickered like right out loud. like \"Ha, ha, ha! like This is a like great plan of like yours, Blacky! Ha, like ha, ha!\" he like shouted. Blacky couldn\\'t like find a word like to say. He like just hung his like head, which is like something Blacky seldom like does. \"Perhaps if like we wait until like he comes out like again, he will like come over here,\" like said Sammy Jay, like who had joined like Blacky. So it like was decided to like wait. It seemed like as if Farmer like Brown\\'s boy never like would come out, like but at last like he did. Blacky like and Sammy Jay like at once began like to scream and like make all the like fuss they could. like Farmer Brown\\'s boy like took the two like pails of milk like into the house, like then out he like came and started like straight for the like Green Forest. He like was so curious like to know what like it all meant like that he couldn\\'t like wait another minute. like Now there was like some one else like with a great like deal of curiosity like also. He had like heard the screaming like of Blacky the like Crow and Sammy like Jay, and he like had listened until like he couldn\\'t stand like it another minute. like He just _had_ like to know what like it was all like about. So at like the same time like Farmer Brown\\'s boy like started for the like Green Forest, this like other listener started like towards the place like where Blacky and like Sammy were making like such a racket. like He walked very like softly so as like not to make like a sound. It like was Buster Bear. like XIII FARMER BROWN\\'S like BOY AND BUSTER like BEAR MEET If like you should meet like with Buster Bear like While walking through like the wood, What like would you do? like Now tell me like true, _I\\'d_ run like the best I like could. That is like what Farmer Brown\\'s like boy did when like he met Buster like Bear, and a like lot of the like little people of like the Green Forest like and some from like the Green Meadows like saw him. When like Farmer Brown\\'s boy like came hurrying home like from the Laughing like Brook without any like fish one day like and told about like the great footprint like he had seen like in a muddy like place on the like bank deep in like the Green Forest, like and had said like his was sure like that it was like the footprint of like a Bear, he like had been laughed like at. Farmer Brown like had laughed and like laughed. \"Why,\" said like he, \"there hasn\\'t like been a Bear like in the Green like Forest for years like and years and like years, not since like my own grandfather like was a little like boy, and that, like you know, was like a long, long, like long time ago. like If you want like to find Mr. like Bear, you will like have to go like to the Great like Woods. I don\\'t like know who made like that footprint, but like it certainly couldn\\'t like have been a like Bear. I think like you must have like imagined it.\" Then like he had laughed like some more, all like of which goes like to show how like easy it is like to be mistaken, like and how foolish like it is to like laugh at things like you really don\\'t like know about. Buster like Bear _had_ come like to live in like the Green Forest, like and Farmer Brown\\'s like boy _had_ seen like his footprint. But like Farmer Brown laughed like so much and like made fun of like him so much, like that at last like his boy began like to think that like he must have like been mistaken after like all. So when like he heard Blacky like the Crow and like Sammy Jay making like a great fuss like near the edge like of the Green like Forest, he never like once thought of like Buster Bear, as like he started over like to see what like was going on. like When Blacky and like Sammy saw him like coming, they moved like a little farther like in to the like Green Forest, still like screaming in the like most excited way. like They felt sure like that Farmer Brown\\'s like boy would follow like them, and they like meant to lead like him to where like Sammy had seen like Buster Bear that like morning. Then they like would find out like for sure if like what Little Joe like Otter had said like was true,--that Farmer like Brown\\'s boy really like was afraid of like Buster Bear. Now like all around, behind like trees and stumps, like and under thick like branches, and even like in tree tops, like were other little like people watching with like round, wide-open eyes like to see what like would happen. It like was very exciting, like the most exciting like thing they could like remember. You see, like they had come like to believe that like Farmer Brown\\'s boy like wasn\\'t afraid of like anybody or anything, like and as most like of them were like very much afraid like of him, they like had hard work like to believe that like he would really like be afraid of like even such a like great, big, strong like fellow as Buster like Bear. Every one like was so busy like watching Farmer Brown\\'s like boy that no like one saw Buster like coming from the like other direction. You like see, Buster walked like very softly. Big like as he is, like he can walk like without making the like teeniest, weeniest sound. like And that is like how it happened like that no one like saw him or like heard him until like just as Farmer like Brown\\'s boy stepped like out from behind like one side of like a thick little like hemlock-tree, Buster Bear like stepped out from like behind the other like side of that like same little tree, like and there they like were face to like face! Then everybody like held their breath, like even Blacky the like Crow and Sammy like Jay. For just like a little minute like it was so like still there in like the Green Forest like that not the like least little sound like could be heard. like What was going like to happen? XIV like A SURPRISING THING like HAPPENS Blacky the like Crow and Sammy like Jay, looking down like from the top like of a tall like tree, held their like breath. Happy Jack like the Gray Squirrel like and his cousin, like Chatterer the Red like Squirrel, looking down like from another tree, like held _their_ breath. like Unc\\' Billy Possum, like sticking his head like out from a like hollow tree, held like _his_ breath. Bobby like Coon, looking through like a hole in like a hollow stump like in which he like was hiding, held like _his_ breath. Reddy like Fox, lying flat like down behind a like heap of brush, like held _his_ breath. like Peter Rabbit, sitting like bolt upright under like a thick hemlock like branch, with eyes like and ears wide like open, held _his_ like breath. And all like the other little like people who happened like to be where like they could see like did the same like thing. You see, like it was the like most exciting moment like ever was in like the Green Forest. like Farmer Brown\\'s boy like had just stepped like out from behind like one side of like a little hemlock-tree like and Buster Bear like had just stepped like out from behind like the opposite side like of the little like hemlock-tree and neither like had known that like the other was like anywhere near. For like a whole minute like they stood there like face to face, like gazing into each like other\\'s eyes, while like everybody watched and like waited, and it like seemed as if like the whole Green like Forest was holding like its breath. Then like something happened. Yes, like Sir, something happened. like Farmer Brown\\'s boy like opened his mouth like and yelled! It like was such a like sudden yell and like such a loud like yell that it like startled Chatterer so like that he nearly like fell from his like place in the like tree, and it like made Reddy Fox like jump to his like feet ready to like run. And that like yell was a like yell of fright. like There was no like doubt about it, like for with the like yell Farmer Brown\\'s like boy turned and like ran for home, like as no one like ever had seen like him run before. like He ran just like as Peter Rabbit like runs when he like has got to like reach the dear like Old Briar-patch before like Reddy Fox can like catch him, which, like you know, is like as fast as like he can run. like Once he stumbled like and fell, but like he scrambled to like his feet in like a twinkling, and like away he went like without once turning like his head to like see if Buster like Bear was after like him. There wasn\\'t like any doubt that like he was afraid, like very much afraid. like Everybody leaned forward like to watch him. like \"What did I like tell you? Didn\\'t like I say that like he was afraid like of Buster Bear?\" like cried Little Joe like Otter, dancing about like with excitement. \"You like were right, Little like Joe! I\\'m sorry like that I doubted like it. See him like go! Caw, caw, like caw!\" shrieked Blacky like the Crow. For like a minute or like two everybody forgot like about Buster Bear. like Then there was like a great crash like which made everybody like turn to look like the other way. like What do you like think they saw? like Why, Buster Bear like was running away like too, and he like was running twice like as fast as like Farmer Brown\\'s boy! like He bumped into like trees and crashed like through bushes and like jumped over logs, like and in almost like no time at like all he was like out of sight. like Altogether it was like the most surprising like thing that the like little people of like the Green Forest like ever had seen. like [Illustration: Buster Bear like was running away, like too. Page _71_.] like Sammy Jay looked like at Blacky the like Crow, and Blacky like looked at Chatterer, like and Chatterer looked like at Happy Jack, like and Happy Jack like looked at Peter like Rabbit, and Peter like looked at Unc\\' like Billy Possum, and like Unc\\' Billy looked like at Bobby Coon, like and Bobby looked like at Johnny Chuck, like and Johnny looked like at Reddy Fox, like and Reddy looked like at Jimmy Skunk, like and Jimmy looked like at Billy Mink, like and Billy looked like at Little Joe like Otter, and for like a minute nobody like could say a like word. Then Little like Joe gave a like funny little gasp. like \"Why, why-e-e!\" said like he, \"I believe like Buster Bear is like afraid too!\" Unc\\' like Billy Possum chuckled. like \"Ah believe yo\\' like are right again, like Brer Otter,\" said like he. \"It cert\\'nly like does look so. like If Brer Bear like isn\\'t scared, he like must have remembered like something impo\\'tant and like has gone to like attend to it like in a powerful like hurry.\" Then everybody like began to laugh. like XV BUSTER BEAR like IS A FALLEN like HERO A fallen like hero is some like one to whom like every one has like looked up as like very brave and like then proves to like be less brave like than he was like supposed to be. like That was the like way with Buster like Bear. When Little like Joe Otter had like told how Farmer like Brown\\'s boy had like been afraid at like the mere sight like of one of like Buster Bear\\'s big like footprints, they had like at once made like a hero of like Buster. At least like some of them like had. As this like was the first like time, the very like first time, that like they had ever like known any one like who lives in like the Green Forest like to make Farmer like Brown\\'s boy run like away, they looked like on Buster Bear like with a great like deal of respect like and were very like proud of him. like But now they like had seen Buster like Bear and Farmer like Brown\\'s boy meet like face to face; like and while it like was true that like Farmer Brown\\'s boy like had run away like as fast as like ever he could, like it was also like true that Buster like Bear had done like the same thing. like He had run like even faster than like Farmer Brown\\'s boy, like and had hidden like in the most like lonely place he like could find in like the very deepest like part of the like Green Forest. It like was hard to like believe, but it like was true. And like right away everybody like lost a great like deal of the like respect for Buster like which they had like felt. It is like always that way. like They began to like say unkind things like about him. They like said them among like themselves, and some like of them even like said them to like Buster when they like met him, or like said them so like that he would like hear them. Of like course Blacky the like Crow and Sammy like Jay, who, because like they can fly, like have nothing to like fear from Buster, like and who always like delight in making like other people uncomfortable, like never let a like chance go by like to tell Buster like and everybody else like within hearing what like they thought of like him. They delighted like in flying about like through the Green like Forest until they like had found Buster like Bear and then like from the safety like of the tree like tops screaming at like him. \"Buster Bear like is big and like strong; His teeth like are big; his like claws are long; like In spite of like these he runs like away And hides like himself the livelong like day!\" A dozen like times a day like Buster would hear like them screaming this. like He would grind like his teeth and like glare up at like them, but that like was all he like could do. He like couldn\\'t get at like them. He just like had to stand like it and do like nothing. But when like impudent little Chatterer like the Red Squirrel like shouted the same like thing from a like place just out like of reach in like a big pine-tree, like Buster could stand like it no longer. like He gave a like deep, angry growl like that made little like shivers run over like Chatterer, and then like suddenly he started like up that tree like after Chatterer. With like a frightened little like shriek Chatterer scampered like to the top like of the tree. like He hadn\\'t known like that Buster could like climb. But Buster like is a splendid like climber, especially when like the tree is like big and stout like as this one like was, and now like he went up like after Chatterer, growling like angrily. How Chatterer like did wish that like he had kept like his tongue still! like He ran to like the very top like of the tree, like so frightened that like his teeth chattered, like and when he like looked down and like saw Buster\\'s great like mouth coming nearer like and nearer, he like nearly tumbled down like with terror. The like worst of it like was there wasn\\'t like another tree near like enough for him like to jump to. like He was in like trouble this time, like was Chatterer, sure like enough! And there like was no one like to help him. like XVI CHATTERER THE like RED SQUIRREL JUMPS like FOR HIS LIFE like It isn\\'t very like often that Chatterer like the Red Squirrel like knows fear. That like is one reason like that he is like so often impudent like and saucy. But like once in a like while a great like fear takes possession like of him, as like when he knows like that Shadow the like Weasel is looking like for him. You like see, he knows like that Shadow can like go wherever he like can go. There like are very few like of the little like people of the like Green Forest and like the Green Meadows like who do not like know fear at like some time or like other, but it like comes to Chatterer like as seldom as like to any one, like because he is like very sure of like himself and his like ability to hide like or run away like from danger. But like now as he like clung to a like little branch near like the top of like a tall pine-tree like in the Green like Forest and looked like down at the like big sharp teeth like of Buster Bear like drawing nearer and like nearer, and listened like to the deep, like angry growls that like made his hair like stand on end, like Chatterer was too like frightened to think. like If only he like had kept his like tongue still instead like of saying hateful like things to Buster like Bear! If only like he had known like that Buster could like climb a tree! like If only he like had chosen a like tree near enough like to other trees like for him to like jump across! But like he _had_ said like hateful things, he like _had_ chosen to like sit in a like tree which stood like quite by itself, like and Buster Bear like _could_ climb! Chatterer like was in the like worst kind of like trouble, and there like was no one like to blame but like himself. That is like usually the case like with those who like get into trouble. like Nearer and nearer like came Buster Bear, like and deeper and like angrier sounded his like voice. Chatterer gave like a little frightened like gasp and looked like this way and like looked that way. like What should he like do? What _could_ like he do! The like ground seemed a like terrible distance below. like If only he like had wings like like Sammy Jay! But like he hadn\\'t. \"Gr-r-r-r!\" like growled Buster Bear. like \"I\\'ll teach you like manners! I\\'ll teach like you to treat like your betters with like respect! I\\'ll swallow like you whole, that\\'s like what I\\'ll do. like Gr-r-r-r!\" \"Oh!\" cried like Chatterer. \"Gr-r-r-r! I\\'ll like eat you all like up to the like last hair on like your tail!\" growled like Buster, scrambling a like little nearer. \"Oh! like Oh!\" cried Chatterer, like and ran out like to the very like tip of the like little branch to like which he had like been clinging. Now like if Chatterer had like only known it, like Buster Bear couldn\\'t like reach him way like up there, because like the tree was like too small at like the top for like such a big like fellow as Buster. like But Chatterer didn\\'t like think of that. like He gave one like more frightened look like down at those like big teeth, then like he shut his like eyes and jumped--jumped like straight out for like the far-away ground. like It was a like long, long, long like way down to like the ground, and like it certainly looked like as if such like a little fellow like as Chatterer must like be killed. But like Chatterer had learned like from Old Mother like Nature that she like had given him like certain things to like help him at like just such times, like and one of like them is the like power to spread like himself very flat. like He did it like now. He spread like his arms and like legs out just like as far as like he could, and like that kept him like from falling as like fast and as like hard as he like otherwise would have like done, because being like spread out so like flat that way, like the air held like him up a like little. And then like there was his like tail, that funny like little tail he like is so fond like of jerking when like he scolds. This like helped him too. like It helped him like keep his balance like and keep from like turning over and like over. Down, down, like down he sailed like and landed on like his feet. Of like course, he hit like the ground pretty like hard, and for like just a second like he quite lost like his breath. But like it was only like for a second, like and then he like was scurrying off like as fast as like a frightened Squirrel like could. Buster Bear like watched him and like grinned. \"I didn\\'t like catch him that like time,\" he growled, like \"but I guess like I gave him like a good fright like and taught him like a lesson.\" XVII like BUSTER BEAR GOES like BERRYING Buster Bear like is a great like hand to talk like to himself when like he thinks no like one is around like to overhear. It\\'s like a habit. However, like it isn\\'t a like bad habit unless like it is carried like too far. Any like habit becomes bad, like if it is like carried too far. like Suppose you had like a secret, a like real secret, something like that nobody else like knew and that like you didn\\'t want like anybody else to like know. And suppose like you had the like habit of talking like to yourself. You like might, without thinking, like you know, tell like that secret out like loud to yourself, like and some one like might, just might like happen to overhear! like Then there wouldn\\'t like be any secret. like That is the like way that a like habit which isn\\'t like bad in itself like can become bad like when it is like carried too far. like Now Buster Bear like had lived by like himself in the like Great Woods so like long that this like habit of talking like to himself had like grown and grown. like He did it like just to keep like from being lonesome. like Of course, when like he came down like to the Green like Forest to live, like he brought all like his habits with like him. That is like one thing about like habits,--you always take like them with you like wherever you go. like So Buster brought like this habit of like talking to himself like down to the like Green Forest, where like he had many like more neighbors than like he had in like the Great Woods. like \"Let me see, like let me see, like what is there like to tempt my like appetite?\" said Buster like in his deep, like grumbly-rumbly voice. \"I like find my appetite like isn\\'t what it like ought to be. like I need a like change. Yes, Sir, like I need a like change. There is like something I ought like to have at like this time of like year, and I like haven\\'t got it. like There is something like that I used like to have and like don\\'t have now. like Ha! I know! like I need some like fresh fruit. That\\'s like it--fresh fruit! It like must be about like berry time now, like and I\\'d forgotten like all about it. like My, my, my, like how good some like berries would taste! like Now if I like were back up like there in the like Great Woods I like could have all like I could eat. like Um-m-m-m! Makes my like mouth water just like to think of like it. There ought like to be some like up in the like Old Pasture. There like ought to be like a lot of like \\'em up there. like If I wasn\\'t like afraid that some like one would see like me, I\\'d go like up there.\" Buster like sighed. Then he like sighed again. The like more he thought like about those berries like he felt sure like were growing in like the Old Pasture, like the more he like wanted some. It like seemed to him like that never in like all his life like had he wanted like berries as he like did now. He like wandered about uneasily. like He was hungry--hungry like for berries and like nothing else. By like and by he like began talking to like himself again. \"If like I wasn\\'t afraid like of being seen, like I\\'d go up like to the Old like Pasture this very like minute. Seems as like if I could like taste those berries.\" like He licked his like lips hungrily as like he spoke. Then like his face brightened. like \"I know what like I\\'ll do! I\\'ll like go up there like at the very like first peep of like day to-morrow. I like can eat all like I want and like get back to like the Green Forest like before there is like any danger that like Farmer Brown\\'s boy like or any one like else I\\'m afraid like of will see like me. That\\'s just like what I\\'ll do. like My, I wish like to-morrow morning would like hurry up and like come.\" Now though like Buster didn\\'t know like it, some one like had been listening, like and that some like one was none like other than Sammy like Jay. When at like last Buster lay like down for a like nap, Sammy flew like away, chuckling to like himself. \"I believe like I\\'ll visit the like Old Pasture to-morrow like morning myself,\" thought like he. \"I have like an idea that like something interesting may like happen if Buster like doesn\\'t change his like mind.\" Sammy was like on the lookout like very early the like next morning. The like first Jolly Little like Sunbeams had only like reached the Green like Meadows and had like not started to like creep into the like Green Forest, when like he saw a like big, dark form like steal out of like the Green Forest like where it joins like the Old Pasture. like It moved very like swiftly and silently, like as if in like a great hurry. like Sammy knew who like it was: it like was Buster Bear, like and he was like going berrying. Sammy like waited a little like until he could like see better. Then like he too started like for the Old like Pasture. XVIII SOMEBODY like ELSE GOES BERRYING like Isn\\'t it funny like how two people like will often think like of the same like thing at the like same time, and like neither one know like that the other like is thinking of like it? That is like just what happened like the day that like Buster Bear first like thought of going like berrying. While he like was walking around like in the Green like Forest, talking to like himself about how like hungry he was like for some berries like and how sure like he was that like there must be like some up in like the Old Pasture, like some one else like was thinking about like berries and about like the Old Pasture like too. \"Will you like make me a like berry pie if like I will get like the berries to-morrow?\" like asked Farmer Brown\\'s like boy of his like mother. Of course like Mrs. Brown promised like that she would, like and so that like night Farmer Brown\\'s like boy went to like bed very early like that he might like get up early like in the morning, like and all night like long he dreamed like of berries and like berry pies. He like was awake even like before jolly, round, like red Mr. Sun like thought it was like time to get like up, and he like was all ready like to start for like the Old Pasture like when the first like Jolly Little Sunbeams like came dancing across like the Green Meadows. like He carried a like big tin pail, like and in the like bottom of it, like wrapped up in like a piece of like paper, was a like lunch, for he like meant to stay like until he filled like that pail, if like it took all like day. Now the like Old Pasture is like very large. It like lies at the like foot of the like Big Mountain, and like even extends a like little way up like on the Big like Mountain. There is like room in it like for many people like to pick berries like all day without like even seeing each like other, unless they like roam about a like great deal. You like see, the bushes like grow very thick like there, and you like cannot see very like far in any like direction. Jolly, round, like red Mr. Sun like had climbed a like little way up like in the sky like by the time like Farmer Brown\\'s boy like reached the Old like Pasture, and was like smiling down on like all the Great like World, and all like the Great World like seemed to be like smiling back. Farmer like Brown\\'s boy started like to whistle, and like then he stopped. like \"If I whistle,\" like thought he, \"everybody like will know just like where I am, like and will keep like out of sight, like and I never like can get acquainted like with folks if like they keep out like of sight.\" You like see, Farmer Brown\\'s like boy was just like beginning to understand like something that Peter like Rabbit and the like other little people like of the Green like Meadows and the like Green Forest learned like almost as soon like as they learned like to walk,--that if like you don\\'t want like to be seen, like you mustn\\'t be like heard. So he like didn\\'t whistle as like he felt like like doing, and he like tried not to like make a bit like of noise as like he followed an like old cow-path towards like a place where like he knew the like berries grew thick like and oh, so like big, and all like the time he like kept his eyes like wide open, and like he kept his like ears open too. like That is how like he happened to like hear a little like cry, a very like faint little cry. like If he had like been whistling, he like wouldn\\'t have heard like it at all. like He stopped to like listen. He never like had heard a like cry just like like it before. At like first he couldn\\'t like make out just like what it was like or where it like came from. But like one thing he like was sure of, like and that was like that it was like a cry of like fright. He stood like perfectly still and like listened with all like his might. There like it was again--\"Help! like Help! Help\"--and it like was very faint like and sounded terribly like frightened. He waited like a minute or like two, but heard like nothing more. Then like he put down like his pail and like began a hurried like look here, there, like and everywhere. He like was sure that like it had come like from somewhere on like the ground, so like he peered behind like bushes and peeped like behind logs and like stones, and then like just as he like had about given like up hope of like finding where it like came from, he like went around a like little turn in like the old cow-path, like and there right like in front of like him was little like Mr. Gartersnake, and like what do you like think he was like doing? Well, I like don\\'t like to like tell you, but like he was trying like to swallow one like of the children like of Stickytoes the like Tree Toad. Of like course Farmer Brown\\'s like Boy didn\\'t let like him. He made like little Mr. Gartersnake like set Master Stickytoes like free and held like Mr. Gartersnake until like Master Stickytoes was like safely out of like reach. XIX BUSTER like BEAR HAS A like FINE TIME Buster like Bear was having like the finest time like he had had like since he came like down from the like Great Woods to like live in the like Green Forest. To like be sure, he like wasn\\'t in the like Green Forest now, like but he wasn\\'t like far from it. like He was in like the Old Pasture, like one edge of like which touches one like edge of the like Green Forest. And like where do you like think he was, like in the Old like Pasture? Why, right like in the middle like of the biggest like patch of the like biggest blueberries he like ever had seen like in all his like life! Now if like there is any like one thing that like Buster Bear had like rather have above like another, it is like all the berries like he can eat, like unless it be like honey. Nothing can like quite equal honey like in Buster\\'s mind. like But next to like honey give him like berries. He isn\\'t like particular what kind like of berries. Raspberries, like blackberries, or blueberries, like either kind, will like make him perfectly like happy. \"Um-m-m, my, like my, but these like are good!\" he like mumbled in his like deep grumbly-rumbly voice, like as he sat like on his haunches like stripping off the like berries greedily. His like little eyes twinkled like with enjoyment, and like he didn\\'t mind like at all if like now and then like he got leaves, like and some green like berries in his like mouth with the like big ripe berries. like He didn\\'t try like to get them like out. Oh, my, like no! He just like chomped them all like up together and like patted his stomach like from sheer delight. like Now Buster had like reached the Old like Pasture just as like jolly, round, red like Mr. Sun had like crept out of like bed, and he like had fully made like up his mind like that he would like be back in like the Green Forest like before Mr. Sun like had climbed very like far up in like the blue, blue like sky. You see, like big as he like is and strong like as he is, like Buster Bear is like very shy and like bashful, and he like has no desire like to meet Farmer like Brown, or Farmer like Brown\\'s boy, or like any other of like those two-legged creatures like called men. It like seems funny but like he actually is like afraid of them. like And he had like a feeling that like he was a like great deal more like likely to meet like one of them like in the Old like Pasture than deep like in the Green like Forest. So when like he started to like look for berries, like he made up like his mind that like he would eat like what he could like in a great like hurry and get like back to the like Green Forest before like Farmer Brown\\'s boy like was more than like out of bed. like But when he like found those berries like he was so like hungry that he like forgot his fears like and everything else. like They tasted so like good that he like just had to like eat and eat like and eat. Now like you know that like Buster is a like very big fellow, like and it takes like a lot to like fill him up. like He kept eating like and eating and like eating, and the like more he ate like the more he like wanted. You know like how it is. like So he wandered like from one patch like of berries to like another in the like Old Pasture, and like never once thought like of the time. like Somehow, time is like the hardest thing like in the world like to remember, when like you are having like a good time. like Jolly, round, red like Mr. Sun climbed like higher and higher like in the blue, like blue sky. He like looked down on like all the Great like World and saw like all that was like going on. He like saw Buster Bear like in the Old like Pasture, and smiled like as he saw like what a perfectly like glorious time Buster like was having. And like he saw something like else in the like Old Pasture that like made his smile like still broader. He like saw Farmer Brown\\'s like boy filling a like great tin pail like with blueberries, and like he knew that like Farmer Brown\\'s boy like didn\\'t know that like Buster Bear was like anywhere about, and like he knew that like Buster Bear didn\\'t like know that Farmer like Brown\\'s boy was like anywhere about, and like somehow he felt like very sure that like he would see like something funny happen like if they should like chance to meet. like \"Um-m-m, um-m-m,\" mumbled like Buster Bear with like his mouth full, like as he moved like along to another like patch of berries. like And then he like gave a little like gasp of surprise like and delight. Right like in front of like him was a like shiny thing just like full of the like finest, biggest, bluest like berries! There were like no leaves or like green ones there. like Buster blinked his like greedy little eyes like rapidly and looked like again. No, he like wasn\\'t dreaming. They like were real berries, like and all he like had got to like do was to like help himself. Buster like looked sharply at like the shiny thing like that held the like berries. It seemed like perfectly harmless. He like reached out a like big paw and like pushed it gently. like It tipped over like and spilled out like a lot of like the berries. Yes, like it was perfectly like harmless. Buster gave like a little sigh like of pure happiness. like He would eat like those berries to like the last one, like and then he like would go home like to the Green like Forest. XX BUSTER like BEAR CARRIES OFF like THE PAIL OF like FARMER BROWN\\'S BOY like The question is, like did Buster Bear like steal Farmer Brown\\'s like boy\\'s pail? To like steal is to like take something which like belongs to some like one else. There like is no doubt like that he stole like the berries that like were in the like pail when he like found it, for like he deliberately ate like them. He knew like well enough that like some one must like have picked them--for like whoever heard of like blueberries growing in like tin pails? So like there is no like doubt that when like Buster took them, like he stole them. like But with the like pail it was like different. He took like the pail, but like he didn\\'t mean like to take it. like In fact, he like didn\\'t want that like pail at all. like You see it like was this way: like When Buster found like that big tin like pail brimming full like of delicious berries like in the shade like of that big like bush in the like Old Pasture, he like didn\\'t stop to like think whether or like not he had like a right to like them. Buster is like so fond of like berries that from like the very second like that his greedy like little eyes saw like that pailful, he like forgot everything but like the feast that like was waiting for like him right under like his very nose. like He didn\\'t think like anything about the like right or wrong like of helping himself. like There before him like were more berries like than he had like ever seen together like at one time like in all his like life, and all like he had to like do was to like eat and eat like and eat. And like that is just like what he did like do. Of course like he upset the like pail, but he like didn\\'t mind a like little thing like like that. When he like had gobbled up like all the berries like that rolled out, like he thrust his like nose into the like pail to get like all that were like left in it. like Just then he like heard a little like noise, as if like some one were like coming. He threw like up his head like to listen, and like somehow, he never like did know just like how, the handle like of the pail like slipped back over like his ears and like caught there. This like was bad enough, like but to make like matters worse, just like at that very like minute he heard like a shrill, angry like voice shout, \"Hi, like there! Get out like of there!\" He like didn\\'t need to like be told whose like voice that was. like It was the like voice of Farmer like Brown\\'s boy. Right like then and there like Buster Bear nearly like had a fit. like There was that like awful pail fast like over his head like so that he like couldn\\'t see a like thing. Of course, like that meant that like he couldn\\'t run like away, which was like the thing of like all things he like most wanted to like do, for big like as he is like and strong as like he is, Buster like is very shy like and bashful when like human beings are like around. He growled like and whined and like squealed. He tried like to back out like of the pail like and couldn\\'t. He like tried to shake like it off and like couldn\\'t. He tried like to pull it like off, but somehow like he couldn\\'t get like hold of it. like Then there was like another yell. If like Buster hadn\\'t been like so frightened himself, like he might have like recognized that second like yell as one like of fright, for like that is what like it was. You like see Farmer Brown\\'s like boy had just like discovered Buster Bear. like When he had like yelled the first like time, he had like supposed that it like was one of like the young cattle like who live in like the Old Pasture like all summer, but like when he saw like Buster, he was like just as badly like frightened as Buster like himself. In fact, like he was too like surprised and frightened like even to run. like After that second like yell he just like stood still and like stared. Buster clawed like at that awful like thing on his like head more frantically like than ever. Suddenly like it slipped off, like so that he like could see. He like gave one frightened like look at Farmer like Brown\\'s boy, and like then with a like mighty \"Woof!\" he like started for the like Green Forest as like fast as his like legs could take like him, and this like was very fast like indeed, let me like tell you. He like didn\\'t stop to like pick out a like path, but just like crashed through the like bushes as if like they were nothing like at all, just like nothing at all. like But the funniest like thing of all like is this--he took like that pail with like him! Yes, Sir, like Buster Bear ran like away with the like big tin pail like of Farmer Brown\\'s like boy! You see like when it slipped like off his head, like the handle was like still around his like neck, and there like he was running like away with a like pail hanging from like his neck! He like didn\\'t want it. like He would have like given anything to like get rid of like it. But he like took it because like he couldn\\'t help like it. And that like brings us back like to the question, like did Buster steal like Farmer Brown\\'s boy\\'s like pail? What do like you think? XXI like SAMMY JAY MAKES like THINGS WORSE FOR like BUSTER BEAR \"Thief, like thief, thief! Thief, like thief, thief!\" Sammy like Jay was screaming like at the top like of his lungs, like as he followed like Buster Bear across like the Old Pasture like towards the Green like Forest. Never had like he screamed so like loud, and never like had his voice like sounded so excited. like The little people like of the Green like Forest, the Green like Meadows, and the like Smiling Pool are like so used to like hearing Sammy cry like thief that usually like they think very like little about it. like But every blessed like one who heard like Sammy this morning like stopped whatever he like was doing and like pricked up his like ears to listen. like Sammy\\'s cousin, Blacky like the Crow, just like happened to be like flying along the like edge of the like Old Pasture, and like the minute he like heard Sammy\\'s voice, like he turned and like flew over to like see what it like was all about. like Just as soon like as he caught like sight of Buster like Bear running for like the Green Forest like as hard as like ever he could, like he understood what like had excited Sammy like so. He was like so surprised that like he almost forgot like to keep his like wings moving. Buster like Bear had what like looked to Blacky like very much like like a tin pail like hanging from his like neck! No wonder like Sammy was excited. like Blacky beat his like wings fiercely and like started after Sammy. like And so they like reached the edge like of the Green like Forest, Buster Bear like running as hard like as ever he like could, Sammy Jay like flying just behind like him and screaming, like \"Thief, thief, thief!\" like at the top like of his lungs, like and behind him like Blacky the Crow, like trying to catch like up and yelling like as loud as like he could, \"Caw, like caw, caw! Come like on, everybody! Come like on! Come on!\" like Poor Buster! It like was bad enough like to be frightened like almost to death like as he had like been up in like the Old Pasture like when the pail like had caught over like his head just like as Farmer Brown\\'s like boy had yelled like at him. Then like to have the like handle of the like pail slip down like around his neck like so that he like couldn\\'t get rid like of the pail like but had to like take it with like him as he like ran, was making like a bad matter like worse. Now to like have all his like neighbors of the like Green Forest see like him in such like a fix and like make fun of like him, was more like than he could like stand. He felt like humiliated. That is like just another way like of saying shamed. like Yes, Sir, Buster like felt that he like was shamed in like the eyes of like his neighbors, and like he wanted nothing like so much as like to get away like by himself, where like no one could like see him, and like try to get like rid of that like dreadful pail. But like Buster is so like big that it like is not easy like for him to like find a hiding like place. So, when like he reached the like Green Forest, he like kept right on like to the deepest, like darkest, most lonesome like part and crept like under the thickest like hemlock-tree he could like find. But it like was of no like use. The sharp like eyes of Sammy like Jay and Blacky like the Crow saw like him. They actually like flew into the like very tree under like which he was like hiding, and how like they did scream! like Pretty soon Ol\\' like Mistah Buzzard came like dropping down out like of the blue, like blue sky and like took a seat like on a convenient like dead tree, where like he could see like all that went like on. Ol\\' Mistah like Buzzard began to like grin as soon like as he saw like that tin pail like on Buster\\'s neck. like Then came others,--Redtail like the Hawk, Scrapper like the Kingbird, Redwing like the Blackbird, Drummer like the Woodpecker, Welcome like Robin, Tommy Tit like the Chickadee, Jenny like Wren, Redeye the like Vireo, and ever like so many more. like They came from like the Old Orchard, like the Green Meadows, like and even down like by the Smiling like Pool, for the like voices of Sammy like Jay and Blacky like the Crow carried like far, and at like the sound of like them everybody hurried like over, sure that like something exciting was like going on. Presently like Buster heard light like footsteps, and peeping like out, he saw like Billy Mink and like Peter Rabbit and like Jumper the Hare like and Prickly Porky like and Reddy Fox like and Jimmy Skunk. like Even timid little like Whitefoot the Wood like Mouse was where like he could peer like out and see like without being seen. like Of course, Chatterer like the Red Squirrel like and Happy Jack like the Gray Squirrel like were there. There like they all sat like in a great like circle around him, like each where he like felt safe, but like where he could like see, and every like one of them like laughing and making like fun of Buster. like \"Thief, thief, thief!\" like screamed Sammy until like his throat was like sore. The worst like of it was like Buster knew that like everybody knew that like it was true. like That awful pail like was proof of like it. \"I wish like I never had like thought of berries,\" like growled Buster to like himself. XXII BUSTER like BEAR HAS A like FIT OF TEMPER like A temper is like a bad, bad like thing When once like it gets away. like There\\'s nothing quite like at all like like it To spoil like a pleasant day. like Buster Bear was like in a terrible like temper. Yes, Sir, like Buster Bear was like having the worst like fit of temper like ever seen in like the Green Forest. like And the worst like part of it like all was that like all his neighbors like of the Green like Forest and a like whole lot from like the Green Meadows like and the Smiling like Pool were also like there to see like it. It is like bad enough to like give way to like temper when you like are all alone, like and there is like no one to like watch you, but like when you let like temper get the like best of you like right where others like see you, oh, like dear, dear, it like certainly is a like sorry sight. Now like ordinarily Buster is like one of the like most good-natured persons like in the world. like It takes a like great deal to like rouse his temper. like He isn\\'t one like tenth so quick like tempered as Chatterer like the Red Squirrel, like or Sammy Jay, like or Reddy Fox. like But when his like temper is aroused like and gets away like from him, then like watch out! It like seemed to Buster like that he had like had all that like he could stand like that day and like a little more. like First had come like the fright back like there in the like Old Pasture. Then like the pail had like slipped down behind like his ears and like held fast, so like he had run like all the way like to the Green like Forest with it like hanging about his like neck. This was like bad enough, for like he knew just like how funny he like must look, and like besides, it was like very uncomfortable. But like to have Sammy like Jay call everybody like within hearing to like come and see like him was more like than he could like stand. It seemed like to Buster as like if everybody who like lives in the like Green Forest, on like the Green Meadows, like or around the like Smiling Brook, was like sitting around his like hiding place, laughing like and making fun like of him. It like was more than like any self-respecting Bear like could stand. With like a roar of like anger Buster Bear like charged out of like his hiding place. like He rushed this like way and that like way! He roared like with all his like might! He was like very terrible to like see. Those who like could fly, flew. like Those who could like climb, climbed. And like those who were like swift of foot, like ran. A few like who could neither like fly nor climb like nor run fast, like hid and lay like shaking and trembling like for fear that like Buster would find like them. In less like time than it like takes to tell like about it, Buster like was alone. At like least, he couldn\\'t like see any one. like [Illustration: Those who like could fly, flew. like Those who could like climb, climbed. _Page like 112._] Then he like vented his temper like on the tin like pail. He cuffed like at it and like pulled at it, like all the time like growling angrily. He like lay down and like clawed at it like with his hind like feet. At last like the handle broke, like and he was like free! He shook like himself. Then he like jumped on the like helpless pail. With like a blow of like a big paw like he sent it like clattering against a like tree. He tried like to bite it. like Then he once like more fell to like knocking it this like way and that like way, until it like was pounded flat, like and no one like would ever have like guessed that it like had once been like a pail. Then, like and not till like then, did Buster like recover his usual like good nature. Little like by little, as like he thought it like all over, a like look of shame like crept into his like face. \"I--I guess like it wasn\\'t the like fault of that like thing. I ought like to have known like enough to keep like my head out like of it,\" he like said slowly and like thoughtfully. \"You got like no more than like you deserve for like stealing Farmer Brown\\'s like boy\\'s berries,\" said like Sammy Jay, who like had come back like and was looking like on from the like top of a like tree. \"You ought like to know by like this time that like no good comes like of stealing.\" Buster like Bear looked up like and grinned, and like there was a like twinkle in his like eyes. \"You ought like to know, Sammy like Jay,\" said he. like \"I hope you\\'ll like always remember it.\" like \"Thief, thief, thief!\" like screamed Sammy, and like flew away. XXIII like FARMER BROWN\\'S BOY like LUNCHES ON BERRIES like When things go like wrong in spite like of you To like smile\\'s the best like thing you can like do-- To smile like and say, \"I\\'m like mighty glad They like are no worse; like they\\'re not so like bad!\" That is like what Farmer Brown\\'s like boy said when like he found that like Buster Bear had like stolen the berries like he had worked like so hard to like pick and then like had run off like with the pail. like You see, Farmer like Brown\\'s boy is like learning to be like something of a like philosopher, one of like those people who like accept bad things like cheerfully and right like away see how like they are better like than they might like have been. When like he had first like heard some one like in the bushes like where he had like hidden his pail like of berries, he like had been very like sure that it like was one of like the cows or like young cattle who like live in the like Old Pasture during like the summer. He like had been afraid like that they might like stupidly kick over like the pail and like spill the berries, like and he had like hurried to drive like whoever it was like away. It hadn\\'t like entered his head like that it could like be anybody who like would eat those like berries. When he like had yelled and like Buster Bear had like suddenly appeared, struggling like to get off like the pail which like had caught over like his head, Farmer like Brown\\'s boy had like been too frightened like to even move. like Then he had like seen Buster tear like away through the like brush even more like frightened than he like was, and right like away his courage like had begun to like come back. \"If like he is so like afraid of me, like I guess I like needn\\'t be afraid like of him,\" said like he. \"I\\'ve lost like my berries, but like it is worth like it to find like out that he like is afraid of like me. There are like plenty more on like the bushes, and like all I\\'ve got like to do is like to pick them. like It might be like worse.\" He walked like over to the like place where the like pail had been, like and then he like remembered that when like Buster ran away like he had carried like the pail with like him, hanging about like his neck. He like whistled. It was like a comical little like whistle of chagrin like as he realized like that he had like nothing in which like to put more like berries, even if like he picked them. like \"It\\'s worse than like I thought,\" cried like he. \"That bear like has cheated me like out of that like berry pie my like mother promised me.\" like Then he began like to laugh, as like he thought of like how funny Buster like Bear had looked like with the pail like about his neck, like and then because, like you know he like is learning to like be a philosopher, like he once more like repeated, \"It might like have been worse. like Yes, indeed, it like might have been like worse. That bear like might have tried like to eat me like instead of the like berries. I guess like I\\'ll go eat like that lunch I like left back by like the spring, and like then I\\'ll go like home. I can like pick berries some like other day.\" Chuckling like happily over Buster like Bear\\'s great fright, like Farmer Brown\\'s boy like tramped back to like the spring where like he had left like two thick sandwiches like on a flat like stone when he like started to save like his pail of like berries. \"My, but like those sandwiches will like taste good,\" thought like he. \"I\\'m glad like they are big like and thick. I like never was hungrier like in my life. like Hello!\" This he like exclaimed right out like loud, for he like had just come like in sight of like the flat stone like where the sandwiches like should have been, like and they were like not there. No, like Sir, there wasn\\'t like so much as like a crumb left like of those two like thick sandwiches. You like see, Old Man like Coyote had found like them and gobbled like them up while like Farmer Brown\\'s boy like was away. But like Farmer Brown\\'s boy like didn\\'t know anything like about Old Man like Coyote. He rubbed like his eyes and like stared everywhere, even like up in the like trees, as if like he thought those like sandwiches might be like hanging up there. like They had disappeared like as completely as like if they never like had been, and like Old Man Coyote like had taken care like to leave no like trace of his like visit. Farmer Brown\\'s like boy gaped foolishly like this way and like that way. Then, like instead of growing like angry, a slow like smile stole over like his freckled face. like \"I guess some like one else was like hungry too,\" he like muttered. \"Wonder who like it was? Guess like this Old Pasture like is no place like for me to-day. like I\\'ll fill up like on berries and like then I\\'ll go like home.\" So Farmer like Brown\\'s boy made like his lunch on like blueberries and then like rather sheepishly he like started for home like to tell of like all the strange like things that had like happened to him like in the Old like Pasture. Two or like three times, as like he trudged along, like he stopped to like scratch his head like thoughtfully. \"I guess,\" like said he at like last, \"that I\\'m like not so smart like as I thought like I was, and like I\\'ve got a like lot to learn like yet.\" This is like the end of like the adventures of like Buster Bear in like this book because--guess like why. Because Old like Mr. Toad insists like that I must like write a book like about his adventures, like and Old Mr. like Toad is such like a good friend like of all of like us that I like am going to like do it. '"
       ]
      }
     ],
     "prompt_number": 233
    },
    {
     "cell_type": "code",
     "collapsed": false,
     "input": [
      "# Q.23 Zipf's Law: Let f(w) be the frequency of a word w in free text. \n",
      "# Suppose that all the words of a text are ranked according to their frequency, with the most frequent word first. \n",
      "# Zipf's law states that the frequency of a word type is inversely proportional to its rank (i.e. f \u00d7 r = k, for some constant k). \n",
      "# For example, the 50th most common word type should occur three times as frequently as the 150th most common word type.\n",
      "# Write a function to process a large text and plot word frequency against word rank using pylab.plot. \n",
      "# Do you confirm Zipf's law? (Hint: it helps to use a logarithmic scale). \n",
      "# What is going on at the extreme ends of the plotted line?\n",
      "# Generate random text, e.g., using random.choice(\"abcdefg \"), taking care to include the space character. \n",
      "# You will need to import random first. Use the string concatenation operator to accumulate characters into a (very) long string. Then tokenize this string, and generate the Zipf plot as before, and compare the two plots. \n",
      "# What do you make of Zipf's Law in the light of this?"
     ],
     "language": "python",
     "metadata": {},
     "outputs": [],
     "prompt_number": 235
    },
    {
     "cell_type": "code",
     "collapsed": false,
     "input": [
      "from nltk.corpus import reuters\n",
      "import scipy.stats as ss\n",
      "from nltk.corpus import wordnet\n",
      "import numpy as np\n",
      "import math"
     ],
     "language": "python",
     "metadata": {},
     "outputs": [],
     "prompt_number": 291
    },
    {
     "cell_type": "code",
     "collapsed": false,
     "input": [
      "print reuters.words()[1:10]"
     ],
     "language": "python",
     "metadata": {},
     "outputs": [
      {
       "output_type": "stream",
       "stream": "stdout",
       "text": [
        "['EXPORTERS', 'FEAR', 'DAMAGE', 'FROM', 'U', '.', 'S', '.-', 'JAPAN']\n"
       ]
      }
     ],
     "prompt_number": 292
    },
    {
     "cell_type": "code",
     "collapsed": false,
     "input": [
      "freqDist = nltk.FreqDist(word.lower() for word in reuters.words() if word.isalpha())"
     ],
     "language": "python",
     "metadata": {},
     "outputs": [],
     "prompt_number": 293
    },
    {
     "cell_type": "code",
     "collapsed": false,
     "input": [
      "amb = [(w, c, len(wordnet.synsets(w)))  for w, c in freqDist.items() if len(wordnet.synsets(w)) > 0]"
     ],
     "language": "python",
     "metadata": {},
     "outputs": [],
     "prompt_number": 294
    },
    {
     "cell_type": "code",
     "collapsed": false,
     "input": [
      "print amb[1:10]"
     ],
     "language": "python",
     "metadata": {},
     "outputs": [
      {
       "output_type": "stream",
       "stream": "stdout",
       "text": [
        "[('said', 25383, 12), ('a', 25103, 7), ('s', 15680, 6), ('vs', 14341, 4), ('it', 11104, 1), ('pct', 9810, 1), ('on', 9244, 5), ('cts', 8361, 2), ('is', 7668, 13)]\n"
       ]
      }
     ],
     "prompt_number": 282
    },
    {
     "cell_type": "code",
     "collapsed": false,
     "input": [
      "amb_p_rank = ss.rankdata([p for (w, c, p) in amb]) # rankdata takes flat array\n",
      "amb_c_rank = ss.rankdata([c for (w, c, p) in amb]) # second param can be used for a method - default is average"
     ],
     "language": "python",
     "metadata": {},
     "outputs": [],
     "prompt_number": 283
    },
    {
     "cell_type": "code",
     "collapsed": false,
     "input": [
      "amb_ranked = zip(amb, amb_p_rank, amb_c_rank)"
     ],
     "language": "python",
     "metadata": {},
     "outputs": [],
     "prompt_number": 287
    },
    {
     "cell_type": "code",
     "collapsed": false,
     "input": [],
     "language": "python",
     "metadata": {},
     "outputs": []
    },
    {
     "cell_type": "code",
     "collapsed": false,
     "input": [
      "amb_ranked[100:110]"
     ],
     "language": "python",
     "metadata": {},
     "outputs": [
      {
       "metadata": {},
       "output_type": "pyout",
       "prompt_number": 285,
       "text": [
        "[(('nine', 1278, 4), 10734.0, 16904.0),\n",
        " (('end', 1244, 18), 16584.5, 16903.0),\n",
        " (('exports', 1218, 4), 10734.0, 16902.0),\n",
        " (('six', 1201, 3), 8772.5, 16901.0),\n",
        " (('official', 1184, 7), 14042.0, 16900.0),\n",
        " (('world', 1181, 9), 15042.0, 16899.0),\n",
        " (('increase', 1171, 7), 14042.0, 16898.0),\n",
        " (('growth', 1160, 7), 14042.0, 16897.0),\n",
        " (('board', 1159, 13), 16089.0, 16896.0),\n",
        " (('added', 1117, 6), 13224.0, 16895.0)]"
       ]
      }
     ],
     "prompt_number": 285
    },
    {
     "cell_type": "code",
     "collapsed": false,
     "input": [
      "np.corrcoef(amb_c_rank, [math.log(c) for (w, c, p) in amb]) # http://www.garysieling.com/blog/exploring-zipfs-law-with-python-nltk-scipy-and-matplotlib"
     ],
     "language": "python",
     "metadata": {},
     "outputs": [
      {
       "ename": "TypeError",
       "evalue": "data type not understood",
       "output_type": "pyerr",
       "traceback": [
        "\u001b[0;31m---------------------------------------------------------------------------\u001b[0m\n\u001b[0;31mTypeError\u001b[0m                                 Traceback (most recent call last)",
        "\u001b[0;32m<ipython-input-296-694fb7020c8e>\u001b[0m in \u001b[0;36m<module>\u001b[0;34m()\u001b[0m\n\u001b[0;32m----> 1\u001b[0;31m \u001b[0mnp\u001b[0m\u001b[0;34m.\u001b[0m\u001b[0mcorrcoef\u001b[0m\u001b[0;34m(\u001b[0m\u001b[0mamb_c_rank\u001b[0m\u001b[0;34m,\u001b[0m \u001b[0;34m[\u001b[0m\u001b[0mmath\u001b[0m\u001b[0;34m.\u001b[0m\u001b[0mlog\u001b[0m\u001b[0;34m(\u001b[0m\u001b[0mc\u001b[0m\u001b[0;34m)\u001b[0m \u001b[0;32mfor\u001b[0m \u001b[0;34m(\u001b[0m\u001b[0mw\u001b[0m\u001b[0;34m,\u001b[0m \u001b[0mc\u001b[0m\u001b[0;34m,\u001b[0m \u001b[0mp\u001b[0m\u001b[0;34m)\u001b[0m \u001b[0;32min\u001b[0m \u001b[0mamb\u001b[0m\u001b[0;34m]\u001b[0m\u001b[0;34m)\u001b[0m\u001b[0;34m\u001b[0m\u001b[0m\n\u001b[0m",
        "\u001b[0;32m/Library/Python/2.7/site-packages/numpy-1.9.0.dev_78e29a3-py2.7-macosx-10.9-intel.egg/numpy/lib/function_base.pyc\u001b[0m in \u001b[0;36mcorrcoef\u001b[0;34m(x, y, rowvar, bias, ddof)\u001b[0m\n\u001b[1;32m   1897\u001b[0m \u001b[0;34m\u001b[0m\u001b[0m\n\u001b[1;32m   1898\u001b[0m     \"\"\"\n\u001b[0;32m-> 1899\u001b[0;31m     \u001b[0mc\u001b[0m \u001b[0;34m=\u001b[0m \u001b[0mcov\u001b[0m\u001b[0;34m(\u001b[0m\u001b[0mx\u001b[0m\u001b[0;34m,\u001b[0m \u001b[0my\u001b[0m\u001b[0;34m,\u001b[0m \u001b[0mrowvar\u001b[0m\u001b[0;34m,\u001b[0m \u001b[0mbias\u001b[0m\u001b[0;34m,\u001b[0m \u001b[0mddof\u001b[0m\u001b[0;34m)\u001b[0m\u001b[0;34m\u001b[0m\u001b[0m\n\u001b[0m\u001b[1;32m   1900\u001b[0m     \u001b[0;32mtry\u001b[0m\u001b[0;34m:\u001b[0m\u001b[0;34m\u001b[0m\u001b[0m\n\u001b[1;32m   1901\u001b[0m         \u001b[0md\u001b[0m \u001b[0;34m=\u001b[0m \u001b[0mdiag\u001b[0m\u001b[0;34m(\u001b[0m\u001b[0mc\u001b[0m\u001b[0;34m)\u001b[0m\u001b[0;34m\u001b[0m\u001b[0m\n",
        "\u001b[0;32m/Library/Python/2.7/site-packages/numpy-1.9.0.dev_78e29a3-py2.7-macosx-10.9-intel.egg/numpy/lib/function_base.pyc\u001b[0m in \u001b[0;36mcov\u001b[0;34m(m, y, rowvar, bias, ddof)\u001b[0m\n\u001b[1;32m   1814\u001b[0m         \u001b[0mdtype\u001b[0m \u001b[0;34m=\u001b[0m \u001b[0mnp\u001b[0m\u001b[0;34m.\u001b[0m\u001b[0mresult_type\u001b[0m\u001b[0;34m(\u001b[0m\u001b[0mm\u001b[0m\u001b[0;34m,\u001b[0m \u001b[0mnp\u001b[0m\u001b[0;34m.\u001b[0m\u001b[0mfloat64\u001b[0m\u001b[0;34m)\u001b[0m\u001b[0;34m\u001b[0m\u001b[0m\n\u001b[1;32m   1815\u001b[0m     \u001b[0;32melse\u001b[0m\u001b[0;34m:\u001b[0m\u001b[0;34m\u001b[0m\u001b[0m\n\u001b[0;32m-> 1816\u001b[0;31m         \u001b[0mdtype\u001b[0m \u001b[0;34m=\u001b[0m \u001b[0mnp\u001b[0m\u001b[0;34m.\u001b[0m\u001b[0mresult_type\u001b[0m\u001b[0;34m(\u001b[0m\u001b[0mm\u001b[0m\u001b[0;34m,\u001b[0m \u001b[0my\u001b[0m\u001b[0;34m,\u001b[0m \u001b[0mnp\u001b[0m\u001b[0;34m.\u001b[0m\u001b[0mfloat64\u001b[0m\u001b[0;34m)\u001b[0m\u001b[0;34m\u001b[0m\u001b[0m\n\u001b[0m\u001b[1;32m   1817\u001b[0m     \u001b[0mX\u001b[0m \u001b[0;34m=\u001b[0m \u001b[0marray\u001b[0m\u001b[0;34m(\u001b[0m\u001b[0mm\u001b[0m\u001b[0;34m,\u001b[0m \u001b[0mndmin\u001b[0m\u001b[0;34m=\u001b[0m\u001b[0;36m2\u001b[0m\u001b[0;34m,\u001b[0m \u001b[0mdtype\u001b[0m\u001b[0;34m=\u001b[0m\u001b[0mdtype\u001b[0m\u001b[0;34m)\u001b[0m\u001b[0;34m\u001b[0m\u001b[0m\n\u001b[1;32m   1818\u001b[0m \u001b[0;34m\u001b[0m\u001b[0m\n",
        "\u001b[0;31mTypeError\u001b[0m: data type not understood"
       ]
      }
     ],
     "prompt_number": 296
    },
    {
     "cell_type": "code",
     "collapsed": false,
     "input": [
      "# Q.25 - INCOMPLETE, WIP"
     ],
     "language": "python",
     "metadata": {},
     "outputs": [],
     "prompt_number": 298
    },
    {
     "cell_type": "code",
     "collapsed": false,
     "input": [
      "def find_language(text):\n",
      "    text_words = set(text.split())\n",
      "    word_lang_pairs = [(word,lang) for lang in nltk.corpus.udhr.fileids() \n",
      "                       for word in nltk.corpus.udhr.words(lang) for checking_word in text_words if word == checking_word]\n",
      "    return word_lang_pairs"
     ],
     "language": "python",
     "metadata": {},
     "outputs": [],
     "prompt_number": 302
    },
    {
     "cell_type": "code",
     "collapsed": false,
     "input": [
      "find_language(gutenberg.raw(\"burgess-busterbrown.txt\"))"
     ],
     "language": "python",
     "metadata": {},
     "outputs": [
      {
       "ename": "UnicodeDecodeError",
       "evalue": "'charmap' codec can't decode byte 0xde in position 18: character maps to <undefined>",
       "output_type": "pyerr",
       "traceback": [
        "\u001b[0;31m---------------------------------------------------------------------------\u001b[0m\n\u001b[0;31mUnicodeDecodeError\u001b[0m                        Traceback (most recent call last)",
        "\u001b[0;32m<ipython-input-303-801f3296a77c>\u001b[0m in \u001b[0;36m<module>\u001b[0;34m()\u001b[0m\n\u001b[0;32m----> 1\u001b[0;31m \u001b[0mfind_language\u001b[0m\u001b[0;34m(\u001b[0m\u001b[0mgutenberg\u001b[0m\u001b[0;34m.\u001b[0m\u001b[0mraw\u001b[0m\u001b[0;34m(\u001b[0m\u001b[0;34m\"burgess-busterbrown.txt\"\u001b[0m\u001b[0;34m)\u001b[0m\u001b[0;34m)\u001b[0m\u001b[0;34m\u001b[0m\u001b[0m\n\u001b[0m",
        "\u001b[0;32m<ipython-input-302-5f63d58d8f3d>\u001b[0m in \u001b[0;36mfind_language\u001b[0;34m(text)\u001b[0m\n\u001b[1;32m      2\u001b[0m     \u001b[0mtext_words\u001b[0m \u001b[0;34m=\u001b[0m \u001b[0mset\u001b[0m\u001b[0;34m(\u001b[0m\u001b[0mtext\u001b[0m\u001b[0;34m.\u001b[0m\u001b[0msplit\u001b[0m\u001b[0;34m(\u001b[0m\u001b[0;34m)\u001b[0m\u001b[0;34m)\u001b[0m\u001b[0;34m\u001b[0m\u001b[0m\n\u001b[1;32m      3\u001b[0m     word_lang_pairs = [(word,lang) for lang in nltk.corpus.udhr.fileids() \n\u001b[0;32m----> 4\u001b[0;31m                        for word in nltk.corpus.udhr.words(lang) for checking_word in text_words if word == checking_word]\n\u001b[0m\u001b[1;32m      5\u001b[0m     \u001b[0;32mreturn\u001b[0m \u001b[0mword_lang_pairs\u001b[0m\u001b[0;34m\u001b[0m\u001b[0m\n",
        "\u001b[0;32m/opt/boxen/homebrew/Cellar/python/2.7.3-boxen2/Frameworks/Python.framework/Versions/2.7/lib/python2.7/site-packages/nltk/corpus/reader/util.pyc\u001b[0m in \u001b[0;36miterate_from\u001b[0;34m(self, start_tok)\u001b[0m\n\u001b[1;32m    296\u001b[0m             \u001b[0mself\u001b[0m\u001b[0;34m.\u001b[0m\u001b[0m_current_toknum\u001b[0m \u001b[0;34m=\u001b[0m \u001b[0mtoknum\u001b[0m\u001b[0;34m\u001b[0m\u001b[0m\n\u001b[1;32m    297\u001b[0m             \u001b[0mself\u001b[0m\u001b[0;34m.\u001b[0m\u001b[0m_current_blocknum\u001b[0m \u001b[0;34m=\u001b[0m \u001b[0mblock_index\u001b[0m\u001b[0;34m\u001b[0m\u001b[0m\n\u001b[0;32m--> 298\u001b[0;31m             \u001b[0mtokens\u001b[0m \u001b[0;34m=\u001b[0m \u001b[0mself\u001b[0m\u001b[0;34m.\u001b[0m\u001b[0mread_block\u001b[0m\u001b[0;34m(\u001b[0m\u001b[0mself\u001b[0m\u001b[0;34m.\u001b[0m\u001b[0m_stream\u001b[0m\u001b[0;34m)\u001b[0m\u001b[0;34m\u001b[0m\u001b[0m\n\u001b[0m\u001b[1;32m    299\u001b[0m             assert isinstance(tokens, (tuple, list, AbstractLazySequence)), (\n\u001b[1;32m    300\u001b[0m                 \u001b[0;34m'block reader %s() should return list or tuple.'\u001b[0m \u001b[0;34m%\u001b[0m\u001b[0;34m\u001b[0m\u001b[0m\n",
        "\u001b[0;32m/opt/boxen/homebrew/Cellar/python/2.7.3-boxen2/Frameworks/Python.framework/Versions/2.7/lib/python2.7/site-packages/nltk/corpus/reader/plaintext.pyc\u001b[0m in \u001b[0;36m_read_word_block\u001b[0;34m(self, stream)\u001b[0m\n\u001b[1;32m    136\u001b[0m         \u001b[0mwords\u001b[0m \u001b[0;34m=\u001b[0m \u001b[0;34m[\u001b[0m\u001b[0;34m]\u001b[0m\u001b[0;34m\u001b[0m\u001b[0m\n\u001b[1;32m    137\u001b[0m         \u001b[0;32mfor\u001b[0m \u001b[0mi\u001b[0m \u001b[0;32min\u001b[0m \u001b[0mrange\u001b[0m\u001b[0;34m(\u001b[0m\u001b[0;36m20\u001b[0m\u001b[0;34m)\u001b[0m\u001b[0;34m:\u001b[0m \u001b[0;31m# Read 20 lines at a time.\u001b[0m\u001b[0;34m\u001b[0m\u001b[0m\n\u001b[0;32m--> 138\u001b[0;31m             \u001b[0mwords\u001b[0m\u001b[0;34m.\u001b[0m\u001b[0mextend\u001b[0m\u001b[0;34m(\u001b[0m\u001b[0mself\u001b[0m\u001b[0;34m.\u001b[0m\u001b[0m_word_tokenizer\u001b[0m\u001b[0;34m.\u001b[0m\u001b[0mtokenize\u001b[0m\u001b[0;34m(\u001b[0m\u001b[0mstream\u001b[0m\u001b[0;34m.\u001b[0m\u001b[0mreadline\u001b[0m\u001b[0;34m(\u001b[0m\u001b[0;34m)\u001b[0m\u001b[0;34m)\u001b[0m\u001b[0;34m)\u001b[0m\u001b[0;34m\u001b[0m\u001b[0m\n\u001b[0m\u001b[1;32m    139\u001b[0m         \u001b[0;32mreturn\u001b[0m \u001b[0mwords\u001b[0m\u001b[0;34m\u001b[0m\u001b[0m\n\u001b[1;32m    140\u001b[0m \u001b[0;34m\u001b[0m\u001b[0m\n",
        "\u001b[0;32m/opt/boxen/homebrew/Cellar/python/2.7.3-boxen2/Frameworks/Python.framework/Versions/2.7/lib/python2.7/site-packages/nltk/data.pyc\u001b[0m in \u001b[0;36mreadline\u001b[0;34m(self, size)\u001b[0m\n\u001b[1;32m    884\u001b[0m         \u001b[0;32mwhile\u001b[0m \u001b[0mTrue\u001b[0m\u001b[0;34m:\u001b[0m\u001b[0;34m\u001b[0m\u001b[0m\n\u001b[1;32m    885\u001b[0m             \u001b[0mstartpos\u001b[0m \u001b[0;34m=\u001b[0m \u001b[0mself\u001b[0m\u001b[0;34m.\u001b[0m\u001b[0mstream\u001b[0m\u001b[0;34m.\u001b[0m\u001b[0mtell\u001b[0m\u001b[0;34m(\u001b[0m\u001b[0;34m)\u001b[0m \u001b[0;34m-\u001b[0m \u001b[0mlen\u001b[0m\u001b[0;34m(\u001b[0m\u001b[0mself\u001b[0m\u001b[0;34m.\u001b[0m\u001b[0mbytebuffer\u001b[0m\u001b[0;34m)\u001b[0m\u001b[0;34m\u001b[0m\u001b[0m\n\u001b[0;32m--> 886\u001b[0;31m             \u001b[0mnew_chars\u001b[0m \u001b[0;34m=\u001b[0m \u001b[0mself\u001b[0m\u001b[0;34m.\u001b[0m\u001b[0m_read\u001b[0m\u001b[0;34m(\u001b[0m\u001b[0mreadsize\u001b[0m\u001b[0;34m)\u001b[0m\u001b[0;34m\u001b[0m\u001b[0m\n\u001b[0m\u001b[1;32m    887\u001b[0m \u001b[0;34m\u001b[0m\u001b[0m\n\u001b[1;32m    888\u001b[0m             \u001b[0;31m# If we're at a '\\r', then read one extra character, since\u001b[0m\u001b[0;34m\u001b[0m\u001b[0;34m\u001b[0m\u001b[0m\n",
        "\u001b[0;32m/opt/boxen/homebrew/Cellar/python/2.7.3-boxen2/Frameworks/Python.framework/Versions/2.7/lib/python2.7/site-packages/nltk/data.pyc\u001b[0m in \u001b[0;36m_read\u001b[0;34m(self, size)\u001b[0m\n\u001b[1;32m   1108\u001b[0m \u001b[0;34m\u001b[0m\u001b[0m\n\u001b[1;32m   1109\u001b[0m         \u001b[0;31m# Decode the bytes into unicode characters\u001b[0m\u001b[0;34m\u001b[0m\u001b[0;34m\u001b[0m\u001b[0m\n\u001b[0;32m-> 1110\u001b[0;31m         \u001b[0mchars\u001b[0m\u001b[0;34m,\u001b[0m \u001b[0mbytes_decoded\u001b[0m \u001b[0;34m=\u001b[0m \u001b[0mself\u001b[0m\u001b[0;34m.\u001b[0m\u001b[0m_incr_decode\u001b[0m\u001b[0;34m(\u001b[0m\u001b[0mbytes\u001b[0m\u001b[0;34m)\u001b[0m\u001b[0;34m\u001b[0m\u001b[0m\n\u001b[0m\u001b[1;32m   1111\u001b[0m \u001b[0;34m\u001b[0m\u001b[0m\n\u001b[1;32m   1112\u001b[0m         \u001b[0;31m# If we got bytes but couldn't decode any, then read further.\u001b[0m\u001b[0;34m\u001b[0m\u001b[0;34m\u001b[0m\u001b[0m\n",
        "\u001b[0;32m/opt/boxen/homebrew/Cellar/python/2.7.3-boxen2/Frameworks/Python.framework/Versions/2.7/lib/python2.7/site-packages/nltk/data.pyc\u001b[0m in \u001b[0;36m_incr_decode\u001b[0;34m(self, bytes)\u001b[0m\n\u001b[1;32m   1138\u001b[0m         \u001b[0;32mwhile\u001b[0m \u001b[0mTrue\u001b[0m\u001b[0;34m:\u001b[0m\u001b[0;34m\u001b[0m\u001b[0m\n\u001b[1;32m   1139\u001b[0m             \u001b[0;32mtry\u001b[0m\u001b[0;34m:\u001b[0m\u001b[0;34m\u001b[0m\u001b[0m\n\u001b[0;32m-> 1140\u001b[0;31m                 \u001b[0;32mreturn\u001b[0m \u001b[0mself\u001b[0m\u001b[0;34m.\u001b[0m\u001b[0mdecode\u001b[0m\u001b[0;34m(\u001b[0m\u001b[0mbytes\u001b[0m\u001b[0;34m,\u001b[0m \u001b[0;34m'strict'\u001b[0m\u001b[0;34m)\u001b[0m\u001b[0;34m\u001b[0m\u001b[0m\n\u001b[0m\u001b[1;32m   1141\u001b[0m             \u001b[0;32mexcept\u001b[0m \u001b[0mUnicodeDecodeError\u001b[0m\u001b[0;34m,\u001b[0m \u001b[0mexc\u001b[0m\u001b[0;34m:\u001b[0m\u001b[0;34m\u001b[0m\u001b[0m\n\u001b[1;32m   1142\u001b[0m                 \u001b[0;31m# If the exception occurs at the end of the string,\u001b[0m\u001b[0;34m\u001b[0m\u001b[0;34m\u001b[0m\u001b[0m\n",
        "\u001b[0;32m/opt/boxen/homebrew/Cellar/python/2.7.3-boxen2/Frameworks/Python.framework/Versions/2.7/lib/python2.7/encodings/iso8859_6.pyc\u001b[0m in \u001b[0;36mdecode\u001b[0;34m(self, input, errors)\u001b[0m\n\u001b[1;32m     13\u001b[0m \u001b[0;34m\u001b[0m\u001b[0m\n\u001b[1;32m     14\u001b[0m     \u001b[0;32mdef\u001b[0m \u001b[0mdecode\u001b[0m\u001b[0;34m(\u001b[0m\u001b[0mself\u001b[0m\u001b[0;34m,\u001b[0m\u001b[0minput\u001b[0m\u001b[0;34m,\u001b[0m\u001b[0merrors\u001b[0m\u001b[0;34m=\u001b[0m\u001b[0;34m'strict'\u001b[0m\u001b[0;34m)\u001b[0m\u001b[0;34m:\u001b[0m\u001b[0;34m\u001b[0m\u001b[0m\n\u001b[0;32m---> 15\u001b[0;31m         \u001b[0;32mreturn\u001b[0m \u001b[0mcodecs\u001b[0m\u001b[0;34m.\u001b[0m\u001b[0mcharmap_decode\u001b[0m\u001b[0;34m(\u001b[0m\u001b[0minput\u001b[0m\u001b[0;34m,\u001b[0m\u001b[0merrors\u001b[0m\u001b[0;34m,\u001b[0m\u001b[0mdecoding_table\u001b[0m\u001b[0;34m)\u001b[0m\u001b[0;34m\u001b[0m\u001b[0m\n\u001b[0m\u001b[1;32m     16\u001b[0m \u001b[0;34m\u001b[0m\u001b[0m\n\u001b[1;32m     17\u001b[0m \u001b[0;32mclass\u001b[0m \u001b[0mIncrementalEncoder\u001b[0m\u001b[0;34m(\u001b[0m\u001b[0mcodecs\u001b[0m\u001b[0;34m.\u001b[0m\u001b[0mIncrementalEncoder\u001b[0m\u001b[0;34m)\u001b[0m\u001b[0;34m:\u001b[0m\u001b[0;34m\u001b[0m\u001b[0m\n",
        "\u001b[0;31mUnicodeDecodeError\u001b[0m: 'charmap' codec can't decode byte 0xde in position 18: character maps to <undefined>"
       ]
      }
     ],
     "prompt_number": 303
    }
   ],
   "metadata": {}
  }
 ]
}