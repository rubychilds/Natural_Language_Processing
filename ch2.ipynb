{
 "metadata": {
  "name": ""
 },
 "nbformat": 3,
 "nbformat_minor": 0,
 "worksheets": [
  {
   "cells": [
    {
     "cell_type": "code",
     "collapsed": false,
     "input": [
      "import nltk\n",
      "# 2.1. Accessing Text Corpus\n",
      "nltk.corpus.gutenberg.fileids() # all texts available"
     ],
     "language": "python",
     "metadata": {},
     "outputs": [
      {
       "metadata": {},
       "output_type": "pyout",
       "prompt_number": 2,
       "text": [
        "['austen-emma.txt',\n",
        " 'austen-persuasion.txt',\n",
        " 'austen-sense.txt',\n",
        " 'bible-kjv.txt',\n",
        " 'blake-poems.txt',\n",
        " 'bryant-stories.txt',\n",
        " 'burgess-busterbrown.txt',\n",
        " 'carroll-alice.txt',\n",
        " 'chesterton-ball.txt',\n",
        " 'chesterton-brown.txt',\n",
        " 'chesterton-thursday.txt',\n",
        " 'edgeworth-parents.txt',\n",
        " 'melville-moby_dick.txt',\n",
        " 'milton-paradise.txt',\n",
        " 'shakespeare-caesar.txt',\n",
        " 'shakespeare-hamlet.txt',\n",
        " 'shakespeare-macbeth.txt',\n",
        " 'whitman-leaves.txt']"
       ]
      }
     ],
     "prompt_number": 2
    },
    {
     "cell_type": "code",
     "collapsed": false,
     "input": [
      "emma = nltk.corpus.gutenberg.words('austen-emma.txt')"
     ],
     "language": "python",
     "metadata": {},
     "outputs": [],
     "prompt_number": 4
    },
    {
     "cell_type": "code",
     "collapsed": false,
     "input": [
      "len(emma)"
     ],
     "language": "python",
     "metadata": {},
     "outputs": [
      {
       "metadata": {},
       "output_type": "pyout",
       "prompt_number": 5,
       "text": [
        "192427"
       ]
      }
     ],
     "prompt_number": 5
    },
    {
     "cell_type": "code",
     "collapsed": false,
     "input": [
      "from nltk.corpus import gutenberg\n",
      "for fileid in gutenberg.fileids():\n",
      "    num_chars = len(gutenberg.raw(fileid)) # gives us the contents of file with no linguistic processing. Taking the length we have no. of letters in text\n",
      "    num_words = len(gutenberg.words(fileid))\n",
      "    num_sents = len(gutenberg.sents(fileid))\n",
      "    num_vocab = len(set([w.lower() for w in gutenberg.words(fileid)]))\n",
      "    print int(num_chars/num_words), int(num_words/num_sents), int(num_words/num_vocab), fileid\n",
      "    "
     ],
     "language": "python",
     "metadata": {},
     "outputs": [
      {
       "output_type": "stream",
       "stream": "stdout",
       "text": [
        "4 21 26 austen-emma.txt\n",
        "4"
       ]
      },
      {
       "output_type": "stream",
       "stream": "stdout",
       "text": [
        " 23 16 austen-persuasion.txt\n",
        "4"
       ]
      },
      {
       "output_type": "stream",
       "stream": "stdout",
       "text": [
        " 23 22 austen-sense.txt\n",
        "4"
       ]
      },
      {
       "output_type": "stream",
       "stream": "stdout",
       "text": [
        " 33 79 bible-kjv.txt\n",
        "4 18 5 blake-poems.txt\n",
        "4"
       ]
      },
      {
       "output_type": "stream",
       "stream": "stdout",
       "text": [
        " 17 14 bryant-stories.txt\n",
        "4"
       ]
      },
      {
       "output_type": "stream",
       "stream": "stdout",
       "text": [
        " 17 12 burgess-busterbrown.txt\n",
        "4"
       ]
      },
      {
       "output_type": "stream",
       "stream": "stdout",
       "text": [
        " 16 12 carroll-alice.txt\n",
        "4"
       ]
      },
      {
       "output_type": "stream",
       "stream": "stdout",
       "text": [
        " 17 11 chesterton-ball.txt\n",
        "4"
       ]
      },
      {
       "output_type": "stream",
       "stream": "stdout",
       "text": [
        " 19 11 chesterton-brown.txt\n",
        "4"
       ]
      },
      {
       "output_type": "stream",
       "stream": "stdout",
       "text": [
        " 16 10 chesterton-thursday.txt\n",
        "4"
       ]
      },
      {
       "output_type": "stream",
       "stream": "stdout",
       "text": [
        " 17 24 edgeworth-parents.txt\n",
        "4"
       ]
      },
      {
       "output_type": "stream",
       "stream": "stdout",
       "text": [
        " 24 15 melville-moby_dick.txt\n",
        "4"
       ]
      },
      {
       "output_type": "stream",
       "stream": "stdout",
       "text": [
        " 52 10 milton-paradise.txt\n",
        "4"
       ]
      },
      {
       "output_type": "stream",
       "stream": "stdout",
       "text": [
        " 11 8 shakespeare-caesar.txt\n",
        "4"
       ]
      },
      {
       "output_type": "stream",
       "stream": "stdout",
       "text": [
        " 12 7 shakespeare-hamlet.txt\n",
        "4"
       ]
      },
      {
       "output_type": "stream",
       "stream": "stdout",
       "text": [
        " 12 6 shakespeare-macbeth.txt\n",
        "4"
       ]
      },
      {
       "output_type": "stream",
       "stream": "stdout",
       "text": [
        " 35 12 whitman-leaves.txt\n"
       ]
      }
     ],
     "prompt_number": 10
    },
    {
     "cell_type": "code",
     "collapsed": false,
     "input": [
      "macbeth_sentences = gutenberg.sents('shakespeare-macbeth.txt')"
     ],
     "language": "python",
     "metadata": {},
     "outputs": [],
     "prompt_number": 11
    },
    {
     "cell_type": "code",
     "collapsed": false,
     "input": [
      "macbeth_sentences"
     ],
     "language": "python",
     "metadata": {},
     "outputs": [
      {
       "metadata": {},
       "output_type": "pyout",
       "prompt_number": 12,
       "text": [
        "[['[', 'The', 'Tragedie', 'of', 'Macbeth', 'by', 'William', 'Shakespeare', '1603', ']'], ['Actus', 'Primus', '.'], ...]"
       ]
      }
     ],
     "prompt_number": 12
    },
    {
     "cell_type": "code",
     "collapsed": false,
     "input": [
      "macbeth_sentences[1037]"
     ],
     "language": "python",
     "metadata": {},
     "outputs": [
      {
       "metadata": {},
       "output_type": "pyout",
       "prompt_number": 13,
       "text": [
        "['Good', 'night', ',', 'and', 'better', 'health', 'Attend', 'his', 'Maiesty']"
       ]
      }
     ],
     "prompt_number": 13
    },
    {
     "cell_type": "code",
     "collapsed": false,
     "input": [
      "longest_length = max([len(s) for s in macbeth_sentences]) # longest sentence length"
     ],
     "language": "python",
     "metadata": {},
     "outputs": [],
     "prompt_number": 15
    },
    {
     "cell_type": "code",
     "collapsed": false,
     "input": [
      "[s for s in macbeth_sentences if len(s) == longest_length] # retrieve longest sentence"
     ],
     "language": "python",
     "metadata": {},
     "outputs": [
      {
       "metadata": {},
       "output_type": "pyout",
       "prompt_number": 16,
       "text": [
        "[['Doubtfull',\n",
        "  'it',\n",
        "  'stood',\n",
        "  ',',\n",
        "  'As',\n",
        "  'two',\n",
        "  'spent',\n",
        "  'Swimmers',\n",
        "  ',',\n",
        "  'that',\n",
        "  'doe',\n",
        "  'cling',\n",
        "  'together',\n",
        "  ',',\n",
        "  'And',\n",
        "  'choake',\n",
        "  'their',\n",
        "  'Art',\n",
        "  ':',\n",
        "  'The',\n",
        "  'mercilesse',\n",
        "  'Macdonwald',\n",
        "  '(',\n",
        "  'Worthie',\n",
        "  'to',\n",
        "  'be',\n",
        "  'a',\n",
        "  'Rebell',\n",
        "  ',',\n",
        "  'for',\n",
        "  'to',\n",
        "  'that',\n",
        "  'The',\n",
        "  'multiplying',\n",
        "  'Villanies',\n",
        "  'of',\n",
        "  'Nature',\n",
        "  'Doe',\n",
        "  'swarme',\n",
        "  'vpon',\n",
        "  'him',\n",
        "  ')',\n",
        "  'from',\n",
        "  'the',\n",
        "  'Westerne',\n",
        "  'Isles',\n",
        "  'Of',\n",
        "  'Kernes',\n",
        "  'and',\n",
        "  'Gallowgrosses',\n",
        "  'is',\n",
        "  'supply',\n",
        "  \"'\",\n",
        "  'd',\n",
        "  ',',\n",
        "  'And',\n",
        "  'Fortune',\n",
        "  'on',\n",
        "  'his',\n",
        "  'damned',\n",
        "  'Quarry',\n",
        "  'smiling',\n",
        "  ',',\n",
        "  'Shew',\n",
        "  \"'\",\n",
        "  'd',\n",
        "  'like',\n",
        "  'a',\n",
        "  'Rebells',\n",
        "  'Whore',\n",
        "  ':',\n",
        "  'but',\n",
        "  'all',\n",
        "  \"'\",\n",
        "  's',\n",
        "  'too',\n",
        "  'weake',\n",
        "  ':',\n",
        "  'For',\n",
        "  'braue',\n",
        "  'Macbeth',\n",
        "  '(',\n",
        "  'well',\n",
        "  'hee',\n",
        "  'deserues',\n",
        "  'that',\n",
        "  'Name',\n",
        "  ')',\n",
        "  'Disdayning',\n",
        "  'Fortune',\n",
        "  ',',\n",
        "  'with',\n",
        "  'his',\n",
        "  'brandisht',\n",
        "  'Steele',\n",
        "  ',',\n",
        "  'Which',\n",
        "  'smoak',\n",
        "  \"'\",\n",
        "  'd',\n",
        "  'with',\n",
        "  'bloody',\n",
        "  'execution',\n",
        "  '(',\n",
        "  'Like',\n",
        "  'Valours',\n",
        "  'Minion',\n",
        "  ')',\n",
        "  'caru',\n",
        "  \"'\",\n",
        "  'd',\n",
        "  'out',\n",
        "  'his',\n",
        "  'passage',\n",
        "  ',',\n",
        "  'Till',\n",
        "  'hee',\n",
        "  'fac',\n",
        "  \"'\",\n",
        "  'd',\n",
        "  'the',\n",
        "  'Slaue',\n",
        "  ':',\n",
        "  'Which',\n",
        "  'neu',\n",
        "  \"'\",\n",
        "  'r',\n",
        "  'shooke',\n",
        "  'hands',\n",
        "  ',',\n",
        "  'nor',\n",
        "  'bad',\n",
        "  'farwell',\n",
        "  'to',\n",
        "  'him',\n",
        "  ',',\n",
        "  'Till',\n",
        "  'he',\n",
        "  'vnseam',\n",
        "  \"'\",\n",
        "  'd',\n",
        "  'him',\n",
        "  'from',\n",
        "  'the',\n",
        "  'Naue',\n",
        "  'toth',\n",
        "  \"'\",\n",
        "  'Chops',\n",
        "  ',',\n",
        "  'And',\n",
        "  'fix',\n",
        "  \"'\",\n",
        "  'd',\n",
        "  'his',\n",
        "  'Head',\n",
        "  'vpon',\n",
        "  'our',\n",
        "  'Battlements']]"
       ]
      }
     ],
     "prompt_number": 16
    },
    {
     "cell_type": "code",
     "collapsed": false,
     "input": [
      "from nltk.corpus import webtext #Webtext"
     ],
     "language": "python",
     "metadata": {},
     "outputs": [],
     "prompt_number": 17
    },
    {
     "cell_type": "code",
     "collapsed": false,
     "input": [
      "for fileid in webtext.fileids():\n",
      "    print fileid, webtext.raw(fileid)[:65]"
     ],
     "language": "python",
     "metadata": {},
     "outputs": [
      {
       "output_type": "stream",
       "stream": "stdout",
       "text": [
        "firefox.txt Cookie Manager: \"Don't allow sites that set removed cookies to se\n",
        "grail.txt SCENE 1: [wind] [clop clop clop] \n",
        "KING ARTHUR: Whoa there!  [clop\n",
        "overheard.txt White guy: So, do you have any plans for this evening?\n",
        "Asian girl\n",
        "pirates.txt PIRATES OF THE CARRIBEAN: DEAD MAN'S CHEST, by Ted Elliott & Terr\n",
        "singles.txt 25 SEXY MALE, seeks attrac older single lady, for discreet encoun\n",
        "wine.txt Lovely delicate, fragrant Rhone wine. Polished leather and strawb\n"
       ]
      }
     ],
     "prompt_number": 18
    },
    {
     "cell_type": "code",
     "collapsed": false,
     "input": [
      "from nltk.corpus import nps_chat #Chat"
     ],
     "language": "python",
     "metadata": {},
     "outputs": [],
     "prompt_number": 19
    },
    {
     "cell_type": "code",
     "collapsed": false,
     "input": [
      "chatroom = nps_chat.posts('10-19-20s_706posts.xml')"
     ],
     "language": "python",
     "metadata": {},
     "outputs": [],
     "prompt_number": 21
    },
    {
     "cell_type": "code",
     "collapsed": false,
     "input": [
      "from nltk.corpus import brown # Brown Corpus"
     ],
     "language": "python",
     "metadata": {},
     "outputs": [],
     "prompt_number": 22
    },
    {
     "cell_type": "code",
     "collapsed": false,
     "input": [
      "brown.categories()"
     ],
     "language": "python",
     "metadata": {},
     "outputs": [
      {
       "metadata": {},
       "output_type": "pyout",
       "prompt_number": 23,
       "text": [
        "['adventure',\n",
        " 'belles_lettres',\n",
        " 'editorial',\n",
        " 'fiction',\n",
        " 'government',\n",
        " 'hobbies',\n",
        " 'humor',\n",
        " 'learned',\n",
        " 'lore',\n",
        " 'mystery',\n",
        " 'news',\n",
        " 'religion',\n",
        " 'reviews',\n",
        " 'romance',\n",
        " 'science_fiction']"
       ]
      }
     ],
     "prompt_number": 23
    },
    {
     "cell_type": "code",
     "collapsed": false,
     "input": [],
     "language": "python",
     "metadata": {},
     "outputs": []
    }
   ],
   "metadata": {}
  }
 ]
}