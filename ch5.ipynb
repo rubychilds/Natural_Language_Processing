{
 "metadata": {
  "name": "",
  "signature": "sha256:b1b483180b12ec92b65a3112655d2694f048223eed89f6b0c662421f3c8bfce7"
 },
 "nbformat": 3,
 "nbformat_minor": 0,
 "worksheets": [
  {
   "cells": [
    {
     "cell_type": "code",
     "collapsed": false,
     "input": [
      "import nltk"
     ],
     "language": "python",
     "metadata": {},
     "outputs": [],
     "prompt_number": 2
    },
    {
     "cell_type": "code",
     "collapsed": false,
     "input": [
      "text = nltk.word_tokenize(\"And now for something completely different\")"
     ],
     "language": "python",
     "metadata": {},
     "outputs": [],
     "prompt_number": 5
    },
    {
     "cell_type": "code",
     "collapsed": false,
     "input": [
      "nltk.pos_tag(text)"
     ],
     "language": "python",
     "metadata": {},
     "outputs": [
      {
       "metadata": {},
       "output_type": "pyout",
       "prompt_number": 6,
       "text": [
        "[('And', 'CC'),\n",
        " ('now', 'RB'),\n",
        " ('for', 'IN'),\n",
        " ('something', 'NN'),\n",
        " ('completely', 'RB'),\n",
        " ('different', 'JJ')]"
       ]
      }
     ],
     "prompt_number": 6
    },
    {
     "cell_type": "markdown",
     "metadata": {},
     "source": [
      "* RB - adverbs, CC - coordination conjunction, NN - noun, JJ - adjective"
     ]
    },
    {
     "cell_type": "code",
     "collapsed": false,
     "input": [
      "nltk.help.upenn_tagset('RB') # Shows what the tag means"
     ],
     "language": "python",
     "metadata": {},
     "outputs": [
      {
       "output_type": "stream",
       "stream": "stdout",
       "text": [
        "RB: adverb\n",
        "    occasionally unabatingly maddeningly adventurously professedly\n",
        "    stirringly prominently technologically magisterially predominately\n",
        "    swiftly fiscally pitilessly ...\n"
       ]
      }
     ],
     "prompt_number": 7
    },
    {
     "cell_type": "code",
     "collapsed": false,
     "input": [
      "text = nltk.word_tokenize('They refuse to permit us to obtain the refuse permit')"
     ],
     "language": "python",
     "metadata": {},
     "outputs": [],
     "prompt_number": 8
    },
    {
     "cell_type": "code",
     "collapsed": false,
     "input": [
      "nltk.pos_tag(text)"
     ],
     "language": "python",
     "metadata": {},
     "outputs": [
      {
       "metadata": {},
       "output_type": "pyout",
       "prompt_number": 9,
       "text": [
        "[('They', 'PRP'),\n",
        " ('refuse', 'VBP'),\n",
        " ('to', 'TO'),\n",
        " ('permit', 'VB'),\n",
        " ('us', 'PRP'),\n",
        " ('to', 'TO'),\n",
        " ('obtain', 'VB'),\n",
        " ('the', 'DT'),\n",
        " ('refuse', 'NN'),\n",
        " ('permit', 'NN')]"
       ]
      }
     ],
     "prompt_number": 9
    },
    {
     "cell_type": "code",
     "collapsed": false,
     "input": [
      "nltk.help.upenn_tagset('VBP')"
     ],
     "language": "python",
     "metadata": {},
     "outputs": [
      {
       "output_type": "stream",
       "stream": "stdout",
       "text": [
        "VBP: verb, present tense, not 3rd person singular\n",
        "    predominate wrap resort sue twist spill cure lengthen brush terminate\n",
        "    appear tend stray glisten obtain comprise detest tease attract\n",
        "    emphasize mold postpone sever return wag ...\n"
       ]
      }
     ],
     "prompt_number": 10
    },
    {
     "cell_type": "code",
     "collapsed": false,
     "input": [
      "text = nltk.Text(word for word in nltk.corpus.brown.words())"
     ],
     "language": "python",
     "metadata": {},
     "outputs": [],
     "prompt_number": 11
    },
    {
     "cell_type": "code",
     "collapsed": false,
     "input": [
      "text.similar('woman') # takes word to find all contexts i.e. w1 w w2 Returns nouns"
     ],
     "language": "python",
     "metadata": {},
     "outputs": [
      {
       "output_type": "stream",
       "stream": "stdout",
       "text": [
        "Building word-context index...\n",
        "man day time year car moment world family house boy child country job\n",
        "state girl place war way case question"
       ]
      },
      {
       "output_type": "stream",
       "stream": "stdout",
       "text": [
        "\n"
       ]
      }
     ],
     "prompt_number": 12
    },
    {
     "cell_type": "code",
     "collapsed": false,
     "input": [
      "text.similar('brought') # returns more verbs"
     ],
     "language": "python",
     "metadata": {},
     "outputs": [
      {
       "output_type": "stream",
       "stream": "stdout",
       "text": [
        "made found said had got left put told took used asked set is taken was\n",
        "in gave given held saw\n"
       ]
      }
     ],
     "prompt_number": 13
    },
    {
     "cell_type": "code",
     "collapsed": false,
     "input": [
      "text.similar('over')"
     ],
     "language": "python",
     "metadata": {},
     "outputs": [
      {
       "output_type": "stream",
       "stream": "stdout",
       "text": [
        "in on to of and for with from at by that into as up out down through\n",
        "about all is\n"
       ]
      }
     ],
     "prompt_number": 14
    },
    {
     "cell_type": "code",
     "collapsed": false,
     "input": [
      "text.similar('the')"
     ],
     "language": "python",
     "metadata": {},
     "outputs": [
      {
       "output_type": "stream",
       "stream": "stdout",
       "text": [
        "a his this their its her an that our any all one these my in your no\n",
        "some other and\n"
       ]
      }
     ],
     "prompt_number": 15
    },
    {
     "cell_type": "markdown",
     "metadata": {},
     "source": [
      "# 5.2 Tagged Corpora"
     ]
    },
    {
     "cell_type": "markdown",
     "metadata": {},
     "source": [
      "* tagged token is a tuple: (token, tag)"
     ]
    },
    {
     "cell_type": "code",
     "collapsed": false,
     "input": [
      "tagged_token = nltk.tag.str2tuple('fly/NN')"
     ],
     "language": "python",
     "metadata": {},
     "outputs": [],
     "prompt_number": 20
    },
    {
     "cell_type": "code",
     "collapsed": false,
     "input": [
      "print tagged_token, tagged_token[0], tagged_token[1]"
     ],
     "language": "python",
     "metadata": {},
     "outputs": [
      {
       "output_type": "stream",
       "stream": "stdout",
       "text": [
        "('fly', 'NN') fly NN\n"
       ]
      }
     ],
     "prompt_number": 22
    },
    {
     "cell_type": "code",
     "collapsed": false,
     "input": [
      "sent = '''\n",
      "    The/AT grand/JJ jury/NN commented/VBD on/IN \n",
      "    '''"
     ],
     "language": "python",
     "metadata": {},
     "outputs": [],
     "prompt_number": 23
    },
    {
     "cell_type": "code",
     "collapsed": false,
     "input": [
      "print [nltk.tag.str2tuple(word) for word in sent.split()]"
     ],
     "language": "python",
     "metadata": {},
     "outputs": [
      {
       "output_type": "stream",
       "stream": "stdout",
       "text": [
        "[('The', 'AT'), ('grand', 'JJ'), ('jury', 'NN'), ('commented', 'VBD'), ('on', 'IN')]\n"
       ]
      }
     ],
     "prompt_number": 25
    },
    {
     "cell_type": "markdown",
     "metadata": {},
     "source": [
      "nltk.corpus.brown.tagged_words()"
     ]
    },
    {
     "cell_type": "code",
     "collapsed": false,
     "input": [
      "nltk.corpus.brown.tagged_words(simplify_tags=True)"
     ],
     "language": "python",
     "metadata": {},
     "outputs": [
      {
       "metadata": {},
       "output_type": "pyout",
       "prompt_number": 27,
       "text": [
        "[('The', 'DET'), ('Fulton', 'NP'), ('County', 'N'), ...]"
       ]
      }
     ],
     "prompt_number": 27
    },
    {
     "cell_type": "code",
     "collapsed": false,
     "input": [
      "print nltk.corpus.nps_chat.tagged_words()"
     ],
     "language": "python",
     "metadata": {},
     "outputs": [
      {
       "output_type": "stream",
       "stream": "stdout",
       "text": [
        "[('now', 'RB'), ('im', 'PRP'), ('left', 'VBD'), ...]\n"
       ]
      }
     ],
     "prompt_number": 28
    },
    {
     "cell_type": "code",
     "collapsed": false,
     "input": [
      "print nltk.corpus.conll2000.tagged_words()"
     ],
     "language": "python",
     "metadata": {},
     "outputs": [
      {
       "output_type": "stream",
       "stream": "stdout",
       "text": [
        "[('Confidence', 'NN'), ('in', 'IN'), ('the', 'DT'), ...]\n"
       ]
      }
     ],
     "prompt_number": 29
    },
    {
     "cell_type": "code",
     "collapsed": false,
     "input": [
      "brown_news_tagged = [word for word in nltk.corpus.brown.tagged_words(categories='news', simplify_tags=True)]"
     ],
     "language": "python",
     "metadata": {},
     "outputs": [],
     "prompt_number": 33
    },
    {
     "cell_type": "code",
     "collapsed": false,
     "input": [
      "tag_fd = nltk.FreqDist(tag for word, tag in brown_news_tagged)"
     ],
     "language": "python",
     "metadata": {},
     "outputs": [],
     "prompt_number": 34
    },
    {
     "cell_type": "code",
     "collapsed": false,
     "input": [
      "print tag_fd.keys()"
     ],
     "language": "python",
     "metadata": {},
     "outputs": [
      {
       "output_type": "stream",
       "stream": "stdout",
       "text": [
        "['N', 'DET', 'P', 'NP', 'V', 'ADJ', ',', '.', 'CNJ', 'PRO', 'ADV', 'VD', 'NUM', 'VN', 'VG', 'TO', 'WH', 'MOD', '``', \"''\", 'VBZ', '', '*', ')', '(', 'EX', ':', 'FW', \"'\", 'UH', 'VB+PPO']\n"
       ]
      }
     ],
     "prompt_number": 36
    },
    {
     "cell_type": "code",
     "collapsed": false,
     "input": [
      "tag_fd.plot(cumulative=True)"
     ],
     "language": "python",
     "metadata": {},
     "outputs": [],
     "prompt_number": 37
    },
    {
     "cell_type": "code",
     "collapsed": false,
     "input": [
      "word_tag_pairs = nltk.bigrams(brown_news_tagged)"
     ],
     "language": "python",
     "metadata": {},
     "outputs": [],
     "prompt_number": 38
    },
    {
     "cell_type": "code",
     "collapsed": false,
     "input": [
      "# NOUN\n",
      "print list(nltk.FreqDist(a[1] for a, b in word_tag_pairs if b[1]=='N'))"
     ],
     "language": "python",
     "metadata": {},
     "outputs": [
      {
       "output_type": "stream",
       "stream": "stdout",
       "text": [
        "['DET', 'ADJ', 'N', 'P', 'NP', 'NUM', 'PRO', 'CNJ', '.', ',', 'VG', 'VN', 'V', 'VD', 'ADV', '``', 'WH', 'VBZ', \"''\", '(', '', ')', ':', 'FW', \"'\", '*', 'MOD', 'TO']\n"
       ]
      }
     ],
     "prompt_number": 40
    },
    {
     "cell_type": "code",
     "collapsed": false,
     "input": [
      "# VERB\n",
      "wsj = nltk.corpus.treebank.tagged_words(simplify_tags=True)\n",
      "word_tag_fd = nltk.FreqDist(wsj)\n",
      "print [word +'/' + tag for word, tag in word_tag_fd if tag.startswith('V')][:10]"
     ],
     "language": "python",
     "metadata": {},
     "outputs": [
      {
       "output_type": "stream",
       "stream": "stdout",
       "text": [
        "['is/V', 'said/VD', 'are/V', 'was/VD', 'be/V', 'has/V', 'have/V', 'says/V', 'were/VD', 'had/VD']\n"
       ]
      }
     ],
     "prompt_number": 44
    },
    {
     "cell_type": "code",
     "collapsed": false,
     "input": [
      "cfd1 = nltk.ConditionalFreqDist(wsj)"
     ],
     "language": "python",
     "metadata": {},
     "outputs": [],
     "prompt_number": 47
    },
    {
     "cell_type": "code",
     "collapsed": false,
     "input": [
      "print cfd1['yield'].keys()"
     ],
     "language": "python",
     "metadata": {},
     "outputs": [
      {
       "output_type": "stream",
       "stream": "stdout",
       "text": [
        "['V', 'N']\n"
       ]
      }
     ],
     "prompt_number": 53
    },
    {
     "cell_type": "code",
     "collapsed": false,
     "input": [
      "print cfd1['cut'].keys()"
     ],
     "language": "python",
     "metadata": {},
     "outputs": [
      {
       "output_type": "stream",
       "stream": "stdout",
       "text": [
        "['V', 'VD', 'N', 'VN']\n"
       ]
      }
     ],
     "prompt_number": 52
    },
    {
     "cell_type": "code",
     "collapsed": false,
     "input": [
      "cfd2 = nltk.ConditionalFreqDist((tag,word) for word,tag in wsj)"
     ],
     "language": "python",
     "metadata": {},
     "outputs": [],
     "prompt_number": 54
    },
    {
     "cell_type": "code",
     "collapsed": false,
     "input": [
      "print cfd2['VN'].keys()[1:10]"
     ],
     "language": "python",
     "metadata": {},
     "outputs": [
      {
       "output_type": "stream",
       "stream": "stdout",
       "text": [
        "['expected', 'made', 'compared', 'based', 'priced', 'used', 'sold', 'designed', 'named']\n"
       ]
      }
     ],
     "prompt_number": 57
    },
    {
     "cell_type": "code",
     "collapsed": false,
     "input": [
      "print [w for w in cfd1.conditions() if 'VD' in cfd1[w] and 'VN' in cfd1[w]][:10]"
     ],
     "language": "python",
     "metadata": {},
     "outputs": [
      {
       "output_type": "stream",
       "stream": "stdout",
       "text": [
        "['Asked', 'accelerated', 'accepted', 'accused', 'acquired', 'added', 'adopted', 'advanced', 'advised', 'agreed']\n"
       ]
      }
     ],
     "prompt_number": 63
    },
    {
     "cell_type": "code",
     "collapsed": false,
     "input": [
      "idx1 = wsj.index(('kicked','VD')) # VD - past tense"
     ],
     "language": "python",
     "metadata": {},
     "outputs": [],
     "prompt_number": 64
    },
    {
     "cell_type": "code",
     "collapsed": false,
     "input": [
      "print wsj[idx1-4:idx1+1]"
     ],
     "language": "python",
     "metadata": {},
     "outputs": [
      {
       "output_type": "stream",
       "stream": "stdout",
       "text": [
        "[('While', 'P'), ('program', 'N'), ('trades', 'N'), ('swiftly', 'ADV'), ('kicked', 'VD')]\n"
       ]
      }
     ],
     "prompt_number": 68
    },
    {
     "cell_type": "code",
     "collapsed": false,
     "input": [
      "idx2 = wsj.index(('kicked','VN')) # VN - past principle"
     ],
     "language": "python",
     "metadata": {},
     "outputs": [],
     "prompt_number": 69
    },
    {
     "cell_type": "code",
     "collapsed": false,
     "input": [
      "print wsj[idx2-4:idx2+1]"
     ],
     "language": "python",
     "metadata": {},
     "outputs": [
      {
       "output_type": "stream",
       "stream": "stdout",
       "text": [
        "[('head', 'N'), ('of', 'P'), ('state', 'N'), ('has', 'V'), ('kicked', 'VN')]\n"
       ]
      }
     ],
     "prompt_number": 70
    },
    {
     "cell_type": "code",
     "collapsed": false,
     "input": [
      "# Adjectives and Adverbs"
     ],
     "language": "python",
     "metadata": {},
     "outputs": []
    },
    {
     "cell_type": "markdown",
     "metadata": {},
     "source": [
      "* Adjectives\n",
      "- predeterminers  'the large pizza'\n",
      "- modifier 'pizza is large'\n",
      "* Adverbs\n",
      "- modify verbs to specify time, manner, place or direction \n",
      "- stocks fell quickly -> quickly"
     ]
    },
    {
     "cell_type": "code",
     "collapsed": false,
     "input": [
      "# articles/deteminers -> the, a\n",
      "# modals -> should, may\n",
      "# personal pronouns -> she, they"
     ],
     "language": "python",
     "metadata": {},
     "outputs": []
    },
    {
     "cell_type": "code",
     "collapsed": false,
     "input": [
      "# Unsimplified Tags"
     ],
     "language": "python",
     "metadata": {},
     "outputs": []
    },
    {
     "cell_type": "code",
     "collapsed": false,
     "input": [
      "def find_tags(tag_prefix, tagged_text):\n",
      "    cfd = nltk.ConditionalFreqDist((tag,word) for word,tag in tagged_text\n",
      "                                   if tag.startswith(tag_prefix))\n",
      "    return dict((tag, cfd[tag].keys()) for tag in cfd.conditions() )"
     ],
     "language": "python",
     "metadata": {},
     "outputs": [],
     "prompt_number": 71
    },
    {
     "cell_type": "code",
     "collapsed": false,
     "input": [
      "tag_dict = find_tags('NN', nltk.corpus.brown.tagged_words(categories='news'))"
     ],
     "language": "python",
     "metadata": {},
     "outputs": [],
     "prompt_number": 72
    },
    {
     "cell_type": "code",
     "collapsed": false,
     "input": [
      "for tag in sorted(tag_dict):\n",
      "    print tag, tag_dict[tag][:5]"
     ],
     "language": "python",
     "metadata": {},
     "outputs": [
      {
       "output_type": "stream",
       "stream": "stdout",
       "text": [
        "NN ['year', 'time', 'state', 'week', 'home']\n",
        "NN$ [\"year's\", \"world's\", \"state's\", \"city's\", \"company's\"]\n",
        "NN$-HL [\"Golf's\", \"Navy's\"]\n",
        "NN$-TL [\"President's\", \"Administration's\", \"Army's\", \"Gallery's\", \"League's\"]\n",
        "NN-HL ['Question', 'Salary', 'business', 'condition', 'cut']\n",
        "NN-NC ['aya', 'eva', 'ova']\n",
        "NN-TL ['President', 'House', 'State', 'University', 'City']\n",
        "NN-TL-HL ['Fort', 'Basin', 'Beat', 'City', 'Commissioner']\n",
        "NNS ['years', 'members', 'people', 'sales', 'men']\n",
        "NNS$ [\"children's\", \"women's\", \"janitors'\", \"men's\", \"builders'\"]\n",
        "NNS$-HL [\"Dealers'\", \"Idols'\"]\n",
        "NNS$-TL [\"Women's\", \"States'\", \"Giants'\", \"Bombers'\", \"Braves'\"]\n",
        "NNS-HL ['$12,500', '$14', '$37', 'A135', 'Arms']\n",
        "NNS-TL ['States', 'Nations', 'Masters', 'Bears', 'Communists']\n",
        "NNS-TL-HL ['Nations']\n"
       ]
      }
     ],
     "prompt_number": 77
    },
    {
     "cell_type": "code",
     "collapsed": false,
     "input": [
      "# exploring tagged corpora"
     ],
     "language": "python",
     "metadata": {},
     "outputs": []
    },
    {
     "cell_type": "code",
     "collapsed": false,
     "input": [
      "brown_learned_text = nltk.corpus.brown.words(categories='learned')"
     ],
     "language": "python",
     "metadata": {},
     "outputs": [],
     "prompt_number": 78
    },
    {
     "cell_type": "code",
     "collapsed": false,
     "input": [
      "print sorted(set(b for a,b in nltk.ibigrams(brown_learned_text) if a == 'often'))"
     ],
     "language": "python",
     "metadata": {},
     "outputs": [
      {
       "output_type": "stream",
       "stream": "stdout",
       "text": [
        "[',', '.', 'accomplished', 'analytically', 'appear', 'apt', 'associated', 'assuming', 'became', 'become', 'been', 'began', 'call', 'called', 'carefully', 'chose', 'classified', 'colorful', 'composed', 'contain', 'differed', 'difficult', 'encountered', 'enough', 'equate', 'extremely', 'found', 'happens', 'have', 'ignored', 'in', 'involved', 'more', 'needed', 'nightly', 'observed', 'of', 'on', 'out', 'quite', 'represent', 'responsible', 'revamped', 'seclude', 'set', 'shortened', 'sing', 'sounded', 'stated', 'still', 'sung', 'supported', 'than', 'to', 'when', 'work']\n"
       ]
      }
     ],
     "prompt_number": 80
    },
    {
     "cell_type": "code",
     "collapsed": false,
     "input": [
      "brown_learned_text = nltk.corpus.brown.tagged_words(categories='learned',simplify_tags=True)"
     ],
     "language": "python",
     "metadata": {},
     "outputs": [],
     "prompt_number": 11
    },
    {
     "cell_type": "code",
     "collapsed": false,
     "input": [
      "# to find words which follow often and keep the following word tag\n",
      "tags = [b[1] for a,b in nltk.ibigrams(brown_learned_text) if a[0] == 'often']"
     ],
     "language": "python",
     "metadata": {},
     "outputs": [],
     "prompt_number": 12
    },
    {
     "cell_type": "code",
     "collapsed": false,
     "input": [
      "fd = nltk.FreqDist(tags)"
     ],
     "language": "python",
     "metadata": {},
     "outputs": [],
     "prompt_number": 18
    },
    {
     "cell_type": "code",
     "collapsed": false,
     "input": [
      "fd.tabulate() # results show the following word is often a verb"
     ],
     "language": "python",
     "metadata": {},
     "outputs": [
      {
       "output_type": "stream",
       "stream": "stdout",
       "text": [
        "  VN    V   VD  ADJ  DET  ADV    P    ,  CNJ    .   TO  VBZ   VG   WH\n",
        "  15   12    8    5    5    4    4    3    3    1    1    1    1    1\n"
       ]
      }
     ],
     "prompt_number": 19
    },
    {
     "cell_type": "code",
     "collapsed": false,
     "input": [
      "# consider 3 part of sentence, verb to verb"
     ],
     "language": "python",
     "metadata": {},
     "outputs": []
    },
    {
     "cell_type": "code",
     "collapsed": false,
     "input": [
      "from nltk.corpus import brown\n",
      "import nltk"
     ],
     "language": "python",
     "metadata": {},
     "outputs": [],
     "prompt_number": 4
    },
    {
     "cell_type": "code",
     "collapsed": false,
     "input": [
      "def process(sentence):\n",
      "    for (w1,t1), (w2,t2), (w3,t3) in nltk.trigrams(sentence):\n",
      "        if t1.startswith('V') and t3.startswith('V') and t2 == 'TO':\n",
      "            print w1, w2, w3"
     ],
     "language": "python",
     "metadata": {},
     "outputs": [],
     "prompt_number": 3
    },
    {
     "cell_type": "code",
     "collapsed": false,
     "input": [
      "for tagged_sentences in brown.tagged_sents()[1:10]:\n",
      "    process(tagged_sentences)"
     ],
     "language": "python",
     "metadata": {},
     "outputs": [
      {
       "output_type": "stream",
       "stream": "stdout",
       "text": [
        "combined to achieve\n"
       ]
      }
     ],
     "prompt_number": 6
    },
    {
     "cell_type": "code",
     "collapsed": false,
     "input": [
      "brown_news_tagged = brown.tagged_words(categories='news',simplify_tags=True)"
     ],
     "language": "python",
     "metadata": {},
     "outputs": [],
     "prompt_number": 10
    },
    {
     "cell_type": "code",
     "collapsed": false,
     "input": [
      "data = nltk.ConditionalFreqDist((word.lower(), tag) for word, tag in brown_news_tagged)"
     ],
     "language": "python",
     "metadata": {},
     "outputs": [],
     "prompt_number": 11
    },
    {
     "cell_type": "code",
     "collapsed": false,
     "input": [
      "for word in data.conditions():\n",
      "    if len(data[word]) > 3:\n",
      "        tags = data[word].keys()\n",
      "        print word, ''.join(tags)"
     ],
     "language": "python",
     "metadata": {},
     "outputs": [
      {
       "output_type": "stream",
       "stream": "stdout",
       "text": [
        "best ADJADVNPV\n",
        "better ADJADVVDET\n",
        "close ADVADJVN\n",
        "cut VNVNVD\n",
        "even ADVDETADJV\n",
        "hit VVDVNN\n",
        "lay ADJVNPVD\n",
        "left VDADJNVN\n",
        "like CNJVADJP\n",
        "near PADJADVDET\n",
        "open ADJVNADV\n",
        "past NADJDETP\n",
        "present ADJADVNV\n",
        "read VVNVDNP\n",
        "right ADJNDETADV\n",
        "second NUMADVDETN\n",
        "set VNVVDN\n"
       ]
      }
     ],
     "prompt_number": 14
    },
    {
     "cell_type": "code",
     "collapsed": false,
     "input": [
      "# 5.3 Mapping words to properties using Python Dictionaries"
     ],
     "language": "python",
     "metadata": {},
     "outputs": []
    },
    {
     "cell_type": "code",
     "collapsed": false,
     "input": [
      "pos = {'colourless': 'ADJ', 'ideas': 'N', 'sleep': 'V', 'furiously' : 'ADV'}\n",
      "pos2 = dict(colourless='ADJ', ideas='N', sleep='V', furiously ='ADV')"
     ],
     "language": "python",
     "metadata": {},
     "outputs": [],
     "prompt_number": 22
    },
    {
     "cell_type": "code",
     "collapsed": false,
     "input": [
      "list(pos)"
     ],
     "language": "python",
     "metadata": {},
     "outputs": [
      {
       "metadata": {},
       "output_type": "pyout",
       "prompt_number": 18,
       "text": [
        "['furiously', 'sleep', 'colourless', 'ideas']"
       ]
      }
     ],
     "prompt_number": 18
    },
    {
     "cell_type": "code",
     "collapsed": false,
     "input": [
      "# default dictionary"
     ],
     "language": "python",
     "metadata": {},
     "outputs": []
    },
    {
     "cell_type": "code",
     "collapsed": false,
     "input": [
      "frequency = nltk.defaultdict(int)"
     ],
     "language": "python",
     "metadata": {},
     "outputs": [],
     "prompt_number": 23
    },
    {
     "cell_type": "code",
     "collapsed": false,
     "input": [
      "frequency['test']"
     ],
     "language": "python",
     "metadata": {},
     "outputs": [
      {
       "metadata": {},
       "output_type": "pyout",
       "prompt_number": 25,
       "text": [
        "0"
       ]
      }
     ],
     "prompt_number": 25
    },
    {
     "cell_type": "code",
     "collapsed": false,
     "input": [
      "frequency['test2'] = 'hello' # Doesn't throw error - WTF???"
     ],
     "language": "python",
     "metadata": {},
     "outputs": [],
     "prompt_number": 26
    },
    {
     "cell_type": "code",
     "collapsed": false,
     "input": [
      "frequency "
     ],
     "language": "python",
     "metadata": {},
     "outputs": [
      {
       "metadata": {},
       "output_type": "pyout",
       "prompt_number": 27,
       "text": [
        "defaultdict(<type 'int'>, {'test': 0, 'test2': 'hello'})"
       ]
      }
     ],
     "prompt_number": 27
    },
    {
     "cell_type": "code",
     "collapsed": false,
     "input": [
      "# Incrementing dictionary"
     ],
     "language": "python",
     "metadata": {},
     "outputs": [],
     "prompt_number": 28
    },
    {
     "cell_type": "code",
     "collapsed": false,
     "input": [
      "counts = nltk.defaultdict(int)"
     ],
     "language": "python",
     "metadata": {},
     "outputs": [],
     "prompt_number": 8
    },
    {
     "cell_type": "code",
     "collapsed": false,
     "input": [
      "for word, tag in brown.tagged_words(categories='news'):\n",
      "    counts[tag] +=1"
     ],
     "language": "python",
     "metadata": {},
     "outputs": [],
     "prompt_number": 9
    },
    {
     "cell_type": "code",
     "collapsed": false,
     "input": [
      "from operator import itemgetter"
     ],
     "language": "python",
     "metadata": {},
     "outputs": [],
     "prompt_number": 10
    },
    {
     "cell_type": "code",
     "collapsed": false,
     "input": [
      "print sorted(counts.items(), key= itemgetter(1), reverse=True)[:10] # item to sort, specifies sort key, "
     ],
     "language": "python",
     "metadata": {},
     "outputs": [
      {
       "output_type": "stream",
       "stream": "stdout",
       "text": [
        "[('NN', 13162), ('IN', 10616), ('AT', 8893), ('NP', 6866), (',', 5133), ('NNS', 5066), ('.', 4452), ('JJ', 4392), ('CC', 2664), ('VBD', 2524)]\n"
       ]
      }
     ],
     "prompt_number": 11
    },
    {
     "cell_type": "code",
     "collapsed": false,
     "input": [
      "last_letters = nltk.defaultdict(list)"
     ],
     "language": "python",
     "metadata": {},
     "outputs": [],
     "prompt_number": 36
    },
    {
     "cell_type": "code",
     "collapsed": false,
     "input": [
      "words = nltk.corpus.words.words('en')"
     ],
     "language": "python",
     "metadata": {},
     "outputs": [],
     "prompt_number": 37
    },
    {
     "cell_type": "code",
     "collapsed": false,
     "input": [
      "for word in words:\n",
      "    key = word[-2:]\n",
      "    last_letters[key].append(word)"
     ],
     "language": "python",
     "metadata": {},
     "outputs": [],
     "prompt_number": 40
    },
    {
     "cell_type": "code",
     "collapsed": false,
     "input": [
      "anagrams = nltk.defaultdict(list)\n",
      "for word in words:\n",
      "    key = ''.join(sorted(word))\n",
      "    anagrams[key].append(word)"
     ],
     "language": "python",
     "metadata": {},
     "outputs": [],
     "prompt_number": 44
    },
    {
     "cell_type": "code",
     "collapsed": false,
     "input": [
      "anagrams['aeilnt']"
     ],
     "language": "python",
     "metadata": {},
     "outputs": [
      {
       "metadata": {},
       "output_type": "pyout",
       "prompt_number": 47,
       "text": [
        "['entail', 'tineal']"
       ]
      }
     ],
     "prompt_number": 47
    },
    {
     "cell_type": "code",
     "collapsed": false,
     "input": [
      "anagrams = nltk.Index( (''.join(sorted(word)), w) for w in words) # is a default dictionary. Also FreqDist is a defaultdict(int)"
     ],
     "language": "python",
     "metadata": {},
     "outputs": [],
     "prompt_number": 48
    },
    {
     "cell_type": "code",
     "collapsed": false,
     "input": [
      "# Complex keys and values"
     ],
     "language": "python",
     "metadata": {},
     "outputs": [],
     "prompt_number": 49
    },
    {
     "cell_type": "code",
     "collapsed": false,
     "input": [
      "pos = nltk.defaultdict(lambda: nltk.defaultdict(int))"
     ],
     "language": "python",
     "metadata": {},
     "outputs": [],
     "prompt_number": 54
    },
    {
     "cell_type": "code",
     "collapsed": false,
     "input": [
      "for (w1,t1),(w2,t2) in nltk.ibigrams(brown_news_tagged):\n",
      "    pos[(t1,w2)][t2] += 1"
     ],
     "language": "python",
     "metadata": {},
     "outputs": [],
     "prompt_number": 55
    },
    {
     "cell_type": "code",
     "collapsed": false,
     "input": [
      "pos[('DET','right')]"
     ],
     "language": "python",
     "metadata": {},
     "outputs": [
      {
       "metadata": {},
       "output_type": "pyout",
       "prompt_number": 56,
       "text": [
        "defaultdict(<type 'int'>, {'ADV': 3, 'ADJ': 9, 'N': 4})"
       ]
      }
     ],
     "prompt_number": 56
    },
    {
     "cell_type": "code",
     "collapsed": false,
     "input": [
      "# Inverting dictionary"
     ],
     "language": "python",
     "metadata": {},
     "outputs": []
    },
    {
     "cell_type": "code",
     "collapsed": false,
     "input": [
      "counts = nltk.defaultdict(int)"
     ],
     "language": "python",
     "metadata": {},
     "outputs": [],
     "prompt_number": 57
    },
    {
     "cell_type": "code",
     "collapsed": false,
     "input": [
      "for word in nltk.corpus.gutenberg.words('milton-paradise.txt'):\n",
      "    counts[word] += 1"
     ],
     "language": "python",
     "metadata": {},
     "outputs": [],
     "prompt_number": 63
    },
    {
     "cell_type": "code",
     "collapsed": false,
     "input": [
      "nltk.download()"
     ],
     "language": "python",
     "metadata": {},
     "outputs": [
      {
       "output_type": "stream",
       "stream": "stdout",
       "text": [
        "showing info http://nltk.github.com/nltk_data/\n"
       ]
      },
      {
       "metadata": {},
       "output_type": "pyout",
       "prompt_number": 61,
       "text": [
        "True"
       ]
      }
     ],
     "prompt_number": 61
    },
    {
     "cell_type": "code",
     "collapsed": false,
     "input": [
      "pos = {word: tag for word,tag in nltk.corpus.brown.tagged_words(categories='news')}\n",
      "pos2 = dict((value, key) for key, value in pos.items())"
     ],
     "language": "python",
     "metadata": {},
     "outputs": [],
     "prompt_number": 12
    },
    {
     "cell_type": "code",
     "collapsed": false,
     "input": [
      "pos2.keys()[:10]"
     ],
     "language": "python",
     "metadata": {},
     "outputs": [
      {
       "metadata": {},
       "output_type": "pyout",
       "prompt_number": 13,
       "text": [
        "['BE', 'NP$', 'WP$', 'WDT', 'JJ', 'NN-TL-HL', 'AP$', 'RP', 'NNS$-HL', '(']"
       ]
      }
     ],
     "prompt_number": 13
    },
    {
     "cell_type": "code",
     "collapsed": false,
     "input": [
      "# 5.4 Automatic Tagging"
     ],
     "language": "python",
     "metadata": {},
     "outputs": []
    },
    {
     "cell_type": "code",
     "collapsed": false,
     "input": [
      "# default tagger"
     ],
     "language": "python",
     "metadata": {},
     "outputs": []
    },
    {
     "cell_type": "code",
     "collapsed": false,
     "input": [
      "tags = [tag for word, tag in brown.tagged_words(categories='news')]"
     ],
     "language": "python",
     "metadata": {},
     "outputs": [],
     "prompt_number": 74
    },
    {
     "cell_type": "code",
     "collapsed": false,
     "input": [
      "nltk.FreqDist(tags).max()"
     ],
     "language": "python",
     "metadata": {},
     "outputs": [
      {
       "metadata": {},
       "output_type": "pyout",
       "prompt_number": 75,
       "text": [
        "'NN'"
       ]
      }
     ],
     "prompt_number": 75
    },
    {
     "cell_type": "code",
     "collapsed": false,
     "input": [
      "raw = 'this is testing the ability to tag words in a sentence'"
     ],
     "language": "python",
     "metadata": {},
     "outputs": [],
     "prompt_number": 76
    },
    {
     "cell_type": "code",
     "collapsed": false,
     "input": [
      "words = nltk.word_tokenize(raw)"
     ],
     "language": "python",
     "metadata": {},
     "outputs": [],
     "prompt_number": 77
    },
    {
     "cell_type": "code",
     "collapsed": false,
     "input": [
      "default_tagger = nltk.DefaultTagger('NN')"
     ],
     "language": "python",
     "metadata": {},
     "outputs": [],
     "prompt_number": 78
    },
    {
     "cell_type": "code",
     "collapsed": false,
     "input": [
      "print default_tagger.tag(words)"
     ],
     "language": "python",
     "metadata": {},
     "outputs": [
      {
       "ename": "NameError",
       "evalue": "name 'default_tagger' is not defined",
       "output_type": "pyerr",
       "traceback": [
        "\u001b[1;31m---------------------------------------------------------------------------\u001b[0m\n\u001b[1;31mNameError\u001b[0m                                 Traceback (most recent call last)",
        "\u001b[1;32m<ipython-input-85-3f72c4feaf2a>\u001b[0m in \u001b[0;36m<module>\u001b[1;34m()\u001b[0m\n\u001b[1;32m----> 1\u001b[1;33m \u001b[1;32mprint\u001b[0m \u001b[0mdefault_tagger\u001b[0m\u001b[1;33m.\u001b[0m\u001b[0mtag\u001b[0m\u001b[1;33m(\u001b[0m\u001b[0mwords\u001b[0m\u001b[1;33m)\u001b[0m\u001b[1;33m\u001b[0m\u001b[0m\n\u001b[0m",
        "\u001b[1;31mNameError\u001b[0m: name 'default_tagger' is not defined"
       ]
      }
     ],
     "prompt_number": 85
    },
    {
     "cell_type": "code",
     "collapsed": false,
     "input": [
      "default_tagger.evaluate(brown.tagged_sents(categories='news'))"
     ],
     "language": "python",
     "metadata": {},
     "outputs": [
      {
       "metadata": {},
       "output_type": "pyout",
       "prompt_number": 82,
       "text": [
        "0.13089484257215028"
       ]
      }
     ],
     "prompt_number": 82
    },
    {
     "cell_type": "code",
     "collapsed": false,
     "input": [
      "# regex tagger"
     ],
     "language": "python",
     "metadata": {},
     "outputs": []
    },
    {
     "cell_type": "code",
     "collapsed": false,
     "input": [
      "patterns = [\n",
      "    (r'.*ing$', 'VBG'),\n",
      "    (r'.*ed$', 'VBD'),\n",
      "    (r'.*es$', 'VBZ'),\n",
      "    (r'.*ould$', 'MD'),\n",
      "    (r'.*\\'s$', 'NN$'),\n",
      "    (r'.*s$', 'NNS'),\n",
      "    (r'^[0-9]+(.[0-9]+)?$', 'NNS'),\n",
      "    (r'^.*','NN')\n",
      "] # processed in orderm first match is applied"
     ],
     "language": "python",
     "metadata": {},
     "outputs": [],
     "prompt_number": 15
    },
    {
     "cell_type": "code",
     "collapsed": false,
     "input": [
      "regex_tagger  = nltk.RegexpTagger(patterns)"
     ],
     "language": "python",
     "metadata": {},
     "outputs": [],
     "prompt_number": 16
    },
    {
     "cell_type": "code",
     "collapsed": false,
     "input": [
      "regex_tagger.tag(brown.sents()[3])[:10]"
     ],
     "language": "python",
     "metadata": {},
     "outputs": [
      {
       "metadata": {},
       "output_type": "pyout",
       "prompt_number": 18,
       "text": [
        "[('``', 'NN'),\n",
        " ('Only', 'NN'),\n",
        " ('a', 'NN'),\n",
        " ('relative', 'NN'),\n",
        " ('handful', 'NN'),\n",
        " ('of', 'NN'),\n",
        " ('such', 'NN'),\n",
        " ('reports', 'NNS'),\n",
        " ('was', 'NNS'),\n",
        " ('received', 'VBD')]"
       ]
      }
     ],
     "prompt_number": 18
    },
    {
     "cell_type": "code",
     "collapsed": false,
     "input": [
      "regex_tagger.evaluate(brown.tagged_sents())"
     ],
     "language": "python",
     "metadata": {},
     "outputs": []
    },
    {
     "cell_type": "code",
     "collapsed": false,
     "input": [
      "# The lookup tagger"
     ],
     "language": "python",
     "metadata": {},
     "outputs": []
    },
    {
     "cell_type": "code",
     "collapsed": false,
     "input": [
      "fd =  nltk.FreqDist(brown.words(categories='news'))"
     ],
     "language": "python",
     "metadata": {},
     "outputs": [],
     "prompt_number": 5
    },
    {
     "cell_type": "code",
     "collapsed": false,
     "input": [
      "cfd = nltk.ConditionalFreqDist(brown.tagged_words(categories='news'))"
     ],
     "language": "python",
     "metadata": {},
     "outputs": [],
     "prompt_number": 6
    },
    {
     "cell_type": "code",
     "collapsed": false,
     "input": [
      "most_freq_words = fd.keys()[:100]"
     ],
     "language": "python",
     "metadata": {},
     "outputs": [],
     "prompt_number": 7
    },
    {
     "cell_type": "code",
     "collapsed": false,
     "input": [
      "likely_tags = dict((word, cfd[word].max()) for word in most_freq_words )"
     ],
     "language": "python",
     "metadata": {},
     "outputs": [],
     "prompt_number": 8
    },
    {
     "cell_type": "code",
     "collapsed": false,
     "input": [
      "baseline_tagger = nltk.UnigramTagger(model=likely_tags)"
     ],
     "language": "python",
     "metadata": {},
     "outputs": [],
     "prompt_number": 9
    },
    {
     "cell_type": "code",
     "collapsed": false,
     "input": [
      "baseline_tagger.evaluate(brown.tagged_sents(categories='news'))"
     ],
     "language": "python",
     "metadata": {},
     "outputs": [
      {
       "metadata": {},
       "output_type": "pyout",
       "prompt_number": 11,
       "text": [
        "0.45578495136941344"
       ]
      }
     ],
     "prompt_number": 11
    },
    {
     "cell_type": "markdown",
     "metadata": {},
     "source": [
      "Using top 100 allows us to tag a large number of words, around 50%"
     ]
    },
    {
     "cell_type": "code",
     "collapsed": false,
     "input": [
      "sent = brown.sents(categories='news')[3]"
     ],
     "language": "python",
     "metadata": {},
     "outputs": [],
     "prompt_number": 14
    },
    {
     "cell_type": "code",
     "collapsed": false,
     "input": [
      "baseline_tagger.tag(sent) # some assigned as None as not in top words"
     ],
     "language": "python",
     "metadata": {},
     "outputs": [
      {
       "metadata": {},
       "output_type": "pyout",
       "prompt_number": 15,
       "text": [
        "[('``', '``'),\n",
        " ('Only', None),\n",
        " ('a', 'AT'),\n",
        " ('relative', None),\n",
        " ('handful', None),\n",
        " ('of', 'IN'),\n",
        " ('such', None),\n",
        " ('reports', None),\n",
        " ('was', 'BEDZ'),\n",
        " ('received', None),\n",
        " (\"''\", \"''\"),\n",
        " (',', ','),\n",
        " ('the', 'AT'),\n",
        " ('jury', None),\n",
        " ('said', 'VBD'),\n",
        " (',', ','),\n",
        " ('``', '``'),\n",
        " ('considering', None),\n",
        " ('the', 'AT'),\n",
        " ('widespread', None),\n",
        " ('interest', None),\n",
        " ('in', 'IN'),\n",
        " ('the', 'AT'),\n",
        " ('election', None),\n",
        " (',', ','),\n",
        " ('the', 'AT'),\n",
        " ('number', None),\n",
        " ('of', 'IN'),\n",
        " ('voters', None),\n",
        " ('and', 'CC'),\n",
        " ('the', 'AT'),\n",
        " ('size', None),\n",
        " ('of', 'IN'),\n",
        " ('this', 'DT'),\n",
        " ('city', None),\n",
        " (\"''\", \"''\"),\n",
        " ('.', '.')]"
       ]
      }
     ],
     "prompt_number": 15
    },
    {
     "cell_type": "markdown",
     "metadata": {},
     "source": [
      "* first use a lookup table, then have a default for assignment - backoff"
     ]
    },
    {
     "cell_type": "code",
     "collapsed": false,
     "input": [
      "base_line_tagger = nltk.UnigramTagger(model=likely_tags, \n",
      "                                      backoff=nltk.DefaultTagger('NN'))"
     ],
     "language": "python",
     "metadata": {},
     "outputs": [],
     "prompt_number": 16
    },
    {
     "cell_type": "code",
     "collapsed": false,
     "input": [
      "def performance(cfd, wordlist):\n",
      "    lt = dict((word, cfd[word].max()) for word in wordlist)\n",
      "    baseline_tagger = nltk.UnigramTagger(model=lt, backoff=nltk.DefaultTagger('NN'))\n",
      "    return baseline_tagger.evaluate(brown.tagged_sents(categories='news'))"
     ],
     "language": "python",
     "metadata": {},
     "outputs": [],
     "prompt_number": 18
    },
    {
     "cell_type": "code",
     "collapsed": false,
     "input": [
      "import pylab\n",
      "def display():\n",
      "    words_by_freq = list(nltk.FreqDist(brown.words(categories='news')))\n",
      "    cfd = nltk.ConditionalFreqDist(brown.tagged_words(categories='news'))\n",
      "    sizes = 2** pylab.arange(15)\n",
      "    perfs = [performance(cfd, words_by_freq[:size]) for size in sizes]\n",
      "    pylab.plot(sizes, perfs, '-bo')\n",
      "    pylab.title('Lookup Tagger Performance with Varying Model Size')\n",
      "    pylab.xlabel('Model Size')\n",
      "    pylab.ylabel('Performance')\n",
      "    pylab.show()"
     ],
     "language": "python",
     "metadata": {},
     "outputs": [],
     "prompt_number": 22
    },
    {
     "cell_type": "code",
     "collapsed": false,
     "input": [
      "display()"
     ],
     "language": "python",
     "metadata": {},
     "outputs": []
    },
    {
     "cell_type": "code",
     "collapsed": false,
     "input": [
      "# 5.3 Ngram Tagging"
     ],
     "language": "python",
     "metadata": {},
     "outputs": [],
     "prompt_number": 24
    },
    {
     "cell_type": "code",
     "collapsed": false,
     "input": [
      "# Unigram taggers - statstical al, assigning tag which is most likely for that token"
     ],
     "language": "python",
     "metadata": {},
     "outputs": [],
     "prompt_number": 26
    },
    {
     "cell_type": "code",
     "collapsed": false,
     "input": [
      "# training a unigram tagger"
     ],
     "language": "python",
     "metadata": {},
     "outputs": [],
     "prompt_number": 30
    },
    {
     "cell_type": "code",
     "collapsed": false,
     "input": [
      "from nltk.corpus import brown\n",
      "import nltk"
     ],
     "language": "python",
     "metadata": {},
     "outputs": [],
     "prompt_number": 5
    },
    {
     "cell_type": "code",
     "collapsed": false,
     "input": [
      "brown_tagged_sent = brown.tagged_sents(categories='news')"
     ],
     "language": "python",
     "metadata": {},
     "outputs": [],
     "prompt_number": 2
    },
    {
     "cell_type": "code",
     "collapsed": false,
     "input": [
      "brown_sents = brown.sents(categories='news')"
     ],
     "language": "python",
     "metadata": {},
     "outputs": [],
     "prompt_number": 3
    },
    {
     "cell_type": "code",
     "collapsed": false,
     "input": [
      "unigram_tagger = nltk.UnigramTagger(brown_tagged_sent)"
     ],
     "language": "python",
     "metadata": {},
     "outputs": [],
     "prompt_number": 6
    },
    {
     "cell_type": "code",
     "collapsed": false,
     "input": [
      "print unigram_tagger.tag(brown_sents[2007])"
     ],
     "language": "python",
     "metadata": {},
     "outputs": [
      {
       "output_type": "stream",
       "stream": "stdout",
       "text": [
        "[('Various', 'JJ'), ('of', 'IN'), ('the', 'AT'), ('apartments', 'NNS'), ('are', 'BER'), ('of', 'IN'), ('the', 'AT'), ('terrace', 'NN'), ('type', 'NN'), (',', ','), ('being', 'BEG'), ('on', 'IN'), ('the', 'AT'), ('ground', 'NN'), ('floor', 'NN'), ('so', 'QL'), ('that', 'CS'), ('entrance', 'NN'), ('is', 'BEZ'), ('direct', 'JJ'), ('.', '.')]\n"
       ]
      }
     ],
     "prompt_number": 9
    },
    {
     "cell_type": "code",
     "collapsed": false,
     "input": [
      "unigram_tagger.evaluate(brown_tagged_sent)"
     ],
     "language": "python",
     "metadata": {},
     "outputs": [
      {
       "metadata": {},
       "output_type": "pyout",
       "prompt_number": 11,
       "text": [
        "0.9349006503968017"
       ]
      }
     ],
     "prompt_number": 11
    },
    {
     "cell_type": "code",
     "collapsed": false,
     "input": [
      "# test and training"
     ],
     "language": "python",
     "metadata": {},
     "outputs": [],
     "prompt_number": 13
    },
    {
     "cell_type": "code",
     "collapsed": false,
     "input": [
      "training_size = int(len(brown_tagged_sent)*0.8)\n",
      "test_sents, training_sents = brown_tagged_sent[training_size:], brown_tagged_sent[:training_size]"
     ],
     "language": "python",
     "metadata": {},
     "outputs": [],
     "prompt_number": 15
    },
    {
     "cell_type": "code",
     "collapsed": false,
     "input": [
      "unigram_tagger = nltk.UnigramTagger(training_sents)"
     ],
     "language": "python",
     "metadata": {},
     "outputs": [],
     "prompt_number": 16
    },
    {
     "cell_type": "code",
     "collapsed": false,
     "input": [
      "unigram_tagger.evaluate(test_sents)"
     ],
     "language": "python",
     "metadata": {},
     "outputs": [
      {
       "metadata": {},
       "output_type": "pyout",
       "prompt_number": 17,
       "text": [
        "0.802158100101161"
       ]
      }
     ],
     "prompt_number": 17
    },
    {
     "cell_type": "markdown",
     "metadata": {},
     "source": [
      "## General Ngram tagging"
     ]
    },
    {
     "cell_type": "markdown",
     "metadata": {},
     "source": [
      "* generalisation of unigram tagger, whose context is current word\n",
      "* with parts of speech tages of n-1 preceeding tokend\n",
      "* Context based"
     ]
    },
    {
     "cell_type": "code",
     "collapsed": false,
     "input": [
      "bigram_tagger = nltk.BigramTagger(training_sents)"
     ],
     "language": "python",
     "metadata": {},
     "outputs": [],
     "prompt_number": 24
    },
    {
     "cell_type": "code",
     "collapsed": false,
     "input": [
      "bigram_tagger.tag(brown_sents[2007])"
     ],
     "language": "python",
     "metadata": {},
     "outputs": [
      {
       "metadata": {},
       "output_type": "pyout",
       "prompt_number": 25,
       "text": [
        "[('Various', 'JJ'),\n",
        " ('of', 'IN'),\n",
        " ('the', 'AT'),\n",
        " ('apartments', 'NNS'),\n",
        " ('are', 'BER'),\n",
        " ('of', 'IN'),\n",
        " ('the', 'AT'),\n",
        " ('terrace', 'NN'),\n",
        " ('type', 'NN'),\n",
        " (',', ','),\n",
        " ('being', 'BEG'),\n",
        " ('on', 'IN'),\n",
        " ('the', 'AT'),\n",
        " ('ground', 'NN'),\n",
        " ('floor', 'NN'),\n",
        " ('so', 'CS'),\n",
        " ('that', 'CS'),\n",
        " ('entrance', 'NN'),\n",
        " ('is', 'BEZ'),\n",
        " ('direct', 'JJ'),\n",
        " ('.', '.')]"
       ]
      }
     ],
     "prompt_number": 25
    },
    {
     "cell_type": "code",
     "collapsed": false,
     "input": [
      "bigram_tagger.tag(brown_sents[4203]) # unseen sentence. Can't tag unseen roles"
     ],
     "language": "python",
     "metadata": {},
     "outputs": [
      {
       "metadata": {},
       "output_type": "pyout",
       "prompt_number": 26,
       "text": [
        "[('The', 'AT'),\n",
        " ('population', 'NN'),\n",
        " ('of', 'IN'),\n",
        " ('the', 'AT'),\n",
        " ('Congo', None),\n",
        " ('is', None),\n",
        " ('13.5', None),\n",
        " ('million', None),\n",
        " (',', None),\n",
        " ('divided', None),\n",
        " ('into', None),\n",
        " ('at', None),\n",
        " ('least', None),\n",
        " ('seven', None),\n",
        " ('major', None),\n",
        " ('``', None),\n",
        " ('culture', None),\n",
        " ('clusters', None),\n",
        " (\"''\", None),\n",
        " ('and', None),\n",
        " ('innumerable', None),\n",
        " ('tribes', None),\n",
        " ('speaking', None),\n",
        " ('400', None),\n",
        " ('separate', None),\n",
        " ('dialects', None),\n",
        " ('.', None)]"
       ]
      }
     ],
     "prompt_number": 26
    },
    {
     "cell_type": "code",
     "collapsed": false,
     "input": [
      "bigram_tagger.evaluate(test_sents)"
     ],
     "language": "python",
     "metadata": {},
     "outputs": [
      {
       "metadata": {},
       "output_type": "pyout",
       "prompt_number": 27,
       "text": [
        "0.09200828556288838"
       ]
      }
     ],
     "prompt_number": 27
    },
    {
     "cell_type": "markdown",
     "metadata": {},
     "source": [
      "* n increases, specifity of context increases, becomes less likely data has appeared before"
     ]
    },
    {
     "cell_type": "markdown",
     "metadata": {},
     "source": [
      "## Combining taggers\n",
      "* use higher accuracy algorithms,  and fall back onto algos with wide coverage\n",
      "* try bigram, then unigram if bigram fails, then default"
     ]
    },
    {
     "cell_type": "code",
     "collapsed": false,
     "input": [
      "t0 = nltk.DefaultTagger('NN')"
     ],
     "language": "python",
     "metadata": {},
     "outputs": [],
     "prompt_number": 32
    },
    {
     "cell_type": "code",
     "collapsed": false,
     "input": [
      "t1 = nltk.UnigramTagger(training_sents, backoff=t0)"
     ],
     "language": "python",
     "metadata": {},
     "outputs": [],
     "prompt_number": 33
    },
    {
     "cell_type": "code",
     "collapsed": false,
     "input": [
      "t2 = nltk.BigramTagger(training_sents, backoff=t1)"
     ],
     "language": "python",
     "metadata": {},
     "outputs": [],
     "prompt_number": 34
    },
    {
     "cell_type": "code",
     "collapsed": false,
     "input": [
      "t2.evaluate(test_sents)"
     ],
     "language": "python",
     "metadata": {},
     "outputs": [
      {
       "metadata": {},
       "output_type": "pyout",
       "prompt_number": 35,
       "text": [
        "0.8355412110409942"
       ]
      }
     ],
     "prompt_number": 35
    },
    {
     "cell_type": "markdown",
     "metadata": {},
     "source": [
      "## Tagging unknown words"
     ]
    },
    {
     "cell_type": "markdown",
     "metadata": {},
     "source": [
      "* still used a default or regex backoff\n",
      "* can limit tagger to most frequent n terms, to prevent mis-tagging"
     ]
    },
    {
     "cell_type": "code",
     "collapsed": false,
     "input": [
      "from cPickle import dump"
     ],
     "language": "python",
     "metadata": {},
     "outputs": [],
     "prompt_number": 40
    },
    {
     "cell_type": "code",
     "collapsed": false,
     "input": [
      "output = open('t2.pkl','wb')"
     ],
     "language": "python",
     "metadata": {},
     "outputs": [],
     "prompt_number": 41
    },
    {
     "cell_type": "code",
     "collapsed": false,
     "input": [
      "dump(t2, output, -1)"
     ],
     "language": "python",
     "metadata": {},
     "outputs": [],
     "prompt_number": 42
    },
    {
     "cell_type": "code",
     "collapsed": false,
     "input": [
      "output.close()"
     ],
     "language": "python",
     "metadata": {},
     "outputs": [],
     "prompt_number": 43
    },
    {
     "cell_type": "code",
     "collapsed": false,
     "input": [
      "from cPickle import load"
     ],
     "language": "python",
     "metadata": {},
     "outputs": [],
     "prompt_number": 44
    },
    {
     "cell_type": "code",
     "collapsed": false,
     "input": [
      "input = open('t2.pkl', 'rb')"
     ],
     "language": "python",
     "metadata": {},
     "outputs": [],
     "prompt_number": 45
    },
    {
     "cell_type": "code",
     "collapsed": false,
     "input": [
      "tagger = load(input)"
     ],
     "language": "python",
     "metadata": {},
     "outputs": [],
     "prompt_number": 46
    },
    {
     "cell_type": "code",
     "collapsed": false,
     "input": [
      "input.close()"
     ],
     "language": "python",
     "metadata": {},
     "outputs": [],
     "prompt_number": 47
    },
    {
     "cell_type": "code",
     "collapsed": false,
     "input": [
      "text= 'The board\\'s actions show what free enterprise is up against in our complex maze of regulatory laws.'"
     ],
     "language": "python",
     "metadata": {},
     "outputs": [],
     "prompt_number": 49
    },
    {
     "cell_type": "code",
     "collapsed": false,
     "input": [
      "tokens = text.split()"
     ],
     "language": "python",
     "metadata": {},
     "outputs": [],
     "prompt_number": 50
    },
    {
     "cell_type": "code",
     "collapsed": false,
     "input": [
      "tagger.tag(tokens)"
     ],
     "language": "python",
     "metadata": {},
     "outputs": [
      {
       "metadata": {},
       "output_type": "pyout",
       "prompt_number": 51,
       "text": [
        "[('The', 'AT'),\n",
        " (\"board's\", 'NN$'),\n",
        " ('actions', 'NNS'),\n",
        " ('show', 'VB'),\n",
        " ('what', 'WDT'),\n",
        " ('free', 'JJ'),\n",
        " ('enterprise', 'NN'),\n",
        " ('is', 'BEZ'),\n",
        " ('up', 'RP'),\n",
        " ('against', 'IN'),\n",
        " ('in', 'IN'),\n",
        " ('our', 'PP$'),\n",
        " ('complex', 'JJ'),\n",
        " ('maze', 'NN'),\n",
        " ('of', 'IN'),\n",
        " ('regulatory', 'NN'),\n",
        " ('laws.', 'NN')]"
       ]
      }
     ],
     "prompt_number": 51
    },
    {
     "cell_type": "code",
     "collapsed": false,
     "input": [
      "# performance limitation"
     ],
     "language": "python",
     "metadata": {},
     "outputs": [],
     "prompt_number": 52
    },
    {
     "cell_type": "code",
     "collapsed": false,
     "input": [
      "cfd = nltk.ConditionalFreqDist( \n",
      "            ((x[1],y[1],z[0]), z[1])\n",
      "            for sent in brown_tagged_sent\n",
      "            for x,y,z in nltk.trigrams(sent))"
     ],
     "language": "python",
     "metadata": {},
     "outputs": [],
     "prompt_number": 53
    },
    {
     "cell_type": "code",
     "collapsed": false,
     "input": [
      "ambiguous_contexts = [c for c in cfd.conditions() if len(cfd[c]) > 1]"
     ],
     "language": "python",
     "metadata": {},
     "outputs": [],
     "prompt_number": 55
    },
    {
     "cell_type": "code",
     "collapsed": false,
     "input": [
      "from __future__ import division"
     ],
     "language": "python",
     "metadata": {},
     "outputs": [],
     "prompt_number": 57
    },
    {
     "cell_type": "code",
     "collapsed": false,
     "input": [
      "sum(cfd[c].N() for c in ambiuous_contexts)/cfd.N()"
     ],
     "language": "python",
     "metadata": {},
     "outputs": [
      {
       "metadata": {},
       "output_type": "pyout",
       "prompt_number": 58,
       "text": [
        "0.049297702068029296"
       ]
      }
     ],
     "prompt_number": 58
    },
    {
     "cell_type": "markdown",
     "metadata": {},
     "source": [
      "* 1/20 trigrams is ambiguous. Given last two tags, 5% of cases could have 1+ tag "
     ]
    },
    {
     "cell_type": "code",
     "collapsed": false,
     "input": [
      "test_tags = [tag for sent in brown.sents(categories='editorial')\n",
      "             for word, tag in t2.tag(sent)]"
     ],
     "language": "python",
     "metadata": {},
     "outputs": [],
     "prompt_number": 61
    },
    {
     "cell_type": "code",
     "collapsed": false,
     "input": [
      "gold_tags = [tag for word, tag in brown.tagged_words(categories='editorial')]"
     ],
     "language": "python",
     "metadata": {},
     "outputs": [],
     "prompt_number": 62
    },
    {
     "cell_type": "code",
     "collapsed": false,
     "input": [
      "print nltk.ConfusionMatrix(gold_tags, test_tags)"
     ],
     "language": "python",
     "metadata": {},
     "outputs": [
      {
       "output_type": "stream",
       "stream": "stdout",
       "text": [
        "           |                                                                                                                                                                                                                                                                                                                                                                                                                                                                                                                                                                                                                                                                                                                                                                                                                                                                                                                                                                                                                                            W                                              |\n",
        "           |                                                                                                                                                                                                                                                                                                                                                                                                                                                                                                                                                                                                                                 N                                                                                                                                                                                                                                                                                                                                                                            V                             D                                              |\n",
        "           |                                                                                                                                                                                                                                                                                                                                                             F              F         F         F                                                                                                        J                                                                                         N                             N                                                                                                                                                                                        P    P         P                                                                                                                                                                    B                             T                                              |\n",
        "           |                                                                                                                                                                    B                                                                                                                                                                                        W              W         W         W                                                                                                        J                                                                                         N              N              S                                            N                                                                                                                       P    P              P    P    P    P    P    P    P                                                                                                                                                     N                        W    +                             W                |\n",
        "           |                                                                                              A                                                                     E                             B    B              B    B                                                                                    D         D                        E         -              -         -         -    F         F    F         F    F                                                                     -         J    J         J         J                                  N    N              -              N    N    N    -              N    N    N                   P    N    N              N                                                 P    P         P              P    P         P    P    P         S    S    P    S    P    P    P                                                                                              V                   V         V    V         V    V    -         V    V         D    B    W              W         P         W      |\n",
        "           |                                                      -                                       B                   A    A         A    A         B              B    D                             E    E              E    E         C    C         C    C         C              D    D                        O         T                        X    F    A    F    F    I    F    J    F    N    W    F    W    W    F    W    W                                       I    I    I         J    J    T         J    J         J         J              M    M              N    N    N    N    T              S    N    N    T              P    P    P    N    N         S    P    P              R    N              O              P              P    P         P              P    P         S    S    P         S    S    S    S    S    S    S         Q                   R    R    R                        R         T         U         B    V    V         B         B    B         B    B    T         B    B         T    E    D              P         S         R      |\n",
        "           |                   (              *         ,         -         .         :    :              N                   P    P         T    T         E         B    E    Z                        B    R    R         B    Z    Z         C    C         D    D         S              O    O         D         D    Z         +                        +    W    T    W    W    N    W    J    W    N    -    W    -    -    W    -    -                             H         N    N    N         J    J    L         R    R         S         T              D    D              $    $    N    N    L         N    $    S    S    L              $    $    +    P    P         $    S    S              $    R              D              N         P    $    $         L    P         O    O         +    +    S    P    +    +    S    +    S    S    S         L                   B    B    B                        P         O         H         +    B    B         D         G    G         N    N    L         Z    Z         +    Z    T              O         +         B      |\n",
        "           |                   -              -         -         -         -         -    -    A    A    -    A         A    -    -         -    -         -    B    E    D    -    B    B    B    B    E    -    -    B    E    -    -         -    -         -    -         -         D    -    -    D    O    D    O    -         B    D    D    D         B    -    -    -    -    -    -    -    -    -    N    -    P    P    -    V    W         H    H    H    H    V         -    -    -         -    -    -    J    -    -    J    -    J    -         M    -    -         N    -    -    -    -    -    N    N    -    -    -    -         N    -    -    B    -    -    N    -    -    -         N    -    -    N         -         P    -    P    P    -    -    P    -    P    P    -    -    P    B    H    +    P    B    B    +    H    +    -    -         -    Q         R    -    -    -    R    R              -         -         -         P    -    -    V    -    V    -    -    V    -    -    -    V    -    -    W    B    -    -    W    W    -    W    B    W    -      |\n",
        "           |         '         H              H         H    -    H         H         H    T    B    B    T    B    A    P    H    T    A    H    T    B    H    E    D    Z    H    E    E    E    E    R    H    T    E    Z    H    T    C    H    T    C    H    T    C    H    D    O    H    T    O    D    O    Z    H    D    E    T    T    T    E    E    A    T    C    I    T    J    T    N    T    N    N    P    P    V    B    D    H    V    V    V    V    Z    I    H    N    T    J    H    T    H    J    H    T    J    T    J    H    M    D    H    T    N    N    H    T    H    T    H    N    S    T    H    T    H    N    P    H    T    E    H    T    P    H    H    T    N    R    T    T    R    O    T    P    N    H    P    $    H    T    P    H    L    P    H    T    P    E    V    M    S    E    E    H    V    M    H    T    Q    H    L    R    B    H    N    T    B    B    R    R    H    T    H    U    H    V    P    H    T    B    H    B    H    T    B    H    T    H    B    H    T    D    E    H    H    P    P    T    P    E    R    H    ` |\n",
        "           |    '    '    (    L    )    *    L    ,    L    -    L    .    L    :    L    L    L    N    L    X    P    $    L    L    T    L    L    E    L    D    Z    *    L    G    M    N    R    *    L    L    Z    *    L    L    C    L    L    D    L    L    S    L    O    *    L    L    D    *    Z    *    L    T    Z    I    S    X    X    Z    T    L    C    N    L    J    L    N    L    S    P    L    O    B    Z    T    V    D    G    N    Z    *    N    L    C    L    J    L    L    L    R    L    L    S    L    T    L    D    *    L    L    N    $    L    L    L    L    L    S    $    L    L    L    L    P    $    L    L    Z    L    L    S    L    L    L    R    $    L    L    S    D    L    N    $    L    $    $    L    L    L    L    S    O    L    L    S    Z    Z    D    S    M    R    V    D    D    L    L    L    L    P    B    $    L    C    L    R    T    N    P    L    O    L    H    L    B    O    L    L    D    L    G    L    L    N    L    L    L    Z    L    L    T    Z    L    L    $    O    L    S    Z    B    L    ` |\n",
        "-----------+-------------------------------------------------------------------------------------------------------------------------------------------------------------------------------------------------------------------------------------------------------------------------------------------------------------------------------------------------------------------------------------------------------------------------------------------------------------------------------------------------------------------------------------------------------------------------------------------------------------------------------------------------------------------------------------------------------------------------------------------------------------------------------------------------------------------------------------------------------------------------------------------------------------------------------------------------------------------------------------------------------------------------------------------------------------------------------------------+\n",
        "         ' |  <19>   .    .    .    .    .    .    .    .    .    .    .    .    .    .    .    .    .    .    .    .    .    .    .    .    .    .    .    .    .    .    .    .    .    .    .    .    .    .    .    .    .    .    .    .    .    .    .    .    .    .    .    .    .    .    .    .    .    .    .    .    .    .    .    .    .    .    .    .    .    .    .    .    .    .    .    .    .    .    .    .    .    .    .    .    .    .    .    .    .    .    .    .    .    .    .    .    .    .    .    .    .    .    .    .    .    .    .    .    .    .    .    .    .    .    .    .    .    .    .    .    .    .    .    .    .    .    .    .    .    .    .    .    .    .    .    .    .    .    .    .    .    .    .    .    .    .    .    .    .    .    .    .    .    .    .    .    .    .    .    .    .    .    .    .    .    .    .    .    .    .    .    .    .    .    .    .    .    .    .    .    .    .    .    .    .    .    .    .    .    .    .    .    .    .    .    .    .    .    .    .    .    .    .    .    .    .    .    .    . |\n",
        "        '' |    . <382>   .    .    .    .    .    .    .    .    .    .    .    .    .    .    .    .    .    .    .    .    .    .    .    .    .    .    .    .    .    .    .    .    .    .    .    .    .    .    .    .    .    .    .    .    .    .    .    .    .    .    .    .    .    .    .    .    .    .    .    .    .    .    .    .    .    .    .    .    .    .    .    .    .    .    .    .    .    .    .    .    .    .    .    .    .    .    .    .    .    .    .    .    .    .    .    .    .    .    .    .    .    .    .    .    .    .    .    .    .    .    .    .    .    .    .    .    .    .    .    .    .    .    .    .    .    .    .    .    .    .    .    .    .    .    .    .    .    .    .    .    .    .    .    .    .    .    .    .    .    .    .    .    .    .    .    .    .    .    .    .    .    .    .    .    .    .    .    .    .    .    .    .    .    .    .    .    .    .    .    .    .    .    .    .    .    .    .    .    .    .    .    .    .    .    .    .    .    .    .    .    .    .    .    .    .    .    .    . |\n",
        "         ( |    .    .  <94>   1    .    .    .    .    .    .    .    .    .    .    .    .    .    .    .    .    .    .    .    .    .    .    .    .    .    .    .    .    .    .    .    .    .    .    .    .    .    .    .    .    .    .    .    .    .    .    .    .    .    .    .    .    .    .    .    .    .    .    .    .    .    .    .    .    .    .    .    .    .    .    .    .    .    .    .    .    .    .    .    .    .    .    .    .    .    .    .    .    .    .    .    .    .    .    .    .    .    .    .    .    .    .    .    .    .    .    .    .    .    .    .    .    .    .    .    .    .    .    .    .    .    .    .    .    .    .    .    .    .    .    .    .    .    .    .    .    .    .    .    .    .    .    .    .    .    .    .    .    .    .    .    .    .    .    .    .    .    .    .    .    .    .    .    .    .    .    .    .    .    .    .    .    .    .    .    .    .    .    .    .    .    .    .    .    .    .    .    .    .    .    .    .    .    .    .    .    .    .    .    .    .    .    .    .    .    . |\n",
        "      (-HL |    .    .    .   <.>   .    .    .    .    .    .    .    .    .    .    .    .    .    .    .    .    .    .    .    .    .    .    .    .    .    .    .    .    .    .    .    .    .    .    .    .    .    .    .    .    .    .    .    .    .    .    .    .    .    .    .    .    .    .    .    .    .    .    .    .    .    .    .    .    .    .    .    .    .    .    .    .    .    .    .    .    .    .    .    .    .    .    .    .    .    .    .    .    .    .    .    .    .    .    .    .    .    .    .    .    .    .    .    .    .    .    .    .    .    .    .    .    .    .    .    .    .    .    .    .    .    .    .    .    .    .    .    .    .    .    .    .    .    .    .    .    .    .    .    .    .    .    .    .    .    .    .    .    .    .    .    .    .    .    .    .    .    .    .    .    .    .    .    .    .    .    .    .    .    .    .    .    .    .    .    .    .    .    .    .    .    .    .    .    .    .    .    .    .    .    .    .    .    .    .    .    .    .    .    .    .    .    .    .    .    . |\n",
        "         ) |    .    .    .    .  <95>   .    .    .    .    .    .    .    .    .    .    .    .    .    .    .    .    .    .    .    .    .    .    .    .    .    .    .    .    .    .    .    .    .    .    .    .    .    .    .    .    .    .    .    .    .    .    .    .    .    .    .    .    .    .    .    .    .    .    .    .    .    .    .    .    .    .    .    .    .    .    .    .    .    .    .    .    .    .    .    .    .    .    .    .    .    .    .    .    .    .    .    .    .    .    .    .    .    .    .    .    .    .    .    .    .    .    .    .    .    .    .    .    .    .    .    .    .    .    .    .    .    .    .    .    .    .    .    .    .    .    .    .    .    .    .    .    .    .    .    .    .    .    .    .    .    .    .    .    .    .    .    .    .    .    .    .    .    .    .    .    .    .    .    .    .    .    .    .    .    .    .    .    .    .    .    .    .    .    .    .    .    .    .    .    .    .    .    .    .    .    .    .    .    .    .    .    .    .    .    .    .    .    .    .    . |\n",
        "         * |    .    .    .    .    . <304>   .    .    .    .    .    .    .    .    .    .    .    .    .    .    .    .    .    .    .    .    .    .    .    .    .    .    .    .    .    .    .    .    .    .    .    .    .    .    .    .    .    .    .    .    .    .    .    .    .    .    .    .    .    .    .    .    .    .    .    .    .    .    .    .    .    .    .    .    .    .    .    .    .    .    .    .    .    .    .    .    .    .    .    .    .    .    .    .    .    .    .    .    .    .    .    .    .    .    .    .    .    .    .    .    .    .    .    .    .    .    .    .    .    .    .    .    .    .    .    .    .    .    .    .    .    .    .    .    .    .    .    .    .    .    .    .    .    .    .    .    .    .    .    .    .    .    .    .    .    .    .    .    .    .    .    .    .    .    .    .    .    .    .    .    .    .    .    .    .    .    .    .    .    .    .    .    .    .    .    .    .    .    .    .    .    .    .    .    .    .    .    .    .    .    .    .    .    .    .    .    .    .    .    . |\n",
        "      *-HL |    .    .    .    .    .    3   <.>   .    .    .    .    .    .    .    .    .    .    .    .    .    .    .    .    .    .    .    .    .    .    .    .    .    .    .    .    .    .    .    .    .    .    .    .    .    .    .    .    .    .    .    .    .    .    .    .    .    .    .    .    .    .    .    .    .    .    .    .    .    .    .    .    .    .    .    .    .    .    .    .    .    .    .    .    .    .    .    .    .    .    .    .    .    .    .    .    .    .    .    .    .    .    .    .    .    .    .    .    .    .    .    .    .    .    .    .    .    .    .    .    .    .    .    .    .    .    .    .    .    .    .    .    .    .    .    .    .    .    .    .    .    .    .    .    .    .    .    .    .    .    .    .    .    .    .    .    .    .    .    .    .    .    .    .    .    .    .    .    .    .    .    .    .    .    .    .    .    .    .    .    .    .    .    .    .    .    .    .    .    .    .    .    .    .    .    .    .    .    .    .    .    .    .    .    .    .    .    .    .    .    . |\n",
        "         , |    .    .    .    .    .    .    .<2735>   6    .    .    .    .    .    .    .    .    .    .    .    .    .    .    .    .    .    .    .    .    .    .    .    .    .    .    .    .    .    .    .    .    .    .    .    .    .    .    .    .    .    .    .    .    .    .    .    .    .    .    .    .    .    .    .    .    .    .    .    .    .    .    .    .    .    .    .    .    .    .    .    .    .    .    .    .    .    .    .    .    .    .    .    .    .    .    .    .    .    .    .    .    .    .    .    .    .    .    .    .    .    .    .    .    .    .    .    .    .    .    .    .    .    .    .    .    .    .    .    .    .    .    .    .    .    .    .    .    .    .    .    .    .    .    .    .    .    .    .    .    .    .    .    .    .    .    .    .    .    .    .    .    .    .    .    .    .    .    .    .    .    .    .    .    .    .    .    .    .    .    .    .    .    .    .    .    .    .    .    .    .    .    .    .    .    .    .    .    .    .    .    .    .    .    .    .    .    .    .    .    . |\n",
        "      ,-HL |    .    .    .    .    .    .    .   22   <3>   .    .    .    .    .    .    .    .    .    .    .    .    .    .    .    .    .    .    .    .    .    .    .    .    .    .    .    .    .    .    .    .    .    .    .    .    .    .    .    .    .    .    .    .    .    .    .    .    .    .    .    .    .    .    .    .    .    .    .    .    .    .    .    .    .    .    .    .    .    .    .    .    .    .    .    .    .    .    .    .    .    .    .    .    .    .    .    .    .    .    .    .    .    .    .    .    .    .    .    .    .    .    .    .    .    .    .    .    .    .    .    .    .    .    .    .    .    .    .    .    .    .    .    .    .    .    .    .    .    .    .    .    .    .    .    .    .    .    .    .    .    .    .    .    .    .    .    .    .    .    .    .    .    .    .    .    .    .    .    .    .    .    .    .    .    .    .    .    .    .    .    .    .    .    .    .    .    .    .    .    .    .    .    .    .    .    .    .    .    .    .    .    .    .    .    .    .    .    .    .    . |\n",
        "        -- |    .    .    .    .    .    .    .    .    . <191>   .    .    .    .    .    .    .    .    .    .    .    .    .    .    .    .    .    .    .    .    .    .    .    .    .    .    .    .    .    .    .    .    .    .    .    .    .    .    .    .    .    .    .    .    .    .    .    .    .    .    .    .    .    .    .    .    .    .    .    .    .    .    .    .    .    .    .    .    .    .    .    .    .    .    .    .    .    .    .    .    .    .    .    .    .    .    .    .    .    .    .    .    .    .    .    .    .    .    .    .    .    .    .    .    .    .    .    .    .    .    .    .    .    .    .    .    .    .    .    .    .    .    .    .    .    .    .    .    .    .    .    .    .    .    .    .    .    .    .    .    .    .    .    .    .    .    .    .    .    .    .    .    .    .    .    .    .    .    .    .    .    .    .    .    .    .    .    .    .    .    .    .    .    .    .    .    .    .    .    .    .    .    .    .    .    .    .    .    .    .    .    .    .    .    .    .    .    .    .    . |\n",
        "     ---HL |    .    .    .    .    .    .    .    .    .    1   <.>   .    .    .    .    .    .    .    .    .    .    .    .    .    .    .    .    .    .    .    .    .    .    .    .    .    .    .    .    .    .    .    .    .    .    .    .    .    .    .    .    .    .    .    .    .    .    .    .    .    .    .    .    .    .    .    .    .    .    .    .    .    .    .    .    .    .    .    .    .    .    .    .    .    .    .    .    .    .    .    .    .    .    .    .    .    .    .    .    .    .    .    .    .    .    .    .    .    .    .    .    .    .    .    .    .    .    .    .    .    .    .    .    .    .    .    .    .    .    .    .    .    .    .    .    .    .    .    .    .    .    .    .    .    .    .    .    .    .    .    .    .    .    .    .    .    .    .    .    .    .    .    .    .    .    .    .    .    .    .    .    .    .    .    .    .    .    .    .    .    .    .    .    .    .    .    .    .    .    .    .    .    .    .    .    .    .    .    .    .    .    .    .    .    .    .    .    .    .    . |\n",
        "         . |    .    .    .    .    .    .    .    .    .    .    .<2977>   3    8    .    .    .    .    .    .    .    .    .    .    .    .    .    .    .    .    .    .    .    .    .    .    .    .    .    .    .    .    .    .    .    .    .    .    .    .    .    .    .    .    .    .    .    .    .    .    .    .    .    .    .    .    .    .    .    .    .    .    .    .    .    .    .    .    .    .    .    .    .    .    .    .    .    .    .    .    .    .    .    .    .    .    .    .    .    .    .    .    .    .    .    .    .    .    .    .    .    .    .    .    .    .    .    .    .    .    .    .    .    .    .    .    .    .    .    .    .    .    .    .    .    .    .    .    .    .    .    .    .    .    .    .    .    .    .    .    .    .    .    .    .    .    .    .    .    .    .    .    .    .    .    .    .    .    .    .    .    .    .    .    .    .    .    .    .    .    .    .    .    .    .    .    .    .    .    .    .    .    .    .    .    .    .    .    .    .    .    .    .    .    .    .    .    .    .    . |\n",
        "      .-HL |    .    .    .    .    .    .    .    .    .    .    .   20   <1>   .    .    .    .    .    .    .    .    .    .    .    .    .    .    .    .    .    .    .    .    .    .    .    .    .    .    .    .    .    .    .    .    .    .    .    .    .    .    .    .    .    .    .    .    .    .    .    .    .    .    .    .    .    .    .    .    .    .    .    .    .    .    .    .    .    .    .    .    .    .    .    .    .    .    .    .    .    .    .    .    .    .    .    .    .    .    .    .    .    .    .    .    .    .    .    .    .    .    .    .    .    .    .    .    .    .    .    .    .    .    .    .    .    .    .    .    .    .    .    .    .    .    .    .    .    .    .    .    .    .    .    .    .    .    .    .    .    .    .    .    .    .    .    .    .    .    .    .    .    .    .    .    .    .    .    .    .    .    .    .    .    .    .    .    .    .    .    .    .    .    .    .    .    .    .    .    .    .    .    .    .    .    .    .    .    .    .    .    .    .    .    .    .    .    .    .    . |\n",
        "         : |    .    .    .    .    .    .    .    .    .    .    .    .    . <108>   .    .    .    .    .    .    .    .    .    .    .    .    .    .    .    .    .    .    .    .    .    .    .    .    .    .    .    .    .    .    .    .    .    .    .    .    .    .    .    .    .    .    .    .    .    .    .    .    .    .    .    .    .    .    .    .    .    .    .    .    .    .    .    .    .    .    .    .    .    .    .    .    .    .    .    .    .    .    .    .    .    .    .    .    .    .    .    .    .    .    .    .    .    .    .    .    .    .    .    .    .    .    .    .    .    .    .    .    .    .    .    .    .    .    .    .    .    .    .    .    .    .    .    .    .    .    .    .    .    .    .    .    .    .    .    .    .    .    .    .    .    .    .    .    .    .    .    .    .    .    .    .    .    .    .    .    .    .    .    .    .    .    .    .    .    .    .    .    .    .    .    .    .    .    .    .    .    .    .    .    .    .    .    .    .    .    .    .    .    .    .    .    .    .    .    . |\n",
        "      :-HL |    .    .    .    .    .    .    .    .    .    .    .    .    .   36   <.>   .    .    .    .    .    .    .    .    .    .    .    .    .    .    .    .    .    .    .    .    .    .    .    .    .    .    .    .    .    .    .    .    .    .    .    .    .    .    .    .    .    .    .    .    .    .    .    .    .    .    .    .    .    .    .    .    .    .    .    .    .    .    .    .    .    .    .    .    .    .    .    .    .    .    .    .    .    .    .    .    .    .    .    .    .    .    .    .    .    .    .    .    .    .    .    .    .    .    .    .    .    .    .    .    .    .    .    .    .    .    .    .    .    .    .    .    .    .    .    .    .    .    .    .    .    .    .    .    .    .    .    .    .    .    .    .    .    .    .    .    .    .    .    .    .    .    .    .    .    .    .    .    .    .    .    .    .    .    .    .    .    .    .    .    .    .    .    .    .    .    .    .    .    .    .    .    .    .    .    .    .    .    .    .    .    .    .    .    .    .    .    .    .    .    . |\n",
        "      :-TL |    .    .    .    .    .    .    .    .    .    .    .    .    .    1    .   <.>   .    .    .    .    .    .    .    .    .    .    .    .    .    .    .    .    .    .    .    .    .    .    .    .    .    .    .    .    .    .    .    .    .    .    .    .    .    .    .    .    .    .    .    .    .    .    .    .    .    .    .    .    .    .    .    .    .    .    .    .    .    .    .    .    .    .    .    .    .    .    .    .    .    .    .    .    .    .    .    .    .    .    .    .    .    .    .    .    .    .    .    .    .    .    .    .    .    .    .    .    .    .    .    .    .    .    .    .    .    .    .    .    .    .    .    .    .    .    .    .    .    .    .    .    .    .    .    .    .    .    .    .    .    .    .    .    .    .    .    .    .    .    .    .    .    .    .    .    .    .    .    .    .    .    .    .    .    .    .    .    .    .    .    .    .    .    .    .    .    .    .    .    .    .    .    .    .    .    .    .    .    .    .    .    .    .    .    .    .    .    .    .    .    . |\n",
        "       ABL |    .    .    .    .    .    .    .    .    .    .    .    .    .    .    .    .   <2>   .    .    .    .    .    .    .    .    .    .    .    .    .    .    .    .    .    .    .    .    .    .    .    .    .    .    .    .    .    .    .    .    .    .    .    .    .    .    .    .    .    .    .    .    .    .    .    .    .    .    .    .    .    .    .    .    .    .    .    .    .    .    .    .    .    .    .    .    .    .    .    .    .    .    .    .    .   12    .    .    .    .    .    .    .    .    .    .    .    .    .    .    .    .    .    .    .    .    .    .    .    .    .    .    .    .    .    .    .    .    .    .    .    .    .    .    .    .    .    .    .    .    .    .    .    .    .    .    .    .    .    .    .    .    .    .    .    .    .    .    .    .    .    .    .    .    .    .    .    .    .    1    .    .    .    .    .    .    .    .    .    .    .    .    .    .    .    .    .    .    .    .    .    .    .    .    .    .    .    .    .    .    .    .    .    .    .    .    .    .    .    .    . |\n",
        "       ABN |    .    .    .    .    .    .    .    .    .    .    .    .    .    .    .    .    . <150>   .    .    .    .    .    .    .    .    .    .    .    .    .    .    .    .    .    .    .    .    .    .    .    .    .    .    .    .    .    .    .    .    .    .    .    .    .    .    .    .    .    .    .    .    .    .    .    .    .    .    .    .    .    .    .    .    .    .    .    .    .    .    .    .    .    .    .    .    .    .    .    .    .    .    .    .    .    .    .    .    .    .    .    .    .    .    .    .    .    .    .    2    .    .    .    .    .    .    .    .    .    .    .    .    .    .    .    .    .    .    .    .    .    .    .    .    .    .    .    .    .    .    .    .    .    .    .    .    .    .    .    .    .    .    .    .    .    .    .    .    .    .    .    .    .    .    .    1    .    .    .    .    .    .    .    .    .    .    .    .    .    .    .    .    .    .    .    .    .    .    .    .    .    .    .    .    .    .    .    .    .    .    .    .    .    .    .    .    .    .    .    . |\n",
        "    ABN-TL |    .    .    .    .    .    .    .    .    .    .    .    .    .    .    .    .    .    2   <.>   .    .    .    .    .    .    .    .    .    .    .    .    .    .    .    .    .    .    .    .    .    .    .    .    .    .    .    .    .    .    .    .    .    .    .    .    .    .    .    .    .    .    .    .    .    .    .    .    .    .    .    .    .    .    .    .    .    .    .    .    .    .    .    .    .    .    .    .    .    .    .    .    .    .    .    .    .    .    .    .    .    .    .    .    .    .    .    .    .    .    .    .    .    .    .    .    .    .    .    .    .    .    .    .    .    .    .    .    .    .    .    .    .    .    .    .    .    .    .    .    .    .    .    .    .    .    .    .    .    .    .    .    .    .    .    .    .    .    .    .    .    .    .    .    .    .    .    .    .    .    .    .    .    .    .    .    .    .    .    .    .    .    .    .    .    .    .    .    .    .    .    .    .    .    .    .    .    .    .    .    .    .    .    .    .    .    .    .    .    .    . |\n",
        "       ABX |    .    .    .    .    .    .    .    .    .    .    .    .    .    .    .    .    .    .    .  <30>   .    .    .    .    .    .    .    .    .    .    .    .    .    .    .    .    .    .    .    .    .    .    .    .    .    .    .    .    .    .    .    .    .    .    .    .    .    .    .    .    .    .    .    .    .    .    .    .    .    .    .    .    .    .    .    .    .    .    .    .    .    .    .    .    .    .    .    .    .    .    .    .    .    .    .    .    .    .    .    .    .    .    .    .    .    .    .    .    .    .    .    .    .    .    .    .    .    .    .    .    .    .    .    .    .    .    .    .    .    .    .    .    .    .    .    .    .    .    .    .    .    .    .    .    .    .    .    .    .    .    .    .    .    .    .    .    .    .    .    .    .    .    .    .    .    .    .    .    .    .    .    .    .    .    .    .    .    .    .    .    .    .    .    .    .    .    .    .    .    .    .    .    .    .    .    .    .    .    .    .    .    .    .    .    .    .    .    .    .    . |\n",
        "        AP |    .    .    .    .    .    .    .    .    .    .    .    .    .    .    .    .    .    .    .    . <541>   .    .    .    .    .    .    .    .    .    .    .    .    .    .    .    .    .    .    .    .    .    .    .    .    .    .    .    .    .    .    .    .    .    .    .    .    .    .    .    .    .    .    .    .    .    .    .    .    .    .    .    .    .    .    .    .    .    .    .    .    .    .    .    .    .    .    .    .    .    2    .    .    .    1    .    .    .    1    .    .    .    .    .    .    .    .    .    .   18    .    .    .    .    .    .    .    .    .    .    .    .    .    .    .    .    .    .    .    .    .    .    .    .    .    .    .    .    .    .    .    .    .    .    .    .    .    .    .    .    .    .    .    .    .    .    .    .    .    .    .    .    .    .    .   30    .    1    4    .    .    .    .    5    .    .    .    .    .    .    .    .    .    .    .    .    .    .    .    .    .    .    .    .    .    .    .    .    .    .    .    .    .    .    .    .    .    .    .    . |\n",
        "       AP$ |    .    .    .    .    .    .    .    .    .    .    .    .    .    .    .    .    .    .    .    .    .   <1>   .    .    .    .    .    .    .    .    .    .    .    .    .    .    .    .    .    .    .    .    .    .    .    .    .    .    .    .    .    .    .    .    .    .    .    .    .    .    .    .    .    .    .    .    .    .    .    .    .    .    .    .    .    .    .    .    .    .    .    .    .    .    .    .    .    .    .    .    .    .    .    .    .    .    .    .    .    .    .    .    .    .    .    .    .    .    .    .    .    .    .    .    .    .    .    .    .    .    .    .    .    .    .    .    .    .    .    .    .    .    .    .    .    .    .    .    .    .    .    .    .    .    .    .    .    .    .    .    .    .    .    .    .    .    .    .    .    .    .    .    .    .    .    .    .    .    .    .    .    .    .    .    .    .    .    .    .    .    .    .    .    .    .    .    .    .    .    .    .    .    .    .    .    .    .    .    .    .    .    .    .    .    .    .    .    .    .    . |\n",
        "     AP-HL |    .    .    .    .    .    .    .    .    .    .    .    .    .    .    .    .    .    .    .    .    4    .   <.>   .    .    .    .    .    .    .    .    .    .    .    .    .    .    .    .    .    .    .    .    .    .    .    .    .    .    .    .    .    .    .    .    .    .    .    .    .    .    .    .    .    .    .    .    .    .    .    .    .    .    .    .    .    .    .    .    .    .    .    .    .    .    .    .    .    .    .    .    .    .    .    .    .    .    .    .    .    .    .    .    .    .    .    .    .    .    .    .    .    .    .    .    .    .    .    .    .    .    .    1    .    .    .    .    .    .    .    .    .    .    .    .    .    .    .    .    .    .    .    .    .    .    .    .    .    .    .    .    .    .    .    .    .    .    .    .    .    .    .    .    .    .    1    .    .    .    .    .    .    .    .    .    .    .    .    .    .    .    .    .    .    .    .    .    .    .    .    .    .    .    .    .    .    .    .    .    .    .    .    .    .    .    .    .    .    .    . |\n",
        "     AP-TL |    .    .    .    .    .    .    .    .    .    .    .    .    .    .    .    .    .    .    .    .    1    .    .   <.>   .    .    .    .    .    .    .    .    .    .    .    .    .    .    .    .    .    .    .    .    .    .    .    .    .    .    .    .    .    .    .    .    .    .    .    .    .    .    .    .    .    .    .    .    .    .    .    .    .    .    .    .    .    .    .    .    .    .    .    .    .    .    .    .    .    .    .    .    .    .    .    .    .    .    .    .    .    .    .    .    .    .    .    .    .    .    .    .    .    .    .    .    .    .    .    .    .    .    .    .    .    .    .    .    .    .    .    .    .    .    .    .    .    .    .    .    .    .    .    .    .    .    .    .    .    .    .    .    .    .    .    .    .    .    .    .    .    .    .    .    .    .    .    .    .    .    .    .    .    .    .    .    .    .    .    .    .    .    .    .    .    .    .    .    .    .    .    .    .    .    .    .    .    .    .    .    .    .    .    .    .    .    .    .    .    . |\n",
        "        AT |    .    .    .    .    .    .    .    .    .    .    .    .    .    .    .    .    .    .    .    .    .    .    .    .<5297>   3    6    .    .    .    .    .    .    .    .    .    .    .    .    .    .    .    .    .    .    .    .    .    .    .    .    .    .    .    .    .    .    .    .    .    .    .    .    .    .    .    .    .    .    .    .    .    .    .    .    .    .    .    .    .    .    .    .    .    .    .    .    .    .    .    .    .    .    .    .    .    .    .    .    .    .    .    .    .    .    .    .    .    .    .    .    .    .    .    .    .    .    .    .    .    .    .    .    .    .    .    .    .    .    .    .    .    .    .    .    .    .    .    .    .    .    .    .    .    .    .    .    .    .    .    .    .    .    .    .    .    .    .    .    .    .    .    .    .    .    .    .    .    5    .    .    .    .    .    .    .    .    .    .    .    .    .    .    .    .    .    .    .    .    .    .    .    .    .    .    .    .    .    .    .    .    .    .    .    .    .    .    .    .    . |\n",
        "     AT-HL |    .    .    .    .    .    .    .    .    .    .    .    .    .    .    .    .    .    .    .    .    .    .    .    .   92   <.>   3    .    .    .    .    .    .    .    .    .    .    .    .    .    .    .    .    .    .    .    .    .    .    .    .    .    .    .    .    .    .    .    .    .    .    .    .    .    .    .    .    .    .    .    .    .    .    .    .    .    .    .    .    .    .    .    .    .    .    .    .    .    .    .    .    .    .    .    .    .    .    .    .    .    .    .    .    .    .    .    .    .    .    .    .    .    .    .    .    .    .    .    .    .    .    .    .    .    .    .    .    .    .    .    .    .    .    .    .    .    .    .    .    .    .    .    .    .    .    .    .    .    .    .    .    .    .    .    .    .    .    .    .    .    .    .    .    .    .    .    .    .    .    .    .    .    .    .    .    .    .    .    .    .    .    .    .    .    .    .    .    .    .    .    .    .    .    .    .    .    .    .    .    .    .    .    .    .    .    .    .    .    .    . |\n",
        "     AT-TL |    .    .    .    .    .    .    .    .    .    .    .    .    .    .    .    .    .    .    .    .    .    .    .    .   29    .  <14>   .    .    .    .    .    .    .    .    .    .    .    .    .    .    .    .    .    .    .    .    .    .    .    .    .    .    .    .    .    .    .    .    .    .    .    .    .    .    .    .    .    .    .    .    .    .    .    .    .    .    .    .    .    .    .    .    .    .    .    .    .    .    .    .    .    .    .    .    .    .    .    .    .    .    .    .    .    .    .    .    .    .    .    .    .    .    .    .    .    .    .    .    .    .    .    .    .    .    .    .    .    .    .    .    .    .    .    .    .    .    .    .    .    .    .    .    .    .    .    .    .    .    .    .    .    .    .    .    .    .    .    .    .    .    .    .    .    .    .    .    .    .    .    .    .    .    .    .    .    .    .    .    .    .    .    .    .    .    .    .    .    .    .    .    .    .    .    .    .    .    .    .    .    .    .    .    .    .    .    .    .    .    . |\n",
        "        BE |    .    .    .    .    .    .    .    .    .    .    .    .    .    .    .    .    .    .    .    .    .    .    .    .    .    .    . <420>   .    .    .    .    .    .    .    .    .    .    .    .    .    .    .    .    .    .    .    .    .    .    .    .    .    .    .    .    .    .    .    .    .    .    .    .    .    .    .    .    .    .    .    .    .    .    .    .    .    .    .    .    .    .    .    .    .    .    .    .    .    .    .    .    .    .    .    .    .    .    .    .    .    .    .    .    .    .    .    .    .    1    .    .    .    .    .    .    .    .    .    .    .    .    .    .    .    .    .    .    .    .    .    .    .    .    .    .    .    .    .    .    .    .    .    .    .    .    .    .    .    .    .    .    .    .    .    .    .    .    .    .    .    .    .    .    .    .    .    .    .    .    .    .    .    .    .    .    .    .    .    .    .    .    .    .    .    .    .    .    .    .    .    .    .    .    .    .    .    .    .    .    .    .    .    .    .    .    .    .    .    . |\n",
        "     BE-HL |    .    .    .    .    .    .    .    .    .    .    .    .    .    .    .    .    .    .    .    .    .    .    .    .    .    .    .    1   <.>   .    .    .    .    .    .    .    .    .    .    .    .    .    .    .    .    .    .    .    .    .    .    .    .    .    .    .    .    .    .    .    .    .    .    .    .    .    .    .    .    .    .    .    .    .    .    .    .    .    .    .    .    .    .    .    .    .    .    .    .    .    .    .    .    .    .    .    .    .    .    .    .    .    .    .    .    .    .    .    .    .    .    .    .    .    .    .    .    .    .    .    .    .    .    .    .    .    .    .    .    .    .    .    .    .    .    .    .    .    .    .    .    .    .    .    .    .    .    .    .    .    .    .    .    .    .    .    .    .    .    .    .    .    .    .    .    .    .    .    .    .    .    .    .    .    .    .    .    .    .    .    .    .    .    .    .    .    .    .    .    .    .    .    .    .    .    .    .    .    .    .    .    .    .    .    .    .    .    .    .    . |\n",
        "       BED |    .    .    .    .    .    .    .    .    .    .    .    .    .    .    .    .    .    .    .    .    .    .    .    .    .    .    .    .    . <109>   .    .    .    .    .    .    .    .    .    .    .    .    .    .    .    .    .    .    .    .    .    .    .    .    .    .    .    .    .    .    .    .    .    .    .    .    .    .    .    .    .    .    .    .    .    .    .    .    .    .    .    .    .    .    .    .    .    .    .    .    .    .    .    .    .    .    .    .    .    .    .    .    .    .    .    .    .    .    .    .    .    .    .    .    .    .    .    .    .    .    .    .    .    .    .    .    .    .    .    .    .    .    .    .    .    .    .    .    .    .    .    .    .    .    .    .    .    .    .    .    .    .    .    .    .    .    .    .    .    .    .    .    .    .    .    .    .    .    .    .    .    .    .    .    .    .    .    .    .    .    .    .    .    .    .    .    .    .    .    .    .    .    .    .    .    .    .    .    .    .    .    .    .    .    .    .    .    .    .    . |\n",
        "      BEDZ |    .    .    .    .    .    .    .    .    .    .    .    .    .    .    .    .    .    .    .    .    .    .    .    .    .    .    .    .    .    . <307>   .    1    .    .    .    .    .    .    .    .    .    .    .    .    .    .    .    .    .    .    .    .    .    .    .    .    .    .    .    .    .    .    .    .    .    .    .    .    .    .    .    .    .    .    .    .    .    .    .    .    .    .    .    .    .    .    .    .    .    .    .    .    .    .    .    .    .    .    .    .    .    .    .    .    .    .    .    .    2    .    .    .    .    .    .    .    .    .    .    .    .    .    .    .    .    .    .    .    .    .    .    .    .    .    .    .    .    .    .    .    .    .    .    .    .    .    .    .    .    .    .    .    .    .    .    .    .    .    .    .    .    .    .    .    .    .    .    .    .    .    .    .    .    .    .    .    .    .    .    .    .    .    .    .    .    .    .    .    .    .    .    .    .    .    .    .    .    .    .    .    .    .    .    .    .    .    .    .    . |\n",
        "     BEDZ* |    .    .    .    .    .    .    .    .    .    .    .    .    .    .    .    .    .    .    .    .    .    .    .    .    .    .    .    .    .    .    .   <2>   .    .    .    .    .    .    .    .    .    .    .    .    .    .    .    .    .    .    .    .    .    .    .    .    .    .    .    .    .    .    .    .    .    .    .    .    .    .    .    .    .    .    .    .    .    .    .    .    .    .    .    .    .    .    .    .    .    .    .    .    .    .    .    .    .    .    .    .    .    .    .    .    .    .    .    .    .    .    .    .    .    .    .    .    .    .    .    .    .    .    .    .    .    .    .    .    .    .    .    .    .    .    .    .    .    .    .    .    .    .    .    .    .    .    .    .    .    .    .    .    .    .    .    .    .    .    .    .    .    .    .    .    .    .    .    .    .    .    .    .    .    .    .    .    .    .    .    .    .    .    .    .    .    .    .    .    .    .    .    .    .    .    .    .    .    .    .    .    .    .    .    .    .    .    .    .    .    . |\n",
        "   BEDZ-HL |    .    .    .    .    .    .    .    .    .    .    .    .    .    .    .    .    .    .    .    .    .    .    .    .    .    .    .    .    .    .    .    .   <.>   .    .    .    .    .    .    .    .    .    .    .    .    .    .    .    .    .    .    .    .    .    .    .    .    .    .    .    .    .    .    .    .    .    .    .    .    .    .    .    .    .    .    .    .    .    .    .    .    .    .    .    .    .    .    .    .    .    .    .    .    .    .    .    .    .    .    .    .    .    .    .    .    .    .    .    .    .    .    .    .    .    .    .    .    .    .    .    .    .    .    .    .    .    .    .    .    .    .    .    .    .    .    .    .    .    .    .    .    .    .    .    .    .    .    .    .    .    .    .    .    .    .    .    .    .    .    .    .    .    .    .    .    .    .    .    .    .    .    .    .    .    .    .    .    .    .    .    .    .    .    .    .    .    .    .    .    .    .    .    .    .    .    .    .    .    .    .    .    .    .    .    .    .    .    .    .    . |\n",
        "       BEG |    .    .    .    .    .    .    .    .    .    .    .    .    .    .    .    .    .    .    .    .    .    .    .    .    .    .    .    .    .    .    .    .    .  <45>   .    .    .    .    .    .    .    .    .    .    .    .    .    .    .    .    .    .    .    .    .    .    .    .    .    .    .    .    .    .    .    .    .    .    .    .    .    .    .    .    .    .    .    .    .    .    .    .    .    .    .    .    .    .    .    .    .    .    .    .    .    .    .    .    .    .    .    .    .    .    .    .    .    .    .    .    .    .    .    .    .    .    .    .    .    .    .    .    .    .    .    .    .    .    .    .    .    .    .    .    .    .    .    .    .    .    .    .    .    .    .    .    .    .    .    .    .    .    .    .    .    .    .    .    .    .    .    .    .    .    .    .    .    .    .    .    .    .    .    .    .    .    .    .    .    .    .    .    .    .    .    .    .    .    .    .    .    .    .    .    .    .    .    .    .    .    .    .    .    .    .    .    .    .    .    . |\n",
        "       BEM |    .    .    .    .    .    .    .    .    .    .    .    .    .    .    .    .    .    .    .    .    .    .    .    .    .    .    .    .    .    .    .    .    .    .  <19>   .    .    .    .    .    .    .    .    .    .    .    .    .    .    .    .    .    .    .    .    .    .    .    .    .    .    .    .    .    .    .    .    .    .    .    .    .    .    .    .    .    .    .    .    .    .    .    .    .    .    .    .    .    .    .    .    .    .    .    .    .    .    .    .    .    .    .    .    .    .    .    .    .    .    .    .    .    .    .    .    .    .    .    .    .    .    .    .    .    .    .    .    .    .    .    .    .    .    .    .    .    .    .    .    .    .    .    .    .    .    .    .    .    .    .    .    .    .    .    .    .    .    .    .    .    .    .    .    .    .    .    .    .    .    .    .    .    .    .    .    .    .    .    .    .    .    .    .    .    .    .    .    .    .    .    .    .    .    .    .    .    .    .    .    .    .    .    .    .    .    .    .    .    .    . |\n",
        "       BEN |    .    .    .    .    .    .    .    .    .    .    .    .    .    .    .    .    .    .    .    .    .    .    .    .    .    .    .    .    .    .    .    .    .    .    . <151>   .    .    .    .    .    .    .    .    .    .    .    .    .    .    .    .    .    .    .    .    .    .    .    .    .    .    .    .    .    .    .    .    .    .    .    .    .    .    .    .    .    .    .    .    .    .    .    .    .    .    .    .    .    .    .    .    .    .    .    .    .    .    .    .    .    .    .    .    .    .    .    .    .    .    .    .    .    .    .    .    .    .    .    .    .    .    .    .    .    .    .    .    .    .    .    .    .    .    .    .    .    .    .    .    .    .    .    .    .    .    .    .    .    .    .    .    .    .    .    .    .    .    .    .    .    .    .    .    .    .    .    .    .    .    .    .    .    .    .    .    .    .    .    .    .    .    .    .    .    .    .    .    .    .    .    .    .    .    .    .    .    .    .    .    .    .    .    .    .    .    .    .    .    . |\n",
        "       BER |    .    .    .    .    .    .    .    .    .    .    .    .    .    .    .    .    .    .    .    .    .    .    .    .    .    .    .    .    .    .    .    .    .    .    .    . <292>   .    1    4    .    .    .    .    .    .    .    .    .    .    .    .    .    .    .    .    .    .    .    .    .    .    .    .    .    .    .    .    .    .    .    .    .    .    .    .    .    .    .    .    .    .    .    .    .    .    .    .    .    .    .    .    .    .    .    .    .    .    .    .    .    .    .    .    .    .    .    .    .    .    .    .    .    .    .    .    .    .    .    .    .    .    .    .    .    .    .    .    .    .    .    .    .    .    .    .    .    .    .    .    .    .    .    .    .    .    .    .    .    .    .    .    .    .    .    .    .    .    .    .    .    .    .    .    .    .    .    .    .    .    .    .    .    .    .    .    .    .    .    .    .    .    .    .    .    .    .    .    .    .    .    .    .    .    .    .    .    .    .    .    .    .    .    .    .    .    .    .    .    . |\n",
        "      BER* |    .    .    .    .    .    .    .    .    .    .    .    .    .    .    .    .    .    .    .    .    .    .    .    .    .    .    .    .    .    .    .    .    .    .    .    .    .   <3>   .    .    .    .    .    .    .    .    .    .    .    .    .    .    .    .    .    .    .    .    .    .    .    .    .    .    .    .    .    .    .    .    .    .    .    .    .    .    .    .    .    .    .    .    .    .    .    .    .    .    .    .    .    .    .    .    .    .    .    .    .    .    .    .    .    .    .    .    .    .    .    2    .    .    .    .    .    .    .    .    .    .    .    .    .    .    .    .    .    .    .    .    .    .    .    .    .    .    .    .    .    .    .    .    .    .    .    .    .    .    .    .    .    .    .    .    .    .    .    .    .    .    .    .    .    .    .    .    .    .    .    .    .    .    .    .    .    .    .    .    .    .    .    .    .    .    .    .    .    .    .    .    .    .    .    .    .    .    .    .    .    .    .    .    .    .    .    .    .    .    .    . |\n",
        "    BER-HL |    .    .    .    .    .    .    .    .    .    .    .    .    .    .    .    .    .    .    .    .    .    .    .    .    .    .    .    .    .    .    .    .    .    .    .    .    1    .   <.>   .    .    .    .    .    .    .    .    .    .    .    .    .    .    .    .    .    .    .    .    .    .    .    .    .    .    .    .    .    .    .    .    .    .    .    .    .    .    .    .    .    .    .    .    .    .    .    .    .    .    .    .    .    .    .    .    .    .    .    .    .    .    .    .    .    .    .    .    .    .    .    .    .    .    .    .    .    .    .    .    .    .    .    .    .    .    .    .    .    .    .    .    .    .    .    .    .    .    .    .    .    .    .    .    .    .    .    .    .    .    .    .    .    .    .    .    .    .    .    .    .    .    .    .    .    .    .    .    .    .    .    .    .    .    .    .    .    .    .    .    .    .    .    .    .    .    .    .    .    .    .    .    .    .    .    .    .    .    .    .    .    .    .    .    .    .    .    .    .    .    . |\n",
        "    BER-TL |    .    .    .    .    .    .    .    .    .    .    .    .    .    .    .    .    .    .    .    .    .    .    .    .    .    .    .    .    .    .    .    .    .    .    .    .    .    .    .   <.>   .    .    .    .    .    .    .    .    .    .    .    .    .    .    .    .    .    .    .    .    .    .    .    .    .    .    .    .    .    .    .    .    .    .    .    .    .    .    .    .    .    .    .    .    .    .    .    .    .    .    .    .    .    .    .    .    .    .    .    .    .    .    .    .    .    .    .    .    .    .    .    .    .    .    .    .    .    .    .    .    .    .    .    .    .    .    .    .    .    .    .    .    .    .    .    .    .    .    .    .    .    .    .    .    .    .    .    .    .    .    .    .    .    .    .    .    .    .    .    .    .    .    .    .    .    .    .    .    .    .    .    .    .    .    .    .    .    .    .    .    .    .    .    .    .    .    .    .    .    .    .    .    .    .    .    .    .    .    .    .    .    .    .    .    .    .    .    .    .    . |\n",
        "       BEZ |    .    .    .    .    .    .    .    .    .    .    .    .    .    .    .    .    .    .    .    .    .    .    .    .    .    .    .    .    .    .    .    .    .    .    .    .    .    .    .    . <749>   .    .    .    .    .    .    .    .    .    .    .    .    .    .    .    .    .    .    .    .    .    .    .    .    .    .    .    .    .    .    .    .    .    .    .    .    .    .    .    .    .    .    .    .    .    .    .    .    .    .    .    .    .    .    .    .    .    .    .    .    .    .    .    .    .    .    .    .    .    .    .    .    .    .    .    .    .    .    .    .    .    .    .    .    .    .    .    .    .    .    .    .    .    .    .    .    .    .    .    .    .    .    .    .    .    .    .    .    .    .    .    .    .    .    .    .    .    .    .    .    .    .    .    .    .    .    .    .    .    .    .    .    .    .    .    .    .    .    .    .    .    .    .    .    .    .    .    .    .    .    .    .    .    .    .    .    .    .    .    .    .    .    .    .    .    .    .    .    . |\n",
        "      BEZ* |    .    .    .    .    .    .    .    .    .    .    .    .    .    .    .    .    .    .    .    .    .    .    .    .    .    .    .    .    .    .    .    .    .    .    .    .    .    .    .    .    .   <7>   .    .    .    .    .    .    .    .    .    .    .    .    .    .    .    .    .    .    .    .    .    .    .    .    .    .    .    .    .    .    .    .    .    .    .    .    .    .    .    .    .    .    .    .    .    .    .    .    .    .    .    .    .    .    .    .    .    .    .    .    .    .    .    .    .    .    .    .    .    .    .    .    .    .    .    .    .    .    .    .    .    .    .    .    .    .    .    .    .    .    .    .    .    .    .    .    .    .    .    .    .    .    .    .    .    .    .    .    .    .    .    .    .    .    .    .    .    .    .    .    .    .    .    .    .    .    .    .    .    .    .    .    .    .    .    .    .    .    .    .    .    .    .    .    .    .    .    .    .    .    .    .    .    .    .    .    .    .    .    .    .    .    .    .    .    .    .    . |\n",
        "    BEZ-HL |    .    .    .    .    .    .    .    .    .    .    .    .    .    .    .    .    .    .    .    .    .    .    .    .    .    .    .    .    .    .    .    .    .    .    .    .    .    .    .    .    2    .   <.>   .    .    .    .    .    .    .    .    .    .    .    .    .    .    .    .    .    .    .    .    .    .    .    .    .    .    .    .    .    .    .    .    .    .    .    .    .    .    .    .    .    .    .    .    .    .    .    .    .    .    .    .    .    .    .    .    .    .    .    .    .    .    .    .    .    .    .    .    .    .    .    .    .    .    .    .    .    .    .    .    .    .    .    .    .    .    .    .    .    .    .    .    .    .    .    .    .    .    .    .    .    .    .    .    .    .    .    .    .    .    .    .    .    .    .    .    .    .    .    .    .    .    .    .    .    .    .    .    .    .    .    .    .    .    .    .    .    .    .    .    .    .    .    .    .    .    .    .    .    .    .    .    .    .    .    .    .    .    .    .    .    .    .    .    .    .    . |\n",
        "    BEZ-TL |    .    .    .    .    .    .    .    .    .    .    .    .    .    .    .    .    .    .    .    .    .    .    .    .    .    .    .    .    .    .    .    .    .    .    .    .    .    .    .    .    1    .    .   <.>   .    .    .    .    .    .    .    .    .    .    .    .    .    .    .    .    .    .    .    .    .    .    .    .    .    .    .    .    .    .    .    .    .    .    .    .    .    .    .    .    .    .    .    .    .    .    .    .    .    .    .    .    .    .    .    .    .    .    .    .    .    .    .    .    .    .    .    .    .    .    .    .    .    .    .    .    .    .    .    .    .    .    .    .    .    .    .    .    .    .    .    .    .    .    .    .    .    .    .    .    .    .    .    .    .    .    .    .    .    .    .    .    .    .    .    .    .    .    .    .    .    .    .    .    .    .    .    .    .    .    .    .    .    .    .    .    .    .    .    .    .    .    .    .    .    .    .    .    .    .    .    .    .    .    .    .    .    .    .    .    .    .    .    .    .    . |\n",
        "        CC |    .    .    .    .    .    .    .    .    .    .    .    .    .    .    .    .    .    .    .    .    .    .    .    .    .    .    .    .    .    .    .    .    .    .    .    .    .    .    .    .    .    .    .    .<1816>   2    .    .    .    .    .    .    .    .    .    .    .    .    .    .    .    .    .    .    .    3    .    .    .    .    .    .    .    .    .    .    .    .    .    .    .    .    .    .    .    .    .    .    .    .    2    .    .    .    .    .    .    .    .    .    .    .    .    .    .    .    .    .    .    5    .    .    .    .    .    .    .    .    .    .    .    .    .    .    .    .    .    .    .    .    .    .    .    .    .    .    .    .    .    .    .    .    .    .    .    .    .    .    .    .    .    .    .    .    .    .    .    .    .    .    .    .    .    .    .    .    .    .    7    .    .    .    .    .    .    .    .    .    .    .    .    .    .    .    .    .    .    .    .    .    .    .    .    .    .    .    .    .    .    .    .    .    .    .    .    .    .    .    .    . |\n",
        "     CC-HL |    .    .    .    .    .    .    .    .    .    .    .    .    .    .    .    .    .    .    .    .    .    .    .    .    .    .    .    .    .    .    .    .    .    .    .    .    .    .    .    .    .    .    .    .    7   <.>   .    .    .    .    .    .    .    .    .    .    .    .    .    .    .    .    .    .    .    .    .    .    .    .    .    .    .    .    .    .    .    .    .    .    .    .    .    .    .    .    .    .    .    .    .    .    .    .    .    .    .    .    .    .    .    .    .    .    .    .    .    .    .    .    .    .    .    .    .    .    .    .    .    .    .    .    .    .    .    .    .    .    .    .    .    .    .    .    .    .    .    .    .    .    .    .    .    .    .    .    .    .    .    .    .    .    .    .    .    .    .    .    .    .    .    .    .    .    .    .    .    .    .    .    .    .    .    .    .    .    .    .    .    .    .    .    .    .    .    .    .    .    .    .    .    .    .    .    .    .    .    .    .    .    .    .    .    .    .    .    .    .    .    . |\n",
        "     CC-TL |    .    .    .    .    .    .    .    .    .    .    .    .    .    .    .    .    .    .    .    .    .    .    .    .    .    .    .    .    .    .    .    .    .    .    .    .    .    .    .    .    .    .    .    .   18    .   <2>   .    .    .    .    .    .    .    .    .    .    .    .    .    .    .    .    .    .    .    .    .    .    .    .    .    .    .    .    .    .    .    .    .    .    .    .    .    .    .    .    .    .    .    .    .    .    .    .    .    .    .    .    .    .    .    .    .    .    .    .    .    .    .    .    .    .    .    .    .    .    .    .    .    .    .    .    .    .    .    .    .    .    .    .    .    .    .    .    .    .    .    .    .    .    .    .    .    .    .    .    .    .    .    .    .    .    .    .    .    .    .    .    .    .    .    .    .    .    .    .    .    .    .    .    .    .    .    .    .    .    .    .    .    .    .    .    .    .    .    .    .    .    .    .    .    .    .    .    .    .    .    .    .    .    .    .    .    .    .    .    .    .    . |\n",
        "        CD |    .    .    .    .    .    .    .    .    .    .    .    .    .    .    .    .    .    .    .    .    .    .    .    .    .    .    .    .    .    .    .    .    .    .    .    .    .    .    .    .    .    .    .    .    .    .    . <586>   .    2    .    .    .    .    .    .    .    .    .    .    .    .    .    .    .    .    .    .    .    .    .    .    .    .    .    .    .    .    .    .    .    .    .    .    .    .    .    .    .    .    .    .    .    .    .    .    .    .    .    .    .    .    .    .    .    .    .    .    .   77    .    .    .    .    .    .    .    .    .    .    .    .    .    .    .    .    .    .    .    .    .    .    .    .    .    .    .    .    .    .    7    .    .    .    .    .    .    .    .    .    .    .    .    .    .    .    .    .    .    .    .    .    .    .    .    .    .    .    .    .    .    .    .    .    .    .    .    .    .    .    .    .    .    .    .    .    .    .    .    .    .    .    .    .    .    .    .    .    .    .    .    .    .    .    .    .    .    .    .    . |\n",
        "     CD-HL |    .    .    .    .    .    .    .    .    .    .    .    .    .    .    .    .    .    .    .    .    .    .    .    .    .    .    .    .    .    .    .    .    .    .    .    .    .    .    .    .    .    .    .    .    .    .    .   17   <1>   .    .    .    .    .    .    .    .    .    .    .    .    .    .    .    .    .    .    .    .    .    .    .    .    .    .    .    .    .    .    .    .    .    .    .    .    .    .    .    .    .    .    .    .    .    .    .    .    .    .    .    .    .    .    .    .    .    .    .    .    .    .    .    .    .    .    .    .    .    .    .    .    .    .    .    .    .    .    .    .    .    .    .    .    .    .    .    .    .    .    .    .    .    .    .    .    .    .    .    .    .    .    .    .    .    .    .    .    .    .    .    .    .    .    .    .    .    .    .    .    .    .    .    .    .    .    .    .    .    .    .    .    .    .    .    .    .    .    .    .    .    .    .    .    .    .    .    .    .    .    .    .    .    .    .    .    .    .    .    .    . |\n",
        "     CD-TL |    .    .    .    .    .    .    .    .    .    .    .    .    .    .    .    .    .    .    .    .    .    .    .    .    .    .    .    .    .    .    .    .    .    .    .    .    .    .    .    .    .    .    .    .    .    .    .   13    .  <14>   .    .    .    .    .    .    .    .    .    .    .    .    .    .    .    .    .    .    .    .    .    .    .    .    .    .    .    .    .    .    .    .    .    .    .    .    .    .    .    .    .    .    .    .    .    .    .    .    .    .    .    .    .    .    .    .    .    .    .    5    .    .    .    .    .    .    .    .    .    .    .    .    .    .    .    .    .    .    .    .    .    .    .    .    .    .    .    .    .    .    .    .    .    .    .    .    .    .    .    .    .    .    .    .    .    .    .    .    .    .    .    .    .    .    .    .    .    .    .    .    .    .    .    .    .    .    .    .    .    .    .    .    .    .    .    .    .    .    .    .    .    .    .    .    .    .    .    .    .    .    .    .    .    .    .    .    .    .    .    . |\n",
        "        CS |    .    .    .    .    .    .    .    .    .    .    .    .    .    .    .    .    .    .    .    .    .    .    .    .    .    .    .    .    .    .    .    .    .    .    .    .    .    .    .    .    .    .    .    .    .    .    .    .    .    .<1016>   .    .    .    .    .    .    .    .    .    .    9    .    .    .    .    .    .    .    .    .    .    .    .    .    .    .    .    .    .    .    .    .    .    .    .    .    .    .    .  103    .    .    1    .    .    .    .    .    .    .    .    .    .    .    .    .    .    .    7    .    .    .    .    .    .    .    .    .    .    .    .    .    .    .    .    .    .    .    .    .    .    .    .    .    .    .    .    .    .    .    .    .    .    .    .    .    .    .    .    .    .    .    .    .    .    .    .    .    .    .    .    .    .    .   10    .    .   29    .    .    .    .    .    .    .    .    .    .    .    .    .    .    .    .    .    .    .    .    .    .    .    .    .    .    .    .    .    .    .    .    .    .    .    .   19    .    .    .    . |\n",
        "     CS-HL |    .    .    .    .    .    .    .    .    .    .    .    .    .    .    .    .    .    .    .    .    .    .    .    .    .    .    .    .    .    .    .    .    .    .    .    .    .    .    .    .    .    .    .    .    .    .    .    .    .    .    2   <.>   .    .    .    .    .    .    .    .    .    .    .    .    .    .    .    .    .    .    .    .    .    .    .    .    .    .    .    .    .    .    .    .    .    .    .    .    .    .    1    .    .    .    .    .    .    .    .    .    .    .    .    .    .    .    .    .    .    .    .    .    .    .    .    .    .    .    .    .    .    .    .    .    .    .    .    .    .    .    .    .    .    .    .    .    .    .    .    .    .    .    .    .    .    .    .    .    .    .    .    .    .    .    .    .    .    .    .    .    .    .    .    .    .    .    .    .    .    .    .    .    .    .    .    .    .    .    .    .    .    .    .    .    .    .    .    .    .    .    .    .    .    .    .    .    .    .    .    .    .    .    .    .    .    .    .    .    .    . |\n",
        "        DO |    .    .    .    .    .    .    .    .    .    .    .    .    .    .    .    .    .    .    .    .    .    .    .    .    .    .    .    .    .    .    .    .    .    .    .    .    .    .    .    .    .    .    .    .    .    .    .    .    .    .    .    . <109>   .    .    .    .    .    .    .    .    .    .    .    .    .    .    .    .    .    .    .    .    .    .    .    .    .    .    .    .    .    .    .    .    .    .    .    .    .    .    .    .    .    .    .    .    .    .    .    .    .    .    .    .    .    .    .    .    .    .    .    .    .    .    .    .    .    .    .    .    .    .    .    .    .    .    .    .    .    .    .    .    .    .    .    .    .    .    .    .    .    .    .    .    .    .    .    .    .    .    .    .    .    .    .    .    .    .    .    .    .    .    .    .    .    .    .    .    .    .    .    .    .    .    .    .    .    .    .    .    .    .    .    .    .    .    .    .    .    .    .    .    .    .    .    .    .    .    .    .    .    .    .    .    .    .    .    .    . |\n",
        "       DO* |    .    .    .    .    .    .    .    .    .    .    .    .    .    .    .    .    .    .    .    .    .    .    .    .    .    .    .    .    .    .    .    .    .    .    .    .    .    .    .    .    .    .    .    .    .    .    .    .    .    .    .    .    .  <24>   .    .    .    .    .    .    .    .    .    .    .    .    .    .    .    .    .    .    .    .    .    .    .    .    .    .    .    .    .    .    .    .    .    .    .    .    .    .    .    .    .    .    .    .    .    .    .    .    .    .    .    .    .    .    .    .    .    .    .    .    .    .    .    .    .    .    .    .    .    .    .    .    .    .    .    .    .    .    .    .    .    .    .    .    .    .    .    .    .    .    .    .    .    .    .    .    .    .    .    .    .    .    .    .    .    .    .    .    .    .    .    .    .    .    .    .    .    .    .    .    .    .    .    .    .    .    .    .    .    .    .    .    .    .    .    .    .    .    .    .    .    .    .    .    .    .    .    .    .    .    .    .    .    .    .    . |\n",
        "     DO-HL |    .    .    .    .    .    .    .    .    .    .    .    .    .    .    .    .    .    .    .    .    .    .    .    .    .    .    .    .    .    .    .    .    .    .    .    .    .    .    .    .    .    .    .    .    .    .    .    .    .    .    .    .    1    .   <.>   .    .    .    .    .    .    .    .    .    .    .    .    .    .    .    .    .    .    .    .    .    .    .    .    .    .    .    .    .    .    .    .    .    .    .    .    .    .    .    .    .    .    .    .    .    .    .    .    .    .    .    .    .    .    .    .    .    .    .    .    .    .    .    .    .    .    .    .    .    .    .    .    .    .    .    .    .    .    .    .    .    .    .    .    .    .    .    .    .    .    .    .    .    .    .    .    .    .    .    .    .    .    .    .    .    .    .    .    .    .    .    .    .    .    .    .    .    .    .    .    .    .    .    .    .    .    .    .    .    .    .    .    .    .    .    .    .    .    .    .    .    .    .    .    .    .    .    .    .    .    .    .    .    .    . |\n",
        "     DO-TL |    .    .    .    .    .    .    .    .    .    .    .    .    .    .    .    .    .    .    .    .    .    .    .    .    .    .    .    .    .    .    .    .    .    .    .    .    .    .    .    .    .    .    .    .    .    .    .    .    .    .    .    .    1    .    .   <.>   .    .    .    .    .    .    .    .    .    .    .    .    .    .    .    .    .    .    .    .    .    .    .    .    .    .    .    .    .    .    .    .    .    .    .    .    .    .    .    .    .    .    .    .    .    .    .    .    .    .    .    .    .    .    .    .    .    .    .    .    .    .    .    .    .    .    .    .    .    .    .    .    .    .    .    .    .    .    .    .    .    .    .    .    .    .    .    .    .    .    .    .    .    .    .    .    .    .    .    .    .    .    .    .    .    .    .    .    .    .    .    .    .    .    .    .    .    .    .    .    .    .    .    .    .    .    .    .    .    .    .    .    .    .    .    .    .    .    .    .    .    .    .    .    .    .    .    .    .    .    .    .    .    . |\n",
        "       DOD |    .    .    .    .    .    .    .    .    .    .    .    .    .    .    .    .    .    .    .    .    .    .    .    .    .    .    .    .    .    .    .    .    .    .    .    .    .    .    .    .    .    .    .    .    .    .    .    .    .    .    .    .    .    .    .    .  <36>   .    .    .    .    .    .    .    .    .    .    .    .    .    .    .    .    .    .    .    .    .    .    .    .    .    .    .    .    .    .    .    .    .    .    .    .    .    .    .    .    .    .    .    .    .    .    .    .    .    .    .    .    .    .    .    .    .    .    .    .    .    .    .    .    .    .    .    .    .    .    .    .    .    .    .    .    .    .    .    .    .    .    .    .    .    .    .    .    .    .    .    .    .    .    .    .    .    .    .    .    .    .    .    .    .    .    .    .    .    .    .    .    .    .    .    .    .    .    .    .    .    .    .    .    .    .    .    .    .    .    .    .    .    .    .    .    .    .    .    .    .    .    .    .    .    .    .    .    .    .    .    .    . |\n",
        "      DOD* |    .    .    .    .    .    .    .    .    .    .    .    .    .    .    .    .    .    .    .    .    .    .    .    .    .    .    .    .    .    .    .    .    .    .    .    .    .    .    .    .    .    .    .    .    .    .    .    .    .    .    .    .    .    .    .    .    .   <5>   .    .    .    .    .    .    .    .    .    .    .    .    .    .    .    .    .    .    .    .    .    .    .    .    .    .    .    .    .    .    .    .    .    .    .    .    .    .    .    .    .    .    .    .    .    .    .    .    .    .    .    .    .    .    .    .    .    .    .    .    .    .    .    .    .    .    .    .    .    .    .    .    .    .    .    .    .    .    .    .    .    .    .    .    .    .    .    .    .    .    .    .    .    .    .    .    .    .    .    .    .    .    .    .    .    .    .    .    .    .    .    .    .    .    .    .    .    .    .    .    .    .    .    .    .    .    .    .    .    .    .    .    .    .    .    .    .    .    .    .    .    .    .    .    .    .    .    .    .    .    .    . |\n",
        "       DOZ |    .    .    .    .    .    .    .    .    .    .    .    .    .    .    .    .    .    .    .    .    .    .    .    .    .    .    .    .    .    .    .    .    .    .    .    .    .    .    .    .    .    .    .    .    .    .    .    .    .    .    .    .    .    .    .    .    .    .  <28>   .    .    .    .    .    .    .    .    .    .    .    .    .    .    .    .    .    .    .    .    .    .    .    .    .    .    .    .    .    .    .    .    .    .    .    .    .    .    .    .    .    .    .    .    .    .    .    .    .    .   15    .    .    .    .    .    .    .    .    .    .    .    .    .    .    .    .    .    .    .    .    .    .    .    .    .    .    .    .    .    .    .    .    .    .    .    .    .    .    .    .    .    .    .    .    .    .    .    .    .    .    .    .    .    .    .    .    .    .    .    .    .    .    .    .    .    .    .    .    .    .    .    .    .    .    .    .    .    .    .    .    .    .    .    .    .    .    .    .    .    .    .    .    .    .    .    .    .    .    .    . |\n",
        "      DOZ* |    .    .    .    .    .    .    .    .    .    .    .    .    .    .    .    .    .    .    .    .    .    .    .    .    .    .    .    .    .    .    .    .    .    .    .    .    .    .    .    .    .    .    .    .    .    .    .    .    .    .    .    .    .    .    .    .    .    .    .  <10>   .    .    .    .    .    .    .    .    .    .    .    .    .    .    .    .    .    .    .    .    .    .    .    .    .    .    .    .    .    .    .    .    .    .    .    .    .    .    .    .    .    .    .    .    .    .    .    .    .    .    .    .    .    .    .    .    .    .    .    .    .    .    .    .    .    .    .    .    .    .    .    .    .    .    .    .    .    .    .    .    .    .    .    .    .    .    .    .    .    .    .    .    .    .    .    .    .    .    .    .    .    .    .    .    .    .    .    .    .    .    .    .    .    .    .    .    .    .    .    .    .    .    .    .    .    .    .    .    .    .    .    .    .    .    .    .    .    .    .    .    .    .    .    .    .    .    .    .    .    . |\n",
        "    DOZ-HL |    .    .    .    .    .    .    .    .    .    .    .    .    .    .    .    .    .    .    .    .    .    .    .    .    .    .    .    .    .    .    .    .    .    .    .    .    .    .    .    .    .    .    .    .    .    .    .    .    .    .    .    .    .    .    .    .    .    .    1    .   <.>   .    .    .    .    .    .    .    .    .    .    .    .    .    .    .    .    .    .    .    .    .    .    .    .    .    .    .    .    .    .    .    .    .    .    .    .    .    .    .    .    .    .    .    .    .    .    .    .    .    .    .    .    .    .    .    .    .    .    .    .    .    .    .    .    .    .    .    .    .    .    .    .    .    .    .    .    .    .    .    .    .    .    .    .    .    .    .    .    .    .    .    .    .    .    .    .    .    .    .    .    .    .    .    .    .    .    .    .    .    .    .    .    .    .    .    .    .    .    .    .    .    .    .    .    .    .    .    .    .    .    .    .    .    .    .    .    .    .    .    .    .    .    .    .    .    .    .    .    . |\n",
        "        DT |    .    .    .    .    .    .    .    .    .    .    .    .    .    .    .    .    .    .    .    .    .    .    .    .    .    .    .    .    .    .    .    .    .    .    .    .    .    .    .    .    .    .    .    .    .    .    .    .    .    .   54    .    .    .    .    .    .    .    .    .    . <452>   .    .    .    .    .    .    .    .    .    .    .    .    .    .    .    .    .    .    .    .    .    .    .    .    .    .    .    .    .    .    .    .    .    .    .    .    .    .    .    .    .    .    .    .    .    .    .    .    .    .    .    .    .    .    .    .    .    .    .    .    .    .    .    .    .    .    .    .    .    .    .    .    .    .    .    .    .    .    .    .    .    .    .    .    .    .    .    .    .    .    .    .    .    .    .    .    .    .    .    .    .    .    .    .    .    .    .    .    .    .    .    .    .    .    .    .    .    .    .    .    .    .    .    .    .    .    .    .    .    .    .    .    .    .    .    .    .    .    .    .    .    .    .    1    .    .    .    . |\n",
        "    DT+BEZ |    .    .    .    .    .    .    .    .    .    .    .    .    .    .    .    .    .    .    .    .    .    .    .    .    .    .    .    .    .    .    .    .    .    .    .    .    .    .    .    .    .    .    .    .    .    .    .    .    .    .    .    .    .    .    .    .    .    .    .    .    .    .   <.>   .    .    .    .    .    .    .    .    .    .    .    .    .    .    .    .    .    .    .    .    .    .    .    .    .    .    .    .    .    .    .    .    .    .    .    .    .    .    .    .    .    .    .    .    .    .    .    .    .    .    .    .    .    .    .    .    .    .    .    .    .    .    .    .    .    .    .    .    .    .    .    .    .    .    .    .    .    .    .    .    .    .    .    .    .    .    .    .    .    .    .    .    .    .    .    .    .    .    .    .    .    .    .    .    .    .    .    .    .    .    .    .    .    .    .    .    .    .    .    .    .    .    .    .    .    .    .    .    .    .    .    .    .    .    .    .    .    .    .    .    .    .    .    1    .    .    . |\n",
        "       DTI |    .    .    .    .    .    .    .    .    .    .    .    .    .    .    .    .    .    .    .    .    .    .    .    .    .    .    .    .    .    .    .    .    .    .    .    .    .    .    .    .    .    .    .    .    .    .    .    .    .    .    .    .    .    .    .    .    .    .    .    .    .    .    . <187>   .    .    .    .    .    .    .    .    .    .    .    .    .    .    .    .    .    .    .    .    .    .    .    .    .    .    .    .    .    .    .    .    .    .    .    .    .    .    .    .    .    .    .    .    .    .    .    .    .    .    .    .    .    .    .    .    .    .    .    .    .    .    .    .    .    .    .    .    .    .    .    .    .    .    .    .    .    .    .    .    .    .    .    .    .    .    .    .    .    .    .    .    .    .    .    .    .    .    .    .    .    .    .    .    .    .    .    .    .    .    .    .    .    .    .    .    .    .    .    .    .    .    .    .    .    .    .    .    .    .    .    .    .    .    .    .    .    .    .    .    .    .    .    .    .    . |\n",
        "       DTS |    .    .    .    .    .    .    .    .    .    .    .    .    .    .    .    .    .    .    .    .    .    .    .    .    .    .    .    .    .    .    .    .    .    .    .    .    .    .    .    .    .    .    .    .    .    .    .    .    .    .    .    .    .    .    .    .    .    .    .    .    .    .    .    . <140>   .    .    .    .    .    .    .    .    .    .    .    .    .    .    .    .    .    .    .    .    .    .    .    .    .    .    .    .    .    .    .    .    .    .    .    .    .    .    .    .    .    .    .    .    .    .    .    .    .    .    .    .    .    .    .    .    .    .    .    .    .    .    .    .    .    .    .    .    .    .    .    .    .    .    .    .    .    .    .    .    .    .    .    .    .    1    .    .    .    .    .    .    .    .    .    .    .    .    .    .    .    .    .    .    .    .    .    .    .    .    .    .    .    .    .    .    .    .    .    .    .    .    .    .    .    .    .    .    .    .    .    .    .    .    .    .    .    .    .    .    .    .    .    .    . |\n",
        "       DTX |    .    .    .    .    .    .    .    .    .    .    .    .    .    .    .    .    .    .    .    .    .    .    .    .    .    .    .    .    .    .    .    .    .    .    .    .    .    .    .    .    .    .    .    .    2    .    .    .    .    .    .    .    .    .    .    .    .    .    .    .    .    .    .    .    .   <2>   .    .    .    .    .    .    .    .    .    .    .    .    .    .    .    .    .    .    .    .    .    .    .    .    .    .    .    .    .    .    .    .    .    .    .    .    .    .    .    .    .    .    .    1    .    .    .    .    .    .    .    .    .    .    .    .    .    .    .    .    .    .    .    .    .    .    .    .    .    .    .    .    .    .    .    .    .    .    .    .    .    .    .    .    .    .    .    .    .    .    .    .    .    .    .    .    .    .    .    .    .    .    .    .    .    .    .    .    .    .    .    .    .    .    .    .    .    .    .    .    .    .    .    .    .    .    .    .    .    .    .    .    .    .    .    .    .    .    .    .    .    .    .    . |\n",
        "        EX |    .    .    .    .    .    .    .    .    .    .    .    .    .    .    .    .    .    .    .    .    .    .    .    .    .    .    .    .    .    .    .    .    .    .    .    .    .    .    .    .    .    .    .    .    .    .    .    .    .    .    .    .    .    .    .    .    .    .    .    .    .    .    .    .    .    .  <92>   .    .    .    .    .    .    .    .    .    .    .    .    .    .    .    .    .    .    .    .    .    .    .    .    .    .    .    .    .    .    .    .    .    .    .    .    .    .    .    .    .    .    .    .    .    .    .    .    .    .    .    .    .    .    .    .    .    .    .    .    .    .    .    .    .    .    .    .    .    .    .    .    .    .    .    .    .    .    .    .    .    .    .    .    .    .    .    .    .    .    .    .    .    .    .    .    .    .    .    .    .    5    .    .    .    .    .    .    .    .    .    .    .    .    .    .    .    .    .    .    .    .    .    .    .    .    .    .    .    .    .    .    .    .    .    .    .    .    .    .    .    .    . |\n",
        "    EX+BEZ |    .    .    .    .    .    .    .    .    .    .    .    .    .    .    .    .    .    .    .    .    .    .    .    .    .    .    .    .    .    .    .    .    .    .    .    .    .    .    .    .    .    .    .    .    .    .    .    .    .    .    .    .    .    .    .    .    .    .    .    .    .    .    .    .    .    .    .   <4>   .    .    .    .    .    .    .    .    .    .    .    .    .    .    .    .    .    .    .    .    .    .    .    .    .    .    .    .    .    .    .    .    .    .    .    .    .    .    .    .    .    .    .    .    .    .    .    .    .    .    .    .    .    .    .    .    .    .    .    .    .    .    .    .    .    .    .    .    .    .    .    .    .    .    .    .    .    .    .    .    .    .    .    .    .    .    .    .    .    .    .    .    .    .    .    .    .    .    .    .    .    .    .    .    .    .    .    .    .    .    .    .    .    .    .    .    .    .    .    .    .    .    .    .    .    .    .    .    .    .    .    .    .    .    .    .    .    .    .    .    .    . |\n",
        "     FW-AT |    .    .    .    .    .    .    .    .    .    .    .    .    .    .    .    .    .    .    .    .    .    .    .    .    .    .    .    .    .    .    .    .    .    .    .    .    .    .    .    .    .    .    .    .    .    .    .    .    .    .    .    .    .    .    .    .    .    .    .    .    .    .    .    .    .    .    .    .   <.>   .    .    .    .    .    .    .    .    .    .    .    .    .    .    .    .    .    .    .    .    .    .    .    .    .    .    .    .    .    .    .    .    .    .    .    .    .    .    .    .    1    .    .    .    .    .    .    .    .    .    .    .    .    .    .    .    .    .    .    .    .    .    .    .    .    .    .    .    .    .    .    .    .    .    .    .    .    .    .    .    .    .    .    .    .    .    .    .    .    .    .    .    .    .    .    .    .    .    .    .    .    .    .    .    .    .    .    .    .    .    .    .    .    .    .    .    .    .    .    .    .    .    .    .    .    .    .    .    .    .    .    .    .    .    .    .    .    .    .    .    . |\n",
        "  FW-AT-TL |    .    .    .    .    .    .    .    .    .    .    .    .    .    .    .    .    .    .    .    .    .    .    .    .    .    .    .    .    .    .    .    .    .    .    .    .    .    .    .    .    .    .    .    .    .    .    .    .    .    .    .    .    .    .    .    .    .    .    .    .    .    .    .    .    .    .    .    .    .   <1>   .    .    .    .    .    .    .    .    .    .    .    .    .    .    .    .    .    .    .    .    .    .    .    .    .    .    .    .    .    .    .    .    .    .    .    .    .    .    .    1    .    .    .    .    .    .    .    .    .    .    .    .    2    .    .    .    .    .    .    .    .    .    .    .    .    .    .    .    .    .    .    .    .    .    .    .    .    .    .    .    .    .    .    .    .    .    .    .    .    .    .    .    .    .    .    .    .    .    .    .    .    .    .    .    .    .    .    .    .    .    .    .    .    .    .    .    .    .    .    .    .    .    .    .    .    .    .    .    .    .    .    .    .    .    .    .    .    .    .    . |\n",
        "     FW-CC |    .    .    .    .    .    .    .    .    .    .    .    .    .    .    .    .    .    .    .    .    .    .    .    .    .    .    .    .    .    .    .    .    .    .    .    .    .    .    .    .    .    .    .    .    .    .    .    .    .    .    .    .    .    .    .    .    .    .    .    .    .    .    .    .    .    .    .    .    .    .   <1>   .    .    .    .    .    .    .    .    .    .    .    .    .    .    .    .    .    .    .    .    .    .    .    .    .    .    .    .    .    .    .    .    .    .    .    .    .    .    .    .    .    .    .    .    .    .    .    .    .    .    .    .    .    .    .    .    .    .    .    .    .    .    .    .    .    .    .    .    .    .    .    .    .    .    .    .    .    .    .    .    .    .    .    .    .    .    .    .    .    .    .    .    .    .    .    .    .    .    .    .    .    .    .    .    .    .    .    .    .    .    .    .    .    .    .    .    .    .    .    .    .    .    .    .    .    .    .    .    .    .    .    .    .    .    .    .    .    .    . |\n",
        "     FW-IN |    .    .    .    .    .    .    .    .    .    .    .    .    .    .    .    .    .    .    .    .    .    .    .    .    .    .    .    .    .    .    .    .    .    .    .    .    .    .    .    .    .    .    .    .    .    .    .    .    .    .    .    .    .    .    .    .    .    .    .    .    .    .    .    .    .    .    .    .    .    .    .   <3>   .    .    .    .    .    .    .    .    .    .    .    .    .    .    .    .    .    .    .    .    .    .    .    .    .    .    .    .    .    .    .    .    .    .    .    .    .    1    .    .    .    .    .    .    .    .    .    .    .    .    .    .    .    .    .    .    .    .    .    .    .    .    .    .    .    .    .    .    .    .    .    .    .    .    .    .    .    .    .    .    .    .    .    .    .    .    .    .    .    .    .    .    .    .    .    .    .    .    .    .    .    .    .    .    .    .    .    .    .    .    .    .    .    .    .    .    .    .    .    .    .    .    .    .    .    .    .    .    .    .    .    .    .    .    .    .    .    . |\n",
        "  FW-IN-TL |    .    .    .    .    .    .    .    .    .    .    .    .    .    .    .    .    .    .    .    .    .    .    .    .    .    .    .    .    .    .    .    .    .    .    .    .    .    .    .    .    .    .    .    .    .    .    .    .    .    .    .    .    .    .    .    .    .    .    .    .    .    .    .    .    .    .    .    .    .    .    .    .   <.>   .    .    .    .    .    .    .    .    .    .    .    .    .    .    .    .    .    .    .    .    .    .    .    .    .    .    .    .    .    .    .    .    .    .    .    .    .    .    .    .    .    .    .    .    .    .    .    .    .    1    .    .    .    .    .    .    .    .    .    .    .    .    .    .    .    .    .    .    .    .    .    .    .    .    .    .    .    .    .    .    .    .    .    .    .    .    .    .    .    .    .    .    .    .    .    .    .    .    .    .    .    .    .    .    .    .    .    .    .    .    .    .    .    .    .    .    .    .    .    .    .    .    .    .    .    .    .    .    .    .    .    .    .    .    .    .    . |\n",
        "     FW-JJ |    .    .    .    .    .    .    .    .    .    .    .    .    .    .    .    .    .    .    .    .    .    .    .    .    .    .    .    .    .    .    .    .    .    .    .    .    .    .    .    .    .    .    .    .    .    .    .    .    .    .    .    .    .    .    .    .    .    .    .    .    .    .    .    .    .    .    .    .    .    .    .    .    .   <.>   .    .    .    .    .    .    .    .    .    .    .    .    .    .    .    .    .    .    .    .    .    .    .    .    .    .    .    .    .    .    .    .    .    .    .    3    .    .    .    .    .    .    .    .    .    .    .    .    .    .    .    .    .    .    .    .    .    .    .    .    .    .    .    .    .    .    .    .    .    .    .    .    .    .    .    .    .    .    .    .    .    .    .    .    .    .    .    .    .    .    .    .    .    .    .    .    .    .    .    .    .    .    .    .    .    .    .    .    .    .    .    .    .    .    .    .    .    .    .    .    .    .    .    .    .    .    .    .    .    .    .    .    .    .    .    . |\n",
        "  FW-JJ-TL |    .    .    .    .    .    .    .    .    .    .    .    .    .    .    .    .    .    .    .    .    .    .    .    .    .    .    .    .    .    .    .    .    .    .    .    .    .    .    .    .    .    .    .    .    .    .    .    .    .    .    .    .    .    .    .    .    .    .    .    .    .    .    .    .    .    .    .    .    .    .    .    .    .    .   <.>   .    .    .    .    .    .    .    .    .    .    .    .    .    .    .    .    .    .    .    .    .    1    .    .    .    .    .    .    .    .    .    .    .    .    1    .    .    .    .    .    .    .    .    .    .    .    .    .    .    .    .    .    .    .    .    .    .    .    .    .    .    .    .    .    .    .    .    .    .    .    .    .    .    .    .    .    .    .    .    .    .    .    .    .    .    .    .    .    .    .    .    .    .    .    .    .    .    .    .    .    .    .    .    .    .    .    .    .    .    .    .    .    .    .    .    .    .    .    .    .    .    .    .    .    .    .    .    .    .    .    .    .    .    .    . |\n",
        "     FW-NN |    .    .    .    .    .    .    .    .    .    .    .    .    .    .    .    .    .    .    .    .    .    .    .    .    .    .    .    .    .    .    .    .    .    .    .    .    .    .    .    .    .    .    .    .    .    .    .    .    .    .    .    .    .    .    .    .    .    .    .    .    .    .    .    .    .    .    .    .    .    .    .    .    .    .    .   <2>   .    .    .    .    .    .    .    .    .    .    .    .    .    .    .    .    .    .    .    .    .    .    .    .    .    .    .    .    .    .    .    .    .   10    .    .    .    .    .    .    .    .    .    .    .    .    .    .    .    .    .    .    .    .    .    .    .    .    .    .    .    .    .    .    .    .    .    .    .    .    .    .    .    .    .    .    .    .    .    .    .    .    .    .    .    .    .    .    .    .    .    .    .    .    .    .    .    .    .    .    .    .    .    .    .    .    .    .    .    .    .    .    .    .    .    .    .    .    .    .    .    .    .    .    .    .    .    .    .    .    .    .    .    . |\n",
        "  FW-NN-TL |    .    .    .    .    .    .    .    .    .    .    .    .    .    .    .    .    .    .    .    .    .    .    .    .    .    .    .    .    .    .    .    .    .    .    .    .    .    .    .    .    .    .    .    .    .    .    .    .    .    .    .    .    .    .    .    .    .    .    .    .    .    .    .    .    .    .    .    .    .    .    .    .    .    .    .    .   <.>   .    .    .    .    .    .    .    .    .    .    .    .    .    .    .    .    .    .    .    .    .    .    .    .    .    .    .    .    .    .    .    .    4    .    .    .    .    .    .    .    .    .    .    .    .    .    .    .    .    .    .    .    .    .    .    .    .    .    .    .    .    .    .    .    .    .    .    .    .    .    .    .    .    .    .    .    .    .    .    .    .    .    .    .    .    .    .    .    .    .    .    .    .    .    .    .    .    .    .    .    .    .    .    .    .    .    .    .    .    .    .    .    .    .    .    .    .    .    .    .    .    .    .    .    .    .    .    .    .    .    .    .    . |\n",
        "    FW-NNS |    .    .    .    .    .    .    .    .    .    .    .    .    .    .    .    .    .    .    .    .    .    .    .    .    .    .    .    .    .    .    .    .    .    .    .    .    .    .    .    .    .    .    .    .    .    .    .    .    .    .    .    .    .    .    .    .    .    .    .    .    .    .    .    .    .    .    .    .    .    .    .    .    .    .    .    .    .   <1>   .    .    .    .    .    .    .    .    .    .    .    .    .    .    .    .    .    .    .    .    .    .    .    .    .    .    .    .    .    .    .    5    .    .    .    .    .    .    .    .    .    .    .    .    .    .    .    .    .    .    .    .    .    .    .    .    .    .    .    .    .    .    .    .    .    .    .    .    .    .    .    .    .    .    .    .    .    .    .    .    .    .    .    .    .    .    .    .    .    .    .    .    .    .    .    .    .    .    .    .    .    .    .    .    .    .    .    .    .    .    .    .    .    .    .    .    .    .    .    .    .    .    .    .    .    .    .    .    .    .    .    . |\n",
        "     FW-NP |    .    .    .    .    .    .    .    .    .    .    .    .    .    .    .    .    .    .    .    .    .    .    .    .    .    .    .    .    .    .    .    .    .    .    .    .    .    .    .    .    .    .    .    .    .    .    .    .    .    .    .    .    .    .    .    .    .    .    .    .    .    .    .    .    .    .    .    .    .    .    .    .    .    .    .    .    .    .   <.>   .    .    .    .    .    .    .    .    .    .    .    .    .    .    .    .    .    .    .    .    .    .    .    .    .    .    .    .    .    .    1    .    .    .    .    .    .    .    .    .    .    .    .    .    .    .    .    .    .    .    .    .    .    .    .    .    .    .    .    .    .    .    .    .    .    .    .    .    .    .    .    .    .    .    .    .    .    .    .    .    .    .    .    .    .    .    .    .    .    .    .    .    .    .    .    .    .    .    .    .    .    .    .    .    .    .    .    .    .    .    .    .    .    .    .    .    .    .    .    .    .    .    .    .    .    .    .    .    .    .    . |\n",
        "    FW-PPL |    .    .    .    .    .    .    .    .    .    .    .    .    .    .    .    .    .    .    .    .    .    .    .    .    .    .    .    .    .    .    .    .    .    .    .    .    .    .    .    .    .    .    .    .    .    .    .    .    .    .    .    .    .    .    .    .    .    .    .    .    .    .    .    .    .    .    .    .    .    .    .    .    .    .    .    .    .    .    .   <.>   .    .    .    .    .    .    .    .    .    .    .    .    .    .    .    .    .    .    .    .    .    .    .    .    .    .    .    .    .    1    .    .    .    .    .    .    .    .    .    .    .    .    .    .    .    .    .    .    .    .    .    .    .    .    .    .    .    .    .    .    .    .    .    .    .    .    .    .    .    .    .    .    .    .    .    .    .    .    .    .    .    .    .    .    .    .    .    .    .    .    .    .    .    .    .    .    .    .    .    .    .    .    .    .    .    .    .    .    .    .    .    .    .    .    .    .    .    .    .    .    .    .    .    .    .    .    .    .    .    . |\n",
        "    FW-PPO |    .    .    .    .    .    .    .    .    .    .    .    .    .    .    .    .    .    .    .    .    .    .    .    .    .    .    .    .    .    .    .    .    .    .    .    .    .    .    .    .    .    .    .    .    .    .    .    .    .    .    .    .    .    .    .    .    .    .    .    .    .    .    .    .    .    .    .    .    .    .    .    .    .    .    .    .    .    .    .    .   <.>   .    .    .    .    .    .    .    .    .    .    .    .    .    .    .    .    .    .    .    .    .    .    .    .    .    .    .    .    1    .    .    .    .    .    .    .    .    .    .    .    .    .    .    .    .    .    .    .    .    .    .    .    .    .    .    .    .    .    .    .    .    .    .    .    .    .    .    .    .    .    .    .    .    .    .    .    .    .    .    .    .    .    .    .    .    .    .    .    .    .    .    .    .    .    .    .    .    .    .    .    .    .    .    .    .    .    .    .    .    .    .    .    .    .    .    .    .    .    .    .    .    .    .    .    .    .    .    .    . |\n",
        "     FW-VB |    .    .    .    .    .    .    .    .    .    .    .    .    .    .    .    .    .    .    .    .    .    .    .    .    .    .    .    .    .    .    .    .    .    .    .    .    .    .    .    .    .    .    .    .    .    .    .    .    .    .    .    .    .    .    .    .    .    .    .    .    .    .    .    .    .    .    .    .    .    .    .    .    .    .    .    .    .    .    .    .    .   <.>   .    .    .    .    .    .    .    .    .    .    .    .    .    .    .    .    .    .    .    .    .    .    .    .    .    .    .    1    .    .    .    .    .    .    .    .    .    .    .    .    .    .    .    .    .    .    .    .    .    .    .    .    .    .    .    .    .    .    .    .    .    .    .    .    .    .    .    .    .    .    .    .    .    .    .    .    .    .    .    .    .    .    .    .    .    .    .    .    .    .    .    .    .    .    .    .    .    .    .    .    .    .    .    .    .    .    .    .    .    .    .    .    .    .    .    .    .    .    .    .    .    .    .    .    .    .    .    . |\n",
        "    FW-VBZ |    .    .    .    .    .    .    .    .    .    .    .    .    .    .    .    .    .    .    .    .    .    .    .    .    .    .    .    .    .    .    .    .    .    .    .    .    .    .    .    .    .    .    .    .    .    .    .    .    .    .    .    .    .    .    .    .    .    .    .    .    .    .    .    .    .    .    .    .    .    .    .    .    .    .    .    .    .    .    .    .    .    .   <.>   .    .    .    .    .    .    .    .    .    .    .    .    .    .    .    .    .    .    .    .    .    .    .    .    .    .    1    .    .    .    .    .    .    .    .    .    .    .    .    .    .    .    .    .    .    .    .    .    .    .    .    .    .    .    .    .    .    .    .    .    .    .    .    .    .    .    .    .    .    .    .    .    .    .    .    .    .    .    .    .    .    .    .    .    .    .    .    .    .    .    .    .    .    .    .    .    .    .    .    .    .    .    .    .    .    .    .    .    .    .    .    .    .    .    .    .    .    .    .    .    .    .    .    .    .    .    . |\n",
        "    FW-WDT |    .    .    .    .    .    .    .    .    .    .    .    .    .    .    .    .    .    .    .    .    .    .    .    .    .    .    .    .    .    .    .    .    .    .    .    .    .    .    .    .    .    .    .    .    .    .    .    .    .    .    .    .    .    .    .    .    .    .    .    .    .    .    .    .    .    .    .    .    .    .    .    .    .    .    .    .    .    .    .    .    .    .    .   <.>   .    .    .    .    .    .    .    .    .    .    .    .    .    .    .    .    .    .    .    .    .    .    .    .    .    1    .    .    .    .    .    .    .    .    .    .    .    .    .    .    .    .    .    .    .    .    .    .    .    .    .    .    .    .    .    .    .    .    .    .    .    .    .    .    .    .    .    .    .    .    .    .    .    .    .    .    .    .    .    .    .    .    .    .    .    .    .    .    .    .    .    .    .    .    .    .    .    .    .    .    .    .    .    .    .    .    .    .    .    .    .    .    .    .    .    .    .    .    .    .    .    .    .    .    .    . |\n",
        "        HV |    .    .    .    .    .    .    .    .    .    .    .    .    .    .    .    .    .    .    .    .    .    .    .    .    .    .    .    .    .    .    .    .    .    .    .    .    .    .    .    .    .    .    .    .    .    .    .    .    .    .    .    .    .    .    .    .    .    .    .    .    .    .    .    .    .    .    .    .    .    .    .    .    .    .    .    .    .    .    .    .    .    .    .    . <275>   .    .    .    .    .    .    .    .    .    .    .    .    .    .    .    .    .    .    .    .    .    .    .    .    .    .    .    .    .    .    .    .    .    .    .    .    .    .    .    .    .    .    .    .    .    .    .    .    .    .    .    .    .    .    .    .    .    .    .    .    .    .    .    .    .    .    .    .    .    .    .    .    .    .    .    .    .    .    .    .    .    .    .    .    .    .    .    .    .    .    .    .    .    .    .    .    .    .    .    .    .    .    .    .    .    .    .    .    .    .    .    .    .    .    .    .    .    .    .    .    .    .    .    .    . |\n",
        "       HVD |    .    .    .    .    .    .    .    .    .    .    .    .    .    .    .    .    .    .    .    .    .    .    .    .    .    .    .    .    .    .    .    .    .    .    .    .    .    .    .    .    .    .    .    .    .    .    .    .    .    .    .    .    .    .    .    .    .    .    .    .    .    .    .    .    .    .    .    .    .    .    .    .    .    .    .    .    .    .    .    .    .    .    .    .    . <120>   .    .    .    .    .    .    .    .    .    .    .    .    .    .    .    .    .    .    .    .    .    .    .    .    .    .    .    .    .    .    .    .    .    .    .    .    .    .    .    .    .    .    .    .    .    .    .    .    .    .    .    .    .    .    .    .    .    .    .    .    .    .    .    .    .    .    .    .    .    .    .    .    .    .    .    .    .    .    .    .    .    .    .    .    .    .    .    .    .    .    .    .    .    .    .    .    .    .    .    .    .    .    .    .    .    .    .    .    .    .    .    .    .    .    .    .    .    .    .    .    .    .    .    . |\n",
        "       HVG |    .    .    .    .    .    .    .    .    .    .    .    .    .    .    .    .    .    .    .    .    .    .    .    .    .    .    .    .    .    .    .    .    .    .    .    .    .    .    .    .    .    .    .    .    .    .    .    .    .    .    .    .    .    .    .    .    .    .    .    .    .    .    .    .    .    .    .    .    .    .    .    .    .    .    .    .    .    .    .    .    .    .    .    .    .    .  <16>   .    .    .    .    .    .    .    .    .    .    .    .    .    .    .    .    .    .    .    .    .    .    3    .    .    .    .    .    .    .    .    .    .    .    .    .    .    .    .    .    .    .    .    .    .    .    .    .    .    .    .    .    .    .    .    .    .    .    .    .    .    .    .    .    .    .    .    .    .    .    .    .    .    .    .    .    .    .    .    .    .    .    .    .    .    .    .    .    .    .    .    .    .    .    .    .    .    .    .    .    .    .    .    .    .    .    .    .    .    .    .    .    .    .    .    .    .    .    .    .    .    .    . |\n",
        "       HVN |    .    .    .    .    .    .    .    .    .    .    .    .    .    .    .    .    .    .    .    .    .    .    .    .    .    .    .    .    .    .    .    .    .    .    .    .    .    .    .    .    .    .    .    .    .    .    .    .    .    .    .    .    .    .    .    .    .    .    .    .    .    .    .    .    .    .    .    .    .    .    .    .    .    .    .    .    .    .    .    .    .    .    .    .    .    4    .   <8>   .    .    .    .    .    .    .    .    .    .    .    .    .    .    .    .    .    .    .    .    .    .    .    .    .    .    .    .    .    .    .    .    .    .    .    .    .    .    .    .    .    .    .    .    .    .    .    .    .    .    .    .    .    .    .    .    .    .    .    .    .    .    .    .    .    .    .    .    .    .    .    .    .    .    .    .    .    .    .    .    .    .    .    .    .    .    .    .    .    .    .    .    .    .    .    .    .    .    .    .    .    .    .    .    .    .    .    .    .    .    .    .    .    .    .    .    .    .    .    .    .    . |\n",
        "       HVZ |    .    .    .    .    .    .    .    .    .    .    .    .    .    .    .    .    .    .    .    .    .    .    .    .    .    .    .    .    .    .    .    .    .    .    .    .    .    .    .    .    .    .    .    .    .    .    .    .    .    .    .    .    .    .    .    .    .    .    .    .    .    .    .    .    .    .    .    .    .    .    .    .    .    .    .    .    .    .    .    .    .    .    .    .    .    .    .    . <261>   .    .    .    .    .    .    .    .    .    .    .    .    .    .    .    .    .    .    .    .    .    .    .    .    .    .    .    .    .    .    .    .    .    .    .    .    .    .    .    .    .    .    .    .    .    .    .    .    .    .    .    .    .    .    .    .    .    .    .    .    .    .    .    .    .    .    .    .    .    .    .    .    .    .    .    .    .    .    .    .    .    .    .    .    .    .    .    .    .    .    .    .    .    .    .    .    .    .    .    .    .    .    .    .    .    .    .    .    .    .    .    .    .    .    .    .    .    .    .    .    . |\n",
        "      HVZ* |    .    .    .    .    .    .    .    .    .    .    .    .    .    .    .    .    .    .    .    .    .    .    .    .    .    .    .    .    .    .    .    .    .    .    .    .    .    .    .    .    .    .    .    .    .    .    .    .    .    .    .    .    .    .    .    .    .    .    .    .    .    .    .    .    .    .    .    .    .    .    .    .    .    .    .    .    .    .    .    .    .    .    .    .    .    .    .    .    .   <6>   .    .    .    .    .    .    .    .    .    .    .    .    .    .    .    .    .    .    .    .    .    .    .    .    .    .    .    .    .    .    .    .    .    .    .    .    .    .    .    .    .    .    .    .    .    .    .    .    .    .    .    .    .    .    .    .    .    .    .    .    .    .    .    .    .    .    .    .    .    .    .    .    .    .    .    .    .    .    .    .    .    .    .    .    .    .    .    .    .    .    .    .    .    .    .    .    .    .    .    .    .    .    .    .    .    .    .    .    .    .    .    .    .    .    .    .    .    .    .    . |\n",
        "        IN |    .    .    .    .    .    .    .    .    .    .    .    .    .    .    .    .    .    .    .    .    3    .    .    .    .    .    .    .    .    .    .    .    .    .    .    .    .    .    .    .    .    .    .    .   10    .    .    .    .    .   31    .    .    .    .    .    .    .    .    .    .    .    .    .    .    .    .    .    .    .    .    .    .    .    .    .    .    .    .    .    .    .    .    .    .    .    .    .    .    .<5518>  13    .   11    .    .    .    .    .    .    .    .    .    .    .    .    .    .    .   34    .    .    .    .    .    .    1    .    .    .    .    .    .    .    .    .    .    .    .    .    .    .    .    .    .    .    .    .    .    .    .    .    .    2    .    .    .    .    .    .    .    .    .    .    .    .    .    .    .    .    .    .    .    .    .    .    .    .   24    .    .    .    .    .    .    .   34    .  519    1    .    .    .    .    .    .    .    .    3    .    .    .    .    .    .    .    .    .    .    .    .    .    .    .    .    .    .    .    .    . |\n",
        "     IN-HL |    .    .    .    .    .    .    .    .    .    .    .    .    .    .    .    .    .    .    .    .    .    .    .    .    .    .    .    .    .    .    .    .    .    .    .    .    .    .    .    .    .    .    .    .    .    .    .    .    .    .    .    .    .    .    .    .    .    .    .    .    .    .    .    .    .    .    .    .    .    .    .    .    .    .    .    .    .    .    .    .    .    .    .    .    .    .    .    .    .    .   66   <.>   .    2    .    .    .    .    .    .    .    .    .    .    .    .    .    .    .    3    .    .    .    .    .    .    .    .    .    .    .    .    .    .    .    .    .    .    .    .    .    .    .    .    .    .    .    .    .    .    .    .    .    .    .    .    .    .    .    .    .    .    .    .    .    .    .    .    .    .    .    .    .    .    .    .    .    .    .    .    .    .    .    .    .    .    1    .   41    .    .    .    .    .    .    .    .    .    .    .    .    .    .    .    .    .    .    .    .    .    .    .    .    .    .    .    .    .    .    . |\n",
        "     IN-NC |    .    .    .    .    .    .    .    .    .    .    .    .    .    .    .    .    .    .    .    .    .    .    .    .    .    .    .    .    .    .    .    .    .    .    .    .    .    .    .    .    .    .    .    .    .    .    .    .    .    .    .    .    .    .    .    .    .    .    .    .    .    .    .    .    .    .    .    .    .    .    .    .    .    .    .    .    .    .    .    .    .    .    .    .    .    .    .    .    .    .    1    .   <.>   .    .    .    .    .    .    .    .    .    .    .    .    .    .    .    .    .    .    .    .    .    .    .    .    .    .    .    .    .    .    .    .    .    .    .    .    .    .    .    .    .    .    .    .    .    .    .    .    .    .    .    .    .    .    .    .    .    .    .    .    .    .    .    .    .    .    .    .    .    .    .    .    .    .    .    .    .    .    .    .    .    .    .    .    .    .    .    .    .    .    .    .    .    .    .    .    .    .    .    .    .    .    .    .    .    .    .    .    .    .    .    .    .    .    .    .    . |\n",
        "     IN-TL |    .    .    .    .    .    .    .    .    .    .    .    .    .    .    .    .    .    .    .    .    .    .    .    .    .    .    .    .    .    .    .    .    .    .    .    .    .    .    .    .    .    .    .    .    .    .    .    .    .    .    .    .    .    .    .    .    .    .    .    .    .    .    .    .    .    .    .    .    .    .    .    .    .    .    .    .    .    .    .    .    .    .    .    .    .    .    .    .    .    .   41    .    .  <57>   .    .    .    .    .    .    .    .    .    .    .    .    .    .    .    .    .    .    .    .    .    .    .    .    .    .    .    .    .    .    .    .    .    .    .    .    .    .    .    .    .    .    .    .    .    .    .    .    .    .    .    .    .    .    .    .    .    .    .    .    .    .    .    .    .    .    .    .    .    .    .    .    .    .    .    .    .    .    .    .    .    .    .    .    .    .    .    .    .    .    .    .    .    .    .    .    .    .    .    .    .    .    .    .    .    .    .    .    .    .    .    .    .    .    .    . |\n",
        "        JJ |    .    .    .    .    .    .    .    .    .    .    .    .    .    .    .    .    1    .    .    .    8    .    .    .    .    .    .    .    .    .    .    .    .    .    .    .    .    .    .    .    .    .    .    .    .    .    .    .    .    .    1    .    .    .    .    .    .    .    .    .    .    .    .    .    .    .    .    .    .    .    .    .    .    .    .    .    .    .    .    .    .    .    .    .    .    .    .    .    .    .    .    .    .    .<2382>   4   15    .    .    .    .    .    .    .    .    .    .    .    . 1091    .    .    .    .    2    .    .    .    .    .    .    .   24    .    .    .    .    .    6    2    .    .    .    2    .    .    .    .    .    .    .    .    .    .    .    .    .    .    .    .    .    .    .    .    .    .    .    .    .    .    .    .    .    .    .   10    .    .   28    .    .    .    .    .    .    .    .    .    .    .    .    .   11    .    .    .    4    .    1    .    .    1    .    .    .    .    .    .    .    .    .    .    .    .    .    .    .    .    .    . |\n",
        "     JJ-HL |    .    .    .    .    .    .    .    .    .    .    .    .    .    .    .    .    .    .    .    .    .    .    .    .    .    .    .    .    .    .    .    .    .    .    .    .    .    .    .    .    .    .    .    .    .    .    .    .    .    .    .    .    .    .    .    .    .    .    .    .    .    .    .    .    .    .    .    .    .    .    .    .    .    .    .    .    .    .    .    .    .    .    .    .    .    .    .    .    .    .    .    .    .    .   16   <.>   .    .    .    .    .    .    .    .    .    .    .    .    .   22    .    .    .    .    .    .    .    .    .    .    .    .    1    .    .    .    .    .    .    .    .    .    .    .    .    .    .    .    .    .    .    .    .    .    .    .    .    .    .    .    .    .    .    .    .    .    .    .    .    .    .    .    .    .    .    .    .    .    1    .    .    .    .    .    .    .    .    .    .    .    .    .    .    .    .    .    .    .    .    .    .    .    .    .    .    .    .    .    .    .    .    .    .    .    .    .    .    .    .    . |\n",
        "     JJ-TL |    .    .    .    .    .    .    .    .    .    .    .    .    .    .    .    .    .    .    .    .    .    .    .    .    .    .    .    .    .    .    .    .    .    .    .    .    .    .    .    .    .    .    .    .    .    .    .    .    .    .    .    .    .    .    .    .    .    .    .    .    .    .    .    .    .    .    .    .    .    .    .    .    .    .    .    .    .    .    .    .    .    .    .    .    .    .    .    .    .    .    .    .    .    .   23    . <290>   .    .    .    .    .    .    .    .    .    .    .    .   46    .    .    .    1    3    .    .    .    .    .    .    .    6    .    .    .    .    .    8    .    .    .    .    .    .    .   25    .    .    .    .    .    .    .    .    .    .    .    .    .    .    .    .    .    .    .    .    .    .    .    .    .    .    .    .    .    .    .    .    .    .    .    .    .    .    .    .    .    .    .    .    .    .    .    .    .    .    .    .    .    .    .    .    .    .    .    .    .    .    .    .    .    .    .    .    .    .    .    .    . |\n",
        "  JJ-TL-HL |    .    .    .    .    .    .    .    .    .    .    .    .    .    .    .    .    .    .    .    .    .    .    .    .    .    .    .    .    .    .    .    .    .    .    .    .    .    .    .    .    .    .    .    .    .    .    .    .    .    .    .    .    .    .    .    .    .    .    .    .    .    .    .    .    .    .    .    .    .    .    .    .    .    .    .    .    .    .    .    .    .    .    .    .    .    .    .    .    .    .    .    .    .    .    .    .    3   <.>   .    .    .    .    .    .    .    .    .    .    .    .    .    .    .    .    .    .    .    .    .    .    .    .    .    .    .    .    .    .    .    .    .    .    .    .    .    .    .    .    .    .    .    .    .    .    .    .    .    .    .    .    .    .    .    .    .    .    .    .    .    .    .    .    .    .    .    .    .    .    .    .    .    .    .    .    .    .    .    .    .    .    .    .    .    .    .    .    .    .    .    .    .    .    .    .    .    .    .    .    .    .    .    .    .    .    .    .    .    .    .    . |\n",
        "       JJR |    .    .    .    .    .    .    .    .    .    .    .    .    .    .    .    .    .    .    .    .    2    .    .    .    .    .    .    .    .    .    .    .    .    .    .    .    .    .    .    .    .    .    .    .    .    .    .    .    .    .    .    .    .    .    .    .    .    .    .    .    .    .    .    .    .    .    .    .    .    .    .    .    .    .    .    .    .    .    .    .    .    .    .    .    .    .    .    .    .    .    .    .    .    .    .    .    .    .  <67>   .    .    .    .    .    .    .    .    .    .   22    .    .    .    .    .    .    .    .    .    .    .    .    .    .    .    .    .    .    .    .    .    .    .    .    .    .    .    .    .    .    .    .    .    .    .    .    .    .    .    .    .    .    .    .    .    .    .    .    .    .    .    .    .    .    .    .    .    .    .    .    .    .    .    7    .    .    .    .    .    .    .    .    .    .    .    .    .    .    .    .    .    .    .    .    .    .    .    .    .    .    .    .    .    .    .    .    .    .    .    . |\n",
        "    JJR-HL |    .    .    .    .    .    .    .    .    .    .    .    .    .    .    .    .    .    .    .    .    .    .    .    .    .    .    .    .    .    .    .    .    .    .    .    .    .    .    .    .    .    .    .    .    .    .    .    .    .    .    .    .    .    .    .    .    .    .    .    .    .    .    .    .    .    .    .    .    .    .    .    .    .    .    .    .    .    .    .    .    .    .    .    .    .    .    .    .    .    .    .    .    .    .    .    .    .    .    2   <.>   1    .    .    .    .    .    .    .    .    1    .    .    .    .    .    .    .    .    .    .    .    .    .    .    .    .    .    .    .    .    .    .    .    .    .    .    .    .    .    .    .    .    .    .    .    .    .    .    .    .    .    .    .    .    .    .    .    .    .    .    .    .    .    .    .    .    .    .    .    .    .    .    .    .    .    .    .    .    .    .    .    .    .    .    .    .    .    .    .    .    .    .    .    .    .    .    .    .    .    .    .    .    .    .    .    .    .    .    .    . |\n",
        "    JJR-TL |    .    .    .    .    .    .    .    .    .    .    .    .    .    .    .    .    .    .    .    .    .    .    .    .    .    .    .    .    .    .    .    .    .    .    .    .    .    .    .    .    .    .    .    .    .    .    .    .    .    .    .    .    .    .    .    .    .    .    .    .    .    .    .    .    .    .    .    .    .    .    .    .    .    .    .    .    .    .    .    .    .    .    .    .    .    .    .    .    .    .    .    .    .    .    .    .    .    .    .    .   <3>   .    .    .    .    .    .    .    .    1    .    .    .    .    .    .    .    .    .    .    .    .    .    .    .    .    .    .    .    .    .    .    .    .    .    .    .    .    .    .    .    .    .    .    .    .    .    .    .    .    .    .    .    .    .    .    .    .    .    .    .    .    .    .    .    .    .    .    .    .    .    .    .    .    .    .    .    .    .    .    .    .    .    .    .    .    .    .    .    .    .    .    .    .    .    .    .    .    .    .    .    .    .    .    .    .    .    .    .    . |\n",
        "       JJS |    .    .    .    .    .    .    .    .    .    .    .    .    .    .    .    .    .    .    .    .    .    .    .    .    .    .    .    .    .    .    .    .    .    .    .    .    .    .    .    .    .    .    .    .    .    .    .    .    .    .    .    .    .    .    .    .    .    .    .    .    .    .    .    .    .    .    .    .    .    .    .    .    .    .    .    .    .    .    .    .    .    .    .    .    .    .    .    .    .    .    .    .    .    .    .    .    .    .    .    .    .  <18>   .    .    .    .    .    .    .    4    .    .    .    .    .    .    1    .    .    .    .    .    .    .    .    .    .    .    .    .    .    .    .    .    .    .    .    .    .    .    .    .    .    .    .    .    .    .    .    .    .    .    .    .    .    .    .    .    .    .    .    .    .    .    .    .    .    .    .    .    .    .    .    .    .    .    .    .    .    .    .    .    .    .    .    .    .    .    .    .    .    .    .    .    .    .    .    .    .    .    .    .    .    .    .    .    .    .    .    . |\n",
        "    JJS-TL |    .    .    .    .    .    .    .    .    .    .    .    .    .    .    .    .    .    .    .    .    .    .    .    .    .    .    .    .    .    .    .    .    .    .    .    .    .    .    .    .    .    .    .    .    .    .    .    .    .    .    .    .    .    .    .    .    .    .    .    .    .    .    .    .    .    .    .    .    .    .    .    .    .    .    .    .    .    .    .    .    .    .    .    .    .    .    .    .    .    .    .    .    .    .    .    .    .    .    .    .    .    .   <.>   .    .    .    .    .    .    .    .    .    .    .    1    .    .    .    .    .    .    .    .    .    .    .    .    .    .    .    .    .    .    .    .    .    .    .    .    .    .    .    .    .    .    .    .    .    .    .    .    .    .    .    .    .    .    .    .    .    .    .    .    .    .    .    .    .    .    .    .    .    .    .    .    .    .    .    .    .    .    .    .    .    .    .    .    .    .    .    .    .    .    .    .    .    .    .    .    .    .    .    .    .    .    .    .    .    .    . |\n",
        "       JJT |    .    .    .    .    .    .    .    .    .    .    .    .    .    .    .    .    .    .    .    .    .    .    .    .    .    .    .    .    .    .    .    .    .    .    .    .    .    .    .    .    .    .    .    .    .    .    .    .    .    .    .    .    .    .    .    .    .    .    .    .    .    .    .    .    .    .    .    .    .    .    .    .    .    .    .    .    .    .    .    .    .    .    .    .    .    .    .    .    .    .    .    .    .    .    .    .    .    .    .    .    .    .    .  <44>   .    .    .    .    .   20    .    .    .    .    .    .    .    .    .    .    .    .    .    .    .    .    .    .    .    .    .    .    .    .    .    .    .    .    .    .    .    .    .    .    .    .    .    .    .    .    .    .    .    .    .    .    .    .    .    .    .    .    .    .    .    .    .    .    .    .    .    .    .    .    .    .    .    .    .    .    .    .    .    .    .    .    .    .    .    .    .    .    .    .    .    .    .    .    .    .    .    .    .    .    .    .    .    .    .    . |\n",
        "    JJT-HL |    .    .    .    .    .    .    .    .    .    .    .    .    .    .    .    .    .    .    .    .    .    .    .    .    .    .    .    .    .    .    .    .    .    .    .    .    .    .    .    .    .    .    .    .    .    .    .    .    .    .    .    .    .    .    .    .    .    .    .    .    .    .    .    .    .    .    .    .    .    .    .    .    .    .    .    .    .    .    .    .    .    .    .    .    .    .    .    .    .    .    .    .    .    .    .    .    .    .    .    .    .    .    .    1   <.>   .    .    .    .    2    .    .    .    .    .    .    .    .    .    .    .    .    .    .    .    .    .    .    .    .    .    .    .    .    .    .    .    .    .    .    .    .    .    .    .    .    .    .    .    .    .    .    .    .    .    .    .    .    .    .    .    .    .    .    .    .    .    .    .    .    .    .    .    .    .    .    .    .    .    .    .    .    .    .    .    .    .    .    .    .    .    .    .    .    .    .    .    .    .    .    .    .    .    .    .    .    .    .    .    . |\n",
        "        MD |    .    .    .    .    .    .    .    .    .    .    .    .    .    .    .    .    .    .    .    .    .    .    .    .    .    .    .    .    .    .    .    .    .    .    .    .    .    .    .    .    .    .    .    .    .    .    .    .    .    .    .    .    .    .    .    .    .    .    .    .    .    .    .    .    .    .    .    .    .    .    .    .    .    .    .    .    .    .    .    .    .    .    .    .    .    .    .    .    .    .    .    .    .    .    .    .    .    .    .    .    .    .    .    .    . <857>   .    7    .    2    .    .    .    .    .    .    .    .    .    .    .    .    .    .    .    .    .    .    .    .    .    .    .    .    .    .    .    .    .    .    .    .    .    .    .    .    .    .    .    .    .    .    .    .    .    .    .    .    .    .    .    .    .    .    .    .    .    .    .    .    .    .    .    .    .    .    .    .    .    .    .    .    1    .    .    .    .    .    .    .    .    .    .    .    .    .    .    .    .    .    .    .    .    .    .    .    .    .    .    . |\n",
        "       MD* |    .    .    .    .    .    .    .    .    .    .    .    .    .    .    .    .    .    .    .    .    .    .    .    .    .    .    .    .    .    .    .    .    .    .    .    .    .    .    .    .    .    .    .    .    .    .    .    .    .    .    .    .    .    .    .    .    .    .    .    .    .    .    .    .    .    .    .    .    .    .    .    .    .    .    .    .    .    .    .    .    .    .    .    .    .    .    .    .    .    .    .    .    .    .    .    .    .    .    .    .    .    .    .    .    .    .  <63>   .    .    .    .    .    .    .    .    .    .    .    .    .    .    .    .    .    .    .    .    .    .    .    .    .    .    .    .    .    .    .    .    .    .    .    .    .    .    .    .    .    .    .    .    .    .    .    .    .    .    .    .    .    .    .    .    .    .    .    .    .    .    .    .    .    .    .    .    .    .    .    .    .    .    .    .    .    .    .    .    .    .    .    .    .    .    .    .    .    .    .    .    .    .    .    .    .    .    .    .    .    .    . |\n",
        "     MD-HL |    .    .    .    .    .    .    .    .    .    .    .    .    .    .    .    .    .    .    .    .    .    .    .    .    .    .    .    .    .    .    .    .    .    .    .    .    .    .    .    .    .    .    .    .    .    .    .    .    .    .    .    .    .    .    .    .    .    .    .    .    .    .    .    .    .    .    .    .    .    .    .    .    .    .    .    .    .    .    .    .    .    .    .    .    .    .    .    .    .    .    .    .    .    .    .    .    .    .    .    .    .    .    .    .    .    3    .   <.>   1    .    .    .    .    .    .    .    .    .    .    .    .    .    .    .    .    .    .    .    .    .    .    .    .    .    .    .    .    .    .    .    .    .    .    .    .    .    .    .    .    .    .    .    .    .    .    .    .    .    .    .    .    .    .    .    .    .    .    .    .    .    .    .    .    .    .    .    .    .    .    .    .    .    .    .    .    .    .    .    .    .    .    .    .    .    .    .    .    .    .    .    .    .    .    .    .    .    .    .    .    . |\n",
        "     MD-TL |    .    .    .    .    .    .    .    .    .    .    .    .    .    .    .    .    .    .    .    .    .    .    .    .    .    .    .    .    .    .    .    .    .    .    .    .    .    .    .    .    .    .    .    .    .    .    .    .    .    .    .    .    .    .    .    .    .    .    .    .    .    .    .    .    .    .    .    .    .    .    .    .    .    .    .    .    .    .    .    .    .    .    .    .    .    .    .    .    .    .    .    .    .    .    .    .    .    .    .    .    .    .    .    .    .    .    .    .   <1>   .    .    .    .    .    .    .    .    .    .    .    .    .    .    .    .    .    .    .    .    .    .    .    .    .    .    .    .    .    .    .    .    .    .    .    .    .    .    .    .    .    .    .    .    .    .    .    .    .    .    .    .    .    .    .    .    .    .    .    .    .    .    .    .    .    .    .    .    .    .    .    .    .    .    .    .    .    .    .    .    .    .    .    .    .    .    .    .    .    .    .    .    .    .    .    .    .    .    .    .    . |\n",
        "        NN |    .    .    .    .    .    .    .    .    .    .    .    .    .    .    .    .    .    .    .    .    .    .    .    .    .    .    .    .    .    .    .    .    .    1    .    .    .    .    .    .    .    .    .    .    .    .    .    .    .    .    .    .    .    .    .    .    .    .    .    .    .    .    .    .    .    .    .    .    .    .    .    .    .    .    .    2    .    .    .    .    .    .    .    .    .    .    .    .    .    .    1    .    .    .   93    .    .    .    .    .    .    2    .    .    .    9    .    .    .<7300>   .    .    .    9   13    .    4    .    .    .    .    .    1    .    .    .    .    .    .    .    .    .    .    .    .    .    .    .    .    .    .    .    .    .    .    .    .    .    .    .    .    .    .    .    .    .    .    .    .    .    .    .    .    .    .    3    .    .    3    .    .    .    .    .    .    .    .    .    .    .    1    .  153    .    2    .    2    .   66    .    .   10    .    .    .    .    .    .    .    .    .    .    .    .    .    .    .    .    .    . |\n",
        "       NN$ |    .    .    .    .    .    .    .    .    .    .    .    .    .    .    .    .    .    .    .    .    .    .    .    .    .    .    .    .    .    .    .    .    .    .    .    .    .    .    .    .    .    .    .    .    .    .    .    .    .    .    .    .    .    .    .    .    .    .    .    .    .    .    .    .    .    .    .    .    .    .    .    .    .    .    .    .    .    .    .    .    .    .    .    .    .    .    .    .    .    .    .    .    .    .    .    .    .    .    .    .    .    .    .    .    .    .    .    .    .   36  <39>   .    .    .    .    .    .    .    .    .    .    .    .    .    .    .    .    .    .    .    .    .    .    .    .    .    .    .    .    .    .    .    .    .    .    .    .    .    .    .    .    .    .    .    .    .    .    .    .    .    .    .    .    .    .    .    .    .    .    .    .    .    .    .    .    .    .    .    .    .    .    .    .    .    .    .    .    .    .    .    .    .    .    .    .    .    .    .    .    .    .    .    .    .    .    .    .    .    .    . |\n",
        "    NN$-HL |    .    .    .    .    .    .    .    .    .    .    .    .    .    .    .    .    .    .    .    .    .    .    .    .    .    .    .    .    .    .    .    .    .    .    .    .    .    .    .    .    .    .    .    .    .    .    .    .    .    .    .    .    .    .    .    .    .    .    .    .    .    .    .    .    .    .    .    .    .    .    .    .    .    .    .    .    .    .    .    .    .    .    .    .    .    .    .    .    .    .    .    .    .    .    .    .    .    .    .    .    .    .    .    .    .    .    .    .    .    1    .   <.>   .    .    .    .    .    .    .    .    .    .    .    .    .    .    .    .    .    .    .    .    .    .    .    .    .    .    .    .    .    .    .    .    .    .    .    .    .    .    .    .    .    .    .    .    .    .    .    .    .    .    .    .    .    .    .    .    .    .    .    .    .    .    .    .    .    .    .    .    .    .    .    .    .    .    .    .    .    .    .    .    .    .    .    .    .    .    .    .    .    .    .    .    .    .    .    .    .    . |\n",
        "    NN$-TL |    .    .    .    .    .    .    .    .    .    .    .    .    .    .    .    .    .    .    .    .    .    .    .    .    .    .    .    .    .    .    .    .    .    .    .    .    .    .    .    .    .    .    .    .    .    .    .    .    .    .    .    .    .    .    .    .    .    .    .    .    .    .    .    .    .    .    .    .    .    .    .    .    .    .    .    .    .    .    .    .    .    .    .    .    .    .    .    .    .    .    .    .    .    .    .    .    .    .    .    .    .    .    .    .    .    .    .    .    .   18    .    .  <11>   .    .    .    .    .    .    .    .    .    .    .    .    .    .    .    .    .    .    .    .    .    .    .    .    .    .    .    .    .    .    .    .    .    .    .    .    .    .    .    .    .    .    .    .    .    .    .    .    .    .    .    .    .    .    .    .    .    .    .    .    .    .    .    .    .    .    .    .    .    .    .    .    .    .    .    .    .    .    .    .    .    .    .    .    .    .    .    .    .    .    .    .    .    .    .    .    . |\n",
        "     NN-HL |    .    .    .    .    .    .    .    .    .    .    .    .    .    .    .    .    .    .    .    .    .    .    .    .    .    .    .    .    .    .    .    .    .    .    .    .    .    .    .    .    .    .    .    .    .    .    .    .    .    .    .    .    .    .    .    .    .    .    .    .    .    .    .    .    .    .    .    .    .    .    .    .    .    .    .    .    .    .    .    .    .    .    .    .    .    .    .    .    .    .    .    .    .    .    4    .    .    .    .    .    .    .    .    .    .    .    .    .    .  175    .    .    .   <3>   7    .    .    .    .    .    .    .    .    .    .    .    .    .    .    .    .    .    .    .    .    .    .    .    .    .    .    .    .    .    .    .    .    .    .    .    .    .    .    .    .    .    .    .    .    .    .    .    .    .    .    .    .    .    .    .    .    .    .    .    .    .    .    .    .    .    .    .    8    .    .    .    .    .    .    .    .    1    .    .    .    .    .    .    .    .    .    .    .    .    .    .    .    .    .    . |\n",
        "     NN-TL |    .    .    .    .    .    .    .    .    .    .    .    .    .    .    .    .    .    .    .    .    .    .    .    .    .    .    .    .    .    .    .    .    .    .    .    .    .    .    .    .    .    .    .    .    .    .    .    .    .    .    .    .    1    .    .    .    .    .    .    .    .    .    .    .    .    .    .    .    .    .    .    .    .    .    .    .    .    .    .    .    .    .    .    .    .    .    .    .    .    .    .    .    .    .    .    .    2    .    .    .    .    .    .    .    .    .    .    .    .  261    .    .    .    6 <859>   3    .    .    .    .    .    .   18    .    .    .    .    .    1    .    .    .    .    .    .    .    .    .    .    .    .    .    .    .    .    .    .    .    .    .    .    .    .    .    .    .    .    .    .    .    .    .    .    .    .    .    .    .    .    .    .    .    .    .    .    .    .    .    .    .    .    .    .    .    .    .    .    .    1    .    .    .    .    .    .    .    .    .    .    .    .    .    .    .    .    .    .    .    .    . |\n",
        "  NN-TL-HL |    .    .    .    .    .    .    .    .    .    .    .    .    .    .    .    .    .    .    .    .    .    .    .    .    .    .    .    .    .    .    .    .    .    .    .    .    .    .    .    .    .    .    .    .    .    .    .    .    .    .    .    .    .    .    .    .    .    .    .    .    .    .    .    .    .    .    .    .    .    .    .    .    .    .    .    .    .    .    .    .    .    .    .    .    .    .    .    .    .    .    .    .    .    .    .    .    .    .    .    .    .    .    .    .    .    .    .    .    .    2    .    .    .    1    8   <.>   .    .    .    .    .    .    .    .    .    .    .    .    .    .    .    .    .    .    .    .    .    .    .    .    .    .    .    .    .    .    .    .    .    .    .    .    .    .    .    .    .    .    .    .    .    .    .    .    .    .    .    .    .    .    .    .    .    .    .    .    .    .    .    .    .    .    .    .    .    .    .    .    .    .    .    .    .    .    .    .    .    .    .    .    .    .    .    .    .    .    .    .    .    . |\n",
        "       NNS |    .    .    .    .    .    .    .    .    .    .    .    .    .    .    .    .    .    .    .    .    .    .    .    .    .    .    .    .    .    .    .    .    .    .    .    .    .    .    .    .    .    .    .    .    .    .    .    .    .    .    .    .    .    .    .    .    .    .    .    .    .    .    .    .    .    .    .    .    .    .    .    .    .    .    .    .    .    .    .    .    .    .    .    .    .    .    .    .    .    .    .    .    .    .    .    .    .    .    .    .    .    .    .    .    .    .    .    .    .  981    .    .    .    .    .    .<1924>   .    .   17    6    .    1    .    .    .    .    .    .    .    .    .    .    .    .    .    .    .    .    .    .    .    .    .    .    .    .    .    .    .    .    .    .    .    .    .    .    .    .    .    .    .    .    .    .    .    .    .    .    .    .    .    .    .    .    .    .    .    .    .    .    .    .    .    .    .    .    .    .    .    .    .    .    .    .   41    2    .    .    .    .    .    .    .    .    .    .    .    .    . |\n",
        "      NNS$ |    .    .    .    .    .    .    .    .    .    .    .    .    .    .    .    .    .    .    .    .    .    .    .    .    .    .    .    .    .    .    .    .    .    .    .    .    .    .    .    .    .    .    .    .    .    .    .    .    .    .    .    .    .    .    .    .    .    .    .    .    .    .    .    .    .    .    .    .    .    .    .    .    .    .    .    .    .    .    .    .    .    .    .    .    .    .    .    .    .    .    .    .    .    .    .    .    .    .    .    .    .    .    .    .    .    .    .    .    .   15    .    .    .    .    .    .    .   <6>   .    .    .    .    .    .    .    .    .    .    .    .    .    .    .    .    .    .    .    .    .    .    .    .    .    .    .    .    .    .    .    .    .    .    .    .    .    .    .    .    .    .    .    .    .    .    .    .    .    .    .    .    .    .    .    .    .    .    .    .    .    .    .    .    .    .    .    .    .    .    .    .    .    .    .    .    .    .    .    .    .    .    .    .    .    .    .    .    .    .    .    . |\n",
        "   NNS$-TL |    .    .    .    .    .    .    .    .    .    .    .    .    .    .    .    .    .    .    .    .    .    .    .    .    .    .    .    .    .    .    .    .    .    .    .    .    .    .    .    .    .    .    .    .    .    .    .    .    .    .    .    .    .    .    .    .    .    .    .    .    .    .    .    .    .    .    .    .    .    .    .    .    .    .    .    .    .    .    .    .    .    .    .    .    .    .    .    .    .    .    .    .    .    .    .    .    .    .    .    .    .    .    .    .    .    .    .    .    .    7    .    .    .    .    .    .    .    .   <1>   .    .    .    .    .    .    .    .    .    .    .    .    .    .    .    .    .    .    .    .    .    .    .    .    .    .    .    .    .    .    .    .    .    .    .    .    .    .    .    .    .    .    .    .    .    .    .    .    .    .    .    .    .    .    .    .    .    .    .    .    .    .    .    .    .    .    .    .    .    .    .    .    .    .    .    .    .    .    .    .    .    .    .    .    .    .    .    .    .    .    . |\n",
        "    NNS-HL |    .    .    .    .    .    .    .    .    .    .    .    .    .    .    .    .    .    .    .    .    .    .    .    .    .    .    .    .    .    .    .    .    .    .    .    .    .    .    .    .    .    .    .    .    .    .    .    .    .    .    .    .    .    .    .    .    .    .    .    .    .    .    .    .    .    .    .    .    .    .    .    .    .    .    .    .    .    .    .    .    .    .    .    .    .    .    .    .    .    .    .    .    .    .    .    .    .    .    .    .    .    .    .    .    .    .    .    .    .   24    .    .    .    .    .    .   21    .    .   <.>   1    .    .    .    .    .    .    .    .    .    .    .    .    .    .    .    .    .    .    .    .    .    .    .    .    .    .    .    .    .    .    .    .    .    .    .    .    .    .    .    .    .    .    .    .    .    .    .    .    .    .    .    .    .    .    .    .    .    .    .    .    .    .    .    .    .    .    .    .    .    .    .    .    .    .    4    .    .    .    .    .    .    .    .    .    .    .    .    .    . |\n",
        "    NNS-TL |    .    .    .    .    .    .    .    .    .    .    .    .    .    .    .    .    .    .    .    .    .    .    .    .    .    .    .    .    .    .    .    .    .    .    .    .    .    .    .    .    .    .    .    .    .    .    .    .    .    .    .    .    .    .    .    .    .    .    .    .    .    .    .    .    .    .    .    .    .    .    .    .    .    .    .    .    .    .    .    .    .    .    .    .    .    .    .    .    .    .    .    .    .    .    .    .    .    .    .    .    .    .    .    .    .    .    .    .    .   53    .    .    .    .    .    .    7    .    .    . <125>   .    .    .    .    .    .    .    .    1    .    .    .    .    .    .    .    .    .    .    .    .    .    .    .    .    .    .    .    .    .    .    .    .    .    .    .    .    .    .    .    .    .    .    .    .    .    .    .    .    .    .    .    .    .    .    .    .    .    .    .    .    .    .    .    .    .    .    .    .    .    .    .    .    .    .    .    .    .    .    .    .    .    .    .    .    .    .    .    . |\n",
        " NNS-TL-HL |    .    .    .    .    .    .    .    .    .    .    .    .    .    .    .    .    .    .    .    .    .    .    .    .    .    .    .    .    .    .    .    .    .    .    .    .    .    .    .    .    .    .    .    .    .    .    .    .    .    .    .    .    .    .    .    .    .    .    .    .    .    .    .    .    .    .    .    .    .    .    .    .    .    .    .    .    .    .    .    .    .    .    .    .    .    .    .    .    .    .    .    .    .    .    .    .    .    .    .    .    .    .    .    .    .    .    .    .    .    .    .    .    .    .    .    .    .    .    .    .    6   <.>   .    .    .    .    .    .    .    .    .    .    .    .    .    .    .    .    .    .    .    .    .    .    .    .    .    .    .    .    .    .    .    .    .    .    .    .    .    .    .    .    .    .    .    .    .    .    .    .    .    .    .    .    .    .    .    .    .    .    .    .    .    .    .    .    .    .    .    .    .    .    .    .    .    .    .    .    .    .    .    .    .    .    .    .    .    .    .    . |\n",
        "        NP |    .    .    .    .    .    .    .    .    .    .    .    .    .    1    .    .    .    .    .    .    .    .    .    .    .    .    .    .    .    .    .    .    .    .    .    .    .    .    .    .    .    .    .    .    .    .    .    .    .    .    .    .    .    .    .    .    .    .    .    .    .    .    .    .    .    .    .    .    .    .    .    .    .    .    .    .    .    .    .    .    .    .    .    .    .    .    .    .    .    .    .    .    .    .   16    .    2    .    .    .    .    .    .    .    .    .    .    .    .  665    .    .    .    .   13    .    .    .    .    .    .    .<1108>   .    .    .    .   11   68    .    .    .    .    .    .    .    .    .    .    .    .    .    .    .    .    .    .    .    .    .    .    .    .    .    .    .    .    .    .    .    .    .    .    .    .    .    .    .    .    .    .    .    .    .    .    .    .    .    .    .    .    .    .    .    .    .    .    .    .    .    .    .    .    .    .    .    .    .    .    .    .    .    .    .    .    .    .    .    .    . |\n",
        "       NP$ |    .    .    .    .    .    .    .    .    .    .    .    .    .    .    .    .    .    .    .    .    .    .    .    .    .    .    .    .    .    .    .    .    .    .    .    .    .    .    .    .    .    .    .    .    .    .    .    .    .    .    .    .    .    .    .    .    .    .    .    .    .    .    .    .    .    .    .    .    .    .    .    .    .    .    .    .    .    .    .    .    .    .    .    .    .    .    .    .    .    .    .    .    .    .    .    .    .    .    .    .    .    .    .    .    .    .    .    .    .  112    .    .    .    .    .    .    .    .    .    .    .    .    .  <44>   .    .    .    .    .    .    .    .    .    .    .    .    .    .    .    .    .    .    .    .    .    .    .    .    .    .    .    .    .    .    .    .    .    .    .    .    .    .    .    .    .    .    .    .    .    .    .    .    .    .    .    .    .    .    .    .    .    .    .    .    .    .    .    .    .    .    .    .    .    .    .    .    .    .    .    .    .    .    .    .    .    .    .    .    .    . |\n",
        "    NP$-HL |    .    .    .    .    .    .    .    .    .    .    .    .    .    .    .    .    .    .    .    .    .    .    .    .    .    .    .    .    .    .    .    .    .    .    .    .    .    .    .    .    .    .    .    .    .    .    .    .    .    .    .    .    .    .    .    .    .    .    .    .    .    .    .    .    .    .    .    .    .    .    .    .    .    .    .    .    .    .    .    .    .    .    .    .    .    .    .    .    .    .    .    .    .    .    .    .    .    .    .    .    .    .    .    .    .    .    .    .    .    4    .    .    .    .    .    .    .    .    .    .    .    .    .    .   <.>   .    .    .    .    .    .    .    .    .    .    .    .    .    .    .    .    .    .    .    .    .    .    .    .    .    .    .    .    .    .    .    .    .    .    .    .    .    .    .    .    .    .    .    .    .    .    .    .    .    .    .    .    .    .    .    .    .    .    .    .    .    .    .    .    .    .    .    .    .    .    .    .    .    .    .    .    .    .    .    .    .    .    .    .    . |\n",
        "    NP$-TL |    .    .    .    .    .    .    .    .    .    .    .    .    .    .    .    .    .    .    .    .    .    .    .    .    .    .    .    .    .    .    .    .    .    .    .    .    .    .    .    .    .    .    .    .    .    .    .    .    .    .    .    .    .    .    .    .    .    .    .    .    .    .    .    .    .    .    .    .    .    .    .    .    .    .    .    .    .    .    .    .    .    .    .    .    .    .    .    .    .    .    .    .    .    .    .    .    .    .    .    .    .    .    .    .    .    .    .    .    .    5    .    .    .    .    .    .    .    .    .    .    .    .    .    3    .   <.>   .    .    .    .    .    .    .    .    .    .    .    .    .    .    .    .    .    .    .    .    .    .    .    .    .    .    .    .    .    .    .    .    .    .    .    .    .    .    .    .    .    .    .    .    .    .    .    .    .    .    .    .    .    .    .    .    .    .    .    .    .    .    .    .    .    .    .    .    .    .    .    .    .    .    .    .    .    .    .    .    .    .    .    . |\n",
        "    NP+BEZ |    .    .    .    .    .    .    .    .    .    .    .    .    .    .    .    .    .    .    .    .    .    .    .    .    .    .    .    .    .    .    .    .    .    .    .    .    .    .    .    .    .    .    .    .    .    .    .    .    .    .    .    .    .    .    .    .    .    .    .    .    .    .    .    .    .    .    .    .    .    .    .    .    .    .    .    .    .    .    .    .    .    .    .    .    .    .    .    .    .    .    .    .    .    .    .    .    .    .    .    .    .    .    .    .    .    .    .    .    .    1    .    .    .    .    .    .    .    .    .    .    .    .    .    .    .    .   <.>   .    .    .    .    .    .    .    .    .    .    .    .    .    .    .    .    .    .    .    .    .    .    .    .    .    .    .    .    .    .    .    .    .    .    .    .    .    .    .    .    .    .    .    .    .    .    .    .    .    .    .    .    .    .    .    .    .    .    .    .    .    .    .    .    .    .    .    .    .    .    .    .    .    .    .    .    .    .    .    .    .    .    . |\n",
        "     NP-HL |    .    .    .    .    .    .    .    .    .    .    .    .    .    .    .    .    .    .    .    .    .    .    .    .    .    .    .    .    .    .    .    .    .    .    .    .    .    .    .    .    .    .    .    .    .    .    .    .    .    .    .    .    .    .    .    .    .    .    .    .    .    .    .    .    .    .    .    .    .    .    .    .    .    .    .    .    .    .    .    .    .    .    .    .    .    .    .    .    .    .    .    .    .    .    1    .    .    .    .    .    .    .    .    .    .    .    .    .    .   36    .    .    .    .    1    .    .    .    .    .    .    .   29    .    .    .    .   <5>  11    .    .    .    .    .    .    .    .    .    .    .    .    .    .    .    .    .    .    .    .    .    .    .    .    .    .    .    .    .    .    .    .    .    .    .    .    .    .    .    .    .    .    .    .    .    .    .    .    .    .    .    .    .    .    .    .    .    .    .    .    .    .    .    .    .    .    .    .    .    .    .    .    .    .    .    .    .    .    .    .    . |\n",
        "     NP-TL |    .    .    .    .    .    .    .    .    .    .    .    .    .    .    .    .    .    .    .    .    .    .    .    .    2    .    .    .    .    .    .    .    .    .    .    .    .    .    .    .    .    .    .    .    .    .    .    .    .    .    .    .    .    .    .    .    .    .    .    .    .    .    .    .    .    .    .    .    .    .    .    .    .    .    .    .    .    .    .    .    .    .    .    .    .    .    .    .    .    .    .    .    .    .    4    .    1    .    .    .    .    .    .    .    .    .    .    .    .   73    .    .    .    .    .    .    .    .    .    .    .    .  128    .    .    .    .    2 <121>   .    .    .    .    .    .    .    .    .    .    .    .    .    .    .    .    .    .    .    .    .    .    .    .    .    .    .    .    .    .    .    .    .    .    .    .    .    .    .    .    .    .    .    .    .    .    .    .    .    .    .    .    .    .    .    .    .    .    .    .    .    .    .    .    .    .    .    .    .    .    .    .    .    .    .    .    .    .    .    .    . |\n",
        "       NPS |    .    .    .    .    .    .    .    .    .    .    .    .    .    .    .    .    .    .    .    .    .    .    .    .    .    .    .    .    .    .    .    .    .    .    .    .    .    .    .    .    .    .    .    .    .    .    .    .    .    .    .    .    .    .    .    .    .    .    .    .    .    .    .    .    .    .    .    .    .    .    .    .    .    .    .    .    .    .    .    .    .    .    .    .    .    .    .    .    .    .    .    .    .    .    5    .    .    .    .    .    .    .    .    .    .    .    .    .    .   59    .    .    .    .    .    .    .    .    .    .    .    .    .    .    .    .    .    .    .  <50>   .    .    .    .    .    .    .    .    .    .    .    .    .    .    .    .    .    .    .    .    .    .    .    .    .    .    .    .    .    .    .    .    .    .    .    .    .    .    .    .    .    .    .    .    .    .    .    .    .    .    .    .    .    .    .    .    .    .    .    .    .    .    .    .    .    .    .    .    .    .    .    .    .    .    .    .    .    .    .    . |\n",
        "   NPS$-HL |    .    .    .    .    .    .    .    .    .    .    .    .    .    .    .    .    .    .    .    .    .    .    .    .    .    .    .    .    .    .    .    .    .    .    .    .    .    .    .    .    .    .    .    .    .    .    .    .    .    .    .    .    .    .    .    .    .    .    .    .    .    .    .    .    .    .    .    .    .    .    .    .    .    .    .    .    .    .    .    .    .    .    .    .    .    .    .    .    .    .    .    .    .    .    .    .    .    .    .    .    .    .    .    .    .    .    .    .    .    1    .    .    .    .    .    .    .    .    .    .    .    .    .    .    .    .    .    .    .    .   <.>   .    .    .    .    .    .    .    .    .    .    .    .    .    .    .    .    .    .    .    .    .    .    .    .    .    .    .    .    .    .    .    .    .    .    .    .    .    .    .    .    .    .    .    .    .    .    .    .    .    .    .    .    .    .    .    .    .    .    .    .    .    .    .    .    .    .    .    .    .    .    .    .    .    .    .    .    .    .    . |\n",
        "    NPS-HL |    .    .    .    .    .    .    .    .    .    .    .    .    .    .    .    .    .    .    .    .    .    .    .    .    .    .    .    .    .    .    .    .    .    .    .    .    .    .    .    .    .    .    .    .    .    .    .    .    .    .    .    .    .    .    .    .    .    .    .    .    .    .    .    .    .    .    .    .    .    .    .    .    .    .    .    .    .    .    .    .    .    .    .    .    .    .    .    .    .    .    .    .    .    .    .    .    .    .    .    .    .    .    .    .    .    .    .    .    .    2    .    .    .    .    .    .    .    .    .    .    .    .    .    .    .    .    .    .    .    .    .   <.>   .    .    .    .    .    .    .    .    .    .    .    .    .    .    .    .    .    .    .    .    .    .    .    .    .    .    .    .    .    .    .    .    .    .    .    .    .    .    .    .    .    .    .    .    .    .    .    .    .    .    .    .    .    .    .    .    .    .    .    .    .    .    .    .    .    .    .    .    .    .    .    .    .    .    .    .    .    . |\n",
        "    NPS-TL |    .    .    .    .    .    .    .    .    .    .    .    .    .    .    .    .    .    .    .    .    .    .    .    .    .    .    .    .    .    .    .    .    .    .    .    .    .    .    .    .    .    .    .    .    .    .    .    .    .    .    .    .    .    .    .    .    .    .    .    .    .    .    .    .    .    .    .    .    .    .    .    .    .    .    .    .    .    .    .    .    .    .    .    .    .    .    .    .    .    .    .    .    .    .    .    .    .    .    .    .    .    .    .    .    .    .    .    .    .    1    .    .    .    .    .    .    .    .    .    .    .    .    .    .    .    .    .    .    .    1    .    .   <.>   .    .    .    .    .    .    .    .    .    .    .    .    .    .    .    .    .    .    .    .    .    .    .    .    .    .    .    .    .    .    .    .    .    .    .    .    .    .    .    .    .    .    .    .    .    .    .    .    .    .    .    .    .    .    .    .    .    .    .    .    .    .    .    .    .    .    .    .    .    .    .    .    .    .    .    .    . |\n",
        "        NR |    .    .    .    .    .    .    .    .    .    .    .    .    .    .    .    .    .    .    .    .    .    .    .    .    .    .    .    .    .    .    .    .    .    .    .    .    .    .    .    .    .    .    .    .    .    .    .    .    .    .    .    .    .    .    .    .    .    .    .    .    .    .    .    .    .    .    .    .    .    .    .    .    .    .    .    .    .    .    .    .    .    .    .    .    .    .    .    .    .    .    .    .    .    .    3    .    1    .    .    .    .    .    .    .    .    .    .    .    .    7    .    .    .    .    .    .    .    .    .    .    .    .    .    .    .    .    .    .    .    .    .    .    .  <41>   .    .    .    .    .    .    .    .    .    .    .    .    .    .    .    .    .    .    .    .    .    .    .    .    .    .    .    .    .    .    .    .    .    .    .    .    .    .    .    .    .    .    .    .    .    .    .    .    .    .    .    .    .    .    .    .    .    .    .    .    .    .    .    .    .    .    .    .    .    .    .    .    .    .    .    . |\n",
        "       NR$ |    .    .    .    .    .    .    .    .    .    .    .    .    .    .    .    .    .    .    .    .    .    .    .    .    .    .    .    .    .    .    .    .    .    .    .    .    .    .    .    .    .    .    .    .    .    .    .    .    .    .    .    .    .    .    .    .    .    .    .    .    .    .    .    .    .    .    .    .    .    .    .    .    .    .    .    .    .    .    .    .    .    .    .    .    .    .    .    .    .    .    .    .    .    .    .    .    .    .    .    .    .    .    .    .    .    .    .    .    .    .    .    .    .    .    .    .    .    .    .    .    .    .    .    .    .    .    .    .    .    .    .    .    .    .   <3>   .    .    .    .    .    .    .    .    .    .    .    .    .    .    .    .    .    .    .    .    .    .    .    .    .    .    .    .    .    .    .    .    .    .    .    .    .    .    .    .    .    .    .    .    .    .    .    .    .    .    .    .    .    .    .    .    .    .    .    .    .    .    .    .    .    .    .    .    .    .    .    .    .    .    . |\n",
        "    NR$-TL |    .    .    .    .    .    .    .    .    .    .    .    .    .    .    .    .    .    .    .    .    .    .    .    .    .    .    .    .    .    .    .    .    .    .    .    .    .    .    .    .    .    .    .    .    .    .    .    .    .    .    .    .    .    .    .    .    .    .    .    .    .    .    .    .    .    .    .    .    .    .    .    .    .    .    .    .    .    .    .    .    .    .    .    .    .    .    .    .    .    .    .    .    .    .    .    .    .    .    .    .    .    .    .    .    .    .    .    .    .    .    .    .    .    .    .    .    .    .    .    .    .    .    .    .    .    .    .    .    .    .    .    .    .    .    3   <.>   .    .    .    .    .    .    .    .    .    .    .    .    .    .    .    .    .    .    .    .    .    .    .    .    .    .    .    .    .    .    .    .    .    .    .    .    .    .    .    .    .    .    .    .    .    .    .    .    .    .    .    .    .    .    .    .    .    .    .    .    .    .    .    .    .    .    .    .    .    .    .    .    .    . |\n",
        "     NR-TL |    .    .    .    .    .    .    .    .    .    .    .    .    .    .    .    .    .    .    .    .    .    .    .    .    .    .    .    .    .    .    .    .    .    .    .    .    .    .    .    .    .    .    .    .    .    .    .    .    .    .    .    .    .    .    .    .    .    .    .    .    .    .    .    .    .    .    .    .    .    .    .    .    .    .    .    .    .    .    .    .    .    .    .    .    .    .    .    .    .    .    .    .    .    .    .    .   10    .    .    .    .    .    .    .    .    .    .    .    .    .    .    .    .    .    1    .    .    .    .    .    .    .    .    .    .    .    .    .    .    .    .    .    .    .    .    .  <21>   .    .    .    .    .    .    .    .    .    .    .    .    .    .    .    .    .    .    .    .    .    .    .    .    .    .    .    .    .    .    .    .    .    .    .    .    .    .    .    .    .    .    .    .    .    .    .    .    .    .    .    .    .    .    .    .    .    .    .    .    .    .    .    .    .    .    .    .    .    .    .    .    . |\n",
        "       NRS |    .    .    .    .    .    .    .    .    .    .    .    .    .    .    .    .    .    .    .    .    .    .    .    .    .    .    .    .    .    .    .    .    .    .    .    .    .    .    .    .    .    .    .    .    .    .    .    .    .    .    .    .    .    .    .    .    .    .    .    .    .    .    .    .    .    .    .    .    .    .    .    .    .    .    .    .    .    .    .    .    .    .    .    .    .    .    .    .    .    .    .    .    .    .    .    .    .    .    .    .    .    .    .    .    .    .    .    .    .    1    .    .    .    .    .    .    .    .    .    .    .    .    .    .    .    .    .    .    .    .    .    .    .    .    .    .    .   <.>   .    .    .    .    .    .    .    .    .    .    .    .    .    .    .    .    .    .    .    .    .    .    .    .    .    .    .    .    .    .    .    .    .    .    .    .    .    .    .    .    .    .    .    .    .    .    .    .    .    .    .    .    .    .    .    .    .    .    .    .    .    .    .    .    .    .    .    .    .    .    .    . |\n",
        "        OD |    .    .    .    .    .    .    .    .    .    .    .    .    .    .    .    .    .    .    .    .    .    .    .    .    .    .    .    .    .    .    .    .    .    .    .    .    .    .    .    .    .    .    .    .    .    .    .    .    .    .    .    .    .    .    .    .    .    .    .    .    .    .    .    .    .    .    .    .    .    .    .    .    .    .    .    .    .    .    .    .    .    .    .    .    .    .    .    .    .    .    .    .    .    .    .    .    .    .    .    .    .    .    .    .    .    .    .    .    .    7    .    .    .    .    .    .    .    .    .    .    .    .    .    .    .    .    .    .    .    .    .    .    .    .    .    .    .    .  <82>   .    .    .    .    .    .    .    .    .    .    .    .    .    .    .    .    .    .    .    .    .    .    .    .    .    .    .    .    .    3    .    5    .    .    .    .    .    .    .    .    .    .    .    .    .    .    .    .    .    .    .    .    .    .    .    .    .    .    .    .    .    .    .    .    .    .    .    .    .    .    . |\n",
        "     OD-TL |    .    .    .    .    .    .    .    .    .    .    .    .    .    .    .    .    .    .    .    .    .    .    .    .    .    .    .    .    .    .    .    .    .    .    .    .    .    .    .    .    .    .    .    .    .    .    .    .    .    .    .    .    .    .    .    .    .    .    .    .    .    .    .    .    .    .    .    .    .    .    .    .    .    .    .    .    .    .    .    .    .    .    .    .    .    .    .    .    .    .    .    .    .    .    .    .    .    .    .    .    .    .    .    .    .    .    .    .    .   13    .    .    .    .    .    .    .    .    .    .    .    .    .    .    .    .    .    .    .    .    .    .    .    .    .    .    .    .    1   <2>   .    .    .    .    .    .    .    .    .    .    .    .    .    .    .    .    .    .    .    .    .    .    .    .    .    .    .    .    .    .    .    .    .    .    .    .    .    .    .    .    .    .    .    .    .    .    .    .    .    .    .    .    .    .    .    .    .    .    .    .    .    .    .    .    .    .    .    .    .    . |\n",
        "        PN |    .    .    .    .    .    .    .    .    .    .    .    .    .    .    .    .    .    .    .    .    .    .    .    .    .    .    .    .    .    .    .    .    .    .    .    .    .    .    .    .    .    .    .    .    .    .    .   20    .    .    .    .    .    .    .    .    .    .    .    .    .    .    .    .    .    .    .    .    .    .    .    .    .    .    .    .    .    .    .    .    .    .    .    .    .    .    .    .    .    .    .    .    .    .    .    .    .    .    .    .    .    .    .    .    .    .    .    .    .    7    .    .    .    .    .    .    .    .    .    .    .    .    .    .    .    .    .    .    .    .    .    .    .    .    .    .    .    .    .    .  <79>   .    1    .    .    .    .    .    .    .    .    .    .    .    .    .    .    .    .    .    .    .    .    .    .    .    .    .    .    .    .    .    .    .    .    .    .    .    .    .    .    .    .    .    .    .    .    .    .    .    .    .    .    .    .    .    .    .    .    .    .    .    .    .    .    .    .    .    .    . |\n",
        "       PN$ |    .    .    .    .    .    .    .    .    .    .    .    .    .    .    .    .    .    .    .    .    .    .    .    .    .    .    .    .    .    .    .    .    .    .    .    .    .    .    .    .    .    .    .    .    .    .    .    .    .    .    .    .    .    .    .    .    .    .    .    .    .    .    .    .    .    .    .    .    .    .    .    .    .    .    .    .    .    .    .    .    .    .    .    .    .    .    .    .    .    .    .    .    .    .    .    .    .    .    .    .    .    .    .    .    .    .    .    .    .    1    .    .    .    .    .    .    .    .    .    .    .    .    .    .    .    .    .    .    .    .    .    .    .    .    .    .    .    .    .    .    .   <1>   .    .    .    .    .    .    .    .    .    .    .    .    .    .    .    .    .    .    .    .    .    .    .    .    .    .    .    .    .    .    .    .    .    .    .    .    .    .    .    .    .    .    .    .    .    .    .    .    .    .    .    .    .    .    .    .    .    .    .    .    .    .    .    .    .    .    .    . |\n",
        "     PN-HL |    .    .    .    .    .    .    .    .    .    .    .    .    .    .    .    .    .    .    .    .    .    .    .    .    .    .    .    .    .    .    .    .    .    .    .    .    .    .    .    .    .    .    .    .    .    .    .    .    .    .    .    .    .    .    .    .    .    .    .    .    .    .    .    .    .    .    .    .    .    .    .    .    .    .    .    .    .    .    .    .    .    .    .    .    .    .    .    .    .    .    .    .    .    .    .    .    .    .    .    .    .    .    .    .    .    .    .    .    .    .    .    .    .    .    .    .    .    .    .    .    .    .    .    .    .    .    .    .    .    .    .    .    .    .    .    .    .    .    .    .    1    .   <.>   .    .    .    .    .    .    .    .    .    .    .    .    .    .    .    .    .    .    .    .    .    .    .    .    .    .    .    .    .    .    .    .    .    .    .    .    .    .    .    .    .    .    .    .    .    .    .    .    .    .    .    .    .    .    .    .    .    .    .    .    .    .    .    .    .    .    . |\n",
        "       PP$ |    .    .    .    .    .    .    .    .    .    .    .    .    .    .    .    .    .    .    .    .    .    .    .    .    .    .    .    .    .    .    .    .    .    .    .    .    .    .    .    .    .    .    .    .    .    .    .    .    .    .    .    .    .    .    .    .    .    .    .    .    .    .    .    .    .    .    .    .    .    .    .    .    .    .    .    .    .    .    .    .    .    .    .    .    .    .    .    .    .    .    .    .    .    .    .    .    .    .    .    .    .    .    .    .    .    .    .    .    .    4    .    .    .    .    .    .    .    .    .    .    .    .    .    .    .    .    .    .    .    .    .    .    .    .    .    .    .    .    .    .    .    .    . <762>   .    .    .    .    .    .    5    .    .    .    .    .    .    .    .    .    .    .    .    .    .    .    .    .    .    .    .    .    .    .    .    .    .    .    .    .    .    .    .    .    .    .    .    .    .    .    .    .    .    .    .    .    .    .    .    .    .    .    .    .    .    .    .    .    .    . |\n",
        "      PP$$ |    .    .    .    .    .    .    .    .    .    .    .    .    .    .    .    .    .    .    .    .    .    .    .    .    .    .    .    .    .    .    .    .    .    .    .    .    .    .    .    .    .    .    .    .    .    .    .    .    .    .    .    .    .    .    .    .    .    .    .    .    .    .    .    .    .    .    .    .    .    .    .    .    .    .    .    .    .    .    .    .    .    .    .    .    .    .    .    .    .    .    .    .    .    .    .    .    .    .    .    .    .    .    .    .    .    .    .    .    .    5    .    .    .    .    .    .    .    .    .    .    .    .    .    .    .    .    .    .    .    .    .    .    .    .    .    .    .    .    .    .    .    .    .    1   <4>   .    .    .    .    .    .    .    .    .    .    .    .    .    .    .    .    .    .    .    .    .    .    .    .    .    .    .    .    .    .    .    .    .    .    .    .    .    .    .    .    .    .    .    .    .    .    .    .    .    .    .    .    .    .    .    .    .    .    .    .    .    .    .    .    . |\n",
        "    PP$-HL |    .    .    .    .    .    .    .    .    .    .    .    .    .    .    .    .    .    .    .    .    .    .    .    .    .    .    .    .    .    .    .    .    .    .    .    .    .    .    .    .    .    .    .    .    .    .    .    .    .    .    .    .    .    .    .    .    .    .    .    .    .    .    .    .    .    .    .    .    .    .    .    .    .    .    .    .    .    .    .    .    .    .    .    .    .    .    .    .    .    .    .    .    .    .    .    .    .    .    .    .    .    .    .    .    .    .    .    .    .    .    .    .    .    .    .    .    .    .    .    .    .    .    .    .    .    .    .    .    .    .    .    .    .    .    .    .    .    .    .    .    .    .    .    1    .   <.>   .    .    .    .    .    .    .    .    .    .    .    .    .    .    .    .    .    .    .    .    .    .    .    .    .    .    .    .    .    .    .    .    .    .    .    .    .    .    .    .    .    .    .    .    .    .    .    .    .    .    .    .    .    .    .    .    .    .    .    .    .    .    .    . |\n",
        "    PP$-TL |    .    .    .    .    .    .    .    .    .    .    .    .    .    .    .    .    .    .    .    .    .    .    .    .    .    .    .    .    .    .    .    .    .    .    .    .    .    .    .    .    .    .    .    .    .    .    .    .    .    .    .    .    .    .    .    .    .    .    .    .    .    .    .    .    .    .    .    .    .    .    .    .    .    .    .    .    .    .    .    .    .    .    .    .    .    .    .    .    .    .    .    .    .    .    .    .    .    .    .    .    .    .    .    .    .    .    .    .    .    .    .    .    .    .    .    .    .    .    .    .    .    .    .    .    .    .    .    .    .    .    .    .    .    .    .    .    .    .    .    .    .    .    .    4    .    .   <.>   .    .    .    .    .    .    .    .    .    .    .    .    .    .    .    .    .    .    .    .    .    .    .    .    .    .    .    .    .    .    .    .    .    .    .    .    .    .    .    .    .    .    .    .    .    .    .    .    .    .    .    .    .    .    .    .    .    .    .    .    .    .    . |\n",
        "       PPL |    .    .    .    .    .    .    .    .    .    .    .    .    .    .    .    .    .    .    .    .    .    .    .    .    .    .    .    .    .    .    .    .    .    .    .    .    .    .    .    .    .    .    .    .    .    .    .    .    .    .    .    .    .    .    .    .    .    .    .    .    .    .    .    .    .    .    .    .    .    .    .    .    .    .    .    .    .    .    .    .    .    .    .    .    .    .    .    .    .    .    .    .    .    .    .    .    .    .    .    .    .    .    .    .    .    .    .    .    .    .    .    .    .    .    .    .    .    .    .    .    .    .    .    .    .    .    .    .    .    .    .    .    .    .    .    .    .    .    .    .    .    .    .    .    .    .    .  <56>   .    .    .    .    .    .    .    .    .    .    .    .    .    .    .    .    .    .    .    .    .    .    .    .    .    .    .    .    .    .    .    .    .    .    .    .    .    .    .    .    .    .    .    .    .    .    .    .    .    .    .    .    .    .    .    .    .    .    .    .    .    . |\n",
        "    PPL-HL |    .    .    .    .    .    .    .    .    .    .    .    .    .    .    .    .    .    .    .    .    .    .    .    .    .    .    .    .    .    .    .    .    .    .    .    .    .    .    .    .    .    .    .    .    .    .    .    .    .    .    .    .    .    .    .    .    .    .    .    .    .    .    .    .    .    .    .    .    .    .    .    .    .    .    .    .    .    .    .    .    .    .    .    .    .    .    .    .    .    .    .    .    .    .    .    .    .    .    .    .    .    .    .    .    .    .    .    .    .    .    .    .    .    .    .    .    .    .    .    .    .    .    .    .    .    .    .    .    .    .    .    .    .    .    .    .    .    .    .    .    .    .    .    .    .    .    .    1   <.>   .    .    .    .    .    .    .    .    .    .    .    .    .    .    .    .    .    .    .    .    .    .    .    .    .    .    .    .    .    .    .    .    .    .    .    .    .    .    .    .    .    .    .    .    .    .    .    .    .    .    .    .    .    .    .    .    .    .    .    .    . |\n",
        "      PPLS |    .    .    .    .    .    .    .    .    .    .    .    .    .    .    .    .    .    .    .    .    .    .    .    .    .    .    .    .    .    .    .    .    .    .    .    .    .    .    .    .    .    .    .    .    .    .    .    .    .    .    .    .    .    .    .    .    .    .    .    .    .    .    .    .    .    .    .    .    .    .    .    .    .    .    .    .    .    .    .    .    .    .    .    .    .    .    .    .    .    .    .    .    .    .    .    .    .    .    .    .    .    .    .    .    .    .    .    .    .    .    .    .    .    .    .    .    .    .    .    .    .    .    .    .    .    .    .    .    .    .    .    .    .    .    .    .    .    .    .    .    .    .    .    .    .    .    .    .    .  <26>   .    .    .    .    .    .    .    .    .    .    .    .    .    .    .    .    .    .    .    .    .    .    .    .    .    .    .    .    .    .    .    .    .    .    .    .    .    .    .    .    .    .    .    .    .    .    .    .    .    .    .    .    .    .    .    .    .    .    .    . |\n",
        "       PPO |    .    .    .    .    .    .    .    .    .    .    .    .    .    .    .    .    .    .    .    .    .    .    .    .    .    .    .    .    .    .    .    .    .    .    .    .    .    .    .    .    .    .    .    .    .    .    .    .    .    .    .    .    .    .    .    .    .    .    .    .    .    .    .    .    .    .    .    .    .    .    .    .    .    .    .    .    .    .    .    .    .    .    .    .    .    .    .    .    .    .    .    .    .    .    .    .    .    .    .    .    .    .    .    .    .    .    .    .    .    1    .    .    .    .    .    .    .    .    .    .    .    .    .    .    .    .    .    .    .    .    .    .    .    .    .    .    .    .    .    .    .    .    .    7    .    .    .    .    .    . <391>   .    .   32    .    .    .   22    .    .    .    .    .    .    .    .    .    .    .    .    .    .    .    .    .    .    .    .    .    .    .    .    .    .    .    .    .    .    .    .    .    .    .    .    .    .    .    .    .    .    .    .    .    .    .    .    .    .    .    . |\n",
        "    PPO-HL |    .    .    .    .    .    .    .    .    .    .    .    .    .    .    .    .    .    .    .    .    .    .    .    .    .    .    .    .    .    .    .    .    .    .    .    .    .    .    .    .    .    .    .    .    .    .    .    .    .    .    .    .    .    .    .    .    .    .    .    .    .    .    .    .    .    .    .    .    .    .    .    .    .    .    .    .    .    .    .    .    .    .    .    .    .    .    .    .    .    .    .    .    .    .    .    .    .    .    .    .    .    .    .    .    .    .    .    .    .    .    .    .    .    .    .    .    .    .    .    .    .    .    .    .    .    .    .    .    .    .    .    .    .    .    .    .    .    .    .    .    .    .    .    .    .    .    .    .    .    .    2   <.>   .    .    .    .    .    .    .    .    .    .    .    .    .    .    .    .    .    .    .    .    .    .    .    .    .    .    .    .    .    .    .    .    .    .    .    .    .    .    .    .    .    .    .    .    .    .    .    .    .    .    .    .    .    .    .    .    .    . |\n",
        "    PPO-TL |    .    .    .    .    .    .    .    .    .    .    .    .    .    .    .    .    .    .    .    .    .    .    .    .    .    .    .    .    .    .    .    .    .    .    .    .    .    .    .    .    .    .    .    .    .    .    .    .    .    .    .    .    .    .    .    .    .    .    .    .    .    .    .    .    .    .    .    .    .    .    .    .    .    .    .    .    .    .    .    .    .    .    .    .    .    .    .    .    .    .    .    .    .    .    .    .    .    .    .    .    .    .    .    .    .    .    .    .    .    .    .    .    .    .    .    .    .    .    .    .    .    .    .    .    .    .    .    .    .    .    .    .    .    .    .    .    .    .    .    .    .    .    .    .    .    .    .    .    .    .    2    .   <.>   .    .    .    .    .    .    .    .    .    .    .    .    .    .    .    .    .    .    .    .    .    .    .    .    .    .    .    .    .    .    .    .    .    .    .    .    .    .    .    .    .    .    .    .    .    .    .    .    .    .    .    .    .    .    .    .    . |\n",
        "       PPS |    .    .    .    .    .    .    .    .    .    .    .    .    .    .    .    .    .    .    .    .    .    .    .    .    .    .    .    .    .    .    .    .    .    .    .    .    .    .    .    .    .    .    .    .    .    .    .    .    .    .    .    .    .    .    .    .    .    .    .    .    .    .    .    .    .    .    .    .    .    .    .    .    .    .    .    .    .    .    .    .    .    .    .    .    .    .    .    .    .    .    .    .    .    .    .    .    .    .    .    .    .    .    .    .    .    .    .    .    .    .    .    .    .    .    .    .    .    .    .    .    .    .    .    .    .    .    .    .    .    .    .    .    .    .    .    .    .    .    .    .    .    .    .    .    .    .    .    .    .    .   20    .    . <762>   .    .    .    .    .    .    .    .    .    .    .    .    .    .    .    .    .    .    .    .    .    .    .    .    .    .    .    .    .    .    .    .    .    .    .    .    .    .    .    .    .    .    .    .    .    .    .    .    .    .    .    .    .    .    .    . |\n",
        "   PPS+BEZ |    .    .    .    .    .    .    .    .    .    .    .    .    .    .    .    .    .    .    .    .    .    .    .    .    .    .    .    .    .    .    .    .    .    .    .    .    .    .    .    .    .    .    .    .    .    .    .    .    .    .    .    .    .    .    .    .    .    .    .    .    .    .    .    .    .    .    .    .    .    .    .    .    .    .    .    .    .    .    .    .    .    .    .    .    .    .    .    .    .    .    .    .    .    .    .    .    .    .    .    .    .    .    .    .    .    .    .    .    .    1    .    .    .    .    .    .    .    .    .    .    .    .    .    .    .    .    .    .    .    .    .    .    .    .    .    .    .    .    .    .    .    .    .    .    .    .    .    .    .    .    .    .    .    .  <21>   1    .    .    .    .    .    .    .    .    .    .    .    .    .    .    .    .    .    .    .    .    .    .    .    .    .    .    .    .    .    .    .    .    .    .    .    .    .    .    .    .    .    .    .    .    .    .    .    .    .    .    .    .    .    . |\n",
        "   PPS+HVZ |    .    .    .    .    .    .    .    .    .    .    .    .    .    .    .    .    .    .    .    .    .    .    .    .    .    .    .    .    .    .    .    .    .    .    .    .    .    .    .    .    .    .    .    .    .    .    .    .    .    .    .    .    .    .    .    .    .    .    .    .    .    .    .    .    .    .    .    .    .    .    .    .    .    .    .    .    .    .    .    .    .    .    .    .    .    .    .    .    .    .    .    .    .    .    .    .    .    .    .    .    .    .    .    .    .    .    .    .    .    .    .    .    .    .    .    .    .    .    .    .    .    .    .    .    .    .    .    .    .    .    .    .    .    .    .    .    .    .    .    .    .    .    .    .    .    .    .    .    .    .    .    .    .    .    1   <2>   .    .    .    .    .    .    .    .    .    .    .    .    .    .    .    .    .    .    .    .    .    .    .    .    .    .    .    .    .    .    .    .    .    .    .    .    .    .    .    .    .    .    .    .    .    .    .    .    .    .    .    .    .    . |\n",
        "    PPS+MD |    .    .    .    .    .    .    .    .    .    .    .    .    .    .    .    .    .    .    .    .    .    .    .    .    .    .    .    .    .    .    .    .    .    .    .    .    .    .    .    .    .    .    .    .    .    .    .    .    .    .    .    .    .    .    .    .    .    .    .    .    .    .    .    .    .    .    .    .    .    .    .    .    .    .    .    .    .    .    .    .    .    .    .    .    .    .    .    .    .    .    .    .    .    .    .    .    .    .    .    .    .    .    .    .    .    .    .    .    .    .    .    .    .    .    .    .    .    .    .    .    .    .    .    .    .    .    .    .    .    .    .    .    .    .    .    .    .    .    .    .    .    .    .    .    .    .    .    .    .    .    .    .    .    .    .    .   <2>   .    .    .    .    .    .    .    .    .    .    .    .    .    .    .    .    .    .    .    .    .    .    .    .    .    .    .    .    .    .    .    .    .    .    .    .    .    .    .    .    .    .    .    .    .    .    .    .    .    .    .    .    . |\n",
        "      PPSS |    .    .    .    .    .    .    .    .    .    .    .    .    .    .    .    .    .    .    .    .    .    .    .    .    .    .    .    .    .    .    .    .    .    .    .    .    .    .    .    .    .    .    .    .    .    .    .    .    .    .    .    .    .    .    .    .    .    .    .    .    .    .    .    .    .    .    .    .    .    .    .    .    .    .    .    .    .    .    .    .    .    .    .    .    .    .    .    .    .    .    .    .    .    .    .    .    .    .    .    .    .    .    .    .    .    .    .    .    .    1    .    .    .    .    .    .    .    .    .    .    .    .    .    .    .    .    .    .    .    .    .    .    .    .    .    .    .    .    .    .    .    .    .    .    .    .    .    .    .    .    1    .    .    .    .    .    . <671>   .    .    .    .    .    .    .    .    .    .    .    .    .    .    .    .    .    .    .    .    .    .    .    .    .    .    .    .    .    .    .    .    .    .    .    .    .    .    .    .    .    .    .    .    .    .    .    .    .    .    .    . |\n",
        "  PPSS+BEM |    .    .    .    .    .    .    .    .    .    .    .    .    .    .    .    .    .    .    .    .    .    .    .    .    .    .    .    .    .    .    .    .    .    .    .    .    .    .    .    .    .    .    .    .    .    .    .    .    .    .    .    .    .    .    .    .    .    .    .    .    .    .    .    .    .    .    .    .    .    .    .    .    .    .    .    .    .    .    .    .    .    .    .    .    .    .    .    .    .    .    .    .    .    .    .    .    .    .    .    .    .    .    .    .    .    .    .    .    .    .    .    .    .    .    .    .    .    .    .    .    .    .    .    .    .    .    .    .    .    .    .    .    .    .    .    .    .    .    .    .    .    .    .    .    .    .    .    .    .    .    .    .    .    .    .    .    .    .   <2>   .    .    .    .    .    .    .    .    .    .    .    .    .    .    .    .    .    .    .    .    .    .    .    .    .    .    .    .    .    .    .    .    .    .    .    .    .    .    .    .    .    .    .    .    .    .    .    .    .    .    . |\n",
        "  PPSS+BER |    .    .    .    .    .    .    .    .    .    .    .    .    .    .    .    .    .    .    .    .    .    .    .    .    .    .    .    .    .    .    .    .    .    .    .    .    .    .    .    .    .    .    .    .    .    .    .    .    .    .    .    .    .    .    .    .    .    .    .    .    .    .    .    .    .    .    .    .    .    .    .    .    .    .    .    .    .    .    .    .    .    .    .    .    .    .    .    .    .    .    .    .    .    .    .    .    .    .    .    .    .    .    .    .    .    .    .    .    .    .    .    .    .    .    .    .    .    .    .    .    .    .    .    .    .    .    .    .    .    .    .    .    .    .    .    .    .    .    .    .    .    .    .    .    .    .    .    .    .    .    .    .    .    .    .    .    .    .    .  <12>   .    .    .    .    .    .    .    .    .    .    .    .    .    .    .    .    .    .    .    .    .    .    .    .    .    .    .    .    .    .    .    .    .    .    .    .    .    .    .    .    .    .    .    .    .    .    .    .    .    . |\n",
        "   PPSS+HV |    .    .    .    .    .    .    .    .    .    .    .    .    .    .    .    .    .    .    .    .    .    .    .    .    .    .    .    .    .    .    .    .    .    .    .    .    .    .    .    .    .    .    .    .    .    .    .    .    .    .    .    .    .    .    .    .    .    .    .    .    .    .    .    .    .    .    .    .    .    .    .    .    .    .    .    .    .    .    .    .    .    .    .    .    .    .    .    .    .    .    .    .    .    .    .    .    .    .    .    .    .    .    .    .    .    .    .    .    .    .    .    .    .    .    .    .    .    .    .    .    .    .    .    .    .    .    .    .    .    .    .    .    .    .    .    .    .    .    .    .    .    .    .    .    .    .    .    .    .    .    .    .    .    .    .    .    .    .    .    .   <6>   .    .    .    .    .    .    .    .    .    .    .    .    .    .    .    .    .    .    .    .    .    .    .    .    .    .    .    .    .    .    .    .    .    .    .    .    .    .    .    .    .    .    .    .    .    .    .    .    . |\n",
        "  PPSS+HVD |    .    .    .    .    .    .    .    .    .    .    .    .    .    .    .    .    .    .    .    .    .    .    .    .    .    .    .    .    .    .    .    .    .    .    .    .    .    .    .    .    .    .    .    .    .    .    .    .    .    .    .    .    .    .    .    .    .    .    .    .    .    .    .    .    .    .    .    .    .    .    .    .    .    .    .    .    .    .    .    .    .    .    .    .    .    .    .    .    .    .    .    .    .    .    .    .    .    .    .    .    .    .    .    .    .    .    .    .    .    .    .    .    .    .    .    .    .    .    .    .    .    .    .    .    .    .    .    .    .    .    .    .    .    .    .    .    .    .    .    .    .    .    .    .    .    .    .    .    .    .    .    .    .    .    .    .    .    .    .    .    .   <.>   1    .    .    .    .    .    .    .    .    .    .    .    .    .    .    .    .    .    .    .    .    .    .    .    .    .    .    .    .    .    .    .    .    .    .    .    .    .    .    .    .    .    .    .    .    .    .    . |\n",
        "   PPSS+MD |    .    .    .    .    .    .    .    .    .    .    .    .    .    .    .    .    .    .    .    .    .    .    .    .    .    .    .    .    .    .    .    .    .    .    .    .    .    .    .    .    .    .    .    .    .    .    .    .    .    .    .    .    .    .    .    .    .    .    .    .    .    .    .    .    .    .    .    .    .    .    .    .    .    .    .    .    .    .    .    .    .    .    .    .    .    .    .    .    .    .    .    .    .    .    .    .    .    .    .    .    .    .    .    .    .    .    .    .    .    1    .    .    .    .    .    .    .    .    .    .    .    .    .    .    .    .    .    .    .    .    .    .    .    .    .    .    .    .    .    .    .    .    .    .    .    .    .    .    .    .    .    .    .    .    .    .    .    .    .    .    .    .   <6>   .    .    .    .    .    .    .    .    .    .    .    .    .    .    .    .    .    .    .    .    .    .    .    .    .    .    .    .    .    .    .    .    .    .    .    .    .    .    .    .    .    .    .    .    .    .    . |\n",
        "   PPSS-HL |    .    .    .    .    .    .    .    .    .    .    .    .    .    .    .    .    .    .    .    .    .    .    .    .    .    .    .    .    .    .    .    .    .    .    .    .    .    .    .    .    .    .    .    .    .    .    .    .    .    .    .    .    .    .    .    .    .    .    .    .    .    .    .    .    .    .    .    .    .    .    .    .    .    .    .    .    .    .    .    .    .    .    .    .    .    .    .    .    .    .    .    .    .    .    .    .    .    .    .    .    .    .    .    .    .    .    .    .    .    .    .    .    .    .    .    .    .    .    .    .    .    .    .    .    .    .    .    .    .    .    .    .    .    .    .    .    .    .    .    .    .    .    .    .    .    .    .    .    .    .    .    .    .    .    .    .    .    1    .    .    .    .    .   <.>   .    .    .    .    .    .    .    .    .    .    .    .    .    .    .    .    .    .    .    .    .    .    .    .    .    .    .    .    .    .    .    .    .    .    .    .    .    .    .    .    .    .    .    .    .    . |\n",
        "   PPSS-TL |    .    .    .    .    .    .    .    .    .    .    .    .    .    .    .    .    .    .    .    .    .    .    .    .    .    .    .    .    .    .    .    .    .    .    .    .    .    .    .    .    .    .    .    .    .    .    .    .    .    .    .    .    .    .    .    .    .    .    .    .    .    .    .    .    .    .    .    .    .    .    .    .    .    .    .    .    .    .    .    .    .    .    .    .    .    .    .    .    .    .    .    .    .    .    .    .    .    .    .    .    .    .    .    .    .    .    .    .    .    .    .    .    .    .    .    .    .    .    .    .    .    .    .    .    .    .    .    .    .    .    .    .    .    .    .    .    .    .    .    .    .    .    .    .    .    .    .    .    .    .    .    .    .    .    .    .    .    2    .    .    .    .    .    .   <.>   .    .    .    .    .    .    .    .    .    .    .    .    .    .    .    .    .    .    .    .    .    .    .    .    .    .    .    .    .    .    .    .    .    .    .    .    .    .    .    .    .    .    .    .    . |\n",
        "        QL |    .    .    .    .    .    .    .    .    .    .    .    .    .    .    .    .    2   13    .    .   73    .    .    .    6    .    .    .    .    .    .    .    .    .    .    .    .    .    .    .    .    .    .    .    .    .    .    .    .    .   61    .    .    .    .    .    .    .    .    .    .    1    .    .    .    .    .    .    .    .    .    .    .    .    .    .    .    .    .    .    .    .    .    .    .    .    .    .    .    .    6    .    .    .   10    .    .    .    .    .    .    .    .    2    .    .    .    .    .   31    .    .    .    .    .    .    .    .    .    .    .    .    1    .    .    .    .    .    .    .    .    .    .    .    .    .    .    .    .    .    .    .    .    .    .    .    .    .    .    .    .    .    .    .    .    .    .    .    .    .    .    .    .    .    . <242>   .    .   73    .    .    .    .    9    1    .    .    .    .    .    .    .    .    .    .    .    .    .    .    .    .    .    .    .    .    .    .    .    .    .    .    .    .    .    .    .    .    9    .    . |\n",
        "     QL-HL |    .    .    .    .    .    .    .    .    .    .    .    .    .    .    .    .    .    .    .    .    .    .    .    .    .    .    .    .    .    .    .    .    .    .    .    .    .    .    .    .    .    .    .    .    .    .    .    .    .    .    .    .    .    .    .    .    .    .    .    .    .    .    .    .    .    .    .    .    .    .    .    .    .    .    .    .    .    .    .    .    .    .    .    .    .    .    .    .    .    .    .    .    .    .    .    .    .    .    .    .    .    .    .    .    .    .    .    .    .    .    .    .    .    .    .    .    .    .    .    .    .    .    .    .    .    .    .    .    .    .    .    .    .    .    .    .    .    .    .    .    .    .    .    .    .    .    .    .    .    .    .    .    .    .    .    .    .    .    .    .    .    .    .    .    .    .   <.>   .    1    .    .    .    .    .    .    .    .    .    .    .    .    .    .    .    .    .    .    .    .    .    .    .    .    .    .    .    .    .    .    .    .    .    .    .    .    .    .    .    .    . |\n",
        "       QLP |    .    .    .    .    .    .    .    .    .    .    .    .    .    .    .    .    .    .    .    .    5    .    .    .    .    .    .    .    .    .    .    .    .    .    .    .    .    .    .    .    .    .    .    .    .    .    .    .    .    .    .    .    .    .    .    .    .    .    .    .    .    .    .    .    .    .    .    .    .    .    .    .    .    .    .    .    .    .    .    .    .    .    .    .    .    .    .    .    .    .    .    .    .    .    .    .    .    .    .    .    .    .    .    .    .    .    .    .    .    .    .    .    .    .    .    .    .    .    .    .    .    .    .    .    .    .    .    .    .    .    .    .    .    .    .    .    .    .    .    .    .    .    .    .    .    .    .    .    .    .    .    .    .    .    .    .    .    .    .    .    .    .    .    .    .    .    .   <9>   1    .    .    .    .    .    .    .    .    .    .    .    .    .    .    .    .    .    .    .    .    .    .    .    .    .    .    .    .    .    .    .    .    .    .    .    .    .    .    .    .    . |\n",
        "        RB |    .    .    .    .    .    .    .    .    .    .    .    .    .    .    .    .    .    .    .    .   36    .    .    .    8    .    .    .    .    .    .    .    .    .    .    .    .    .    .    .    .    .    .    .    6    .    .    .    .    .   16    .    .    .    .    .    .    .    .    .    .    .    .    .    .    .   16    .    .    .    .    .    .    .    .    .    .    .    .    .    .    .    .    .    .    .    .    .    .    .   27    .    .    .   34    .    .    .    .    .    .    .    .    .    .    .    .    .    .  294    .    .    .    .    .    .    .    .    .    .    .    .    .    .    .    .    .    .    .    .    .    .    .    .    .    .    .    .    7    .    .    .    .    .    .    .    .    .    .    .    .    .    .    .    .    .    .    .    .    .    .    .    .    .    .   55    .    .<1302>   .    6    .    .    .    .    .    .    .    .    .    .    .    .    .    .    .    .    .    .    .    .    .    .    .    .    .    .    .    .    .    .    .    .    .    .    .    .    2    .    . |\n",
        "       RB$ |    .    .    .    .    .    .    .    .    .    .    .    .    .    .    .    .    .    .    .    .    .    .    .    .    .    .    .    .    .    .    .    .    .    .    .    .    .    .    .    .    .    .    .    .    .    .    .    .    .    .    .    .    .    .    .    .    .    .    .    .    .    .    .    .    .    .    .    .    .    .    .    .    .    .    .    .    .    .    .    .    .    .    .    .    .    .    .    .    .    .    .    .    .    .    .    .    .    .    .    .    .    .    .    .    .    .    .    .    .    .    .    .    .    .    .    .    .    .    .    .    .    .    .    .    .    .    .    .    .    .    .    .    .    .    .    .    .    .    .    .    .    .    .    .    .    .    .    .    .    .    .    .    .    .    .    .    .    .    .    .    .    .    .    .    .    .    .    .    .   <3>   .    .    .    .    .    .    .    .    .    .    .    .    .    .    .    .    .    .    .    .    .    .    .    .    .    .    .    .    .    .    .    .    .    .    .    .    .    .    .    . |\n",
        "     RB-HL |    .    .    .    .    .    .    .    .    .    .    .    .    .    .    .    .    .    .    .    .    .    .    .    .    .    .    .    .    .    .    .    .    .    .    .    .    .    .    .    .    .    .    .    .    .    .    .    .    .    .    .    .    .    .    .    .    .    .    .    .    .    .    .    .    .    .    .    .    .    .    .    .    .    .    .    .    .    .    .    .    .    .    .    .    .    .    .    .    .    .    .    .    .    .    .    .    .    .    .    .    .    .    .    .    .    .    .    .    .    .    .    .    .    .    .    .    .    .    .    .    .    .    .    .    .    .    .    .    .    .    .    .    .    .    .    .    .    .    .    .    .    .    .    .    .    .    .    .    .    .    .    .    .    .    .    .    .    .    .    .    .    .    .    .    .    .    .    .    5    .   <1>   .    1    .    .    .    .    .    .    .    .    .    .    .    .    .    .    .    .    .    .    .    .    .    .    .    .    .    .    .    .    .    .    .    .    .    .    .    .    . |\n",
        "     RB-NC |    .    .    .    .    .    .    .    .    .    .    .    .    .    .    .    .    .    .    .    .    .    .    .    .    .    .    .    .    .    .    .    .    .    .    .    .    .    .    .    .    .    .    .    .    .    .    .    .    .    .    .    .    .    .    .    .    .    .    .    .    .    .    .    .    .    .    .    .    .    .    .    .    .    .    .    .    .    .    .    .    .    .    .    .    .    .    .    .    .    .    .    .    .    .    .    .    .    .    .    .    .    .    .    .    .    .    .    .    .    .    .    .    .    .    .    .    .    .    .    .    .    .    .    .    .    .    .    .    .    .    .    .    .    .    .    .    .    .    .    .    .    .    .    .    .    .    .    .    .    .    .    .    .    .    .    .    .    .    .    .    .    .    .    .    .    .    .    .    1    .    .   <.>   .    .    .    .    .    .    .    .    .    .    .    .    .    .    .    .    .    .    .    .    .    .    .    .    .    .    .    .    .    .    .    .    .    .    .    .    .    . |\n",
        "     RB-TL |    .    .    .    .    .    .    .    .    .    .    .    .    .    .    .    .    .    .    .    .    .    .    .    .    .    .    .    .    .    .    .    .    .    .    .    .    .    .    .    .    .    .    .    .    .    .    .    .    .    .    .    .    .    .    .    .    .    .    .    .    .    .    .    .    .    .    .    .    .    .    .    .    .    .    .    .    .    .    .    .    .    .    .    .    .    .    .    .    .    .    .    .    .    .    .    .    .    .    .    .    .    .    .    .    .    .    .    .    .    .    .    .    .    .    .    .    .    .    .    .    .    .    .    .    .    .    .    .    .    .    .    .    .    .    .    .    .    .    .    .    .    .    .    .    .    .    .    .    .    .    .    .    .    .    .    .    .    .    .    .    .    .    .    .    .    .    .    .    1    .    .    .   <1>   .    .    .    .    .    .    .    .    .    .    .    .    .    .    .    .    .    .    .    .    .    .    .    .    .    .    .    .    .    .    .    .    .    .    .    .    . |\n",
        "       RBR |    .    .    .    .    .    .    .    .    .    .    .    .    .    .    .    .    .    .    .    .    3    .    .    .    .    .    .    .    .    .    .    .    .    .    .    .    .    .    .    .    .    .    .    .    .    .    .    .    .    .    .    .    .    .    .    .    .    .    .    .    .    .    .    .    .    .    .    .    .    .    .    .    .    .    .    .    .    .    .    .    .    .    .    .    .    .    .    .    .    .    .    .    .    .    .    .    .    .   13    .    .    .    .    .    .    .    .    .    .    5    .    .    .    .    .    .    .    .    .    .    .    .    .    .    .    .    .    .    .    .    .    .    .    .    .    .    .    .    .    .    .    .    .    .    .    .    .    .    .    .    .    .    .    .    .    .    .    .    .    .    .    .    .    .    .    1    .    .    .    .    .    .    .  <22>   .    .    .    .    .    .    .    .    .    .    .    .    .    .    .    .    .    .    .    .    .    .    .    .    .    .    .    .    .    .    .    .    .    .    .    . |\n",
        "       RBT |    .    .    .    .    .    .    .    .    .    .    .    .    .    .    .    .    .    .    .    .    2    .    .    .    .    .    .    .    .    .    .    .    .    .    .    .    .    .    .    .    .    .    .    .    .    .    .    .    .    .    .    .    .    .    .    .    .    .    .    .    .    .    .    .    .    .    .    .    .    .    .    .    .    .    .    .    .    .    .    .    .    .    .    .    .    .    .    .    .    .    .    .    .    .    .    .    .    .    .    .    .    .    .    1    .    .    .    .    .    1    .    .    .    .    .    .    .    .    .    .    .    .    .    .    .    .    .    .    .    .    .    .    .    .    .    .    .    .    .    .    .    .    .    .    .    .    .    .    .    .    .    .    .    .    .    .    .    .    .    .    .    .    .    .    .    1    .    .    .    .    .    .    .    .   <.>   .    .    .    .    .    .    .    .    .    .    .    .    .    .    .    .    .    .    .    .    .    .    .    .    .    .    .    .    .    .    .    .    .    .    . |\n",
        "        RN |    .    .    .    .    .    .    .    .    .    .    .    .    .    .    .    .    .    .    .    .    .    .    .    .    .    .    .    .    .    .    .    .    .    .    .    .    .    .    .    .    .    .    .    .    .    .    .    .    .    .    .    .    .    .    .    .    .    .    .    .    .    .    .    .    .    .    .    .    .    .    .    .    .    .    .    .    .    .    .    .    .    .    .    .    .    .    .    .    .    .    .    .    .    .    .    .    .    .    .    .    .    .    .    .    .    .    .    .    .    1    .    .    .    .    .    .    .    .    .    .    .    .    .    .    .    .    .    .    .    .    .    .    .    .    .    .    .    .    .    .    .    .    .    .    .    .    .    .    .    .    .    .    .    .    .    .    .    .    .    .    .    .    .    .    .    .    .    .    2    .    .    .    .    .    .   <.>   .    .    .    .    .    .    .    .    .    .    .    .    .    .    .    .    .    .    .    .    .    .    .    .    .    .    .    .    .    .    .    .    .    . |\n",
        "        RP |    .    .    .    .    .    .    .    .    .    .    .    .    .    .    .    .    .    .    .    .    .    .    .    .    .    .    .    .    .    .    .    .    .    .    .    .    .    .    .    .    .    .    .    .    .    .    .    .    .    .    .    .    .    .    .    .    .    .    .    .    .    .    .    .    .    .    .    .    .    .    .    .    .    .    .    .    .    .    .    .    .    .    .    .    .    .    .    .    .    .   75    .    .    .    .    .    .    .    .    .    .    .    .    .    .    .    .    .    .    1    .    .    .    .    .    .    .    .    .    .    .    .    .    .    .    .    .    .    .    .    .    .    .    .    .    .    .    .    .    .    .    .    .    .    .    .    .    .    .    .    .    .    .    .    .    .    .    .    .    .    .    .    .    .    .    .    .    .    .    .    .    .    .    .    .    . <156>   .    .    .    .    .    .    .    .    .    .    .    .    .    .    .    .    .    .    .    .    .    .    .    .    .    .    .    .    .    .    .    .    . |\n",
        "     RP-HL |    .    .    .    .    .    .    .    .    .    .    .    .    .    .    .    .    .    .    .    .    .    .    .    .    .    .    .    .    .    .    .    .    .    .    .    .    .    .    .    .    .    .    .    .    .    .    .    .    .    .    .    .    .    .    .    .    .    .    .    .    .    .    .    .    .    .    .    .    .    .    .    .    .    .    .    .    .    .    .    .    .    .    .    .    .    .    .    .    .    .    1    .    .    .    .    .    .    .    .    .    .    .    .    .    .    .    .    .    .    .    .    .    .    .    .    .    .    .    .    .    .    .    .    .    .    .    .    .    .    .    .    .    .    .    .    .    .    .    .    .    .    .    .    .    .    .    .    .    .    .    .    .    .    .    .    .    .    .    .    .    .    .    .    .    .    .    .    .    .    .    .    .    .    .    .    .    1   <.>   .    .    .    .    .    .    .    .    .    .    .    .    .    .    .    .    .    .    .    .    .    .    .    .    .    .    .    .    .    .    .    . |\n",
        "        TO |    .    .    .    .    .    .    .    .    .    .    .    .    .    .    .    .    .    .    .    .    .    .    .    .    .    .    .    .    .    .    .    .    .    .    .    .    .    .    .    .    .    .    .    .    .    .    .    .    .    .    .    .    .    .    .    .    .    .    .    .    .    .    .    .    .    .    .    .    .    .    .    .    .    .    .    .    .    .    .    .    .    .    .    .    .    .    .    .    .    .   48    2    .    .    .    .    .    .    .    .    .    .    .    .    .    .    .    .    .    .    .    .    .    .    .    .    .    .    .    .    .    .    .    .    .    .    .    .    .    .    .    .    .    .    .    .    .    .    .    .    .    .    .    .    .    .    .    .    .    .    .    .    .    .    .    .    .    .    .    .    .    .    .    .    .    .    .    .    .    .    .    .    .    .    .    .    .    . <902>   .    .    .    .    .    .    .    .    .    .    .    .    .    .    .    .    .    .    .    .    .    .    .    .    .    .    .    .    .    .    . |\n",
        "     TO-HL |    .    .    .    .    .    .    .    .    .    .    .    .    .    .    .    .    .    .    .    .    .    .    .    .    .    .    .    .    .    .    .    .    .    .    .    .    .    .    .    .    .    .    .    .    .    .    .    .    .    .    .    .    .    .    .    .    .    .    .    .    .    .    .    .    .    .    .    .    .    .    .    .    .    .    .    .    .    .    .    .    .    .    .    .    .    .    .    .    .    .    .    .    .    .    .    .    .    .    .    .    .    .    .    .    .    .    .    .    .    .    .    .    .    .    .    .    .    .    .    .    .    .    .    .    .    .    .    .    .    .    .    .    .    .    .    .    .    .    .    .    .    .    .    .    .    .    .    .    .    .    .    .    .    .    .    .    .    .    .    .    .    .    .    .    .    .    .    .    .    .    .    .    .    .    .    .    .    .    2   <.>   .    .    .    .    .    .    .    .    .    .    .    .    .    .    .    .    .    .    .    .    .    .    .    .    .    .    .    .    .    . |\n",
        "        UH |    .    .    .    .    .    .    .    .    .    .    .    .    .    .    .    .    .    .    .    .    .    .    .    .    .    .    .    .    .    .    .    .    .    .    .    .    .    .    .    .    .    .    .    .    .    .    .    .    .    .    .    .    .    .    .    .    .    .    .    .    .    .    .    .    .    .    .    .    .    .    .    .    .    .    .    .    .    .    .    .    .    .    .    .    .    .    .    .    .    .    .    .    .    .    .    .    .    .    .    .    .    .    .    .    .    .    .    .    .    7    .    .    .    .    .    .    .    .    .    .    .    .    .    .    .    .    .    .    .    .    .    .    .    .    .    .    .    .    .    .    .    .    .    .    .    .    .    .    .    .    .    .    .    .    .    .    .    .    .    .    .    .    .    .    .    .    .    .    .    .    .    .    .    .    .    .    .    .    .    .   <.>   .    3    .    .    .    .    .    .    .    .    .    .    .    .    .    .    .    .    .    .    .    .    .    .    .    .    1    .    . |\n",
        "     UH-HL |    .    .    .    .    .    .    .    .    .    .    .    .    .    .    .    .    .    .    .    .    .    .    .    .    .    .    .    .    .    .    .    .    .    .    .    .    .    .    .    .    .    .    .    .    .    .    .    .    .    .    .    .    .    .    .    .    .    .    .    .    .    .    .    .    .    .    .    .    .    .    .    .    .    .    .    .    .    .    .    .    .    .    .    .    .    .    .    .    .    .    .    .    .    .    .    .    .    .    .    .    .    .    .    .    .    .    .    .    .    1    .    .    .    .    .    .    .    .    .    .    .    .    .    .    .    .    .    .    .    .    .    .    .    .    .    .    .    .    .    .    .    .    .    .    .    .    .    .    .    .    .    .    .    .    .    .    .    .    .    .    .    .    .    .    .    .    .    .    .    .    .    .    .    .    .    .    .    .    .    .    .   <.>   .    .    .    .    .    .    .    .    .    .    .    .    .    .    .    .    .    .    .    .    .    .    .    .    .    .    .    . |\n",
        "        VB |    .    .    .    .    .    .    .    .    .    .    .    .    .    .    .    .    .    .    .    .    4    .    .    .    .    .    .    .    .    .    .    .    .    .    .    .    .    .    .    .    .    .    .    .    .    .    .    .    .    .    6    .    .    .    .    .    .    .    .    .    .    .    .    .    .    .    .    .    .    .    .    .    .    .    .    .    .    .    .    .    .    .    .    .    .    .    .    .    .    .    .    .    .    .   18    .    .    .    .    .    .    .    .    .    .    2    .    .    .  633    .    .    .    1    .    .    .    .    .    .    .    .    .    .    .    .    .    .    .    .    .    .    .    .    .    .    .    .    .    .    .    .    .    .    .    .    .    .    .    .    .    .    .    .    .    .    .    .    .    .    .    .    .    .    .    .    .    .    2    .    .    .    .    .    .    .    .    .    .    .    .    .<1437>   .    .    1    5    .    .    .    .   20    .    .    .    .    .    .    .    .    .    .    .    .    .    .    .    .    .    . |\n",
        "    VB+PPO |    .    .    .    .    .    .    .    .    .    .    .    .    .    .    .    .    .    .    .    .    .    .    .    .    .    .    .    .    .    .    .    .    .    .    .    .    .    .    .    .    .    .    .    .    .    .    .    .    .    .    .    .    .    .    .    .    .    .    .    .    .    .    .    .    .    .    .    .    .    .    .    .    .    .    .    .    .    .    .    .    .    .    .    .    .    .    .    .    .    .    .    .    .    .    .    .    .    .    .    .    .    .    .    .    .    .    .    .    .    1    .    .    .    .    .    .    .    .    .    .    .    .    .    .    .    .    .    .    .    .    .    .    .    .    .    .    .    .    .    .    .    .    .    .    .    .    .    .    .    .    .    .    .    .    .    .    .    .    .    .    .    .    .    .    .    .    .    .    .    .    .    .    .    .    .    .    .    .    .    .    .    .    .   <.>   .    .    .    .    .    .    .    .    .    .    .    .    .    .    .    .    .    .    .    .    .    .    .    .    .    . |\n",
        "     VB-HL |    .    .    .    .    .    .    .    .    .    .    .    .    .    .    .    .    .    .    .    .    .    .    .    .    .    .    .    .    .    .    .    .    .    .    .    .    .    .    .    .    .    .    .    .    .    .    .    .    .    .    .    .    .    .    .    .    .    .    .    .    .    .    .    .    .    .    .    .    .    .    .    .    .    .    .    .    .    .    .    .    .    .    .    .    .    .    .    .    .    .    .    .    .    .    1    .    .    .    .    .    .    .    .    .    .    .    .    .    .    6    .    .    .    .    .    .    .    .    .    .    .    .    .    .    .    .    .    .    .    .    .    .    .    .    .    .    .    .    .    .    .    .    .    .    .    .    .    .    .    .    .    .    .    .    .    .    .    .    .    .    .    .    .    .    .    .    .    .    .    .    .    .    .    .    .    .    .    .    .    .    .    .    8    .   <.>   .    .    .    .    .    .    .    .    .    .    .    .    .    .    .    .    .    .    .    .    .    .    .    .    . |\n",
        "     VB-TL |    .    .    .    .    .    .    .    .    .    .    .    .    .    .    .    .    .    .    .    .    .    .    .    .    .    .    .    .    .    .    .    .    .    .    .    .    .    .    .    .    .    .    .    .    .    .    .    .    .    .    .    .    .    .    .    .    .    .    .    .    .    .    .    .    .    .    .    .    .    .    .    .    .    .    .    .    .    .    .    .    .    .    .    .    .    .    .    .    .    .    .    .    .    .    .    .    .    .    .    .    .    .    .    .    .    .    .    .    .   11    .    .    .    .    .    .    .    .    .    .    .    .    .    .    .    .    .    .    .    .    .    .    .    .    .    .    .    .    .    .    .    .    .    .    .    .    .    .    .    .    .    .    .    .    .    .    .    .    .    .    .    .    .    .    .    .    .    .    .    .    .    .    .    .    .    .    .    .    .    .    .    .    1    .    .   <2>   .    .    .    .    .    .    .    .    .    .    .    .    .    .    .    .    .    .    .    .    .    .    .    . |\n",
        "       VBD |    .    .    .    .    .    .    .    .    .    .    .    .    .    .    .    .    .    .    .    .    .    .    .    .    .    .    .    .    .    .    .    .    .    .    .    .    .    .    .    .    .    .    .    .    .    .    .    .    .    .    .    .    .    .    .    .    .    .    .    .    .    .    .    .    .    .    .    .    .    .    .    .    .    .    .    .    .    .    .    .    .    .    .    .    .    .    .    .    .    .    .    .    .    .    3    .    .    .    .    .    .    .    .    .    .    .    .    .    .   88    .    .    .    .    .    .    .    .    .    .    .    .    .    .    .    .    .    .    .    .    .    .    .    .    .    .    .    .    .    .    .    .    .    .    .    .    .    .    .    .    .    .    .    .    .    .    .    .    .    .    .    .    .    .    .    .    .    .    .    .    .    .    .    .    .    .    .    .    .    .    .    .    2    .    .    . <451>   .    .    .    .  156    .    .    .    .    .    .    .    .    .    .    .    .    .    .    .    .    .    . |\n",
        "    VBD-HL |    .    .    .    .    .    .    .    .    .    .    .    .    .    .    .    .    .    .    .    .    .    .    .    .    .    .    .    .    .    .    .    .    .    .    .    .    .    .    .    .    .    .    .    .    .    .    .    .    .    .    .    .    .    .    .    .    .    .    .    .    .    .    .    .    .    .    .    .    .    .    .    .    .    .    .    .    .    .    .    .    .    .    .    .    .    .    .    .    .    .    .    .    .    .    .    .    .    .    .    .    .    .    .    .    .    .    .    .    .    .    .    .    .    .    .    .    .    .    .    .    .    .    .    .    .    .    .    .    .    .    .    .    .    .    .    .    .    .    .    .    .    .    .    .    .    .    .    .    .    .    .    .    .    .    .    .    .    .    .    .    .    .    .    .    .    .    .    .    .    .    .    .    .    .    .    .    .    .    .    .    .    .    .    .    .    .    1   <.>   .    .    .    .    .    .    .    .    .    .    .    .    .    .    .    .    .    .    .    .    .    . |\n",
        "       VBG |    .    .    .    .    .    .    .    .    .    .    .    .    .    .    .    .    .    .    .    .    .    .    .    .    .    .    .    .    .    .    .    .    .    .    .    .    .    .    .    .    .    .    .    .    .    .    .    .    .    .    .    .    .    .    .    .    .    .    .    .    .    .    .    .    .    .    .    .    .    .    .    .    .    .    .    .    .    .    .    .    .    .    .    .    .    .    .    .    .    .    .    .    .    .    4    .    .    .    .    .    .    .    .    .    .    .    .    .    .  338    .    .    .    .    .    .    .    .    .    .    .    .    .    .    .    .    .    .    .    .    .    .    .    .    .    .    .    .    .    .    .    .    .    .    .    .    .    .    .    .    .    .    .    .    .    .    .    .    .    .    .    .    .    .    .    .    .    .    .    .    .    .    .    .    .    .    .    .    .    .    .    .    .    .    .    .    .    . <539>   .    .    .    .    .    .    .    .    .    .    .    .    .    .    .    .    .    .    .    .    . |\n",
        "    VBG-HL |    .    .    .    .    .    .    .    .    .    .    .    .    .    .    .    .    .    .    .    .    .    .    .    .    .    .    .    .    .    .    .    .    .    .    .    .    .    .    .    .    .    .    .    .    .    .    .    .    .    .    .    .    .    .    .    .    .    .    .    .    .    .    .    .    .    .    .    .    .    .    .    .    .    .    .    .    .    .    .    .    .    .    .    .    .    .    .    .    .    .    .    .    .    .    .    .    .    .    .    .    .    .    .    .    .    .    .    .    .   11    .    .    .    .    .    .    .    .    .    .    .    .    .    .    .    .    .    .    .    .    .    .    .    .    .    .    .    .    .    .    .    .    .    .    .    .    .    .    .    .    .    .    .    .    .    .    .    .    .    .    .    .    .    .    .    .    .    .    .    .    .    .    .    .    .    .    .    .    .    .    .    .    .    .    .    .    .    .    2   <.>   1    .    .    .    .    .    .    .    .    .    .    .    .    .    .    .    .    .    .    . |\n",
        "    VBG-TL |    .    .    .    .    .    .    .    .    .    .    .    .    .    .    .    .    .    .    .    .    .    .    .    .    .    .    .    .    .    .    .    .    .    .    .    .    .    .    .    .    .    .    .    .    .    .    .    .    .    .    .    .    .    .    .    .    .    .    .    .    .    .    .    .    .    .    .    .    .    .    .    .    .    .    .    .    .    .    .    .    .    .    .    .    .    .    .    .    .    .    .    .    .    .    .    .    .    .    .    .    .    .    .    .    .    .    .    .    .    7    .    .    .    .    .    .    .    .    .    .    .    .    .    .    .    .    .    .    .    .    .    .    .    .    .    .    .    .    .    .    .    .    .    .    .    .    .    .    .    .    .    .    .    .    .    .    .    .    .    .    .    .    .    .    .    .    .    .    .    .    .    .    .    .    .    .    .    .    .    .    .    .    .    .    .    .    .    .    1    1   <2>   .    .    .    .    .    .    .    .    .    .    .    .    .    .    .    .    .    .    . |\n",
        "       VBN |    .    .    .    .    .    .    .    .    .    .    .    .    .    .    .    .    .    .    .    .    .    .    .    .    .    .    .    .    .    .    .    .    .    .    .    .    .    .    .    .    .    .    .    .    .    .    .    .    .    .    .    .    .    .    .    .    .    .    .    .    .    .    .    .    .    .    .    .    .    .    .    .    .    .    .    .    .    .    .    .    .    .    .    .    .    .    .    .    .    .    .    .    .    .    .    .    .    .    .    .    .    .    .    .    .    .    .    .    .  369    .    .    .    .    .    .    .    .    .    .    .    .    .    .    .    .    .    .    .    .    .    .    .    .    .    .    .    .    .    .    .    .    .    .    .    .    .    .    .    .    .    .    .    .    .    .    .    .    .    .    .    .    .    .    .    .    .    .    .    .    .    .    .    .    .    .    .    .    .    .    .    .    8    .    .    .  257    .    .    .    . <849>   8    .    .    .    .    .    .    .    .    .    .    .    .    .    .    .    .    . |\n",
        "    VBN-HL |    .    .    .    .    .    .    .    .    .    .    .    .    .    .    .    .    .    .    .    .    .    .    .    .    .    .    .    .    .    .    .    .    .    .    .    .    .    .    .    .    .    .    .    .    .    .    .    .    .    .    .    .    .    .    .    .    .    .    .    .    .    .    .    .    .    .    .    .    .    .    .    .    .    .    .    .    .    .    .    .    .    .    .    .    .    .    .    .    .    .    .    .    .    .    .    .    .    .    .    .    .    .    .    .    .    .    .    .    .    4    .    .    .    .    .    .    .    .    .    .    .    .    .    .    .    .    .    .    .    .    .    .    .    .    .    .    .    .    .    .    .    .    .    .    .    .    .    .    .    .    .    .    .    .    .    .    .    .    .    .    .    .    .    .    .    .    .    .    .    .    .    .    .    .    .    .    .    .    .    .    .    .    .    .    .    .    2    .    .    .    .    7   <.>   .    .    .    .    .    .    .    .    .    .    .    .    .    .    .    .    . |\n",
        "    VBN-TL |    .    .    .    .    .    .    .    .    .    .    .    .    .    .    .    .    .    .    .    .    .    .    .    .    .    .    .    .    .    .    .    .    .    .    .    .    .    .    .    .    .    .    .    .    .    .    .    .    .    .    .    .    .    .    .    .    .    .    .    .    .    .    .    .    .    .    .    .    .    .    .    .    .    .    .    .    .    .    .    .    .    .    .    .    .    .    .    .    .    .    .    .    .    .    .    .    .    .    .    .    .    .    .    .    .    .    .    .    .    5    .    .    .    .    .    .    .    .    .    .    .    .    .    .    .    .    .    .    .    .    .    .    .    .    .    .    .    .    .    .    .    .    .    .    .    .    .    .    .    .    .    .    .    .    .    .    .    .    .    .    .    .    .    .    .    .    .    .    .    .    .    .    .    .    .    .    .    .    .    .    .    .    .    .    .    .    .    .    .    .    .    .    .  <78>   .    .    .    .    .    .    .    .    .    .    .    .    .    .    .    . |\n",
        " VBN-TL-HL |    .    .    .    .    .    .    .    .    .    .    .    .    .    .    .    .    .    .    .    .    .    .    .    .    .    .    .    .    .    .    .    .    .    .    .    .    .    .    .    .    .    .    .    .    .    .    .    .    .    .    .    .    .    .    .    .    .    .    .    .    .    .    .    .    .    .    .    .    .    .    .    .    .    .    .    .    .    .    .    .    .    .    .    .    .    .    .    .    .    .    .    .    .    .    .    .    .    .    .    .    .    .    .    .    .    .    .    .    .    .    .    .    .    .    .    .    .    .    .    .    .    .    .    .    .    .    .    .    .    .    .    .    .    .    .    .    .    .    .    .    .    .    .    .    .    .    .    .    .    .    .    .    .    .    .    .    .    .    .    .    .    .    .    .    .    .    .    .    .    .    .    .    .    .    .    .    .    .    .    .    .    .    .    .    .    .    .    .    .    .    .    .    .    1   <.>   .    .    .    .    .    .    .    .    .    .    .    .    .    .    . |\n",
        "       VBZ |    .    .    .    .    .    .    .    .    .    .    .    .    .    .    .    .    .    .    .    .    .    .    .    .    .    .    .    .    .    .    .    .    .    .    .    .    .    .    .    .    .    .    .    .    .    .    .    .    .    .    .    .    .    .    .    .    .    .    .    .    .    .    .    .    .    .    .    .    .    .    .    .    .    .    .    .    .    .    .    .    .    .    .    .    .    .    .    .    .    .    .    .    .    .    .    .    .    .    .    .    .    .    .    .    .    .    .    .    .  170    .    .    .    .    .    .   60    .    .    1    .    .    .    .    .    .    .    .    .    .    .    .    .    .    .    .    .    .    .    .    .    .    .    .    .    .    .    .    .    .    .    .    .    .    .    .    .    .    .    .    .    .    .    .    .    .    .    .    .    .    .    .    .    .    .    .    .    .    .    .    .    .    .    .    .    .    .    .    .    .    .    .    .    .    . <304>   9    .    .    .    .    .    .    .    .    .    .    .    .    . |\n",
        "    VBZ-HL |    .    .    .    .    .    .    .    .    .    .    .    .    .    .    .    .    .    .    .    .    .    .    .    .    .    .    .    .    .    .    .    .    .    .    .    .    .    .    .    .    .    .    .    .    .    .    .    .    .    .    .    .    .    .    .    .    .    .    .    .    .    .    .    .    .    .    .    .    .    .    .    .    .    .    .    .    .    .    .    .    .    .    .    .    .    .    .    .    .    .    .    .    .    .    .    .    .    .    .    .    .    .    .    .    .    .    .    .    .    7    .    .    .    .    .    .    1    .    .    .    1    .    .    .    .    .    .    .    .    .    .    .    .    .    .    .    .    .    .    .    .    .    .    .    .    .    .    .    .    .    .    .    .    .    .    .    .    .    .    .    .    .    .    .    .    .    .    .    .    .    .    .    .    .    .    .    .    .    .    .    .    .    .    .    .    .    .    .    .    .    .    .    .    .    .    6   <2>   .    .    .    .    .    .    .    .    .    .    .    .    . |\n",
        "    VBZ-TL |    .    .    .    .    .    .    .    .    .    .    .    .    .    .    .    .    .    .    .    .    .    .    .    .    .    .    .    .    .    .    .    .    .    .    .    .    .    .    .    .    .    .    .    .    .    .    .    .    .    .    .    .    .    .    .    .    .    .    .    .    .    .    .    .    .    .    .    .    .    .    .    .    .    .    .    .    .    .    .    .    .    .    .    .    .    .    .    .    .    .    .    .    .    .    .    .    .    .    .    .    .    .    .    .    .    .    .    .    .    3    .    .    .    .    .    .    .    .    .    .    .    .    .    .    .    .    .    .    .    .    .    .    .    .    .    .    .    .    .    .    .    .    .    .    .    .    .    .    .    .    .    .    .    .    .    .    .    .    .    .    .    .    .    .    .    .    .    .    .    .    .    .    .    .    .    .    .    .    .    .    .    .    .    .    .    .    .    .    .    .    .    .    .    .    .    .    .   <.>   .    .    .    .    .    .    .    .    .    .    .    . |\n",
        "       WDT |    .    .    .    .    .    .    .    .    .    .    .    .    .    .    .    .    .    .    .    .    .    .    .    .    .    .    .    .    .    .    .    .    .    .    .    .    .    .    .    .    .    .    .    .    .    .    .    .    .    .    .    .    .    .    .    .    .    .    .    .    .    .    .    .    .    .    .    .    .    .    .    .    .    .    .    .    .    .    .    .    .    .    .    .    .    .    .    .    .    .    .    .    .    .    .    .    .    .    .    .    .    .    .    .    .    .    .    .    .    1    .    .    .    .    .    .    .    .    .    .    .    .    .    .    .    .    .    .    .    .    .    .    .    .    .    .    .    .    .    .    .    .    .    .    .    .    .    .    .    .    .    .    .    .    .    .    .    .    .    .    .    .    .    .    .    .    .    .    .    .    .    .    .    .    .    .    .    .    .    .    .    .    .    .    .    .    .    .    .    .    .    .    .    .    .    .    .    . <306>   .    .    .    .    .    .    .    .    .    .    . |\n",
        "   WDT+BEZ |    .    .    .    .    .    .    .    .    .    .    .    .    .    .    .    .    .    .    .    .    .    .    .    .    .    .    .    .    .    .    .    .    .    .    .    .    .    .    .    .    .    .    .    .    .    .    .    .    .    .    .    .    .    .    .    .    .    .    .    .    .    .    .    .    .    .    .    .    .    .    .    .    .    .    .    .    .    .    .    .    .    .    .    .    .    .    .    .    .    .    .    .    .    .    .    .    .    .    .    .    .    .    .    .    .    .    .    .    .    2    .    .    .    .    .    .    .    .    .    .    .    .    .    .    .    .    .    .    .    .    .    .    .    .    .    .    .    .    .    .    .    .    .    .    .    .    .    .    .    .    .    .    .    .    .    .    .    .    .    .    .    .    .    .    .    .    .    .    .    .    .    .    .    .    .    .    .    .    .    .    .    .    .    .    .    .    .    .    .    .    .    .    .    .    .    .    .    .    .   <.>   .    .    .    .    .    .    .    .    .    . |\n",
        "WDT+BEZ-HL |    .    .    .    .    .    .    .    .    .    .    .    .    .    .    .    .    .    .    .    .    .    .    .    .    .    .    .    .    .    .    .    .    .    .    .    .    .    .    .    .    .    .    .    .    .    .    .    .    .    .    .    .    .    .    .    .    .    .    .    .    .    .    .    .    .    .    .    .    .    .    .    .    .    .    .    .    .    .    .    .    .    .    .    .    .    .    .    .    .    .    .    .    .    .    .    .    .    .    .    .    .    .    .    .    .    .    .    .    .    1    .    .    .    .    .    .    .    .    .    .    .    .    .    .    .    .    .    .    .    .    .    .    .    .    .    .    .    .    .    .    .    .    .    .    .    .    .    .    .    .    .    .    .    .    .    .    .    .    .    .    .    .    .    .    .    .    .    .    .    .    .    .    .    .    .    .    .    .    .    .    .    .    .    .    .    .    .    .    .    .    .    .    .    .    .    .    .    .    .    .   <.>   .    .    .    .    .    .    .    .    . |\n",
        "    WDT-HL |    .    .    .    .    .    .    .    .    .    .    .    .    .    .    .    .    .    .    .    .    .    .    .    .    .    .    .    .    .    .    .    .    .    .    .    .    .    .    .    .    .    .    .    .    .    .    .    .    .    .    .    .    .    .    .    .    .    .    .    .    .    .    .    .    .    .    .    .    .    .    .    .    .    .    .    .    .    .    .    .    .    .    .    .    .    .    .    .    .    .    .    .    .    .    .    .    .    .    .    .    .    .    .    .    .    .    .    .    .    .    .    .    .    .    .    .    .    .    .    .    .    .    .    .    .    .    .    .    .    .    .    .    .    .    .    .    .    .    .    .    .    .    .    .    .    .    .    .    .    .    .    .    .    .    .    .    .    .    .    .    .    .    .    .    .    .    .    .    .    .    .    .    .    .    .    .    .    .    .    .    .    .    .    .    .    .    .    .    .    .    .    .    .    .    .    .    .    .    3    .    .   <.>   .    .    .    .    .    .    .    . |\n",
        "       WP$ |    .    .    .    .    .    .    .    .    .    .    .    .    .    .    .    .    .    .    .    .    .    .    .    .    .    .    .    .    .    .    .    .    .    .    .    .    .    .    .    .    .    .    .    .    .    .    .    .    .    .    .    .    .    .    .    .    .    .    .    .    .    .    .    .    .    .    .    .    .    .    .    .    .    .    .    .    .    .    .    .    .    .    .    .    .    .    .    .    .    .    .    .    .    .    .    .    .    .    .    .    .    .    .    .    .    .    .    .    .    .    .    .    .    .    .    .    .    .    .    .    .    .    .    .    .    .    .    .    .    .    .    .    .    .    .    .    .    .    .    .    .    .    .    .    .    .    .    .    .    .    .    .    .    .    .    .    .    .    .    .    .    .    .    .    .    .    .    .    .    .    .    .    .    .    .    .    .    .    .    .    .    .    .    .    .    .    .    .    .    .    .    .    .    .    .    .    .    .    .    .    .    .  <11>   .    .    .    .    .    .    . |\n",
        "       WPO |    .    .    .    .    .    .    .    .    .    .    .    .    .    .    .    .    .    .    .    .    .    .    .    .    .    .    .    .    .    .    .    .    .    .    .    .    .    .    .    .    .    .    .    .    .    .    .    .    .    .    5    .    .    .    .    .    .    .    .    .    .    1    .    .    .    .    .    .    .    .    .    .    .    .    .    .    .    .    .    .    .    .    .    .    .    .    .    .    .    .    .    .    .    .    .    .    .    .    .    .    .    .    .    .    .    .    .    .    .    .    .    .    .    .    .    .    .    .    .    .    .    .    .    .    .    .    .    .    .    .    .    .    .    .    .    .    .    .    .    .    .    .    .    .    .    .    .    .    .    .    .    .    .    .    .    .    .    .    .    .    .    .    .    .    .    .    .    .    .    .    .    .    .    .    .    .    .    .    .    .    .    .    .    .    .    .    .    .    .    .    .    .    .    .    .    .    .    .    .    .    .    .    .   <8>   .    .    .    .    .    . |\n",
        "    WPO-TL |    .    .    .    .    .    .    .    .    .    .    .    .    .    .    .    .    .    .    .    .    .    .    .    .    .    .    .    .    .    .    .    .    .    .    .    .    .    .    .    .    .    .    .    .    .    .    .    .    .    .    .    .    .    .    .    .    .    .    .    .    .    .    .    .    .    .    .    .    .    .    .    .    .    .    .    .    .    .    .    .    .    .    .    .    .    .    .    .    .    .    .    .    .    .    .    .    .    .    .    .    .    .    .    .    .    .    .    .    .    1    .    .    .    .    .    .    .    .    .    .    .    .    .    .    .    .    .    .    .    .    .    .    .    .    .    .    .    .    .    .    .    .    .    .    .    .    .    .    .    .    .    .    .    .    .    .    .    .    .    .    .    .    .    .    .    .    .    .    .    .    .    .    .    .    .    .    .    .    .    .    .    .    .    .    .    .    .    .    .    .    .    .    .    .    .    .    .    .    .    .    .    .    .    .   <.>   .    .    .    .    . |\n",
        "       WPS |    .    .    .    .    .    .    .    .    .    .    .    .    .    .    .    .    .    .    .    .    .    .    .    .    .    .    .    .    .    .    .    .    .    .    .    .    .    .    .    .    .    .    .    .    .    .    .    .    .    .   54    .    .    .    .    .    .    .    .    .    .    1    .    .    .    .    .    .    .    .    .    .    .    .    .    .    .    .    .    .    .    .    .    .    .    .    .    .    .    .    .    .    .    .    .    .    .    .    .    .    .    .    .    .    .    .    .    .    .    5    .    .    .    .    .    .    .    .    .    .    .    .    .    .    .    .    .    .    .    .    .    .    .    .    .    .    .    .    .    .    .    .    .    .    .    .    .    .    .    .    .    .    .    .    .    .    .    .    .    .    .    .    .    .    .    .    .    .    .    .    .    .    .    .    .    .    .    .    .    .    .    .    .    .    .    .    .    .    .    .    .    .    .    .    .    .    .    .    .    .    .    .    .    .    . <208>   .    .    .    . |\n",
        "   WPS+BEZ |    .    .    .    .    .    .    .    .    .    .    .    .    .    .    .    .    .    .    .    .    .    .    .    .    .    .    .    .    .    .    .    .    .    .    .    .    .    .    .    .    .    .    .    .    .    .    .    .    .    .    .    .    .    .    .    .    .    .    .    .    .    .    .    .    .    .    .    .    .    .    .    .    .    .    .    .    .    .    .    .    .    .    .    .    .    .    .    .    .    .    .    .    .    .    .    .    .    .    .    .    .    .    .    .    .    .    .    .    .    .    .    .    .    .    .    .    .    .    .    .    .    .    .    .    .    .    .    .    .    .    .    .    .    .    .    .    .    .    .    .    .    .    .    .    .    .    .    .    .    .    .    .    .    .    .    .    .    .    .    .    .    .    .    .    .    .    .    .    .    .    .    .    .    .    .    .    .    .    .    .    .    .    .    .    .    .    .    .    .    .    .    .    .    .    .    .    .    .    .    .    .    .    .    .    .    .   <.>   .    .    . |\n",
        "       WRB |    .    .    .    .    .    .    .    .    .    .    .    .    .    .    .    .    .    .    .    .    .    .    .    .    .    .    .    .    .    .    .    .    .    .    .    .    .    .    .    .    .    .    .    .    .    .    .    .    .    .    .    .    .    .    .    .    .    .    .    .    .    .    .    .    .    .    .    .    .    .    .    .    .    .    .    .    .    .    .    .    .    .    .    .    .    .    .    .    .    .    .    .    .    .    .    .    .    .    .    .    .    .    .    .    .    .    .    .    .    3    .    .    .    .    .    .    .    .    .    .    .    .    .    .    .    .    .    .    .    .    .    .    .    .    .    .    .    .    .    .    .    .    .    .    .    .    .    .    .    .    .    .    .    .    .    .    .    .    .    .    .    .    .    .    .    .    .    .    .    .    .    .    .    .    .    .    .    .    .    .    .    .    .    .    .    .    .    .    .    .    .    .    .    .    .    .    .    .    .    .    .    .    .    .    .    .    . <257>   .    . |\n",
        "    WRB-HL |    .    .    .    .    .    .    .    .    .    .    .    .    .    .    .    .    .    .    .    .    .    .    .    .    .    .    .    .    .    .    .    .    .    .    .    .    .    .    .    .    .    .    .    .    .    .    .    .    .    .    .    .    .    .    .    .    .    .    .    .    .    .    .    .    .    .    .    .    .    .    .    .    .    .    .    .    .    .    .    .    .    .    .    .    .    .    .    .    .    .    .    .    .    .    .    .    .    .    .    .    .    .    .    .    .    .    .    .    .    .    .    .    .    .    .    .    .    .    .    .    .    .    .    .    .    .    .    .    .    .    .    .    .    .    .    .    .    .    .    .    .    .    .    .    .    .    .    .    .    .    .    .    .    .    .    .    .    .    .    .    .    .    .    .    .    .    .    .    .    .    .    .    .    .    .    .    .    .    .    .    .    .    .    .    .    .    .    .    .    .    .    .    .    .    .    .    .    .    .    .    .    .    .    .    .    .    .    3   <.>   . |\n",
        "        `` |    .    .    .    .    .    .    .    .    .    .    .    .    .    .    .    .    .    .    .    .    .    .    .    .    .    .    .    .    .    .    .    .    .    .    .    .    .    .    .    .    .    .    .    .    .    .    .    .    .    .    .    .    .    .    .    .    .    .    .    .    .    .    .    .    .    .    .    .    .    .    .    .    .    .    .    .    .    .    .    .    .    .    .    .    .    .    .    .    .    .    .    .    .    .    .    .    .    .    .    .    .    .    .    .    .    .    .    .    .    .    .    .    .    .    .    .    .    .    .    .    .    .    .    .    .    .    .    .    .    .    .    .    .    .    .    .    .    .    .    .    .    .    .    .    .    .    .    .    .    .    .    .    .    .    .    .    .    .    .    .    .    .    .    .    .    .    .    .    .    .    .    .    .    .    .    .    .    .    .    .    .    .    .    .    .    .    .    .    .    .    .    .    .    .    .    .    .    .    .    .    .    .    .    .    .    .    .    .    . <396>|\n",
        "-----------+-------------------------------------------------------------------------------------------------------------------------------------------------------------------------------------------------------------------------------------------------------------------------------------------------------------------------------------------------------------------------------------------------------------------------------------------------------------------------------------------------------------------------------------------------------------------------------------------------------------------------------------------------------------------------------------------------------------------------------------------------------------------------------------------------------------------------------------------------------------------------------------------------------------------------------------------------------------------------------------------------------------------------------------------------------------------------------------------+\n",
        "(row = reference; col = test)\n",
        "\n"
       ]
      }
     ],
     "prompt_number": 65
    },
    {
     "cell_type": "markdown",
     "metadata": {},
     "source": [
      "* tagging: collapses distinctions -> lexical diversity is lost. \n",
      "* Can introduce new distincations nad remove ambiguities\n",
      "* If provide finer distinctions, ngram becomes mroe detailed and has more work to classify current token\n",
      "* upper limit in tagging performance"
     ]
    },
    {
     "cell_type": "markdown",
     "metadata": {},
     "source": [
      "## Tagging across sentence boundaries"
     ]
    },
    {
     "cell_type": "markdown",
     "metadata": {},
     "source": [
      "* ngram uses recent tags as guiding\n",
      "* can be an issue across boundaries as uses words from past sentence\n",
      "* lexical category of one sentence has no bearing on next\n",
      "* use sents when trianing and testing, not words"
     ]
    },
    {
     "cell_type": "code",
     "collapsed": false,
     "input": [
      "brown_tagged_sents = nltk.corpus.brown.tagged_sents(categories='news')"
     ],
     "language": "python",
     "metadata": {},
     "outputs": [],
     "prompt_number": 67
    },
    {
     "cell_type": "code",
     "collapsed": false,
     "input": [
      "brown_sents = nltk.corpus.brown.sents(categories='news')"
     ],
     "language": "python",
     "metadata": {},
     "outputs": [],
     "prompt_number": 68
    },
    {
     "cell_type": "code",
     "collapsed": false,
     "input": [
      "size = int(len(brown_sents)*0.9)"
     ],
     "language": "python",
     "metadata": {},
     "outputs": [],
     "prompt_number": 72
    },
    {
     "cell_type": "code",
     "collapsed": false,
     "input": [
      "training, test = brown_tagged_sents[:size], brown_tagged_sents[size:]"
     ],
     "language": "python",
     "metadata": {},
     "outputs": [],
     "prompt_number": 73
    },
    {
     "cell_type": "code",
     "collapsed": false,
     "input": [
      "t0 = nltk.DefaultTagger('NN')\n",
      "t1 = nltk.UnigramTagger(training, backoff=t0)\n",
      "t2 = nltk.BigramTagger(training,backoff=t1)"
     ],
     "language": "python",
     "metadata": {},
     "outputs": [],
     "prompt_number": 76
    },
    {
     "cell_type": "code",
     "collapsed": false,
     "input": [
      "t2.evaluate(test)"
     ],
     "language": "python",
     "metadata": {},
     "outputs": [
      {
       "metadata": {},
       "output_type": "pyout",
       "prompt_number": 77,
       "text": [
        "0.8447124489185687"
       ]
      }
     ],
     "prompt_number": 77
    },
    {
     "cell_type": "markdown",
     "metadata": {},
     "source": [
      "# 5.6 Transformation Based Tagging"
     ]
    },
    {
     "cell_type": "markdown",
     "metadata": {},
     "source": [
      "* bgram taggers produces large ngram tables, Must balance model size and tagger performance\n",
      "* ngram considers context from prior tags\n",
      "* words themselves can be useful information\n",
      "* Brill tagging - inductive tagging method using models only a tiny fraction of ngram model size"
     ]
    },
    {
     "cell_type": "markdown",
     "metadata": {},
     "source": [
      "Brill tagging  -> transormation based learning. Guesses tags then goes back and fixes the mistakes. Transforms bad tagging of text into a better one. Also supervised learning method. \n",
      "Like painting - begin with broad brush strokes then fix up the details"
     ]
    },
    {
     "cell_type": "markdown",
     "metadata": {},
     "source": [
      "Rules are linguiistically interpretable. Can learn from direct table inspection, unlike n-gram."
     ]
    },
    {
     "cell_type": "code",
     "collapsed": false,
     "input": [
      "nltk.tag.brill.demo()"
     ],
     "language": "python",
     "metadata": {},
     "outputs": [
      {
       "output_type": "stream",
       "stream": "stdout",
       "text": [
        "Loading tagged data... \n",
        "Done loading."
       ]
      },
      {
       "output_type": "stream",
       "stream": "stdout",
       "text": [
        "\n",
        "Training unigram tagger:\n",
        "    [accuracy: 0.832151]"
       ]
      },
      {
       "output_type": "stream",
       "stream": "stdout",
       "text": [
        "\n",
        "Training bigram tagger:\n",
        "    [accuracy: 0.837930]"
       ]
      },
      {
       "output_type": "stream",
       "stream": "stdout",
       "text": [
        "\n",
        "Training Brill tagger on 1600 sentences...\n",
        "Finding initial useful rules..."
       ]
      },
      {
       "output_type": "stream",
       "stream": "stdout",
       "text": [
        "\n",
        "    Found 9757 useful rules."
       ]
      },
      {
       "output_type": "stream",
       "stream": "stdout",
       "text": [
        "\n",
        "\n",
        "           B      |\n",
        "   S   F   r   O  |        Score = Fixed - Broken\n",
        "   c   i   o   t  |  R     Fixed = num tags changed incorrect -> correct\n",
        "   o   x   k   h  |  u     Broken = num tags changed correct -> incorrect\n",
        "   r   e   e   e  |  l     Other = num tags changed incorrect -> incorrect\n",
        "   e   d   n   r  |  e\n",
        "------------------+-------------------------------------------------------\n",
        "  11  15   4   0  |"
       ]
      },
      {
       "output_type": "stream",
       "stream": "stdout",
       "text": [
        " WDT -> IN if the tag of words i+1...i+2 is 'DT'\n",
        "  10  12   2   0  |"
       ]
      },
      {
       "output_type": "stream",
       "stream": "stdout",
       "text": [
        " IN -> RB if the text of the following word is\n",
        "                  |   'well'\n",
        "   9   9   0   0  |"
       ]
      },
      {
       "output_type": "stream",
       "stream": "stdout",
       "text": [
        " WDT -> IN if the tag of the preceding word is\n",
        "                  |   'NN', and the tag of the following word is 'NNP'\n",
        "   7   9   2   0  |"
       ]
      },
      {
       "output_type": "stream",
       "stream": "stdout",
       "text": [
        " RBR -> JJR if the tag of words i+1...i+2 is 'NNS'\n",
        "   7  10   3   0  | WDT -> IN if the tag of words i+1...i+2 is 'NNS'\n",
        "   5   5   0   0  |"
       ]
      },
      {
       "output_type": "stream",
       "stream": "stdout",
       "text": [
        " WDT -> IN if the tag of the preceding word is\n",
        "                  |   'NN', and the tag of the following word is 'PRP'\n",
        "   4   4   0   1  |"
       ]
      },
      {
       "output_type": "stream",
       "stream": "stdout",
       "text": [
        " WDT -> IN if the tag of words i+1...i+3 is 'VBG'\n",
        "   3   3   0   0  |"
       ]
      },
      {
       "output_type": "stream",
       "stream": "stdout",
       "text": [
        " RB -> IN if the tag of the preceding word is 'NN',\n",
        "                  |   and the tag of the following word is 'DT'\n",
        "   3   3   0   0  | RBR -> JJR if the tag of the following word is\n",
        "                  |   'NN'\n",
        "   3   3   0   0  |"
       ]
      },
      {
       "output_type": "stream",
       "stream": "stdout",
       "text": [
        " VBP -> VB if the tag of words i-3...i-1 is 'MD'\n",
        "   3   3   0   0  |"
       ]
      },
      {
       "output_type": "stream",
       "stream": "stdout",
       "text": [
        " NNS -> NN if the text of the preceding word is\n",
        "                  |   'one'\n",
        "   3   3   0   0  | RP -> RB if the text of words i-3...i-1 is 'were'\n",
        "   3   3   0   0  | VBP -> VB if the text of words i-2...i-1 is \"n't\"\n",
        "\n",
        "Brill accuracy: 0.839156"
       ]
      },
      {
       "output_type": "stream",
       "stream": "stdout",
       "text": [
        "\n",
        "Done; rules and errors saved to rules.yaml and errors.out."
       ]
      },
      {
       "output_type": "stream",
       "stream": "stdout",
       "text": [
        "\n"
       ]
      }
     ],
     "prompt_number": 78
    },
    {
     "cell_type": "code",
     "collapsed": false,
     "input": [
      "print (open(\"errors.out\").read())"
     ],
     "language": "python",
     "metadata": {},
     "outputs": [
      {
       "output_type": "stream",
       "stream": "stdout",
       "text": [
        "Errors for Brill Tagger 'rules.yaml'\n",
        "\n",
        "             left context |    word/test->gold     | right context\n",
        "--------------------------+------------------------+--------------------------\n",
        " Chairman/NNP Richard/NNP |    Breeden/NN->NNP     | has/VBZ said/VBD 0/-NONE-\n",
        "TO consider/VB circuit/NN |    breakers/NN->NNS    | that/WDT *T*-215/-NONE- h\n",
        "/NN breakers/NNS that/WDT |   *T*-215/NN->-NONE-   | have/VBP preset/JJ trigge\n",
        "T *T*-215/-NONE- have/VBP |     preset/NN->JJ      | trigger/NN points/NNS ,/,\n",
        "n/NNP was/VBD so/RB ``/`` |      vague/NN->JJ      | and/CC mushy/JJ ''/'' tha\n",
        "/RB ``/`` vague/JJ and/CC |      mushy/NN->JJ      | ''/'' that/IN it/PRP was/\n",
        "/JJ and/CC mushy/JJ ''/'' |      that/WDT->IN      | it/PRP was/VBD the/DT kin\n",
        "B people/NNS of/IN all/DT |   viewpoints/NN->NNS   | could/MD ``/`` come/VB ou\n",
        "points/NNS could/MD ``/`` |      come/VBN->VB      | out/RB *-2/-NONE- feeling\n",
        "NS could/MD ``/`` come/VB |       out/RP->RB       | *-2/-NONE- feeling/VBG go\n",
        "NN ,/, Mr./NNP Phelan/NNP |    angered/NN->VBD     | the/DT subcommittee/NN 's\n",
        " chairman/NN ,/, Rep./NNP |     Edward/NN->NNP     | Markey/NNP -LRB-/-LRB- D.\n",
        "N ,/, Rep./NNP Edward/NNP |     Markey/NN->NNP     | -LRB-/-LRB- D./NNP ,/, Ma\n",
        " not/RB going/VBG much/RB |     beyond/NN->IN      | what/WP *T*-1/-NONE- alre\n",
        "ready/RB had/VBD been/VBN |   reported/VBD->VBN    | *-131/-NONE- in/IN the/DT\n",
        "VBD been/VBN reported/VBN |    *-131/NN->-NONE-    | in/IN the/DT morning/NN n\n",
        "                    ``/`` |     Markey/NN->NNP     | said/VBD 0/-NONE- we/PRP \n",
        "- we/PRP could/MD have/VB |      done/NN->VBN      | this/DT in/IN public/NN '\n",
        "VB done/VBN this/DT in/IN |     public/JJ->NN      | ''/'' because/IN so/RB li\n",
        "NN ''/'' because/IN so/RB |     little/JJ->RB      | sensitive/JJ information/\n",
        "ecause/IN so/RB little/RB |    sensitive/NN->JJ    | information/NN was/VBD di\n",
        "/NN was/VBD disclosed/VBN |    *-132/NN->-NONE-    | ,/, the/DT aide/NN said/V\n",
        "r./NNP Phelan/NNP then/RB |   responded/VBN->VBD   | that/IN he/PRP would/MD h\n",
        "would/MD have/VB been/VBN |      happy/NN->JJ      | *-1/-NONE- just/RB writin\n",
        "ppy/JJ *-1/-NONE- just/RB |    writing/NN->VBG     | a/DT report/NN to/TO the/\n",
        "T hearing/NN ,/, Rep./NNP |     Markey/NN->NNP     | asked/VBD Mr./NNP Phelan/\n",
        "*-1/-NONE- would/MD be/VB |   discussed/NN->VBN    | *-133/-NONE- at/IN a/DT N\n",
        "ld/MD be/VB discussed/VBN |    *-133/NN->-NONE-    | at/IN a/DT New/NNP York/N\n",
        "ikely/JJ *-1/-NONE- to/TO |      study/NN->VB      | the/DT program-trading/JJ\n",
        "      That/DT response/NN |    annoyed/NN->VBD     | Rep./NNP Markey/NNP ,/, H\n",
        "e/NN annoyed/VBD Rep./NNP |     Markey/NN->NNP     | ,/, House/NNP aides/NNS s\n",
        "ongressman/NN snapped/VBD |      back/NN->RP       | that/IN there/EX had/VBD \n",
        "an/NN snapped/VBD back/RP |      that/WDT->IN      | there/EX had/VBD been/VBN\n",
        "there/EX had/VBD been/VBN |     enough/RB->JJ      | studies/NNS of/IN the/DT \n",
        "                          |     Fifteen/NN->CD     | of/IN the/DT 26/CD subcom\n",
        "embers/NNS *ICH*-2/-NONE- |    attended/NN->VBD    | the/DT hearing/NN ,/, mos\n",
        "ably/RB Rep./NNP John/NNP |    Dingell/NN->NNP     | -LRB-/-LRB- D./NNP ,/, Mi\n",
        "NP chairman/NN ,/, who/WP |   *T*-216/NN->-NONE-   | has/VBZ been/VBN willing/\n",
        "lling/JJ *-1/-NONE- to/TO |       let/NN->VB       | Mr./NNP Markey/NNP carry/\n",
        "ONE- to/TO let/VB Mr./NNP |     Markey/NN->NNP     | carry/VB the/DT legislati\n",
        "let/VB Mr./NNP Markey/NNP |     carry/VBP->VB      | the/DT legislation/NN in/\n",
        "                  Mr./NNP |    Dingell/NN->NNP     | expressed/VBD concern/NN \n",
        "      Mr./NNP Dingell/NNP |   expressed/VBN->VBD   | concern/NN ,/, sources/NN\n",
        "ressed/VBD concern/NN ,/, |    sources/NN->NNS     | said/VBD 0/-NONE- *T*-2/-\n",
        "0/-NONE- *T*-2/-NONE- ,/, |      about/RB->IN      | jurisdictional/JJ problem\n",
        "*T*-2/-NONE- ,/, about/IN | jurisdictional/NN->JJ  | problems/NNS in/IN */-NON\n",
        "oblems/NNS in/IN */-NONE- |   regulating/NN->VBG   | program/NN trading/NN ,/,\n",
        "program/NN trading/NN ,/, |     which/IN->WDT      | *T*-217/-NONE- uses/VBZ f\n",
        " trading/NN ,/, which/WDT |   *T*-217/NN->-NONE-   | uses/VBZ futures/NNS *-1/\n",
        " which/WDT *T*-217/-NONE- |     uses/NNS->VBZ      | futures/NNS *-1/-NONE- to\n",
        "ures/NNS *-1/-NONE- to/TO |     offset/VBN->VB     | stock/NN trades/NNS ./.\n",
        "es/NNS industry/NN is/VBZ |   regulated/NN->VBN    | *-134/-NONE- by/IN the/DT\n",
        "y/NN is/VBZ regulated/VBN |    *-134/NN->-NONE-    | by/IN the/DT Commodity/NN\n",
        "y/IN the/DT Commodity/NNP |    Futures/NN->NNP     | Trading/NNP Commission/NN\n",
        "ng/NNP Commission/NNP ,/, |     which/IN->WDT      | *T*-218/-NONE- reports/VB\n",
        "mission/NNP ,/, which/WDT |   *T*-218/NN->-NONE-   | reports/VBZ to/TO the/DT \n",
        " which/WDT *T*-218/-NONE- |    reports/NNS->VBZ    | to/TO the/DT Agriculture/\n",
        " reports/VBZ to/TO the/DT |  Agriculture/NN->NNP   | committees/NNS in/IN both\n",
        "TO the/DT Agriculture/NNP |   committees/NN->NNS   | in/IN both/DT houses/NNS \n",
        " change-ringing/NN is/VBZ |    peculiar/NN->JJ     | to/TO the/DT English/NNS \n",
        " peculiar/JJ to/TO the/DT |    English/NNP->NNS    | ,/, and/CC ,/, like/IN mo\n",
        "d/CC ,/, like/IN most/JJS |    English/NNP->JJ     | peculiarities/NNS ,/, uni\n",
        "ke/IN most/JJS English/JJ | peculiarities/NN->NNS  | ,/, unintelligible/JJ to/\n",
        "/JJ peculiarities/NNS ,/, | unintelligible/NN->JJ  | to/TO the/DT rest/NN of/I\n",
        "                     --/: |    Dorothy/NN->NNP     | L./NNP Sayers/NNP ,/, ``/\n",
        "  --/: Dorothy/NNP L./NNP |     Sayers/NN->NNP     | ,/, ``/`` The/DT Nine/CD \n",
        "yers/NNP ,/, ``/`` The/DT |      Nine/NN->CD       | Tailors/NNP ''/''\n",
        " ,/, ``/`` The/DT Nine/CD |    Tailors/NN->NNP     | ''/''\n",
        "                          |    ASLACTON/NN->NNP    | ,/, England/NNP\n",
        "ll/DT scenes/NNS that/WDT |   *T*-219/NN->-NONE-   | evoke/VBP rural/JJ Englan\n",
        "S that/WDT *T*-219/-NONE- |     evoke/NN->VBP      | rural/JJ England/NNP ,/, \n",
        " *T*-219/-NONE- evoke/VBP |      rural/NN->JJ      | England/NNP ,/, this/DT i\n",
        "s/VBZ one/CD of/IN the/DT |   loveliest/NN->JJS    | *T*-2/-NONE- :/: An/DT an\n",
        "JS *T*-2/-NONE- :/: An/DT |     ancient/NN->JJ     | stone/NN church/NN stands\n",
        "ent/JJ stone/NN church/NN |    stands/NNS->VBZ     | amid/IN the/DT fields/NNS\n",
        ",/, the/DT sound/NN of/IN |     bells/NN->NNS      | cascading/VBG from/IN its\n",
        " sound/NN of/IN bells/NNS |   cascading/NN->VBG    | from/IN its/PRP$ tower/NN\n",
        "$ tower/NN ,/, *-1/-NONE- |    calling/NN->VBG     | the/DT faithful/NN to/TO \n",
        "                   The/DT |  parishioners/NN->NNS  | of/IN St./NNP Michael/NNP\n",
        "Michael/NNP and/CC All/DT |    Angels/NN->NNPS     | stop/VBP *-1/-NONE- to/TO\n",
        "and/CC All/DT Angels/NNPS |      stop/VB->VBP      | *-1/-NONE- to/TO chat/VB \n",
        "stop/VBP *-1/-NONE- to/TO |      chat/NN->VB       | at/IN the/DT church/NN do\n",
        "ers/NNS here/RB always/RB |      have/VB->VBP      | *?*/-NONE- ./.\n",
        " men/NNS and/CC women/NNS |      pull/VB->VBP      | rhythmically/RB on/IN rop\n",
        "and/CC women/NNS pull/VBP |  rhythmically/NN->RB   | on/IN ropes/NNS attached/\n",
        "VBP rhythmically/RB on/IN |     ropes/NN->NNS      | attached/VBN */-NONE- to/\n",
        "ically/RB on/IN ropes/NNS |   attached/VBD->VBN    | */-NONE- to/TO the/DT sam\n",
        "TO the/DT same/JJ five/CD |     bells/NN->NNS      | that/WDT *T*-220/-NONE- f\n",
        "ive/CD bells/NNS that/WDT |   *T*-220/NN->-NONE-   | first/RB sounded/VBD here\n",
        "T *T*-220/-NONE- first/RB |    sounded/NN->VBD     | here/RB in/IN 1614/CD ./.\n",
        "re/EX is/VBZ also/RB a/DT |   discordant/NN->JJ    | ,/, modern/JJ note/NN in/\n",
        "RB a/DT discordant/JJ ,/, |     modern/NN->JJ      | note/NN in/IN Aslacton/NN\n",
        "scordant/JJ ,/, modern/JJ |      note/VBP->NN      | in/IN Aslacton/NNP ,/, th\n",
        ", modern/JJ note/NN in/IN |    Aslacton/NN->NNP    | ,/, though/IN it/PRP ca/M\n",
        "NN in/IN Aslacton/NNP ,/, |     though/RB->IN      | it/PRP ca/MD n't/RB be/VB\n",
        "MD n't/RB be/VB heard/VBN |    *-135/NN->-NONE-    | by/IN the/DT church-goers\n",
        "*-135/-NONE- by/IN the/DT |  church-goers/NN->NNS  | enjoying/VBG the/DT peal/\n",
        "N the/DT church-goers/NNS |    enjoying/NN->VBG    | the/DT peal/NN of/IN bell\n",
        "/VBG the/DT peal/NN of/IN |     bells/NN->NNS      | this/DT cool/JJ autumn/NN\n",
        "N of/IN bells/NNS this/DT |      cool/NN->JJ       | autumn/NN evening/NN ./.\n",
        " the/DT other/JJ 6,000/CD |    churches/NN->NNS    | in/IN Britain/NNP with/IN\n",
        "NP with/IN sets/NNS of/IN |     bells/NN->NNS      | ,/, St./NNP Michael/NNP o\n",
        "``/`` band/NN ''/'' of/IN |    ringers/NN->NNS     | ,/, who/WP *T*-221/-NONE-\n",
        "IN ringers/NNS ,/, who/WP |   *T*-221/NN->-NONE-   | would/MD herald/VB every/\n",
        "P *T*-221/-NONE- would/MD |     herald/NN->VB      | every/DT Sunday/NNP morni\n",
        "uld/MD herald/VB every/DT |     Sunday/NN->NNP     | morning/NN and/CC evening\n",
        "ns/VBZ :/: 64-year-old/JJ |     Derek/NN->NNP      | Hammond/NNP ./.\n",
        " 64-year-old/JJ Derek/NNP |    Hammond/NN->NNP     | ./.\n",
        "hers/NNS here/RB today/NN |      live/NN->VBP      | elsewhere/RB ./.\n",
        "                 They/PRP |     belong/VB->VBP     | to/TO a/DT group/NN of/IN\n",
        "a/DT group/NN of/IN 15/CD |    ringers/NN->NNS     | --/: including/VBG two/CD\n",
        "IN 15/CD ringers/NNS --/: |   including/IN->VBG    | two/CD octogenarians/NNS \n",
        "--/: including/VBG two/CD | octogenarians/NN->NNS  | and/CC four/CD youngsters\n",
        "arians/NNS and/CC four/CD |   youngsters/NN->NNS   | in/IN training/NN --/: wh\n",
        "N training/NN --/: who/WP |   *T*-222/NN->-NONE-   | drive/VBP every/DT Sunday\n",
        "-NONE- drive/VBP every/DT |     Sunday/NN->NNP     | from/IN church/NN to/TO c\n",
        "o/TO church/NN in/IN a/DT | sometimes-exhausting/NN->JJ | effort/NN */-NONE- to/TO \n",
        "ONE- to/TO keep/VB the/DT |     bells/NN->NNS      | sounding/VBG in/IN the/DT\n",
        " keep/VB the/DT bells/NNS |    sounding/NN->VBG    | in/IN the/DT many/JJ belf\n",
        "/VBG in/IN the/DT many/JJ |    belfries/NN->NNS    | of/IN East/NNP Anglia/NNP\n",
        "any/JJ belfries/NNS of/IN |      East/JJ->NNP      | Anglia/NNP ./.\n",
        "lfries/NNS of/IN East/NNP |     Anglia/NN->NNP     | ./.\n",
        "   ``/`` *-1/-NONE- To/TO |      ring/NN->VB       | for/IN even/RB one/CD ser\n",
        "have/VBP *-1/-NONE- to/TO |     scrape/NN->VB      | ,/, ''/'' says/VBZ *T*-2/\n",
        "/VBZ *T*-2/-NONE- Mr./NNP |    Hammond/NN->NNP     | ,/, a/DT retired/VBN wate\n",
        "     ``/`` We/PRP 've/VBP |     tried/VBN->VBD     | *-1/-NONE- to/TO train/VB\n",
        "ried/VBD *-1/-NONE- to/TO |      train/NN->VB      | the/DT youngsters/NNS ,/,\n",
        "NE- to/TO train/VB the/DT |   youngsters/NN->NNS   | ,/, but/CC they/PRP have/\n",
        "y/PRP have/VBP their/PRP$ |     discos/NN->NNS     | and/CC their/PRP$ dances/\n",
        "cos/NNS and/CC their/PRP$ |     dances/NN->NNS     | ,/, and/CC they/PRP just/\n",
        ", and/CC they/PRP just/RB |     drift/NN->VBP      | away/RB ./. ''/''\n",
        "                  Mr./NNP |    Hammond/NN->NNP     | worries/VBZ that/IN old/J\n",
        "      Mr./NNP Hammond/NNP |    worries/NNS->VBZ    | that/IN old/JJ age/NN and\n",
        "P Hammond/NNP worries/VBZ |      that/WDT->IN      | old/JJ age/NN and/CC the/\n",
        "NN of/IN youth/NN will/MD |    diminish/NN->VB     | the/DT ranks/NNS of/IN th\n",
        "ill/MD diminish/VB the/DT |     ranks/NN->NNS      | of/IN the/DT East/JJ Angl\n",
        "/NNS of/IN the/DT East/JJ |     Anglian/NN->JJ     | group/NN that/WDT *T*-223\n",
        "lian/JJ group/NN that/WDT |   *T*-223/NN->-NONE-   | keeps/VBZ the/DT Aslacton\n",
        "3/-NONE- keeps/VBZ the/DT |    Aslacton/NN->NNP    | bells/NNS pealing/VBG ./.\n",
        "s/VBZ the/DT Aslacton/NNP |     bells/NN->NNS      | pealing/VBG ./.\n",
        "DT Aslacton/NNP bells/NNS |    pealing/NN->VBG     | ./.\n",
        " According/VBG to/TO a/DT |   nationwide/NN->JJ    | survey/NN taken/VBN */-NO\n",
        "land/NNP 's/POS church/NN |     bells/NN->NNS      | are/VBP no/RB longer/RBR \n",
        "urch/NN bells/NNS are/VBP |       no/DT->RB        | longer/RBR rung/VBN *-1/-\n",
        "N bells/NNS are/VBP no/RB |    longer/JJR->RBR     | rung/VBN *-1/-NONE- on/IN\n",
        " are/VBP no/RB longer/RBR |      rung/NN->VBN      | *-1/-NONE- on/IN Sundays/\n",
        "rung/VBN *-1/-NONE- on/IN |    Sundays/NN->NNS     | because/IN there/EX is/VB\n",
        "/IN there/EX is/VBZ no/DT |       one/NN->CD       | 0/-NONE- *T*-2/-NONE- to/\n",
        "-NONE- *T*-2/-NONE- to/TO |      ring/NN->VB       | them/PRP ./.\n",
        "/TO see/VB why/WRB the/DT |     ancient/NN->JJ     | art/NN is/VBZ on/IN the/D\n",
        " ancient/JJ art/NN is/VBZ |       on/RP->IN        | the/DT ropes/NNS *T*-2/-N\n",
        "rt/NN is/VBZ on/IN the/DT |     ropes/NN->NNS      | *T*-2/-NONE- ./.\n",
        "                   The/DT |     less/JJR->RBR      | complicated/JJ version/NN\n",
        "f/IN */-NONE- playing/VBG |     tunes/NN->NNS      | on/IN bells/NNS ,/, as/IN\n",
        "aying/VBG tunes/NNS on/IN |     bells/NN->NNS      | ,/, as/IN do/VB *?*/-NONE\n",
        "on/IN bells/NNS ,/, as/IN |       do/VBP->VB       | *?*/-NONE- the/DT carillo\n",
        "N do/VB *?*/-NONE- the/DT |   carillons/NN->NNS    | of/IN continental/JJ Euro\n",
        "he/DT carillons/NNS of/IN |   continental/NN->JJ   | Europe/NNP ,/, is/VBZ con\n",
        " by/IN the/DT English/NNP |    *-136/NN->-NONE-    | to/TO be/VB childish/JJ ,\n",
        " *-136/-NONE- to/TO be/VB |    childish/NN->JJ     | ,/, fit/JJ only/RB for/IN\n",
        "/TO be/VB childish/JJ ,/, |       fit/NN->JJ       | only/RB for/IN foreigners\n",
        ",/, fit/JJ only/RB for/IN |   foreigners/NN->NNS   | ./.\n",
        "hange-ringing/NN ,/, a/DT |  mind-boggling/NN->JJ  | exercise/NN 0/-NONE- the/\n",
        ",/, a/DT mind-boggling/JJ |    exercise/VB->NN     | 0/-NONE- the/DT English/N\n",
        "-NONE- the/DT English/NNP |    invented/NN->VBD    | *T*-1/-NONE- 380/CD years\n",
        "S ago/RB ,/, requires/VBZ |    physical/NN->JJ     | dexterity/NN --/: some/DT\n",
        "dexterity/NN --/: some/DT |     bells/NN->NNS      | weigh/VBP more/JJR than/I\n",
        "NN --/: some/DT bells/NNS |     weigh/NN->VBP      | more/JJR than/IN a/DT ton\n",
        "me/DT bells/NNS weigh/VBP |     more/RBR->JJR      | than/IN a/DT ton/NN --/: \n",
        "                          |     Proper/NN->JJ      | English/JJ bells/NNS are/\n",
        "                Proper/JJ |    English/NNP->JJ     | bells/NNS are/VBP started\n",
        "     Proper/JJ English/JJ |     bells/NN->NNS      | are/VBP started/VBN *-1/-\n",
        "lish/JJ bells/NNS are/VBP |    started/VBD->VBN    | *-1/-NONE- off/RP in/IN `\n",
        "-NONE- off/RP in/IN ``/`` |     rounds/NN->NNS     | ,/, ''/'' from/IN the/DT \n",
        " ,/, ''/'' from/IN the/DT | highest-pitched/NN->JJ | bell/NN to/TO the/DT lowe\n",
        "t/JJS --/: a/DT simple/JJ |   descending/NN->VBG   | scale/NN using/VBG ,/, in\n",
        "/VBG ,/, in/IN larger/JJR |    churches/NN->NNS    | ,/, as/RB many/JJ as/IN 1\n",
        "rger/JJR churches/NNS ,/, |       as/IN->RB        | many/JJ as/IN 12/CD bells\n",
        "as/RB many/JJ as/IN 12/CD |     bells/NN->NNS      | ./.\n",
        "a/DT signal/NN ,/, the/DT |    ringers/NN->NNS     | begin/VBP *-1/-NONE- vary\n",
        "NN ,/, the/DT ringers/NNS |     begin/VB->VBP      | *-1/-NONE- varying/VBG th\n",
        "VBG the/DT order/NN in/IN |     which/IN->WDT      | the/DT bells/NNS sound/VB\n",
        "NN in/IN which/WDT the/DT |     bells/NN->NNS      | sound/VBP *T*-2/-NONE- wi\n",
        "hich/WDT the/DT bells/NNS |     sound/NN->VBP      | *T*-2/-NONE- without/IN *\n",
        "NONE- without/IN */-NONE- |    altering/NN->VBG    | the/DT steady/JJ rhythm/N\n",
        "DT variation/NN ,/, or/CC |     change/VB->NN      | ,/, can/MD occur/VB only/\n",
        "e/RB ,/, the/DT rules/NNS |     state/NN->VBP      | 0/-NONE- *T*-1/-NONE- ./.\n",
        "                          |    Ringers/NN->NNS     | memorize/VBP patterns/NNS\n",
        "              Ringers/NNS |    memorize/NN->VBP    | patterns/NNS of/IN change\n",
        "/VBN */-NONE- as/IN ``/`` |    methods/NN->NNS     | ,/, ''/'' which/WDT *T*-2\n",
        "s/NNS ,/, ''/'' which/WDT |   *T*-224/NN->-NONE-   | have/VBP odd-sounding/JJ \n",
        "T *T*-224/-NONE- have/VBP |  odd-sounding/NN->JJ   | names/NNS like/IN Kent/NN\n",
        "ames/NNS like/IN Kent/NNP |     Treble/NN->NNP     | Bob/NNP Major/NNP or/CC G\n",
        "nt/NNP Treble/NNP Bob/NNP |     Major/NN->NNP      | or/CC Grandsire/NNP Cater\n",
        "P Bob/NNP Major/NNP or/CC |   Grandsire/NN->NNP    | Caters/NNP ./.\n",
        "r/NNP or/CC Grandsire/NNP |     Caters/NN->NNP     | ./.\n",
        "NN ''/'' and/CC takes/VBZ |      about/IN->RB      | three/CD hours/NNS ./.\n",
        "NN at/IN St./NNP Mary/NNP |     Abbot/NN->NNP      | church/NN in/IN the/DT Ke\n",
        "NP church/NN in/IN the/DT |   Kensington/NN->NNP   | district/NN of/IN London/\n",
        "                          |       Ten/NN->CD       | shirt-sleeved/JJ ringers/\n",
        "                   Ten/CD |  shirt-sleeved/NN->JJ  | ringers/NNS stand/VBP in/\n",
        "  Ten/CD shirt-sleeved/JJ |    ringers/NN->NNS     | stand/VBP in/IN a/DT circ\n",
        "rt-sleeved/JJ ringers/NNS |     stand/VB->VBP      | in/IN a/DT circle/NN ,/, \n",
        "POS stance/NN ,/, each/DT |    pulling/NN->VBG     | a/DT rope/NN that/WDT *T*\n",
        "VBG a/DT rope/NN that/WDT |   *T*-225/NN->-NONE-   | disappears/VBZ through/IN\n",
        "N that/WDT *T*-225/-NONE- |   disappears/NN->VBZ   | through/IN a/DT small/JJ \n",
        "                    No/DT |      one/NN->PRP       | speaks/VBZ ,/, and/CC the\n",
        "            No/DT one/PRP |     speaks/NN->VBZ     | ,/, and/CC the/DT snaking\n",
        "aks/VBZ ,/, and/CC the/DT |    snaking/NN->VBG     | of/IN the/DT ropes/NNS se\n",
        " snaking/VBG of/IN the/DT |     ropes/NN->NNS      | seems/VBZ *-1/-NONE- to/T\n",
        "NONE- to/TO make/VB as/IN |      much/RB->JJ       | sound/NN as/IN the/DT bel\n",
        "/JJ sound/NN as/IN the/DT |     bells/NN->NNS      | themselves/PRP *?*/-NONE-\n",
        "*?*/-NONE- ,/, *-2/-NONE- |    muffled/NN->VBN     | *-3/-NONE- by/IN the/DT c\n",
        "               *-1/-NONE- |     Totally/NN->RB     | absorbed/VBN ,/, the/DT r\n",
        "    *-1/-NONE- Totally/RB |    absorbed/NN->VBN    | ,/, the/DT ringers/NNS st\n",
        "B absorbed/VBN ,/, the/DT |    ringers/NN->NNS     | stare/VBP straight/RB ahe\n",
        "BN ,/, the/DT ringers/NNS |     stare/NN->VBP      | straight/RB ahead/RB ,/, \n",
        "/DT ringers/NNS stare/VBP |    straight/JJ->RB     | ahead/RB ,/, *-1/-NONE- u\n",
        "n/NN -LRB-/-LRB- they/PRP |      call/VB->VBP      | it/PRP ``/`` rope-sight/N\n",
        " watch/VB the/DT other/JJ |     ropes/NN->NNS      | and/CC thus/RB time/VB th\n",
        "other/JJ ropes/NNS and/CC |      thus/NN->RB       | time/VB their/PRP$ pulls/\n",
        " ropes/NNS and/CC thus/RB |      time/NN->VB       | their/PRP$ pulls/NNS ./.\n",
        "hus/RB time/VB their/PRP$ |     pulls/NN->NNS      | ./.\n",
        "                          |       Far/NN->RB       | above/RB in/IN the/DT bel\n",
        "                   Far/RB |      above/IN->RB      | in/IN the/DT belfry/NN ,/\n",
        " the/DT huge/JJ bronze/NN |     bells/NN->NNS      | ,/, mounted/VBN */-NONE- \n",
        "J bronze/NN bells/NNS ,/, |    mounted/VBD->VBN    | */-NONE- on/IN wheels/NNS\n",
        "ounted/VBN */-NONE- on/IN |     wheels/NN->NNS     | ,/, swing/VBP madly/RB th\n",
        "ONE- on/IN wheels/NNS ,/, |     swing/VB->VBP      | madly/RB through/IN a/DT \n",
        " wheels/NNS ,/, swing/VBP |      madly/NN->RB      | through/IN a/DT full/JJ 3\n",
        "ingly/RB ,/, in/IN the/DT |    inverted/NN->JJ     | ,/, or/CC mouth-up/JJ pos\n",
        "/DT inverted/JJ ,/, or/CC |    mouth-up/NN->JJ     | position/NN ./.\n",
        "                          |     Skilled/NN->JJ     | ringers/NNS use/VBP their\n",
        "               Skilled/JJ |    ringers/NN->NNS     | use/VBP their/PRP$ wrists\n",
        "   Skilled/JJ ringers/NNS |      use/VB->VBP       | their/PRP$ wrists/NNS *-1\n",
        "rs/NNS use/VBP their/PRP$ |     wrists/NN->NNS     | *-1/-NONE- to/TO advance/\n",
        "ists/NNS *-1/-NONE- to/TO |     advance/NN->VB     | or/CC retard/VB the/DT ne\n",
        "E- to/TO advance/VB or/CC |     retard/NN->VB      | the/DT next/JJ swing/NN ,\n",
        " retard/VB the/DT next/JJ |      swing/VB->NN      | ,/, so/RB that/IN one/CD \n",
        "e/DT next/JJ swing/NN ,/, |       so/IN->RB        | that/IN one/CD bell/NN ca\n",
        "ext/JJ swing/NN ,/, so/RB |      that/DT->IN       | one/CD bell/NN can/MD swa\n",
        "wing/NN ,/, so/RB that/IN |       one/NN->CD       | bell/NN can/MD swap/VB pl\n",
        "/IN one/CD bell/NN can/MD |      swap/NN->VB       | places/NNS with/IN anothe\n",
        "N another/DT in/IN the/DT |   following/VBG->JJ    | change/NN ./.\n",
        "in/IN the/DT following/JJ |     change/VB->NN      | ./.\n",
        "               In/IN a/DT |   well-known/NN->JJ    | detective-story/NN involv\n",
        "N involving/VBG church/NN |     bells/NN->NNS      | ,/, English/JJ novelist/N\n",
        "G church/NN bells/NNS ,/, |    English/NNP->JJ     | novelist/NN Dorothy/NNP L\n",
        "/, English/JJ novelist/NN |    Dorothy/NN->NNP     | L./NNP Sayers/NNP describ\n",
        "ist/NN Dorothy/NNP L./NNP |     Sayers/NN->NNP     | described/VBD ringing/VBG\n",
        "thy/NNP L./NNP Sayers/NNP |   described/VBN->VBD   | ringing/VBG as/IN a/DT ``\n",
        " Sayers/NNP described/VBD |    ringing/NN->VBG     | as/IN a/DT ``/`` passion/\n",
        "`` passion/NN -LCB-/-LRB- |      that/IN->DT       | -RCB-/-RRB- *T*-1/-NONE- \n",
        " -RCB-/-RRB- *T*-1/-NONE- |     finds/NN->VBZ      | its/PRP$ satisfaction/NN \n",
        "RP$ satisfaction/NN in/IN |  mathematical/NN->JJ   | completeness/NN and/CC me\n",
        "                          |    Ringers/NN->NNS     | ,/, she/PRP added/VBD 0/-\n",
        "/-NONE- ,/, are/VBP ``/`` |     filled/NN->VBN     | *-1/-NONE- with/IN the/DT\n",
        "*-1/-NONE- with/IN the/DT |     solemn/NN->JJ      | intoxication/NN that/WDT \n",
        " intoxication/NN that/WDT |   *T*-226/NN->-NONE-   | comes/VBZ of/IN intricate\n",
        "26/-NONE- comes/VBZ of/IN |    intricate/NN->JJ    | ritual/NN faultlessly/RB \n",
        "IN intricate/JJ ritual/NN |   faultlessly/NN->RB   | performed/VBN */-NONE- ./\n",
        "``/`` Ringing/NN does/VBZ |     become/VBN->VB     | a/DT bit/NN of/IN an/DT o\n",
        "' admits/VBZ *T*-1/-NONE- |   Stephanie/NN->NNP    | Pattenden/NNP ,/, master/\n",
        "T*-1/-NONE- Stephanie/NNP |   Pattenden/NN->NNP    | ,/, master/NN of/IN the/D\n",
        "NN at/IN St./NNP Mary/NNP |     Abbot/NN->NNP      | and/CC one/CD of/IN Engla\n",
        "gland/NNP 's/POS best/JJS |     female/JJ->NN      | ringers/NNS ./.\n",
        "'s/POS best/JJS female/NN |    ringers/NN->NNS     | ./.\n",
        " a/DT passion/NN that/WDT |   *T*-227/NN->-NONE-   | usually/RB stays/VBZ in/I\n",
        "*T*-227/-NONE- usually/RB |     stays/NN->VBZ      | in/IN the/DT tower/NN ,/,\n",
        "                          |     More/JJR->RBR      | often/RB than/IN not/RB ,\n",
        "ten/RB than/IN not/RB ,/, |    ringers/NN->NNS     | think/VBP of/IN the/DT ch\n",
        "rch/NN as/IN something/NN |     stuck/NN->VBD      | */-NONE- on/IN the/DT bot\n",
        "/PRP$ changes/NNS are/VBP |   completed/VBD->VBN   | *-137/-NONE- *T*-1/-NONE-\n",
        "NNS are/VBP completed/VBN |    *-137/NN->-NONE-    | *T*-1/-NONE- ,/, and/CC a\n",
        "fter/IN they/PRP have/VBP |    worked/VBD->VBN     | up/RP a/DT sweat/NN ,/, r\n",
        "N up/RP a/DT sweat/NN ,/, |    ringers/NN->NNS     | often/RB skip/VBP off/RP \n",
        " ,/, ringers/NNS often/RB |      skip/NN->VBP      | off/RP to/TO the/DT local\n",
        "ers/NNS often/RB skip/VBP |       off/RB->RP       | to/TO the/DT local/JJ pub\n",
        "ship/NN for/IN others/NNS |      below/IN->RB      | ./.\n",
        "  This/DT does/VBZ not/RB |       sit/NN->VB       | well/RB with/IN some/DT c\n",
        "B well/RB with/IN some/DT |    clerics/NN->NNS     | ./.\n",
        "embership/NN of/IN the/DT |     Church/NN->NNP     | of/IN England/NNP steadil\n",
        "rch/NNP of/IN England/NNP |    steadily/NN->RB     | dwindling/VBG ,/, strong-\n",
        "N England/NNP steadily/RB |   dwindling/NN->VBG    | ,/, strong-willed/JJ vica\n",
        "dily/RB dwindling/VBG ,/, |  strong-willed/NN->JJ  | vicars/NNS are/VBP pressi\n",
        "/VBG ,/, strong-willed/JJ |     vicars/NN->NNS     | are/VBP pressing/VBG equa\n",
        "led/JJ vicars/NNS are/VBP |    pressing/NN->VBG    | equally/RB strong-willed/\n",
        "P pressing/VBG equally/RB |  strong-willed/NN->JJ  | and/CC often/RB non-relig\n",
        "willed/JJ and/CC often/RB |  non-religious/NN->JJ  | ringers/NNS to/TO attend/\n",
        "often/RB non-religious/JJ |    ringers/NN->NNS     | to/TO attend/VB services/\n",
        "ious/JJ ringers/NNS to/TO |     attend/NN->VB      | services/NNS ./.\n",
        "                          |       Two/NN->CD       | years/NNS ago/RB ,/, the/\n",
        "ars/NNS ago/RB ,/, the/DT |      Rev./NN->NNP      | Jeremy/NNP Hummerstone/NN\n",
        "go/RB ,/, the/DT Rev./NNP |     Jeremy/NN->NNP     | Hummerstone/NNP ,/, vicar\n",
        "he/DT Rev./NNP Jeremy/NNP |  Hummerstone/NN->NNP   | ,/, vicar/NN of/IN Great/\n",
        "ne/NNP ,/, vicar/NN of/IN |     Great/JJ->NNP      | Torrington/NNP ,/, Devon/\n",
        " vicar/NN of/IN Great/NNP |   Torrington/NN->NNP   | ,/, Devon/NNP ,/, got/VBD\n",
        "at/NNP Torrington/NNP ,/, |     Devon/NN->NNP      | ,/, got/VBD so/RB fed/VBN\n",
        "von/NNP ,/, got/VBD so/RB |      fed/VBD->VBN      | up/RP with/IN ringers/NNS\n",
        "/RB fed/VBN up/RP with/IN |    ringers/NN->NNS     | who/WP *T*-228/-NONE- did\n",
        "ith/IN ringers/NNS who/WP |   *T*-228/NN->-NONE-   | did/VBD n't/RB attend/VB \n",
        "228/-NONE- did/VBD n't/RB |     attend/NN->VB      | service/NN 0/-NONE- he/PR\n",
        "ervice/NN 0/-NONE- he/PRP |     sacked/NN->VBD     | the/DT entire/JJ band/NN \n",
        "ire/JJ band/NN ;/: the/DT |    ringers/NN->NNS     | promptly/RB set/VBN up/RP\n",
        "NN ;/: the/DT ringers/NNS |    promptly/NN->RB     | set/VBN up/RP a/DT picket\n",
        "`` They/PRP were/VBD a/DT | self-perpetuating/NN->JJ | club/NN that/WDT *T*-229/\n",
        "ating/JJ club/NN that/WDT |   *T*-229/NN->-NONE-   | treated/VBD the/DT tower/\n",
        "N that/WDT *T*-229/-NONE- |    treated/VBN->VBD    | the/DT tower/NN as/IN sor\n",
        "mises/NN ,/, ''/'' the/DT |     Vicar/NN->NNP      | Hummerstone/NNP says/VBZ \n",
        "/, ''/'' the/DT Vicar/NNP |  Hummerstone/NN->NNP   | says/VBZ *T*-1/-NONE- ./.\n",
        "JJ band/NN *ICH*-2/-NONE- |     rings/NNS->VBZ     | today/NN at/IN Great/JJ T\n",
        "Z today/NN at/IN Great/JJ |   Torrington/NN->NNP   | ,/, several/JJ of/IN whom\n",
        "X still/RB are/VBP n't/RB |     enough/RB->JJ      | ringers/NNS 0/-NONE- *T*-\n",
        " are/VBP n't/RB enough/JJ |    ringers/NN->NNS     | 0/-NONE- *T*-1/-NONE- to/\n",
        "-NONE- *T*-1/-NONE- to/TO |      ring/NN->VB       | more/JJR than/IN six/CD o\n",
        "T*-1/-NONE- to/TO ring/VB |     more/RBR->JJR      | than/IN six/CD of/IN the/\n",
        "an/IN six/CD of/IN the/DT |      eight/NN->CD      | bells/NNS ./.\n",
        "/CD of/IN the/DT eight/CD |     bells/NN->NNS      | ./.\n",
        "N St./NNP Mary/NNP 's/POS |     Church/NN->NNP     | in/IN Ilminster/NNP ,/, S\n",
        "P 's/POS Church/NNP in/IN |   Ilminster/NN->NNP    | ,/, Somerset/NNP ,/, the/\n",
        "P in/IN Ilminster/NNP ,/, |    Somerset/NN->NNP    | ,/, the/DT bells/NNS have\n",
        ", Somerset/NNP ,/, the/DT |     bells/NN->NNS      | have/VBP fallen/VBN *-1/-\n",
        "      The/DT vicar/NN ,/, |      W.D./NN->NNP      | Jones/NNP ,/, refuses/VBZ\n",
        "/, W.D./NNP Jones/NNP ,/, |    refuses/NN->VBZ     | *-1/-NONE- to/TO talk/VB \n",
        "NE- it/PRP would/MD ``/`` |     reopen/NN->VB      | the/DT wound/NN ./. ''/''\n",
        "                   But/CC |     C.J.B./NN->NNP     | Marshall/NNP ,/, vicar/NN\n",
        "P ,/, vicar/NN of/IN a/DT |     nearby/NN->JJ      | church/NN ,/, feels/VBZ 0\n",
        "lt/NN is/VBZ in/IN the/DT |     stairs/NN->NNS     | from/IN the/DT bell/NN to\n",
        "NONE- are/VBP located/VBN |    *-138/NN->-NONE-    | next/JJ to/TO the/DT alta\n",
        " located/VBN *-138/-NONE- |      next/IN->JJ       | to/TO the/DT altar/NN ./.\n",
        " ,/, bang/NN --/: here/RB |     come/VBN->VBP      | *T*-4/-NONE- the/DT ringe\n",
        "e/VBP *T*-4/-NONE- the/DT |    ringers/NN->NNS     | from/IN above/RB ,/, *-1/\n",
        "he/DT ringers/NNS from/IN |      above/IN->RB      | ,/, *-1/-NONE- making/VBG\n",
        "- making/VBG a/DT very/RB |     obvious/NN->JJ     | exit/NN while/IN the/DT c\n",
        "                          |     Vicar/NN->NNP      | Marshall/NNP admits/VBZ t\n",
        "hall/NNP admits/VBZ to/TO |     mixed/VBD->VBN     | feelings/NNS about/IN thi\n",
        "dmits/VBZ to/TO mixed/VBN |    feelings/NN->NNS    | about/IN this/DT issue/NN\n",
        "/`` The/DT sound/NN of/IN |     bells/NN->NNS      | is/VBZ a/DT net/NN 0/-NON\n",
        "/IN bells/NNS is/VBZ a/DT |       net/JJ->NN       | 0/-NONE- *T*-1/-NONE- to/\n",
        "              ``/`` I/PRP |      live/NN->VBP      | in/IN hopes/NNS that/IN t\n",
        "`/`` I/PRP live/VBP in/IN |     hopes/VBZ->NNS     | that/IN the/DT ringers/NN\n",
        " hopes/NNS that/IN the/DT |    ringers/NN->NNS     | themselves/PRP will/MD be\n",
        "mselves/PRP will/MD be/VB |     drawn/NN->VBN      | *-139/-NONE- into/IN that\n",
        "P will/MD be/VB drawn/VBN |    *-139/NN->-NONE-    | into/IN that/DT fuller/JJ\n",
        "39/-NONE- into/IN that/DT |     fuller/NN->JJR     | life/NN ./. ''/''\n",
        "       The/DT Central/NNP |    Council/NN->NNP     | of/IN Church/NNP Bell/NNP\n",
        "ral/NNP Council/NNP of/IN |     Church/NN->NNP     | Bell/NNP Ringers/NNP ,/, \n",
        "ncil/NNP of/IN Church/NNP |      Bell/NN->NNP      | Ringers/NNP ,/, a/DT sort\n",
        "of/IN Church/NNP Bell/NNP |    Ringers/NN->NNP     | ,/, a/DT sort/NN of/IN pa\n",
        "ringing/NN groups/NNS ,/, |      aims/NN->VBZ      | *-1/-NONE- to/TO improve/\n",
        "/VB relations/NNS with/IN |     vicars/NN->NNS     | ,/, says/VBZ 0/-NONE- *T*\n",
        "-2/-NONE- John/NNP C./NNP |    Baldwin/NN->NNP     | ,/, president/NN ./.\n",
        "opes/VBZ *-1/-NONE- to/TO |      speak/NN->VB      | to/TO students/NNS at/IN \n",
        " to/TO students/NNS at/IN |   theological/NN->JJ   | colleges/NNS about/IN the\n",
        "/NNS at/IN theological/JJ |    colleges/NN->NNS    | about/IN the/DT joys/NNS \n",
        "leges/NNS about/IN the/DT |      joys/NN->NNS      | of/IN bell/NN ringing/NN \n",
        "and/CC will/MD shortly/RB |     publish/NN->VB     | a/DT booklet/NN for/IN ev\n",
        "N in/IN the/DT country/NN |    entitled/NN->VBD    | ,/, ``/`` The/DT Bells/NN\n",
        "tled/VBD ,/, ``/`` The/DT |     Bells/NN->NNP      | in/IN Your/PRP$ Care/NNP \n",
        "Bells/NNP in/IN Your/PRP$ |      Care/NN->NNP      | ./. ''/''\n",
        "BZ *ICH*-1/-NONE- Mr./NNP |    Baldwin/NN->NNP     | ,/, ``/`` We/PRP recogniz\n",
        "dwin/NNP ,/, ``/`` We/PRP |   recognize/VB->VBP    | that/IN we/PRP may/MD no/\n",
        "P may/MD no/RB longer/RBR |      have/VB->VBP      | as/RB high/JJ a/DT priori\n",
        "                  Mr./NNP |    Baldwin/NN->NNP     | is/VBZ also/RB attacking/\n",
        "aldwin/NNP is/VBZ also/RB |   attacking/NN->VBG    | the/DT greater/JJR proble\n",
        "blem/NN :/: lack/NN of/IN |    ringers/NN->NNS     | ./.\n",
        "DT 100,000/CD trained/VBN |  bellringers/NN->NNS   | in/IN England/NNP today/N\n",
        "D of/IN them/PRP still/RB |      ring/NN->VBP      | ./.\n",
        "              Also/RB ,/, |    ringers/NN->NNS     | do/VBP n't/RB always/RB l\n",
        "S do/VBP n't/RB always/RB |      live/NN->VB       | where/WRB the/DT bells/NN\n",
        " live/VB where/WRB the/DT |     bells/NN->NNS      | need/VBP *-1/-NONE- to/TO\n",
        "BP *-1/-NONE- to/TO be/VB |      rung/NN->VBN      | *-140/-NONE- *T*-2/-NONE-\n",
        "ONE- to/TO be/VB rung/VBN |    *-140/NN->-NONE-    | *T*-2/-NONE- --/: like/IN\n",
        "ike/IN in/IN small/JJ ,/, |      rural/NN->JJ      | parishes/NNS and/CC inner\n",
        "/IN small/JJ ,/, rural/JJ |    parishes/NN->NNS    | and/CC inner-city/NN chur\n",
        "/NNS and/CC inner-city/NN |    churches/NN->NNS    | ./.\n",
        "program/NN */-NONE- to/TO |     attract/NN->VB     | and/CC train/VB ringers/N\n",
        "- to/TO attract/VB and/CC |      train/NN->VB      | ringers/NNS is/VBZ only/R\n",
        "ttract/VB and/CC train/VB |    ringers/NN->NNS     | is/VBZ only/RB partly/RB \n",
        "ONE- *T*-1/-NONE- Mr./NNP |    Baldwin/NN->NNP     | ./.\n",
        "                    ``/`` |      Right/NN->RB      | now/RB ,/, we/PRP 're/VBP\n",
        "now/RB ,/, we/PRP 're/VBP |      lucky/NN->JJ      | if/IN after/IN five/CD ye\n",
        " five/CD years/NNS we/PRP |      keep/VB->VBP      | one/CD new/JJ ringer/NN o\n",
        " of/IN women/NNS have/VBP |    entered/VBD->VBN    | the/DT once/RB male-domin\n",
        "ntered/VBN the/DT once/RB | male-dominated/NN->JJ  | field/NN ;/: more/JJR tha\n",
        "dominated/JJ field/NN ;/: |     more/RBR->JJR      | than/IN a/DT third/JJ of/\n",
        "/DT third/JJ of/IN the/DT |    ringers/NN->NNS     | today/NN are/VBP women/NN\n",
        "B accepted/VBN *-1/-NONE- |   everywhere/NN->RB    | ,/, however/RB ./.\n",
        "        The/DT oldest/JJS |  bell-ringing/NN->JJ   | group/NN in/IN the/DT cou\n",
        "/DT country/NN ,/, the/DT |    Ancient/NN->NNP     | Society/NNP of/IN College\n",
        "ety/NNP of/IN College/NNP |     Youths/NN->NNP     | ,/, founded/VBN */-NONE- \n",
        "ollege/NNP Youths/NNP ,/, |    founded/NN->VBN     | */-NONE- in/IN 1637/CD ,/\n",
        "N 1637/CD ,/, remains/VBZ |    male-only/NN->JJ    | ,/, a/DT fact/NN that/WDT\n",
        ",/, a/DT fact/NN that/WDT |   *T*-230/NN->-NONE-   | 's/VBZ particularly/RB ga\n",
        "N that/WDT *T*-230/-NONE- |      's/POS->VBZ       | particularly/RB galling/J\n",
        "E- 's/VBZ particularly/RB |     galling/NN->JJ     | to/TO women/NNS because/I\n",
        "DT group/NN is/VBZ the/DT |      sole/NN->JJ       | source/NN of/IN ringers/N\n",
        "T sole/JJ source/NN of/IN |    ringers/NN->NNS     | for/IN Britain/NNP 's/POS\n",
        "for/IN Britain/NNP 's/POS |     most/RBS->JJS      | prestigious/JJ churches/N\n",
        "S most/JJS prestigious/JJ |    churches/NN->NNS    | ,/, St./NNP Paul/NNP 's/P\n",
        ", St./NNP Paul/NNP 's/POS |   Cathedral/NN->NNP    | and/CC Westminster/NNP Ab\n",
        "/POS Cathedral/NNP and/CC |  Westminster/NN->NNP   | Abbey/NNP ./.\n",
        "NP and/CC Westminster/NNP |     Abbey/NN->NNP      | ./.\n",
        "N of/IN the/DT problem/NN |   surfaced/VBN->VBD    | this/DT summer/NN in/IN a\n",
        "rs/NNS to/TO ``/`` The/DT |    Ringing/NN->NNP     | World/NNP ,/, ''/'' a/DT \n",
        " World/NNP ,/, ''/'' a/DT |     weekly/NN->JJ      | newspaper/NN for/IN ringe\n",
        "ly/JJ newspaper/NN for/IN |    ringers/NN->NNS     | ./.\n",
        "     One/CD writer/NN ,/, |    signing/NN->VBG     | his/PRP$ letter/NN as/IN \n",
        "RP$ letter/NN as/IN ``/`` |   Red-blooded/NN->JJ   | ,/, balanced/JJ male/NN ,\n",
        " ``/`` Red-blooded/JJ ,/, |    balanced/NN->JJ     | male/NN ,/, ''/'' remarke\n",
        "nced/JJ male/NN ,/, ''/'' |   remarked/VBD->VBN    | on/IN the/DT ``/`` freque\n",
        "quency/NN of/IN women/NNS |    fainting/NN->VBG    | in/IN peals/NNS ,/, ''/''\n",
        "en/NNS fainting/VBG in/IN |     peals/NN->NNS      | ,/, ''/'' and/CC suggeste\n",
        "BD that/IN they/PRP ``/`` |     settle/VBP->VB     | back/RB into/IN their/PRP\n",
        " they/PRP ``/`` settle/VB |      back/NN->RB       | into/IN their/PRP$ tradit\n",
        "N the/DT torrent/NN of/IN |    replies/VBZ->NNS    | that/IN *T*-1/-NONE- foll\n",
        "oman/NN ringer/NN from/IN |    Solihull/NN->NNP    | observed/VBN that/IN ``/`\n",
        "r/NN from/IN Solihull/NNP |    observed/NN->VBN    | that/IN ``/`` the/DT aver\n",
        "N ``/`` the/DT average/JJ |      male/NN->JJ       | ringer/NN leaves/VBZ quit\n",
        " *T*-2/-NONE- to/TO be/VB |    desired/NN->VBN     | *-141/-NONE- :/: *-3/-NON\n",
        "- to/TO be/VB desired/VBN |    *-141/NN->-NONE-    | :/: *-3/-NONE- badly/RB d\n",
        "- :/: *-3/-NONE- badly/RB |    dressed/NN->VBN     | ,/, decorated/VBN with/IN\n",
        " badly/RB dressed/VBN ,/, |   decorated/NN->VBN    | with/IN acne/NN and/CC a/\n",
        "elly/NN ,/, frequently/RB |    unwashed/NN->JJ     | and/CC unbearably/RB flat\n",
        "tly/RB unwashed/JJ and/CC |   unbearably/NN->RB    | flatulent/JJ in/IN peals/\n",
        "d/JJ and/CC unbearably/RB |    flatulent/NN->JJ    | in/IN peals/NNS ./. ''/''\n",
        "bly/RB flatulent/JJ in/IN |     peals/NN->NNS      | ./. ''/''\n",
        "men/NNS wrote/VBD from/IN |   Sheffield/NN->NNP    | *-1/-NONE- to/TO say/VB t\n",
        "RP$ 60/CD years/NNS of/IN |    ringing/NN->VBG     | ,/, ``/`` I/PRP have/VBP \n",
        " ,/, ``/`` I/PRP have/VBP |     never/RBR->RB      | known/VBN a/DT lady/NN to\n",
        "wn/VBN a/DT lady/NN to/TO |      faint/NN->VB      | in/IN the/DT belfry/NN ./\n",
        "n/NNS die/VB ,/, */-NONE- |      bless/NN->VB      | them/PRP ./.\n",
        "            Investors/NNS |   unsettled/NN->VBN    | */-NONE- by/IN the/DT sto\n",
        "T comfort/NN in/IN the/DT |   predictable/NN->JJ   | arrival/NN of/IN quarterl\n",
        "NS raising/VBG their/PRP$ |    payouts/NN->NNS     | more/JJR than/IN 10/CD %/\n",
        "BG their/PRP$ payouts/NNS |     more/RBR->JJR      | than/IN 10/CD %/NN ./.\n",
        "CC */-NONE- do/VBP n't/RB |     breathe/NN->VB     | too/RB easy/JJ :/: Those/\n",
        "d/NN increases/NNS may/MD |     signal/NN->VB      | trouble/NN ahead/RB for/I\n",
        " ,/, some/DT analysts/NNS |      warn/NN->VBP      | 0/-NONE- *T*-1/-NONE- ./.\n",
        "             In/IN the/DT |      past/JJ->NN       | ,/, they/PRP say/VBP 0/-N\n",
        "- *T*-1/-NONE- ,/, the/DT |   strongest/NN->JJS    | dividend/NN growth/NN has\n",
        "arty/NN was/VBD almost/RB |      over/IN->JJ       | *T*-2/-NONE- ./.\n",
        "                  That/DT |       can/NN->MD       | be/VB a/DT trap/NN for/IN\n",
        "be/VB a/DT trap/NN for/IN |     unwary/NN->JJ      | investors/NNS ,/, says/VB\n",
        " *T*-1/-NONE- Richard/NNP |   Bernstein/NN->NNP    | ,/, senior/JJ quantitativ\n",
        "rnstein/NNP ,/, senior/JJ |  quantitative/NN->JJ   | analyst/NN at/IN Merrill/\n",
        "ative/JJ analyst/NN at/IN |    Merrill/NN->NNP     | Lynch/NNP &/CC Co/NNP ./.\n",
        "lyst/NN at/IN Merrill/NNP |     Lynch/NN->NNP      | &/CC Co/NNP ./.\n",
        "                          |     Strong/NN->JJ      | dividend/NN growth/NN ,/,\n",
        "- ,/, is/VBZ ``/`` the/DT |      black/NN->JJ      | widow/NN of/IN valuation/\n",
        "NN to/TO the/DT female/JJ |    spiders/NN->NNS     | that/WDT *T*-231/-NONE- a\n",
        "e/JJ spiders/NNS that/WDT |   *T*-231/NN->-NONE-   | attract/VBP males/NNS and\n",
        "S that/WDT *T*-231/-NONE- |    attract/NN->VBP     | males/NNS and/CC then/RB \n",
        "T*-231/-NONE- attract/VBP |     males/NN->NNS      | and/CC then/RB kill/VBP t\n",
        " males/NNS and/CC then/RB |      kill/NN->VBP      | them/PRP after/IN mating/\n",
        "ill/VBP them/PRP after/IN |     mating/NN->VBG     | ./.\n",
        "              Stephen/NNP |     Boesel/NN->NNP     | ,/, president/NN of/IN T.\n",
        "T./NNP Rowe/NNP Price/NNP |     Growth/NN->NNP     | and/CC Income/NNP Fund/NN\n",
        "ice/NNP Growth/NNP and/CC |     Income/NN->NNP     | Fund/NNP ,/, explains/VBZ\n",
        "VBZ that/IN companies/NNS |     raise/VB->VBP      | their/PRP$ payouts/NNS mo\n",
        "/NNS raise/VBP their/PRP$ |    payouts/NN->NNS     | most/RBS robustly/RB only\n",
        "BP their/PRP$ payouts/NNS |     most/JJS->RBS      | robustly/RB only/RB after\n",
        "PRP$ payouts/NNS most/RBS |    robustly/NN->RB     | only/RB after/IN the/DT e\n",
        "                    ``/`` |   Invariably/NN->RB    | ,/, those/DT strong/JJ pe\n",
        "S in/IN the/DT economy/NN |      give/VB->VBP      | way/NN to/TO recessionary\n",
        "/NN give/VBP way/NN to/TO |  recessionary/NN->JJ   | environments/NNS ,/, ''/'\n",
        "/NN to/TO recessionary/JJ |  environments/NN->NNS  | ,/, ''/'' he/PRP says/VBZ\n",
        "             ``/`` And/CC |  recessionary/NN->JJ   | environments/NNS are/VBP \n",
        "`` And/CC recessionary/JJ |  environments/NN->NNS  | are/VBP n't/RB hospitable\n",
        "nments/NNS are/VBP n't/RB |   hospitable/NN->JJ    | to/TO the/DT stock/NN mar\n",
        "lysts/NNS say/VBP that/IN |    payouts/NN->NNS     | have/VBP sometimes/RB ris\n",
        "NNS have/VBP sometimes/RB |     risen/NN->VBN      | most/RBS sharply/RB when/\n",
        "BP sometimes/RB risen/VBN |     most/JJS->RBS      | sharply/RB when/WRB price\n",
        "B on/IN their/PRP$ way/NN |      down/RP->IN       | from/IN cyclical/JJ peaks\n",
        "P$ way/NN down/IN from/IN |    cyclical/NN->JJ     | peaks/NNS *T*-1/-NONE- ./\n",
        "wn/IN from/IN cyclical/JJ |     peaks/NN->NNS      | *T*-1/-NONE- ./.\n",
        "/NNP &/CC Poor/NNP 's/POS |    500-stock/NN->JJ    | index/NN soared/VBD 10/CD\n",
        "POS 500-stock/JJ index/NN |    soared/VBN->VBD     | 10/CD %/NN ,/, following/\n",
        " growth/NN the/DT year/NN |     before/RB->IN      | ./.\n",
        "NN started/VBD *-1/-NONE- |    sliding/NN->VBG     | in/IN price/NN in/IN Sept\n",
        "on/NN in/IN dividends/NNS |      that/WDT->DT      | year/NN ./.\n",
        "kes/VBZ some/DT market/NN |    watchers/NN->NNS    | anxious/JJ ./.\n",
        "                          |    Payouts/NN->NNS     | on/IN the/DT S&P/NNP 500/\n",
        "nd/CC Wall/NNP Street/NNP |   estimates/VBZ->NNS   | for/IN 1989/CD growth/NN \n",
        "/IN dividends/NNS will/MD |      slow/JJ->VB       | next/JJ year/NN ,/, altho\n",
        "hough/IN a/DT minority/NN |      see/VB->VBP       | double-digit/JJ gains/NNS\n",
        " a/DT minority/NN see/VBP |  double-digit/NN->JJ   | gains/NNS continuing/VBG \n",
        "/RB ,/, many/JJ market/NN |    watchers/NN->NNS    | say/VBP 0/-NONE- recent/J\n",
        "NE- recent/JJ dividend/NN |     trends/NN->NNS     | raise/VBP another/DT warn\n",
        "JJ dividend/NN trends/NNS |     raise/VB->VBP      | another/DT warning/NN fla\n",
        "IN dividends/NNS have/VBP |     risen/NN->VBN      | smartly/RB ,/, their/PRP$\n",
        "ds/NNS have/VBP risen/VBN |     smartly/NN->RB     | ,/, their/PRP$ expansion/\n",
        "pansion/NN has/VBZ n't/RB |     kept/VBN->VBD      | pace/NN with/IN even/JJ s\n",
        " kept/VBD pace/NN with/IN |      even/RB->JJ       | stronger/JJR advances/NNS\n",
        "h/IN even/JJ stronger/JJR |    advances/NN->NNS    | in/IN stock/NN prices/NNS\n",
        "ge/NN of/IN price/NN --/: |      has/VBZ->VBP      | slid/VBD to/TO a/DT level\n",
        "TO a/DT level/NN that/WDT |   *T*-232/NN->-NONE-   | is/VBZ fairly/RB low/JJ a\n",
        "Z fairly/RB low/JJ and/CC |   unenticing/NN->JJ    | by/IN historical/JJ stand\n",
        "                 */-NONE- |      Put/NN->VBN       | *-1/-NONE- another/DT way\n",
        "RB rich/JJ in/IN price/NN |    relative/NN->JJ     | to/TO the/DT dividends/NN\n",
        " are/VBP keeping/VBG a/DT |      close/VB->JJ      | watch/NN on/IN the/DT yie\n",
        " about/RB 3.3/CD %/NN ,/, |       up/RB->IN        | from/IN 3.2/CD %/NN befor\n",
        "- investors/NNS should/MD |      run/VBN->VB       | for/IN the/DT exits/NNS i\n",
        "d/MD run/VB for/IN the/DT |     exits/NN->NNS      | if/IN a/DT sustained/VBN \n",
        "e/DT exits/NNS if/IN a/DT |   sustained/NN->VBN    | market/NN rebound/NN push\n",
        "/VBN market/NN rebound/NN |     pushes/NN->VBZ     | the/DT yield/NN below/IN \n",
        "ONE- *T*-1/-NONE- Mr./NNP |     Boesel/NN->NNP     | of/IN T./NNP Rowe/NNP Pri\n",
        "rket/NN has/VBZ always/RB |     tanked/NN->VBN     | ./.\n",
        "                          |     Always/NN->RB      | ./.\n",
        "- *T*-1/-NONE- Gerald/NNP |       W./NN->NNP       | Perritt/NNP ,/, a/DT Chic\n",
        "/-NONE- Gerald/NNP W./NNP |    Perritt/NN->NNP     | ,/, a/DT Chicago/NNP inve\n",
        "NNS of/IN stock-market/NN |      data/NNS->NN      | ./.\n",
        "                          |  Stockholders/NN->NNS  | who/WP *T*-233/-NONE- too\n",
        "  Stockholders/NNS who/WP |   *T*-233/NN->-NONE-   | took/VBD the/DT hint/NN a\n",
        "nd/CC sold/VBD shares/NNS |    escaped/NN->VBD     | the/DT October/NNP debacl\n",
        "D other/JJ times/NNS --/: |       in/IN->NN        | 1929/CD ,/, 1933/CD ,/, 1\n",
        " *T*-1/-NONE- ,/, Mr./NNP |    Perritt/NN->NNP     | found/VBD 0/-NONE- *T*-2/\n",
        "NE- *T*-1/-NONE- ,/, a/DT |      sharp/NN->JJ      | drop/NN in/IN stock/NN pr\n",
        " reading/NN is/VBZ n't/RB |       as/IN->RB        | troublesome/JJ as/IN it/P\n",
        "ng/NN is/VBZ n't/RB as/RB |   troublesome/NN->JJ   | as/IN it/PRP might/MD hav\n",
        "?*/-NONE- in/IN years/NNS |      past/JJ->NN       | ./.\n",
        "ations/NNS are/VBP not/RB |    behaving/NN->VBG    | in/IN a/DT traditional/JJ\n",
        "1/-NONE- James/NNP H./NNP |     Coxon/NN->NNP      | ,/, head/NN of/IN stock/N\n",
        "/NNP H./NNP Coxon/NNP ,/, |      head/JJ->NN       | of/IN stock/NN investment\n",
        "NN investments/NNS for/IN |     Cigna/NN->NNP      | Corp./NNP ,/, the/DT Phil\n",
        "/NNP Corp./NNP ,/, the/DT | Philadelphia-based/NN->JJ | insurer/NN ./.\n",
        "particular/JJ ,/, Mr./NNP |     Coxon/NN->NNP      | says/VBZ 0/-NONE- *T*-1/-\n",
        "tock/NN prices/NNS may/MD |      look/NN->VB       | fairly/RB high/JJ relativ\n",
        "look/VB fairly/RB high/JJ |    relative/NN->JJ     | to/TO dividends/NNS ,/, t\n",
        "e/VBP not/RB excessive/JJ |    relative/NN->JJ     | to/TO the/DT underlying/J\n",
        " relative/JJ to/TO the/DT |   underlying/VBG->JJ   | corporate/JJ strength/NN \n",
        "N *-1/-NONE- to/TO buy/VB |      back/NN->RP       | some/DT of/IN their/PRP$ \n",
        "their/PRP$ shares/NNS ,/, |     notes/NNS->VBZ     | 0/-NONE- *T*-2/-NONE- Ste\n",
        "/-NONE- Steven/NNP G./NNP |    Einhorn/NN->NNP     | ,/, co-chairman/NN of/IN \n",
        "                   He/PRP |    factors/NNS->VBZ    | that/DT into/IN the/DT ma\n",
        "       He/PRP factors/VBZ |      that/IN->DT       | into/IN the/DT market/NN \n",
        "justed/VBN yield/NN of/IN |      about/IN->RB      | 3.6/CD %/NN ./.\n",
        "DT tad/NN below/IN the/DT |     average/JJ->NN     | of/IN the/DT past/JJ 40/C\n",
        "                  What/WP |   *T*-234/NN->-NONE-   | will/MD happen/VB to/TO d\n",
        "/TO dividend/NN growth/NN |      next/IN->JJ       | year/NN ?/.\n",
        "                          |     Common/NNP->JJ     | wisdom/NN suggests/VBZ a/\n",
        "sdom/NN suggests/VBZ a/DT |  single-digit/NN->JJ   | rate/NN of/IN growth/NN ,\n",
        "                          |  PaineWebber/NN->NNP   | Inc./NNP ,/, for/IN insta\n",
        "IN instance/NN ,/, is/VBZ |  forecasting/NN->VBG   | growth/NN in/IN S&P/NNP 5\n",
        "CD %/NN in/IN 1990/CD ,/, |      down/RB->IN       | from/IN an/DT estimated/V\n",
        "N moderate/JJ economic/JJ |   slowdowns/NN->NNS    | --/: the/JJ environment/N\n",
        "mic/JJ slowdowns/NNS --/: |       the/DT->JJ       | environment/NN 0/-NONE- t\n",
        "1990/CD *T*-2/-NONE- --/: |       the/DT->JJ       | change/NN in/IN dividends\n",
        "N ,/, according/VBG to/TO |  PaineWebber/NN->NNP   | analyst/NN Thomas/NNP Doe\n",
        "NNP analyst/NN Thomas/NNP |  Doerflinger/NN->NNP   | ./.\n",
        "e/VBP the/DT financial/JJ |   wherewithal/NN->JJ   | *ICH*-2/-NONE- this/DT ti\n",
        "-2/-NONE- this/DT time/NN |     around/RB->RP      | 0/-NONE- */-NONE- to/TO d\n",
        "P 0/-NONE- */-NONE- to/TO |     declare/NN->VB     | sharply/RB higher/JJR div\n",
        "N their/PRP$ earnings/NNS |     weaken/NN->VBP     | ./.\n",
        " %/NN is/VBZ expected/VBN |    *-142/NN->-NONE-    | by/IN both/DT Mr./NNP Cox\n",
        "NE- by/IN both/DT Mr./NNP |     Coxon/NN->NNP      | of/IN Cigna/NNP and/CC Mr\n",
        "T Mr./NNP Coxon/NNP of/IN |     Cigna/NN->NNP      | and/CC Mr./NNP Einhorn/NN\n",
        " Cigna/NNP and/CC Mr./NNP |    Einhorn/NN->NNP     | of/IN Goldman/NNP Sachs/N\n",
        "     Those/DT dividend/NN |     bulls/NN->NNS      | argue/VBP that/IN corpora\n",
        "/IN *-2/-NONE- having/VBG |     plenty/JJ->NN      | of/IN cash/NN left/VBD ov\n",
        "G plenty/NN of/IN cash/NN |     left/VBN->VBD      | over/RP */-NONE- after/IN\n",
        "NN of/IN cash/NN left/VBD |      over/IN->RP       | */-NONE- after/IN *-1/-NO\n",
        "/CC making/VBG capital/NN |  expenditures/NN->NNS  | ./.\n",
        "NNS in/IN October/NNP ,/, |    basically/NN->RB    | unchanged/JJ from/IN 138/\n",
        "aight/JJ months/NNS in/IN |     which/IN->WDT      | the/DT number/NN of/IN in\n",
        "er/NN of/IN increases/NNS |    trailed/NN->VBD     | the/DT year-earlier/JJ pa\n",
        " tally/NN does/VBZ n't/RB |     measure/NN->VB     | the/DT magnitude/NN of/IN\n",
        "/NN *ICH*-2/-NONE- is/VBZ |     mixed/VBD->VBN     | on/IN how/WRB much/JJ of/\n",
        "th/NN continues/VBZ at/IN |  double-digit/NN->JJ   | levels/NNS ./.\n",
        "                  Mr./NNP |    Einhorn/NN->NNP     | of/IN Goldman/NNP Sachs/N\n",
        "tock/NN market/NN will/MD |     deliver/NN->VB     | a/DT 12/CD %/NN to/TO 15/\n",
        "/JJ 12/CD months/NNS --/: |       vs./NN->IN       | a/DT ``/`` cash/NN rate/N\n",
        "s/RB 7/CD %/NN or/CC 8/CD |        %/NN->JJ        | *U*/-NONE- if/IN dividend\n",
        "           But/CC Mr./NNP |     Boesel/NN->NNP     | of/IN T./NNP Rowe/NNP Pri\n",
        "/NNP Price/NNP ,/, who/WP |   *T*-235/NN->-NONE-   | also/RB expects/VBZ 12/CD\n",
        "th/NN in/IN dividends/NNS |      next/JJ->IN       | year/NN ,/, does/VBZ n't/\n",
        "erall/JJ market/NN all/DT |      that/WDT->DT      | much/JJ ./.\n",
        " market/NN all/DT that/DT |      much/RB->JJ       | ./.\n",
        "           ``/`` */-NONE- |     Having/NN->VBG     | the/DT dividend/NN increa\n",
        "increases/NNS is/VBZ a/DT |   supportive/NN->JJ    | element/NN in/IN the/DT m\n",
        "JJ earnings/NNS likely/JJ |      next/JJ->IN       | year/NN ,/, ``/`` I/PRP w\n",
        "/`` I/PRP would/MD n't/RB |      look/NN->VB       | for/IN the/DT market/NN t\n",
        "/NN to/TO have/VB much/JJ |     upside/NN->RB      | from/IN current/JJ levels\n",
        " Your/PRP$ Oct./NNP 13/CD |    page-one/NN->JJ     | story/NN on/IN the/DT ren\n",
        "/JJ story/NN on/IN the/DT |    renewed/VBD->VBN    | plight/NN of/IN Western/N\n",
        "newed/VBN plight/NN of/IN |    Western/JJ->NNP     | Union/NNP says/VBZ that/I\n",
        "nion/NNP says/VBZ that/IN |    Western/JJ->NNP     | Union/NNP had/VBD lost/VB\n",
        "NONE- turning/VBG down/RP |   Alexander/NN->NNP    | Graham/NNP Bell/NNP 's/PO\n",
        "VBG down/RP Alexander/NNP |     Graham/NN->NNP     | Bell/NNP 's/POS offer/NN \n",
        " Alexander/NNP Graham/NNP |      Bell/NN->NNP      | 's/POS offer/NN to/TO it/\n",
        "/NN ,/, because/IN it/PRP |   supposedly/NN->RB    | felt/VBD that/IN voice/NN\n",
        "tion/NN would/MD never/RB |     replace/NN->VB     | the/DT telegraph/NN ./.\n",
        "ever/RB replace/VB the/DT |   telegraph/VBP->NN    | ./.\n",
        "                          |      Bell/NN->NNP      | 's/POS father-in-law/NN ,\n",
        "/POS father-in-law/NN ,/, |    Gardner/NN->NNP     | G./NNP Hubbard/NNP ,/, we\n",
        "NN ,/, Gardner/NNP G./NNP |    Hubbard/NN->NNP     | ,/, wealthy/JJ and/CC wel\n",
        "NP G./NNP Hubbard/NNP ,/, |     wealthy/NN->JJ     | and/CC well-connected/JJ \n",
        "NNP ,/, wealthy/JJ and/CC | well-connected/NN->JJ  | ,/, obtained/VBD financin\n",
        "/CC well-connected/JJ ,/, |   obtained/VBN->VBD    | financing/NN 0/-NONE- *T*\n",
        "NE- to/TO start/VB the/DT |    American/JJ->NNP    | Bell/NNP Telephone/NNP Co\n",
        "rt/VB the/DT American/NNP |      Bell/NN->NNP      | Telephone/NNP Co./NNP in/\n",
        "NN in/IN New/NNP York/NNP |    called/VBD->VBN     | */-NONE- the/DT Telephone\n",
        " This/DT is/VBZ where/WRB |      Bell/NN->NNP      | 's/POS patents/NNS went/V\n",
        "                          |    Western/JJ->NNP     | Union/NNP indeed/RB wante\n",
        "CC then/RB immediately/RB |      sued/NN->VBD      | the/DT Bell/NNP Co./NNP *\n",
        "iately/RB sued/VBD the/DT |      Bell/NN->NNP      | Co./NNP *-1/-NONE- claimi\n",
        "t/IN the/DT microphone/NN |    invented/NN->VBN    | */-NONE- by/IN my/PRP$ gr\n",
        "y/PRP$ grandfather/NN ,/, |     Emile/NN->NNP      | Berliner/NNP ,/, which/WD\n",
        "ndfather/NN ,/, Emile/NNP |    Berliner/NN->NNP    | ,/, which/WDT *T*-2/-NONE\n",
        "had/VBD been/VBN sold/VBN |    *-144/NN->-NONE-    | to/TO Bell/NNP for/IN a/D\n",
        "ld/VBN *-144/-NONE- to/TO |      Bell/NN->NNP      | for/IN a/DT princely/JJ $\n",
        "o/TO Bell/NNP for/IN a/DT |    princely/NN->JJ     | $/$ 50,000/CD *U*/-NONE- \n",
        " 50,000/CD *U*/-NONE- ,/, |   infringed/NN->VBN    | upon/IN Western/NNP Union\n",
        ",/, infringed/VBN upon/IN |    Western/JJ->NNP     | Union/NNP 's/POS Edison/N\n",
        "                 When/WRB |      Bell/NN->NNP      | established/VBD that/IN t\n",
        "        When/WRB Bell/NNP |  established/NN->VBD   | that/IN the/DT Berliner/N\n",
        "lished/VBD that/IN the/DT |    Berliner/NN->NNP    | patent/NN caveat/NN was/V\n",
        "NN was/VBD registered/VBN |    *-145/NN->-NONE-    | 10/CD days/NNS before/IN \n",
        "ation/NN *T*-1/-NONE- ,/, |    Western/JJ->NNP     | Union/NNP dropped/VBD the\n",
        "*-2/-NONE- never/RB to/TO |      enter/NN->VB      | the/DT telephone/NN busin\n",
        "               Oliver/NNP |    Berliner/NN->NNP    | Beverly/NNP Hills/NNP ,/,\n",
        "  Oliver/NNP Berliner/NNP |    Beverly/NN->NNP     | Hills/NNP ,/, Calif/NNP .\n",
        "                          |    Troubled/NN->NNP    | NBI/NNP Inc./NNP said/VBD\n",
        "             Troubled/NNP |      NBI/NN->NNP       | Inc./NNP said/VBD 0/-NONE\n",
        "ired/VBD more/JJR than/IN |      half/DT->PDT      | its/PRP$ work/NN force/NN\n",
        "NN force/NN and/CC is/VBZ | discontinuing/NN->VBG  | its/PRP$ hardware/NN busi\n",
        "iness/NN *-1/-NONE- to/TO |      focus/NN->VB      | on/IN its/PRP$ software/N\n",
        " company/NN ,/, which/WDT |   *T*-236/NN->-NONE-   | has/VBZ reported/VBN net/\n",
        "r/IN 16/CD consecutive/JJ |    quarters/NN->NNS    | ,/, said/VBD 0/-NONE- it/\n",
        "N computer/NN systems/NNS |       any/DT->RB       | more/JJR and/CC will/MD g\n",
        "ter/NN systems/NNS any/RB |     more/RBR->JJR      | and/CC will/MD greatly/RB\n",
        "                          |   Altogether/NN->RB    | ,/, NBI/NNP said/VBD 0/-N\n",
        "        Altogether/RB ,/, |      NBI/NN->NNP       | said/VBD 0/-NONE- it/PRP \n",
        "D jobs/NNS at/IN its/PRP$ |    Boulder/NN->NNP     | headquarters/NN ,/, 176/C\n",
        "dian/JJ and/CC United/NNP |    Kingdom/NN->NNP     | headquarters/NN ./.\n",
        " work/NN force/NN will/MD |      fall/NN->VB       | to/TO about/IN 400/CD peo\n",
        "/NN will/MD fall/VB to/TO |      about/RB->IN      | 400/CD people/NNS ./.\n",
        "       Stephen/NNP G./NNP |    Jerritts/NN->NNP    | ,/, president/NN and/CC c\n",
        "lling/JJ *-1/-NONE- to/TO |     commit/NN->VB      | to/TO an/DT expensive/JJ \n",
        " to/TO an/DT expensive/JJ |      NBI/NN->NNP       | hardware/NN systems/NNS b\n",
        "                          |     Further/NN->RB     | ,/, he/PRP said/VBD 0/-NO\n",
        "have/VB the/DT capital/NN |    needed/VBD->VBN     | */-NONE- */-NONE- to/TO b\n",
        "             ``/`` We/PRP |      flat/JJ->RB       | ran/VBD out/IN of/IN fina\n",
        "`` We/PRP flat/RB ran/VBD |       out/RP->IN       | of/IN financing/NN resour\n",
        "ces/NNS ,/, ''/'' Mr./NNP |    Jerritts/NN->NNP    | said/VBD *T*-1/-NONE- ./.\n",
        " to/TO do/VB something/NN |  structurally/NN->RB   | and/CC radically/RB diffe\n",
        "NN structurally/RB and/CC |    radically/NN->RB    | different/JJ ./. ''/''\n",
        " he/PRP said/VBD 0/-NONE- |      NBI/NN->NNP       | will/MD focus/VB on/IN */\n",
        " 0/-NONE- NBI/NNP will/MD |      focus/NN->VB      | on/IN */-NONE- servicing/\n",
        "D focus/VB on/IN */-NONE- |   servicing/NN->VBG    | its/PRP$ installed/VBN ba\n",
        "s/NNS called/VBN */-NONE- |     Legend/NN->NNP     | ./.\n",
        " company/NN ,/, which/WDT |   *T*-237/NN->-NONE-   | recently/RB said/VBD 0/-N\n",
        " said/VBD 0/-NONE- it/PRP |     lacked/NN->VBD     | the/DT profits/NNS and/CC\n",
        "idends/NNS on/IN its/PRP$ |     Series/NN->NNP     | A/NNP convertible/JJ pref\n",
        "on/IN its/PRP$ Series/NNP |       A/DT->NNP        | convertible/JJ preferred/\n",
        "D 0/-NONE- it/PRP has/VBZ |     hired/NN->VBN      | an/DT investment/NN banke\n",
        "ading/NN yesterday/NN ,/, |      NBI/NN->NNP       | common/NN closed/VBD at/I\n",
        " yesterday/NN ,/, NBI/NNP |     common/JJ->NN      | closed/VBD at/IN 93/CD ce\n",
        "nts/NNS a/DT share/NN ,/, |       up/RB->IN        | 31/CD cents/NNS ./.\n",
        "t/PRP was/VBD Richard/NNP |     Nixon/NN->NNP      | 's/POS first/JJ visit/NN \n",
        "NP in/IN 1972/CD that/WDT |   *T*-238/NN->-NONE-   | set/VBD in/IN motion/NN t\n",
        "D that/WDT *T*-238/-NONE- |      set/VBN->VBD      | in/IN motion/NN the/DT hi\n",
        "BD in/IN motion/NN the/DT |    historic/NN->JJ     | rapprochement/NN between/\n",
        "uring/IN which/WDT he/PRP |     spoke/NN->VBD      | at/IN length/NN with/IN C\n",
        "D at/IN length/NN with/IN |     Chinese/NN->JJ     | leaders/NNS *T*-1/-NONE- \n",
        " *T*-1/-NONE- ,/, was/VBD |     nowhere/NN->RB     | near/JJ as/IN successful/\n",
        "E- ,/, was/VBD nowhere/RB |      near/IN->JJ       | as/IN successful/JJ at/IN\n",
        "cessful/JJ at/IN */-NONE- |     easing/NN->VBG     | strains/NNS that/WDT *T*-\n",
        "at/IN */-NONE- easing/VBG |    strains/NN->NNS     | that/WDT *T*-239/-NONE- h\n",
        "/VBG strains/NNS that/WDT |   *T*-239/NN->-NONE-   | have/VBP recently/RB affl\n",
        "ONE- have/VBP recently/RB |   afflicted/NN->VBN    | the/DT Sino-U.S./NNP rela\n",
        "y/RB afflicted/VBN the/DT |   Sino-U.S./NN->NNP    | relationship/NN ./.\n",
        "                  Mr./NNP |     Nixon/NN->NNP      | ,/, the/DT most/RBS promi\n",
        "/DT most/RBS prominent/JJ |    American/JJ->NNP    | 0/-NONE- *T*-1/-NONE- to/\n",
        "nce/IN Beijing/NNP 's/POS |     bloody/NN->JJ      | suppression/NN of/IN pro-\n",
        "y/JJ suppression/NN of/IN |  pro-democracy/NN->JJ  | demonstrators/NNS in/IN J\n",
        "NN of/IN pro-democracy/JJ | demonstrators/NN->NNS  | in/IN June/NNP ,/, harped\n",
        "rs/NNS in/IN June/NNP ,/, |     harped/NN->VBD     | on/IN international/JJ ou\n",
        "                   The/DT |    Chinese/NN->NNP     | ,/, in/IN turn/NN ,/, too\n",
        "n/IN turn/NN ,/, took/VBD |       aim/VB->NN       | at/IN American/JJ ``/`` i\n",
        "                   One/CD |    official/NN->JJ     | newspaper/NN ,/, Legal/NN\n",
        "icial/JJ newspaper/NN ,/, |     Legal/NN->NNP      | Daily/NNP ,/, even/RB dir\n",
        "RB criticized/VBD Mr./NNP |     Nixon/NN->NNP      | ,/, who/WP *T*-240/-NONE-\n",
        "/NNP Nixon/NNP ,/, who/WP |   *T*-240/NN->-NONE-   | is/VBZ normally/RB referr\n",
        "/WP *T*-240/-NONE- is/VBZ |    normally/NN->RB     | referred/VBN to/TO *T*-1/\n",
        "          The/DT paper/NN |    accused/VBN->VBD    | him/PRP of/IN *-3/-NONE- \n",
        " proponent/NN of/IN ``/`` |    peaceful/NN->JJ     | evolution/NN ,/, ''/'' a/\n",
        "olution/NN ,/, ''/'' a/DT |      catch/VB->NN      | phrase/NN 0/-NONE- */-NON\n",
        "N 0/-NONE- */-NONE- to/TO |    describe/VBP->VB    | what/WP China/NNP believe\n",
        "ntries/NNS */-NONE- to/TO |     seduce/NN->VB      | socialist/JJ nations/NNS \n",
        " */-NONE- to/TO seduce/VB |    socialist/NN->JJ    | nations/NNS into/IN the/D\n",
        "ations/NNS into/IN the/DT |   capitalist/NN->JJ    | sphere/NN *T*-2/-NONE- ./\n",
        "The/DT tension/NN was/VBD |     evident/NN->JJ     | on/IN Wednesday/NNP eveni\n",
        "ning/NN during/IN Mr./NNP |     Nixon/NN->NNP      | 's/POS final/JJ banquet/N\n",
        "J banquet/NN toast/NN ,/, |    normally/NN->RB     | an/DT opportunity/NN for/\n",
        "tunity/NN for/IN */-NONE- |    reciting/NN->VBG    | platitudes/NNS about/IN e\n",
        "/IN */-NONE- reciting/VBG |   platitudes/NN->NNS   | about/IN eternal/JJ frien\n",
        "G platitudes/NNS about/IN |     eternal/NN->JJ     | friendship/NN ./.\n",
        "   Instead/RB ,/, Mr./NNP |     Nixon/NN->NNP      | reminded/VBD his/PRP$ hos\n",
        "/RB ,/, Mr./NNP Nixon/NNP |    reminded/NN->VBD    | his/PRP$ host/NN ,/, Chin\n",
        "/VBD his/PRP$ host/NN ,/, |    Chinese/NN->NNP     | President/NNP Yang/NNP Sh\n",
        "Chinese/NNP President/NNP |      Yang/NN->NNP      | Shangkun/NNP ,/, that/IN \n",
        "NP President/NNP Yang/NNP |    Shangkun/NN->NNP    | ,/, that/IN Americans/NNP\n",
        " Shangkun/NNP ,/, that/IN |  Americans/NNS->NNPS   | have/VBP n't/RB forgiven/\n",
        " June/NNP 3-4/CD that/WDT |   *T*-241/NN->-NONE-   | killed/VBD hundreds/NNS ,\n",
        "B thousands/NNS ,/, of/IN | demonstrators/NN->NNS  | ./.\n",
        "J in/IN the/DT United/NNP |    States/NN->NNPS     | ,/, including/VBG many/JJ\n",
        "fied/JJ ,/, ''/'' Mr./NNP |     Nixon/NN->NNP      | told/VBD Mr./NNP Yang/NNP\n",
        "ixon/NNP told/VBD Mr./NNP |      Yang/NN->NNP      | ,/, who/WP *T*-242/-NONE-\n",
        "./NNP Yang/NNP ,/, who/WP |   *T*-242/NN->-NONE-   | was/VBD directly/RB invol\n",
        "*-2/-NONE- in/IN */-NONE- |    ordering/NN->VBG    | the/DT attack/NN *T*-1/-N\n",
        "l/NNP through/IN June/NNP |    damaged/VBN->VBD    | the/DT respect/NN and/CC \n",
        "t/NN and/CC confidence/NN |     which/IN->WDT      | most/JJS Americans/NNPS p\n",
        "nce/NN which/WDT most/JJS |  Americans/NNS->NNPS   | previously/RB had/VBD *T*\n",
        "                   The/DT |    Chinese/NN->NNP     | responded/VBD in/IN an/DT\n",
        "       The/DT Chinese/NNP |   responded/VBN->VBD   | in/IN an/DT equally/RB un\n",
        "BD in/IN an/DT equally/RB |  undiplomatic/NN->JJ   | fashion/NN ./.\n",
        "talks/NNS with/IN Mr./NNP |     Nixon/NN->NNP      | ,/, Chinese/JJ leaders/NN\n",
        "/IN Mr./NNP Nixon/NNP ,/, |     Chinese/NN->JJ     | leaders/NNS expressed/VBD\n",
        "/, Chinese/JJ leaders/NNS |   expressed/VBN->VBD   | no/DT regret/NN for/IN th\n",
        "T regret/NN for/IN the/DT |    killings/NN->NNS    | ,/, and/CC even/RB sugges\n",
        "N the/DT U.S./NNP was/VBD |   prominently/NN->RB   | involved/VBN *-1/-NONE- i\n",
        "N *-1/-NONE- in/IN the/DT | demonstrations/NN->NNS | this/DT spring/NN ./.\n",
        " supreme/NN leader/NN ,/, |      Deng/NN->NNP      | Xiaoping/NNP ,/, told/VBD\n",
        "NN leader/NN ,/, Deng/NNP |    Xiaoping/NN->NNP    | ,/, told/VBD Mr./NNP Nixo\n",
        "/NNP ,/, told/VBD Mr./NNP |     Nixon/NN->NNP      | ,/, ``/`` */-NONE- Frankl\n",
        "on/NNP ,/, ``/`` */-NONE- |     Frankly/NN->RB     | speaking/VBG ,/, the/DT U\n",
        "``/`` */-NONE- Frankly/RB |    speaking/NN->VBG    | ,/, the/DT U.S./NNP was/V\n",
        "/NNP was/VBD involved/VBN |    *-146/NN->-NONE-    | too/RB deeply/RB in/IN th\n",
        "d/VBN *-146/-NONE- too/RB |     deeply/NN->RB      | in/IN the/DT turmoil/NN a\n",
        " the/DT turmoil/NN and/CC | counterrevolutionary/NN->JJ | rebellion/NN which/WDT *T\n",
        "JJ rebellion/NN which/WDT |   *T*-243/NN->-NONE-   | occurred/VBD in/IN Beijin\n",
        " which/WDT *T*-243/-NONE- |    occurred/NN->VBD    | in/IN Beijing/NNP not/RB \n",
        " unjust/JJ */-NONE- to/TO |     reprove/NN->VB     | China/NNP for/IN it/PRP .\n",
        "espite/IN the/DT harsh/JJ |   exchanges/NN->NNS    | ,/, the/DT U.S./NNP and/C\n",
        "N 0/-NONE- */-NONE- to/TO |      mend/NN->VB       | relations/NNS ,/, which/W\n",
        "lations/NNS ,/, which/WDT |   *T*-244/NN->-NONE-   | have/VBP deteriorated/VBN\n",
        "T *T*-244/-NONE- have/VBP |  deteriorated/NN->VBN  | into/IN what/WP Mr./NNP N\n",
        "N into/IN what/WP Mr./NNP |     Nixon/NN->NNP      | referred/VBD to/TO *T*-2/\n",
        "what/WP Mr./NNP Nixon/NNP |   referred/VBN->VBD    | to/TO *T*-2/-NONE- as/IN \n",
        "-NONE- as/IN ``/`` the/DT |    greatest/NN->JJS    | crisis/NN in/IN Chinese-A\n",
        "atest/JJS crisis/NN in/IN | Chinese-American/NN->NNP | relations/NNS ''/'' since\n",
        "China/NNP 17/CD years/NNS |       ago/RB->IN       | *T*-3/-NONE- ./.\n",
        "NN toast/NN to/TO Mr./NNP |     Nixon/NN->NNP      | ,/, Mr./NNP Yang/NNP said\n",
        "NNP Nixon/NNP ,/, Mr./NNP |      Yang/NN->NNP      | said/VBD 0/-NONE- the/DT \n",
        "                          |   Relations/NN->NNS    | between/IN China/NNP and/\n",
        "une/NNP 7/CD ,/, when/WRB |     Chinese/NN->JJ     | dissident/NN Fang/NNP Liz\n",
        "B Chinese/JJ dissident/NN |      Fang/NN->NNP      | Lizhi/NNP and/CC his/PRP$\n",
        "/JJ dissident/NN Fang/NNP |     Lizhi/NN->NNP      | and/CC his/PRP$ wife/NN ,\n",
        "d/CC his/PRP$ wife/NN ,/, |       Li/NN->NNP       | Shuxian/NNP ,/, took/VBD \n",
        "s/PRP$ wife/NN ,/, Li/NNP |    Shuxian/NN->NNP     | ,/, took/VBD refuge/NN in\n",
        "/NN in/IN the/DT U.S./NNP |    Embassy/NN->NNP     | in/IN Beijing/NNP *T*-1/-\n",
        "                          |     Shortly/NN->RB     | afterwards/RB ,/, Mr./NNP\n",
        "               Shortly/RB |   afterwards/NN->RB    | ,/, Mr./NNP Bush/NNP impo\n",
        "/VBD a/DT series/NN of/IN |   anti-China/NN->JJ    | sanctions/NNS ,/, includi\n",
        "pension/NN of/IN most/JJS |   high-level/NN->JJ    | talks/NNS ,/, which/WDT *\n",
        "IN most/JJS high-level/JJ |     talks/VBZ->NNS     | ,/, which/WDT *T*-1/-NONE\n",
        "*-1/-NONE- could/MD be/VB |    codified/NN->VBN    | *-147/-NONE- in/IN U.S./N\n",
        "uld/MD be/VB codified/VBN |    *-147/NN->-NONE-    | in/IN U.S./NNP congressio\n",
        "                  Mr./NNP |     Nixon/NN->NNP      | is/VBZ traveling/VBG in/I\n",
        " Mr./NNP Nixon/NNP is/VBZ |   traveling/NN->VBG    | in/IN China/NNP as/IN a/D\n",
        "C he/PRP has/VBZ made/VBN |      clear/JJ->RB      | that/IN he/PRP is/VBZ an/\n",
        "at/IN he/PRP is/VBZ an/DT |   unofficial/NN->JJ    | envoy/NN for/IN the/DT Bu\n",
        "                  Mr./NNP |     Nixon/NN->NNP      | met/VBD Mr./NNP Bush/NNP \n",
        "ecurity/NN adviser/NN ,/, |     Brent/NN->NNP      | Scowcroft/NNP ,/, before/\n",
        " adviser/NN ,/, Brent/NNP |   Scowcroft/NN->NNP    | ,/, before/IN *-1/-NONE- \n",
        "VBG to/TO China/NNP on/IN |    Saturday/NN->NNP    | ./.\n",
        "lans/VBZ *-1/-NONE- to/TO |      brief/JJ->VB      | the/DT president/NN at/IN\n",
        "e/DT week/NN ,/, U.S./NNP |    sources/NN->NNS     | said/VBD 0/-NONE- *T*-2/-\n",
        "                  Mr./NNP |     Nixon/NN->NNP      | was/VBD *-1/-NONE- to/TO \n",
        "JJ member/NN of/IN the/DT |     Nixon/NN->NNP      | party/NN ,/, the/DT forme\n",
        "DT former/JJ president/NN |    raised/VBN->VBD     | a/DT number/NN of/IN cont\n",
        "S of/IN talks/NNS with/IN |    top-level/NN->JJ    | Chinese/JJ officials/NNS \n",
        "/NNS with/IN top-level/JJ |     Chinese/NN->JJ     | officials/NNS ./.\n",
        "question/NN of/IN Mr./NNP |      Fang/NN->NNP      | ./.\n",
        "                  Mr./NNP |     Nixon/NN->NNP      | also/RB proposed/VBD that\n",
        "icipation/NN in/IN the/DT |   Fulbright/NN->NNP    | Program/NNP ,/, a/DT U.S.\n",
        "ram/NNP ,/, a/DT U.S./NNP | government-funded/NN->JJ | academic/JJ exchange/NN .\n",
        "                China/NNP |     pulled/NN->VBD     | out/IN of/IN the/DT progr\n",
        "ders/NNS *-1/-NONE- to/TO |   acknowledge/NN->VB   | that/DT their/PRP$ nation\n",
        "ONE- to/TO acknowledge/VB |      that/WDT->DT      | their/PRP$ nation/NN is/V\n",
        "ld/NN community/NN and/CC |     welcome/NN->VB     | the/DT infusion/NN of/IN \n",
        " the/DT infusion/NN of/IN |     outside/IN->JJ     | contacts/NNS and/CC ideas\n",
        "usion/NN of/IN outside/JJ |    contacts/NN->NNS    | and/CC ideas/NNS ./.\n",
        "                    ``/`` |     Ideas/NN->NNS      | are/VBP going/VBG over/IN\n",
        "are/VBP going/VBG over/IN |    borders/NN->NNS     | ,/, and/CC there/EX 's/VB\n",
        "/CC there/EX 's/VBZ no/DT |      SDI/NN->NNP       | ideological/JJ weapon/NN \n",
        "cal/JJ weapon/NN that/WDT |   *T*-245/NN->-NONE-   | can/MD shoot/VB them/PRP \n",
        "WDT *T*-245/-NONE- can/MD |      shoot/NN->VB      | them/PRP down/IN ,/, ''/'\n",
        " can/MD shoot/VB them/PRP |      down/RB->IN       | ,/, ''/'' he/PRP told/VBD\n",
        "d/VBD a/DT group/NN of/IN |  Americans/NNS->NNPS   | *T*-1/-NONE- at/IN the/DT\n",
        "NE- at/IN the/DT U.S./NNP |    Embassy/NN->NNP     | on/IN Wednesday/NNP ./.\n",
        "/, of/IN China/NNP 's/POS |    yielding/VBG->NN    | on/IN key/JJ issues/NNS .\n",
        "      But/CC in/IN one/CD |      minor/NN->JJ      | matter/NN ,/, Mr./NNP Nix\n",
        "/JJ matter/NN ,/, Mr./NNP |     Nixon/NN->NNP      | appears/VBZ *-1/-NONE- to\n",
        " *-1/-NONE- to/TO have/VB |    gained/VBD->VBN     | a/DT concession/NN ./.\n",
        "N a/DT meeting/NN with/IN |    Premier/NN->NNP     | Li/NNP Peng/NNP on/IN Mon\n",
        "ng/NN with/IN Premier/NNP |       Li/NN->NNP       | Peng/NNP on/IN Monday/NNP\n",
        "ith/IN Premier/NNP Li/NNP |      Peng/NN->NNP      | on/IN Monday/NNP ,/, Mr./\n",
        "IN Monday/NNP ,/, Mr./NNP |     Nixon/NN->NNP      | said/VBD that/IN he/PRP h\n",
        "P said/VBD that/IN he/PRP |     hoped/NN->VBD      | 0/-NONE- he/PRP would/MD \n",
        "E- he/PRP would/MD n't/RB |    encounter/NN->VB    | guards/NNS with/IN machin\n",
        "ld/MD n't/RB encounter/VB |     guards/NN->NNS     | with/IN machine/NN guns/N\n",
        "ds/NNS with/IN machine/NN |      guns/NN->NNS      | during/IN his/PRP$ visit/\n",
        "/NN to/TO the/DT U.S./NNP |    Embassy/NN->NNP     | ./.\n",
        "                          |      Sure/NN->RB       | enough/RB ,/, when/WRB he\n",
        "gh/RB ,/, when/WRB he/PRP |    arrived/NN->VBD     | at/IN the/DT embassy/NN t\n",
        "s/NNS later/JJ ,/, the/DT | machine-gun-toting/NN->JJ | guards/NNS were/VBD gone/\n",
        "/DT machine-gun-toting/JJ |     guards/NN->NNS     | were/VBD gone/VBN --/: fo\n",
        "              A/DT few/JJ |     blocks/NN->NNS     | away/RB ,/, at/IN the/DT \n",
        "S residence/NN ,/, the/DT |     guards/NN->NNS     | encircling/VBG the/DT com\n",
        "/NN ,/, the/DT guards/NNS |   encircling/NN->VBG   | the/DT compound/NN also/R\n",
        "mpound/NN also/RB had/VBD |   discarded/NN->VBN    | their/PRP$ Uzi-model/JJ a\n",
        " discarded/VBN their/PRP$ |    Uzi-model/NN->JJ    | arms/NNS for/IN the/DT fi\n",
        "N their/PRP$ Uzi-model/JJ |      arms/NN->NNS      | for/IN the/DT first/JJ ti\n",
        "            But/CC the/DT |     guards/NN->NNS     | there/RB retained/VBN the\n",
        " But/CC the/DT guards/NNS |      there/EX->RB      | retained/VBN their/PRP$ p\n",
        "B retained/VBN their/PRP$ |    pistols/NN->NNS     | ,/, and/CC a/DT large/JJ \n",
        "ge/JJ contingent/NN of/IN |  plainclothes/NN->NNS  | police/NNS remained/VBD n\n",
        "NN of/IN plainclothes/NNS |     police/NN->NNS     | remained/VBD nearby/RB in\n",
        "S police/NNS remained/VBD |     nearby/NN->RB      | in/IN unmarked/JJ cars/NN\n",
        "ained/VBD nearby/RB in/IN |    unmarked/NN->JJ     | cars/NNS ./.\n",
        "          Moreover/RB ,/, |     police/NN->NNS     | and/CC soldiers/NNS conti\n",
        "/RB ,/, police/NNS and/CC |    soldiers/NN->NNS    | continue/VBP *-1/-NONE- t\n",
        "e/NNS and/CC soldiers/NNS |    continue/VB->VBP    | *-1/-NONE- to/TO harass/V\n",
        "-1/-NONE- to/TO harass/VB |  Americans/NNS->NNPS   | ,/, who/WP *T*-246/-NONE-\n",
        "Americans/NNPS ,/, who/WP |   *T*-246/NN->-NONE-   | have/VBP filed/VBN severa\n",
        "/VBP filed/VBN several/JJ |    protests/NN->NNS    | with/IN the/DT Foreign/NN\n",
        "Ministry/NNP in/IN the/DT |      past/JJ->NN       | week/NN ./.\n",
        " Several/JJ times/NNS ,/, |     Chinese/NN->JJ     | guards/NNS have/VBP point\n",
        " times/NNS ,/, Chinese/JJ |     guards/NN->NNS     | have/VBP pointed/VBN thei\n",
        "se/JJ guards/NNS have/VBP |    pointed/VBD->VBN    | their/PRP$ automatic/JJ r\n",
        "N their/PRP$ automatic/JJ |     rifles/NN->NNS     | at/IN young/JJ children/N\n",
        "ildren/NNS of/IN U.S./NNP |   diplomats/NN->NNS    | and/CC clicked/VBD the/DT\n",
        "/NNP diplomats/NNS and/CC |    clicked/NN->VBD     | the/DT trigger/NN ./.\n",
        "                   The/DT |     rifles/NN->NNS     | were/VBD n't/RB loaded/VB\n",
        "ifles/NNS were/VBD n't/RB |     loaded/NN->VBN     | *-1/-NONE- ./.\n",
        "NN ``/`` Japan/NNP 's/POS |   Financial/NNP->JJ    | Firms/NNS Lure/VBP Scienc\n",
        "n/NNP 's/POS Financial/JJ |     Firms/NN->NNS      | Lure/VBP Science/NN Gradu\n",
        "OS Financial/JJ Firms/NNS |      Lure/NN->VBP      | Science/NN Graduates/NNS \n",
        "s/NNS Lure/VBP Science/NN |   Graduates/NN->NNS    | ''/'' states/VBZ ,/, ``/`\n",
        "ce/NN Graduates/NNS ''/'' |    states/NNS->VBZ     | ,/, ``/`` Industrial/JJ c\n",
        "'/'' states/VBZ ,/, ``/`` |   Industrial/NNP->JJ   | companies/NNS are/VBP acc\n",
        "/JJ companies/NNS are/VBP |    accusing/NN->VBG    | financial/JJ institutions\n",
        "ions/NNS of/IN *-1/-NONE- |  jeopardizing/NN->VBG  | Japan/NNP 's/POS economy/\n",
        "ies/NNS should/MD know/VB |    better/RBR->JJR     | ./.\n",
        "         They/PRP are/VBP |    barking/NN->VBG     | up/IN the/DT wrong/JJ tre\n",
        "PRP *EXP*-1/-NONE- is/VBZ |    basically/NN->RB    | their/PRP$ fault/NN 0/-NO\n",
        "NE- they/PRP ca/MD n't/RB |     attract/NN->VB     | new/JJ employees/NNS ./.\n",
        "young/JJ people/NNS .../: |    caused/VBN->VBD     | the/DT problem/NN ./. ''/\n",
        "    He/PRP is/VBZ just/RB |    passing/NN->VBG     | the/DT buck/NN to/TO youn\n",
        "                  What/WP |   *T*-247/NN->-NONE-   | 's/VBZ wrong/JJ with/IN *\n",
        "   What/WP *T*-247/-NONE- |      's/POS->VBZ       | wrong/JJ with/IN */-NONE-\n",
        "                          |     Money/NNP->NN      | is/VBZ not/RB everything/\n",
        "P*-1/-NONE- is/VBZ not/RB |    unethical/NN->JJ    | */-NONE- to/TO choose/VB \n",
        "ONE- to/TO choose/VB a/DT | higher-salaried/NN->JJ | job/NN ./.\n",
        "                          |  Unfortunately/NN->RB  | ,/, Japanese/JJ manufactu\n",
        "ve/VBP neither/DT good/JJ |    working/VBG->NN     | conditions/NNS nor/CC goo\n",
        "                    I/PRP |      get/VB->VBP       | the/DT impression/NN that\n",
        "ONE- */-NONE- working/VBG |     harder/NN->RBR     | for/IN less/JJR money/NN \n",
        "                    I/PRP |    visited/NN->VBD     | a/DT lot/NN of/IN major/J\n",
        " to/TO be/VB employed/VBN |    *-149/NN->-NONE-    | by/IN any/DT of/IN them/P\n",
        "f/IN them/PRP recently/RB |      have/VB->VBP      | been/VBN spending/VBG a/D\n",
        "ntly/RB have/VBP been/VBN |    spending/NN->VBG    | a/DT lot/NN of/IN money/N\n",
        "/TO improve/VB their/PRP$ |     images/NN->NNS     | ,/, but/CC they/PRP shoul\n",
        "J thing/NN is/VBZ real/JJ |     change/VB->NN      | ,/, not/RB */-NONE- chang\n",
        "ge/NN ,/, not/RB */-NONE- |    changing/NN->VBG    | people/NNS 's/POS percept\n",
        "ing/VBG people/NNS 's/POS |  perceptions/NN->NNS   | ./.\n",
        "situation/NN :/: raise/VB |    salaries/NN->NNS    | higher/JJR than/IN those/\n",
        ":/: raise/VB salaries/NNS |    higher/RBR->JJR     | than/IN those/DT of/IN fi\n",
        "utions/NNS ;/: improve/VB |    working/VBG->NN     | conditions/NNS -LRB-/-LRB\n",
        "fices/NNS and/CC more/JJR |   vacations/NN->NNS    | ,/, for/IN example/NN -RR\n",
        "xample/NN -RRB-/-RRB- ;/: |     accept/NN->VB      | and/CC hire/VB more/JJR l\n",
        "RRB- ;/: accept/VB and/CC |      hire/VBP->VB      | more/JJR labor/NN from/IN\n",
        "more/JJR labor/NN from/IN |     outside/IN->JJ     | Japan/NNP ./.\n",
        "                          |    Hiroshi/NN->NNP     | Asada/NNP\n",
        "              Hiroshi/NNP |     Asada/NN->NNP      | \n",
        "e-one/NN article/NN ``/`` |    Barbara/NN->NNP     | Bush/NNP Earns/VBZ Even/R\n",
        "`/`` Barbara/NNP Bush/NNP |     Earns/NN->VBZ      | Even/RB Higher/JJR Rating\n",
        "ush/NNP Earns/VBZ Even/RB |     Higher/NN->JJR     | Ratings/NNS Than/IN the/D\n",
        "ns/VBZ Even/RB Higher/JJR |    Ratings/NN->NNS     | Than/IN the/DT President/\n",
        "RB Higher/JJR Ratings/NNS |      Than/NN->IN       | the/DT President/NNP ,/, \n",
        "PRP *EXP*-1/-NONE- is/VBZ |   regrettable/NN->JJ   | that/IN you/PRP must/MD c\n",
        "J that/IN you/PRP must/MD |   continually/NN->RB   | define/VB blacks/NNS by/I\n",
        "blacks/NNS by/IN our/PRP$ |   negatives/NN->NNS    | :/: ``/`` Among/IN libera\n",
        "es/NNS :/: ``/`` Among/IN |    liberals/NN->NNS    | ,/, 60/CD %/NN have/VBP p\n",
        "sitive/JJ views/NNS of/IN |     her/PRP$->PRP      | ,/, while/IN 50/CD %/NN a\n",
        "P ,/, while/IN 50/CD %/NN |    approve/VB->VBP     | of/IN the/DT president/NN\n",
        "reflect/VB the/DT fact/NN |      that/WDT->IN      | `/`` she/PRP speaks/VBZ a\n",
        "t/NN that/IN `/`` she/PRP |     speaks/NN->VBZ     | a/DT more/JJR progressive\n",
        " speaks/VBZ a/DT more/JJR |   progressive/NN->JJ   | language/NN '/'' than/IN \n",
        "as/IN Columbia/NNP 's/POS |      Prof/NN->NNP      | ./. -LCB-/-LRB- Ethel/NNP\n",
        " Prof/NNP ./. -LCB-/-LRB- |     Ethel/NN->NNP      | -RCB-/-RRB- Klein/NNP put\n",
        "RB- Ethel/NNP -RCB-/-RRB- |     Klein/NN->NNP      | puts/VBZ it/PRP ./.\n",
        "NNP -RCB-/-RRB- Klein/NNP |      puts/NN->VBZ      | it/PRP ./.\n",
        "                 Among/IN | professionals/NN->NNS  | ,/, 76/CD %/NN have/VBP a\n",
        " 76/CD %/NN have/VBP a/DT |    favorable/NN->JJ    | opinion/NN of/IN her/PRP$\n",
        "N to/TO 62/CD %/NN who/WP |   *T*-248/NN->-NONE-   | approve/VBP of/IN her/PRP\n",
        "/NN who/WP *T*-248/-NONE- |    approve/VB->VBP     | of/IN her/PRP$ husband/NN\n",
        "/IN a/DT quarter/NN of/IN |      black/NN->JJ      | voters/NNS disapprove/VBP\n",
        "quarter/NN of/IN black/JJ |     voters/NN->NNS     | disapprove/VBP of/IN Mr./\n",
        "of/IN black/JJ voters/NNS |   disapprove/NN->VBP   | of/IN Mr./NNP Bush/NNP 's\n",
        "have/VBP a/DT negative/JJ |      view/VBP->NN      | of/IN his/PRP$ spouse/NN \n",
        "    The/DT statistics/NNS |     imply/NN->VBP      | that/IN three-quarters/NN\n",
        " statistics/NNS imply/VBP |      that/WDT->IN      | three-quarters/NNS of/IN \n",
        "ics/NNS imply/VBP that/IN | three-quarters/NN->NNS | of/IN blacks/NNS approve/\n",
        "ters/NNS of/IN blacks/NNS |    approve/VB->VBP     | of/IN Mr./NNP Bush/NNP 's\n",
        "/CD %/NN of/IN blacks/NNS |    approve/VB->VBP     | of/IN Mrs./NNP Bush/NNP .\n",
        " and/CC Mrs./NNP Bush/NNP |   distasteful/NN->JJ   | ,/, the/DT positive/JJ vi\n",
        "JJ ,/, the/DT positive/JJ |      view/VBP->NN      | is/VBZ even/RB more/RBR n\n",
        "JJ view/NN is/VBZ even/RB |     more/JJR->RBR      | newsworthy/JJ ./.\n",
        "N is/VBZ even/RB more/RBR |   newsworthy/NN->JJ    | ./.\n",
        "                          |      Such/JJ->PDT      | an/DT editorial/NN point/\n",
        "itorial/NN point/NN of/IN |      view/VBP->NN      | perpetuates/VBZ an/DT ins\n",
        "NN point/NN of/IN view/NN |  perpetuates/NN->VBZ   | an/DT insidious/JJ ,/, st\n",
        "/NN perpetuates/VBZ an/DT |    insidious/NN->JJ    | ,/, stereotyped/JJ perspe\n",
        "BZ an/DT insidious/JJ ,/, |   stereotyped/NN->JJ   | perspective/NN ./.\n",
        "are/VBP we/PRP blacks/NNS |   continually/NN->RB   | defined/VBN *-1/-NONE- by\n",
        "blacks/NNS continually/RB |    defined/NN->VBN     | *-1/-NONE- by/IN our/PRP$\n",
        "                          |    Preston/NN->NNP     | G./NNP Foster/NNP Birming\n",
        "ton/NNP G./NNP Foster/NNP |   Birmingham/NN->NNP   | ,/, Ala/NNP ./.\n",
        "er/NNP Birmingham/NNP ,/, |      Ala/NN->NNP       | ./.\n",
        "NNP Association/NNP of/IN |  Securities/NNP->NNPS  | Dealers/NNPS ,/, the/DT s\n",
        "S Dealers/NNPS ,/, the/DT | self-regulatory/NN->JJ | organization/NN for/IN th\n",
        "ities/NNS markets/NNS ,/, |  disciplined/NN->VBD   | a/DT number/NN of/IN firm\n",
        "                          |       Two/NN->CD       | firms/NNS were/VBD expell\n",
        "Two/CD firms/NNS were/VBD |    expelled/NN->VBN    | *-150/-NONE- from/IN the/\n",
        "NNS were/VBD expelled/VBN |    *-150/NN->-NONE-    | from/IN the/DT NASD/NNP ,\n",
        "150/-NONE- from/IN the/DT |      NASD/NN->NNP      | ,/, three/CD were/VBD sus\n",
        "NNP ,/, three/CD were/VBD |   suspended/VBD->VBN   | or/CC barred/VBN *-1/-NON\n",
        "- and/CC nine/CD were/VBD |     fined/NN->VBN      | *-151/-NONE- ./.\n",
        "ine/CD were/VBD fined/VBN |    *-151/NN->-NONE-    | ./.\n",
        "                First/NNP |  Securities/NNP->NNPS  | Group/NNP of/IN Californi\n",
        "/DT firm/NN ,/, Louis/NNP |    Fernando/NN->NNP    | Vargas/NNP of/IN Marina/N\n",
        "/, Louis/NNP Fernando/NNP |     Vargas/NN->NNP     | of/IN Marina/NNP del/DT R\n",
        "ando/NNP Vargas/NNP of/IN |     Marina/NN->NNP     | del/DT Rey/NNP ,/, Calif.\n",
        "rgas/NNP of/IN Marina/NNP |       del/NN->DT       | Rey/NNP ,/, Calif./NNP ,/\n",
        "P of/IN Marina/NNP del/DT |      Rey/NN->NNP       | ,/, Calif./NNP ,/, were/V\n",
        "P ,/, were/VBD jointly/RB |     fined/NN->VBN      | *-1/-NONE- $/$ 15,000/CD \n",
        ",000/CD *U*/-NONE- and/CC |    expelled/NN->VBD    | *-1/-NONE- for/IN alleged\n",
        "led/VBD *-1/-NONE- for/IN |    alleged/JJ->VBN     | violations/NNS of/IN repo\n",
        "      Also/RB ,/, Mr./NNP |     Vargas/NN->NNP     | was/VBD barred/VBN *-152/\n",
        "as/NNP was/VBD barred/VBN |    *-152/NN->-NONE-    | from/IN association/NN wi\n",
        "ciation/NN with/IN any/DT |      NASD/NN->NNP      | member/NN ./.\n",
        " Securities/NNP ,/, of/IN |    Beverly/NN->NNP     | Hills/NNP ,/, nor/CC Mr./\n",
        "ls/NNP ,/, nor/CC Mr./NNP |     Vargas/NN->NNP     | could/MD be/VB reached/VB\n",
        "ould/MD be/VB reached/VBN |    *-153/NN->-NONE-    | for/IN comment/NN ./.\n",
        "D no/DT listing/NN for/IN |     either/RB->DT      | party/NN ./.\n",
        "                          |      J.L./NN->NNP      | Henry/NNP &/CC Co./NNP ,/\n",
        "                 J.L./NNP |     Henry/NN->NNP      | &/CC Co./NNP ,/, Miami/NN\n",
        " of/IN the/DT firm/NN ,/, |     Henry/NN->NNP      | I./NNP Otero/NNP of/IN Mi\n",
        "/DT firm/NN ,/, Henry/NNP |       I./NN->NNP       | Otero/NNP of/IN Miami/NNP\n",
        "m/NN ,/, Henry/NNP I./NNP |     Otero/NN->NNP      | of/IN Miami/NNP ,/, were/\n",
        "P ,/, were/VBD jointly/RB |     fined/NN->VBN      | *-1/-NONE- $/$ 30,000/CD \n",
        ",000/CD *U*/-NONE- and/CC |    expelled/NN->VBN    | *-1/-NONE- ,/, for/IN all\n",
        "NE- ,/, for/IN alleged/JJ |    improper/NN->JJ     | use/NN of/IN a/DT custome\n",
        "IN alleged/JJ improper/JJ |       use/VB->NN       | of/IN a/DT customer/NN 's\n",
        "      Also/RB ,/, Mr./NNP |     Otero/NN->NNP      | was/VBD barred/VBN *-154/\n",
        "ro/NNP was/VBD barred/VBN |    *-154/NN->-NONE-    | from/IN association/NN wi\n",
        "ciation/NN with/IN any/DT |      NASD/NN->NNP      | member/NN ./.\n",
        "                          |      J.L./NN->NNP      | Henry/NNP has/VBZ n't/RB \n",
        "                 J.L./NNP |     Henry/NN->NNP      | has/VBZ n't/RB any/DT Mia\n",
        "                  Mr./NNP |     Otero/NN->NNP      | ,/, who/WP *T*-249/-NONE-\n",
        "/NNP Otero/NNP ,/, who/WP |   *T*-249/NN->-NONE-   | apparently/RB has/VBZ an/\n",
        "parently/RB has/VBZ an/DT |   unpublished/NN->JJ   | number/NN ,/, also/RB cou\n",
        " n't/RB be/VB reached/VBN |    *-155/NN->-NONE-    | ./.\n",
        "                          |    Biscayne/NN->NNP    | Securities/NNP Corp./NNP \n",
        "s/NNP Corp./NNP ,/, of/IN |   Lauderhill/NN->NNP   | ,/, Fla./NNP ,/, and/CC a\n",
        "/DT firm/NN ,/, Alvin/NNP |   Rosenblum/NN->NNP    | of/IN Plantation/NNP ,/, \n",
        "n/NNP Rosenblum/NNP of/IN |   Plantation/NN->NNP   | ,/, Fla./NNP ,/, were/VBD\n",
        "P ,/, were/VBD jointly/RB |     fined/NN->VBN      | *-1/-NONE- $/$ 20,000/CD \n",
        "d/CC given/VBN *-1/-NONE- |     10-day/NN->JJ      | suspensions/NNS for/IN */\n",
        "/VBN *-1/-NONE- 10-day/JJ |  suspensions/NN->NNS   | for/IN */-NONE- allegedly\n",
        "                          |    Biscayne/NN->NNP    | has/VBZ n't/RB any/DT tel\n",
        "                  Mr./NNP |   Rosenblum/NN->NNP    | ,/, who/WP *T*-250/-NONE-\n",
        " Rosenblum/NNP ,/, who/WP |   *T*-250/NN->-NONE-   | apparently/RB has/VBZ an/\n",
        "parently/RB has/VBZ an/DT |   unpublished/NN->JJ   | phone/NN number/NN ,/, al\n",
        " n't/RB be/VB reached/VBN |    *-156/NN->-NONE-    | ./.\n",
        "                          |     Triton/NN->NNP     | Securities/NNP ,/, of/IN \n",
        " Securities/NNP ,/, of/IN |    Danville/NN->NNP    | ,/, Calif./NNP ,/, and/CC\n",
        " of/IN the/DT firm/NN ,/, |     Delwin/NN->NNP     | George/NNP Chase/NNP ,/, \n",
        "ase/NNP ,/, also/RB of/IN |    Danville/NN->NNP    | ,/, were/VBD jointly/RB f\n",
        "P ,/, were/VBD jointly/RB |     fined/NN->VBN      | *-1/-NONE- $/$ 10,000/CD \n",
        "/VBN *-1/-NONE- 30-day/JJ |  suspensions/NN->NNS   | as/IN part/NN of/IN a/DT \n",
        "/IN *-1/-NONE- neither/DT |   admitting/NN->VBG    | nor/CC denying/VBG wrongd\n",
        "r/DT admitting/VBG nor/CC |    denying/NN->VBG     | wrongdoing/NN ,/, Triton/\n",
        "ing/VBG wrongdoing/NN ,/, |     Triton/NN->NNP     | and/CC Mr./NNP Chase/NNP \n",
        " and/CC Mr./NNP Chase/NNP |   consented/NN->VBD    | to/TO findings/NNS of/IN \n",
        "      Officials/NNS of/IN |     Triton/NN->NNP     | could/MD n't/RB be/VB rea\n",
        " n't/RB be/VB reached/VBN |    *-157/NN->-NONE-    | for/IN comment/NN ./.\n",
        "turn/VB a/DT telephone/NN |      call/VB->NN       | to/TO his/PRP$ office/NN \n",
        "                          |     Crane/NN->NNP      | &/CC Co./NNP Securities/N\n",
        "es/NNP Inc./NNP ,/, of/IN |     Mount/NN->NNP      | Clemens/NNP ,/, Mich./NNP\n",
        "./NNP ,/, of/IN Mount/NNP |    Clemens/NN->NNP     | ,/, Mich./NNP ,/, and/CC \n",
        "its/PRP$ president/NN ,/, |     Glenn/NN->NNP      | R./NNP Crane/NNP ,/, of/I\n",
        "t/NN ,/, Glenn/NNP R./NNP |     Crane/NN->NNP      | ,/, of/IN Sterling/NNP He\n",
        "hts/NNP ,/, Mich./NNP ,/, |   consented/NN->VBD    | to/TO a/DT joint/JJ fine/\n",
        "    Without/IN *-1/-NONE- |   admitting/NN->VBG    | or/CC denying/VBG wrongdo\n",
        "NONE- admitting/VBG or/CC |    denying/NN->VBG     | wrongdoing/NN ,/, they/PR\n",
        "rongdoing/NN ,/, they/PRP |   consented/NN->VBD    | to/TO findings/NNS of/IN \n",
        "NS of/IN escrow/NN and/CC | record-keeping/NN->JJ  | rules/NNS ./.\n",
        "                  Mr./NNP |     Crane/NN->NNP      | did/VBD n't/RB return/VB \n",
        "VBD n't/RB return/VB a/DT |      call/VB->NN       | seeking/VBG comment/NN ./\n",
        " a/DT call/NN seeking/VBG |     comment/VB->NN     | ./.\n",
        "NN ,/, Kenneth/NNP J./NNP |     Canepa/NN->NNP     | ,/, also/RB of/IN New/NNP\n",
        "N New/NNP Orleans/NNP ,/, |   consented/NN->VBD    | to/TO a/DT $/$ 10,000/CD \n",
        "      Also/RB ,/, Mr./NNP |     Canepa/NN->NNP     | received/VBD a/DT two-wee\n",
        "epa/NNP received/VBD a/DT |    two-week/NN->JJ     | suspension/NN ``/`` in/IN\n",
        "nsion/NN ``/`` in/IN a/DT |    principal/NN->JJ    | capacity/NN ./. ''/''\n",
        "    Without/IN *-1/-NONE- |   admitting/NN->VBG    | or/CC denying/VBG wrongdo\n",
        "NONE- admitting/VBG or/CC |    denying/NN->VBG     | wrongdoing/NN ,/, they/PR\n",
        "rongdoing/NN ,/, they/PRP |   consented/NN->VBD    | to/TO findings/NNS that/I\n",
        "ed/VBD to/TO findings/NNS |      that/WDT->IN      | they/PRP had/VBD inaccura\n",
        " that/IN they/PRP had/VBD |  inaccurately/NN->RB   | represented/VBN the/DT fi\n",
        "P had/VBD inaccurately/RB |  represented/VBD->VBN  | the/DT firm/NN 's/POS net\n",
        "VBN the/DT firm/NN 's/POS |       net/JJ->NN       | capital/NN ,/, maintained\n",
        "POS net/NN capital/NN ,/, |  maintained/VBN->VBD   | inaccurate/JJ books/NNS a\n",
        "tal/NN ,/, maintained/VBD |   inaccurate/NN->JJ    | books/NNS and/CC records/\n",
        "CC records/NNS ,/, and/CC |     made/VBN->VBD      | other/JJ violations/NNS .\n",
        "                  Mr./NNP |     Canepa/NN->NNP     | confirmed/VBD 0/-NONE- he\n",
        "       Mr./NNP Canepa/NNP |   confirmed/VBN->VBD   | 0/-NONE- he/PRP had/VBD c\n",
        "D 0/-NONE- he/PRP had/VBD |   consented/NN->VBN    | to/TO the/DT sanctions/NN\n",
        "1/-NONE- to/TO comment/VB |     further/JJ->RB     | ./.\n",
        "                          |   Weatherly/NN->NNP    | Securities/NNP Corp./NNP \n",
        "C three/CD of/IN its/PRP$ |   principals/NN->NNS   | --/: Dell/NNP Eugene/NNP \n",
        "/PRP$ principals/NNS --/: |      Dell/NN->NNP      | Eugene/NNP Keehn/NNP and/\n",
        "ncipals/NNS --/: Dell/NNP |     Eugene/NN->NNP     | Keehn/NNP and/CC William/\n",
        " --/: Dell/NNP Eugene/NNP |     Keehn/NN->NNP      | and/CC William/NNP Northy\n",
        "hn/NNP and/CC William/NNP |     Northy/NN->NNP     | Prater/NNP Jr./NNP ,/, bo\n",
        "CC William/NNP Northy/NNP |     Prater/NN->NNP     | Jr./NNP ,/, both/DT of/IN\n",
        "Jr./NNP ,/, both/DT of/IN |     Mercer/NN->NNP     | Island/NNP ,/, Wash./NNP \n",
        " both/DT of/IN Mercer/NNP |     Island/NN->NNP     | ,/, Wash./NNP ,/, and/CC \n",
        "Mercer/NNP Island/NNP ,/, |     Wash./NN->NNP      | ,/, and/CC Thomas/NNP Alb\n",
        "/CC Thomas/NNP Albert/NNP |     McFall/NN->NNP     | ,/, of/IN Red/NNP Bank/NN\n",
        "/NNP ,/, N.J/NNP ./. --/: |   consented/NN->VBD    | to/TO a/DT fine/NN of/IN \n",
        "    Without/IN *-1/-NONE- |   admitting/NN->VBG    | or/CC denying/VBG wrongdo\n",
        "NONE- admitting/VBG or/CC |    denying/NN->VBG     | wrongdoing/NN ,/, they/PR\n",
        "rongdoing/NN ,/, they/PRP |   consented/NN->VBD    | to/TO findings/NNS that/I\n",
        "ed/VBD to/TO findings/NNS |      that/WDT->IN      | they/PRP failed/VBD *-2/-\n",
        "to/TO return/VB funds/NNS |     owed/VBD->VBN      | */-NONE- to/TO customers/\n",
        "DT limited-partnership/NN |    offering/VBG->NN    | ./.\n",
        "               *-2/-NONE- |    Reached/NN->VBN     | *-1/-NONE- at/IN his/PRP$\n",
        "RP$ office/NN ,/, Mr./NNP |     McFall/NN->NNP     | ,/, currently/RB chairman\n",
        "estor/NN funds/NNS is/VBZ |  inappropriate/NN->JJ  | and/CC inaccurate/JJ ./. \n",
        "Z inappropriate/JJ and/CC |   inaccurate/NN->JJ    | ./. ''/''\n",
        "                   He/PRP |   described/VBN->VBD   | the/DT situation/NN as/IN\n",
        "-NONE- was/VBD rapidly/RB |   rectified/NN->VBN    | *-2/-NONE- ,/, with/IN no\n",
        "                          |      W.N./NN->NNP      | Whelen/NNP &/CC Co./NNP ,\n",
        "                 W.N./NNP |     Whelen/NN->NNP     | &/CC Co./NNP ,/, of/IN Ge\n",
        "NP &/CC Co./NNP ,/, of/IN |   Georgetown/NN->NNP   | ,/, Del./NNP ,/, and/CC i\n",
        " of/IN Georgetown/NNP ,/, |      Del./NN->NNP      | ,/, and/CC its/PRP$ presi\n",
        "sident/NN ,/, William/NNP |       N./NN->NNP       | Whelen/NNP Jr./NNP ,/, al\n",
        "NN ,/, William/NNP N./NNP |     Whelen/NN->NNP     | Jr./NNP ,/, also/RB of/IN\n",
        "Jr./NNP ,/, also/RB of/IN |   Georgetown/NN->NNP   | ,/, were/VBD barred/VBN *\n",
        "-NONE- from/IN *-2/-NONE- |  transacting/NN->VBG   | principal/JJ trades/NNS f\n",
        "-2/-NONE- transacting/VBG |    principal/NN->JJ    | trades/NNS for/IN 90/CD d\n",
        "nd/CC were/VBD jointly/RB |     fined/NN->VBN      | *-1/-NONE- $/$ 15,000/CD \n",
        "DT firm/NN and/CC Mr./NNP |     Whelen/NN->NNP     | allegedly/RB sold/VBD sec\n",
        "P Whelen/NNP allegedly/RB |     sold/VBN->VBD      | securities/NNS to/TO the/\n",
        "NNS ,/, among/IN other/JJ |    alleged/VBN->JJ     | violations/NNS ./.\n",
        "                  Mr./NNP |     Whelen/NN->NNP     | denied/VBD 0/-NONE- the/D\n",
        "       Mr./NNP Whelen/NNP |    denied/VBN->VBD     | 0/-NONE- the/DT firm/NN h\n",
        "ractices/NNS of/IN the/DT |      NASD/NN->NNP      | need/VBP improvement/NN .\n",
        "/DT firm/NN and/CC the/DT |      NASD/NN->NNP      | differ/VBP over/IN the/DT\n",
        "NN and/CC the/DT NASD/NNP |     differ/NN->VBP     | over/IN the/DT meaning/NN\n",
        "NP York/NNP ,/, which/WDT |   *T*-251/NN->-NONE-   | is/VBZ 62%-owned/JJ *-1/-\n",
        "WDT *T*-251/-NONE- is/VBZ |    62%-owned/NN->JJ    | *-1/-NONE- by/IN American\n",
        "owned/JJ *-1/-NONE- by/IN |    American/JJ->NNP    | Express/NNP Co./NNP ,/, c\n",
        "-NONE- by/IN American/NNP |    Express/NN->NNP     | Co./NNP ,/, consented/VBD\n",
        "P Express/NNP Co./NNP ,/, |   consented/NN->VBD    | to/TO a/DT $/$ 10,000/CD \n",
        "    Without/IN *-1/-NONE- |   admitting/NN->VBG    | or/CC denying/VBG wrongdo\n",
        "NONE- admitting/VBG or/CC |    denying/NN->VBG     | wrongdoing/NN ,/, the/DT \n",
        "ing/NN ,/, the/DT firm/NN |   consented/NN->VBD    | to/TO findings/NNS that/I\n",
        "ed/VBD to/TO findings/NNS |      that/WDT->IN      | it/PRP failed/VBD *-2/-NO\n",
        "spond/VB ``/`` in/IN a/DT |     timely/NN->JJ      | manner/NN ''/'' to/TO the\n",
        "ner/NN ''/'' to/TO the/DT |      NASD/NN->NNP      | 's/POS requests/NNS for/I\n",
        "TO the/DT NASD/NNP 's/POS |    requests/NN->NNS    | for/IN information/NN in/\n",
        "pokesman/NN had/VBD no/DT |     comment/VB->NN     | ./.\n",
        " individuals/NNS were/VBD |     fined/NN->VBN      | *-2/-NONE- as/IN */-NONE-\n",
        "*-2/-NONE- as/IN */-NONE- |   indicated/VBD->VBN   | *-1/-NONE- and/CC barred/\n",
        "IN association/NN with/IN |      NASD/NN->NNP      | members/NNS ,/, or/CC ,/,\n",
        "CC ,/, where/WRB */-NONE- |     noted/VBD->VBN     | *-3/-NONE- *T*-4/-NONE- ,\n",
        "3/-NONE- *T*-4/-NONE- ,/, |   suspended/VBD->VBN   | *-2/-NONE- ./.\n",
        "                          |     Except/NN->IN      | where/WRB */-NONE- noted/\n",
        "ept/IN where/WRB */-NONE- |     noted/VBD->VBN     | *-3/-NONE- *T*-1/-NONE- ,\n",
        "t/NN or/CC had/VBD any/DT |     comment/VB->NN     | ./.\n",
        "                          |     Andrew/NN->NNP     | Derel/NNP Adams/NNP ,/, K\n",
        "               Andrew/NNP |     Derel/NN->NNP      | Adams/NNP ,/, Killeen/NNP\n",
        "     Andrew/NNP Derel/NNP |     Adams/NN->NNP      | ,/, Killeen/NNP ,/, Texas\n",
        "P Derel/NNP Adams/NNP ,/, |    Killeen/NN->NNP     | ,/, Texas/NNP ,/, fined/V\n",
        "een/NNP ,/, Texas/NNP ,/, |     fined/NN->VBN      | *-1/-NONE- $/$ 15,000/CD \n",
        "D *U*/-NONE- ;/: John/NNP |    Francis/NN->NNP     | Angier/NNP Jr./NNP ,/, Re\n",
        " ;/: John/NNP Francis/NNP |     Angier/NN->NNP     | Jr./NNP ,/, Reddington/NN\n",
        "NP Angier/NNP Jr./NNP ,/, |   Reddington/NN->NNP   | Shores/NNP ,/, Fla./NNP ,\n",
        "r./NNP ,/, Reddington/NNP |     Shores/NN->NNP     | ,/, Fla./NNP ,/, $/$ 15,0\n",
        "D *U*/-NONE- ;/: Mark/NNP |    Anthony/NN->NNP     | ,/, Arlington/NNP Heights\n",
        " Mark/NNP Anthony/NNP ,/, |   Arlington/NN->NNP    | Heights/NNP ,/, Ill./NNP \n",
        "ension/NN ;/: William/NNP |    Stirlen/NN->NNP     | ,/, Arlington/NNP Heights\n",
        "lliam/NNP Stirlen/NNP ,/, |   Arlington/NN->NNP    | Heights/NNP ,/, Ill./NNP \n",
        "-day/JJ suspension/NN ;/: |      Fred/NN->NNP      | W./NNP Bonnell/NNP ,/, Bo\n",
        "uspension/NN ;/: Fred/NNP |       W./NN->NNP       | Bonnell/NNP ,/, Boulder/N\n",
        "on/NN ;/: Fred/NNP W./NNP |    Bonnell/NN->NNP     | ,/, Boulder/NNP ,/, Colo.\n",
        "NP W./NNP Bonnell/NNP ,/, |    Boulder/NN->NNP     | ,/, Colo./NNP ,/, $/$ 2,5\n",
        "NN ;/: Michael/NNP J./NNP |     Boorse/NN->NNP     | ,/, Horsham/NNP ,/, Pa./N\n",
        "NNP J./NNP Boorse/NNP ,/, |    Horsham/NN->NNP     | ,/, Pa./NNP ;/: David/NNP\n",
        "e/NNP ,/, Horsham/NNP ,/, |      Pa./NN->NNP       | ;/: David/NNP Chiodo/NNP \n",
        ",/, Pa./NNP ;/: David/NNP |     Chiodo/NN->NNP     | ,/, Dallas/NNP ,/, $/$ 5,\n",
        "$ 5,000/CD *U*/-NONE- ,/, |    barred/VBN->VBD     | *-3/-NONE- as/IN a/DT pri\n",
        "/IN a/DT principal/NN ;/: |    Camille/NN->NNP     | Chafic/NNP Cotran/NNP ,/,\n",
        "ncipal/NN ;/: Camille/NNP |     Chafic/NN->NNP     | Cotran/NNP ,/, London/NNP\n",
        "/: Camille/NNP Chafic/NNP |     Cotran/NN->NNP     | ,/, London/NNP ,/, $/$ 25\n",
        "William/NNP Curry/NNP ,/, |     fined/NN->VBN      | *-4/-NONE- $/$ 5,000/CD *\n",
        "$ 5,000/CD *U*/-NONE- ,/, |    ordered/VBD->VBN    | *-4/-NONE- *-2/-NONE- to/\n",
        "4/-NONE- *-2/-NONE- to/TO |    disgorge/NN->VB     | $/$ 30,000/CD *U*/-NONE- \n",
        " 30,000/CD *U*/-NONE- ,/, |    one-year/NN->JJ     | suspension/NN ./.\n",
        "     John/NNP William/NNP |     Davis/NN->NNP      | ,/, Colonsville/NNP ,/, M\n",
        "William/NNP Davis/NNP ,/, |  Colonsville/NN->NNP   | ,/, Miss./NNP ,/, fined/V\n",
        "P ,/, Colonsville/NNP ,/, |     Miss./NN->NNP      | ,/, fined/VBN *-4/-NONE- \n",
        "lle/NNP ,/, Miss./NNP ,/, |     fined/NN->VBN      | *-4/-NONE- $/$ 200,000/CD\n",
        "200,000/CD *U*/-NONE- ;/: |    Jeffrey/NN->NNP     | Gerard/NNP Dompierre/NNP \n",
        "U*/-NONE- ;/: Jeffrey/NNP |     Gerard/NN->NNP     | Dompierre/NNP ,/, Valrico\n",
        "/: Jeffrey/NNP Gerard/NNP |   Dompierre/NN->NNP    | ,/, Valrico/NNP ,/, Fla./\n",
        "ard/NNP Dompierre/NNP ,/, |    Valrico/NN->NNP     | ,/, Fla./NNP ,/, $/$ 5,00\n",
        ",000/CD *U*/-NONE- and/CC |     10-day/NN->JJ      | suspension/NN ;/: Eugene/\n",
        "-day/JJ suspension/NN ;/: |     Eugene/NN->NNP     | Michael/NNP Felten/NNP ,/\n",
        "/: Eugene/NNP Michael/NNP |     Felten/NN->NNP     | ,/, La/NNP Canada/NNP ,/,\n",
        "da/NNP ,/, Calif./NNP ,/, |     fined/NN->VBN      | *-3/-NONE- $/$ 25,000/CD \n",
        " 25,000/CD *U*/-NONE- ,/, |    ordered/VBD->VBN    | *-3/-NONE- *-2/-NONE- to/\n",
        "3/-NONE- *-2/-NONE- to/TO |    disgorge/NN->VB     | $/$ 16,072/CD *U*/-NONE- \n",
        ",072/CD *U*/-NONE- and/CC |   suspended/VBD->VBN   | *-3/-NONE- one/CD year/NN\n",
        "-NONE- one/CD year/NN ;/: |     Marion/NN->NNP     | Stewart/NNP Spitler/NNP ,\n",
        "CD year/NN ;/: Marion/NNP |    Stewart/NN->NNP     | Spitler/NNP ,/, La/NNP Ca\n",
        "/: Marion/NNP Stewart/NNP |    Spitler/NN->NNP     | ,/, La/NNP Canada/NNP ,/,\n",
        ",/, La/NNP Canada/NNP ,/, |     fined/NN->VBN      | *-5/-NONE- $/$ 15,000/CD \n",
        " 15,000/CD *U*/-NONE- ,/, |    ordered/VBD->VBN    | *-5/-NONE- *-1/-NONE- to/\n",
        "5/-NONE- *-1/-NONE- to/TO |    disgorge/NN->VB     | $/$ 18,444/CD *U*/-NONE- \n",
        ",444/CD *U*/-NONE- and/CC |   suspended/VBD->VBN   | *-5/-NONE- six/CD months/\n",
        "                  Mr./NNP |     Felten/NN->NNP     | said/VBD ,/, ``/`` We/PRP\n",
        "`` We/PRP got/VBD what/WP |   *T*-252/NN->-NONE-   | amounted/VBD to/TO a/DT p\n",
        "BD what/WP *T*-252/-NONE- |    amounted/NN->VBD    | to/TO a/DT parking/NN tic\n",
        ", and/CC by/IN *-1/-NONE- |  complaining/NN->VBG   | about/IN it/PRP ,/, we/PR\n",
        "ed/VBD up/RP with/IN a/DT |     sizable/NN->JJ     | fine/NN and/CC suspension\n",
        "   Victor/NNP Stanley/NNP |    Fishman/NN->NNP     | ,/, Longwood/NNP ,/, Fla.\n",
        "anley/NNP Fishman/NNP ,/, |    Longwood/NN->NNP    | ,/, Fla./NNP ,/, fined/VB\n",
        "wood/NNP ,/, Fla./NNP ,/, |     fined/NN->VBN      | *-1/-NONE- $/$ 25,000/CD \n",
        "/: William/NNP Harold/NNP |     Floyd/NN->NNP      | ,/, Houston/NNP ,/, $/$ 1\n",
        " Harold/NNP Floyd/NNP ,/, |    Houston/NN->NNP     | ,/, $/$ 100,000/CD *U*/-N\n",
        "U*/-NONE- ;/: Michael/NNP |    Anthony/NN->NNP     | Houston/NNP ,/, Bronx/NNP\n",
        ": Michael/NNP Anthony/NNP |    Houston/NN->NNP     | ,/, Bronx/NNP ,/, N.Y./NN\n",
        "thony/NNP Houston/NNP ,/, |     Bronx/NN->NNP      | ,/, N.Y./NNP ,/, $/$ 15,0\n",
        " 15,000/CD *U*/-NONE- ;/: |      Amin/NN->NNP      | Jalaalwalikraam/NNP ,/, G\n",
        "D *U*/-NONE- ;/: Amin/NNP | Jalaalwalikraam/NN->NNP | ,/, Glenham/NNP ,/, N.Y./\n",
        "P Jalaalwalikraam/NNP ,/, |    Glenham/NN->NNP     | ,/, N.Y./NNP ,/, $/$ 60,0\n",
        "E- ;/: Richard/NNP F./NNP |     Knapp/NN->NNP      | ,/, London/NNP ,/, $/$ 10\n",
        "-day/JJ suspension/NN ;/: |    Deborah/NN->NNP     | Renee/NNP Martin/NNP ,/, \n",
        "ension/NN ;/: Deborah/NNP |     Renee/NN->NNP      | Martin/NNP ,/, St./NNP Lo\n",
        "*U*/-NONE- ;/: Joseph/NNP |    Francis/NN->NNP     | Muscolina/NNP Jr./NNP ,/,\n",
        "/: Joseph/NNP Francis/NNP |   Muscolina/NN->NNP    | Jr./NNP ,/, Palisades/NNP\n",
        "Muscolina/NNP Jr./NNP ,/, |   Palisades/NN->NNP    | Park/NNP ,/, N.J./NNP ,/,\n",
        "Jr./NNP ,/, Palisades/NNP |      Park/NN->NNP      | ,/, N.J./NNP ,/, $/$ 15,0\n",
        "NE- ;/: Robert/NNP C./NNP |    Najarian/NN->NNP    | ,/, Brooklyn/NNP Park/NNP\n",
        "rian/NNP ,/, Brooklyn/NNP |      Park/NN->NNP      | ,/, Minn./NNP ,/, $/$ 15,\n",
        "Brooklyn/NNP Park/NNP ,/, |     Minn./NN->NNP      | ,/, $/$ 15,000/CD *U*/-NO\n",
        " 15,000/CD *U*/-NONE- ;/: |     Edward/NN->NNP     | Robert/NNP Norwick/NNP ,/\n",
        ";/: Edward/NNP Robert/NNP |    Norwick/NN->NNP     | ,/, Nesconset/NNP ,/, N.Y\n",
        "obert/NNP Norwick/NNP ,/, |   Nesconset/NN->NNP    | ,/, N.Y./NNP ,/, $/$ 30,0\n",
        "       Charles/NNP D./NNP |     Phipps/NN->NNP     | Sr./NNP ,/, Hermitage/NNP\n",
        "les/NNP D./NNP Phipps/NNP |      Sr./NN->NNP       | ,/, Hermitage/NNP ,/, Pa.\n",
        "NNP ,/, Hermitage/NNP ,/, |      Pa./NN->NNP       | ,/, fined/VBN *-1/-NONE- \n",
        "itage/NNP ,/, Pa./NNP ,/, |     fined/NN->VBN      | *-1/-NONE- $/$ 10,000/CD \n",
        " *U*/-NONE- ;/: David/NNP |     Scott/NN->NNP      | Rankin/NNP ,/, Lake/NNP S\n",
        "- ;/: David/NNP Scott/NNP |     Rankin/NN->NNP     | ,/, Lake/NNP St./NNP Loui\n",
        "NNP St./NNP Louis/NNP ,/, |      Mo./NN->NNP       | ,/, $/$ 15,000/CD *U*/-NO\n",
        " 15,000/CD *U*/-NONE- ;/: |     Leigh/NN->NNP      | A./NNP Sanderoff/NNP ,/, \n",
        "ONE- ;/: Leigh/NNP A./NNP |   Sanderoff/NN->NNP    | ,/, Gaithersburg/NNP ,/, \n",
        " A./NNP Sanderoff/NNP ,/, |  Gaithersburg/NN->NNP  | ,/, Md./NNP ,/, fined/VBN\n",
        " ,/, Gaithersburg/NNP ,/, |      Md./NN->NNP       | ,/, fined/VBN *-2/-NONE- \n",
        "sburg/NNP ,/, Md./NNP ,/, |     fined/NN->VBN      | *-2/-NONE- $/$ 45,000/CD \n",
        " 45,000/CD *U*/-NONE- ,/, |    ordered/VBD->VBN    | *-2/-NONE- *-3/-NONE- to/\n",
        "2/-NONE- *-3/-NONE- to/TO |    disgorge/NN->VB     | $/$ 12,252/CD *U*/-NONE- \n",
        " 12,252/CD *U*/-NONE- ;/: |     Sandra/NN->NNP     | Ann/NNP Smith/NNP ,/, Rid\n",
        "*U*/-NONE- ;/: Sandra/NNP |      Ann/NN->NNP       | Smith/NNP ,/, Ridgefield/\n",
        "NNP Ann/NNP Smith/NNP ,/, |   Ridgefield/NN->NNP   | ,/, N.J./NNP ,/, $/$ 15,0\n",
        "ONE- ;/: James/NNP G./NNP |     Spence/NN->NNP     | ,/, Aloha/NNP ,/, Ore./NN\n",
        "NNP G./NNP Spence/NNP ,/, |     Aloha/NN->NNP      | ,/, Ore./NNP ,/, $/$ 5,00\n",
        "nce/NNP ,/, Aloha/NNP ,/, |      Ore./NN->NNP      | ,/, $/$ 5,000/CD *U*/-NON\n",
        "onth/JJ suspension/NN ;/: |      Mona/NN->NNP      | Sun/NNP ,/, Jamaica/NNP E\n",
        "uspension/NN ;/: Mona/NNP |      Sun/NN->NNP       | ,/, Jamaica/NNP Estates/N\n",
        " ;/: Mona/NNP Sun/NNP ,/, |    Jamaica/NN->NNP     | Estates/NNP ,/, N.Y./NNP \n",
        "P Sun/NNP ,/, Jamaica/NNP |    Estates/NN->NNP     | ,/, N.Y./NNP ,/, $/$ 60,0\n",
        "U*/-NONE- ;/: William/NNP |   Swearingen/NN->NNP   | ,/, Minneapolis/NNP ,/, $\n",
        "uspension/NN ;/: John/NNP |      Bew/NN->NNP       | Wong/NNP ,/, San/NNP Fran\n",
        "n/NN ;/: John/NNP Bew/NNP |      Wong/NN->NNP      | ,/, San/NNP Francisco/NNP\n",
        " 25,000/CD *U*/-NONE- ;/: |     Rabia/NN->NNP      | M./NNP Zayed/NNP ,/, San/\n",
        "ONE- ;/: Rabia/NNP M./NNP |     Zayed/NN->NNP      | ,/, San/NNP Francisco/NNP\n",
        "ther/DT barred/VBN nor/CC |   suspended/VBD->VBN   | *-1/-NONE- :/: Stephanie/\n",
        "pended/VBN *-1/-NONE- :/: |   Stephanie/NN->NNP    | Veselich/NNP Enright/NNP \n",
        "/-NONE- :/: Stephanie/NNP |    Veselich/NN->NNP    | Enright/NNP ,/, Rolling/N\n",
        "tephanie/NNP Veselich/NNP |    Enright/NN->NNP     | ,/, Rolling/NNP Hills/NNP\n",
        "elich/NNP Enright/NNP ,/, |    Rolling/NN->NNP     | Hills/NNP ,/, Calif./NNP \n",
        "ls/NNP ,/, Calif./NNP ,/, |     fined/NN->VBN      | *-3/-NONE- $/$ 2,500/CD *\n",
        ",500/CD *U*/-NONE- and/CC |    ordered/VBD->VBN    | *-3/-NONE- *-4/-NONE- to/\n",
        "3/-NONE- *-4/-NONE- to/TO |    disgorge/NN->VB     | $/$ 11,762/CD *U*/-NONE- \n",
        " 11,762/CD *U*/-NONE- ;/: |     Stuart/NN->NNP     | Lane/NNP Russel/NNP ,/, G\n",
        "- ;/: Stuart/NNP Lane/NNP |     Russel/NN->NNP     | ,/, Glendale/NNP ,/, Cali\n",
        "P Lane/NNP Russel/NNP ,/, |    Glendale/NN->NNP    | ,/, Calif./NNP ,/, fined/\n",
        "le/NNP ,/, Calif./NNP ,/, |     fined/NN->VBN      | *-5/-NONE- $/$ 2,500/CD *\n",
        ",500/CD *U*/-NONE- and/CC |    ordered/VBD->VBN    | *-5/-NONE- *-6/-NONE- to/\n",
        "5/-NONE- *-6/-NONE- to/TO |    disgorge/NN->VB     | $/$ 14,821/CD *U*/-NONE- \n",
        " 14,821/CD *U*/-NONE- ;/: |     Devon/NN->NNP      | Nilson/NNP Dahl/NNP ,/, F\n",
        " *U*/-NONE- ;/: Devon/NNP |     Nilson/NN->NNP     | Dahl/NNP ,/, Fountain/NNP\n",
        " ;/: Devon/NNP Nilson/NNP |      Dahl/NN->NNP      | ,/, Fountain/NNP Valley/N\n",
        "P Nilson/NNP Dahl/NNP ,/, |    Fountain/NN->NNP    | Valley/NNP ,/, Calif./NNP\n",
        "ey/NNP ,/, Calif./NNP ,/, |     fined/NN->VBN      | *-7/-NONE- $/$ 82,389/CD \n",
        "                  Mr./NNP |      Dahl/NN->NNP      | ,/, a/DT registered/VBN r\n",
        "VBD 0/-NONE- he/PRP ``/`` |    screwed/NN->VBD     | up/RP ''/'' because/IN he\n",
        " he/PRP ``/`` screwed/VBD |       up/IN->RP        | ''/'' because/IN he/PRP d\n",
        "B 0/-NONE- he/PRP was/VBD |    breaking/NN->VBG    | securities/NNS laws/NNS .\n",
        "                    ``/`` |   Insurance/NNP->NN    | agents/NNS have/VBP been/\n",
        "       ``/`` Insurance/NN |     agents/NN->NNS     | have/VBP been/VBN forced/\n",
        "e/VBP been/VBN forced/VBN |    *-158/NN->-NONE-    | by/IN their/PRP$ companie\n",
        "coming/VBG registered/VBN |      reps/NN->NNS      | ,/, ''/'' he/PRP said/VBD\n",
        "/VBG compliance/NN and/CC |  security-type/NN->JJ  | training/NN so/IN that/IN\n",
        "urity-type/JJ training/NN |       so/RB->IN        | that/IN we/PRP can/MD avo\n",
        "IN we/PRP can/MD avoid/VB |     stupid/NN->JJ      | mistakes/NNS ./. ''/''\n",
        "can/MD avoid/VB stupid/JJ |    mistakes/NN->NNS    | ./. ''/''\n",
        "                   The/DT |   following/VBG->NN    | *ICH*-4/-NONE- were/VBD b\n",
        "CC ,/, where/WRB */-NONE- |     noted/VBD->VBN     | *-1/-NONE- *T*-2/-NONE- ,\n",
        "1/-NONE- *T*-2/-NONE- ,/, |   suspended/VBD->VBN   | *-3/-NONE- and/CC consent\n",
        "ded/VBN *-3/-NONE- and/CC |   consented/NN->VBD    | to/TO findings/NNS withou\n",
        "NNS without/IN *-3/-NONE- |   admitting/NN->VBG    | or/CC denying/VBG wrongdo\n",
        "NONE- admitting/VBG or/CC |    denying/NN->VBG     | wrongdoing/NN :/: Edward/\n",
        "ing/VBG wrongdoing/NN :/: |     Edward/NN->NNP     | L./NNP Cole/NNP ,/, Jacks\n",
        "/NN :/: Edward/NNP L./NNP |      Cole/NN->NNP      | ,/, Jackson/NNP ,/, Miss.\n",
        "d/NNP L./NNP Cole/NNP ,/, |    Jackson/NN->NNP     | ,/, Miss./NNP ,/, $/$ 10,\n",
        "e/NNP ,/, Jackson/NNP ,/, |     Miss./NN->NNP      | ,/, $/$ 10,000/CD *U*/-NO\n",
        "CD *U*/-NONE- fine/NN ;/: |      Rita/NN->NNP      | Rae/NNP Cross/NNP ,/, Den\n",
        "ONE- fine/NN ;/: Rita/NNP |      Rae/NN->NNP       | Cross/NNP ,/, Denver/NNP \n",
        "e/NN ;/: Rita/NNP Rae/NNP |     Cross/NN->NNP      | ,/, Denver/NNP ,/, $/$ 2,\n",
        "NNP Rae/NNP Cross/NNP ,/, |     Denver/NN->NNP     | ,/, $/$ 2,500/CD *U*/-NON\n",
        "/: Thomas/NNP Richard/NNP |    Meinders/NN->NNP    | ,/, Colorado/NNP Springs/\n",
        "ders/NNP ,/, Colorado/NNP |   Springs/NNPS->NNP    | ,/, Colo./NNP ,/, $/$ 2,0\n",
        "CD *U*/-NONE- fine/NN ,/, |    five-day/NN->JJ     | suspension/NN and/CC eigh\n",
        "y/JJ suspension/NN and/CC |   eight-month/NN->JJ   | suspension/NN as/IN a/DT \n",
        "/NN ;/: Ronald/NNP A./NNP |     Cutrer/NN->NNP     | ,/, Baton/NNP Rouge/NNP ,\n",
        "NNP A./NNP Cutrer/NNP ,/, |     Baton/NN->NNP      | Rouge/NNP ,/, La./NNP ,/,\n",
        " Cutrer/NNP ,/, Baton/NNP |     Rouge/NN->NNP      | ,/, La./NNP ,/, $/$ 15,00\n",
        ", Baton/NNP Rouge/NNP ,/, |      La./NN->NNP       | ,/, $/$ 15,000/CD *U*/-NO\n",
        "*U*/-NONE- fine/NN and/CC |    one-month/NN->JJ    | suspension/NN ;/: Karl/NN\n",
        "onth/JJ suspension/NN ;/: |      Karl/NN->NNP      | Grant/NNP Hale/NNP ,/, Mi\n",
        "uspension/NN ;/: Karl/NNP |     Grant/NN->NNP      | Hale/NNP ,/, Midvale/NNP \n",
        "NN ;/: Karl/NNP Grant/NNP |      Hale/NN->NNP      | ,/, Midvale/NNP ,/, Utah/\n",
        "NP Grant/NNP Hale/NNP ,/, |    Midvale/NN->NNP     | ,/, Utah/NNP ,/, $/$ 15,0\n",
        "e/NNP ,/, Midvale/NNP ,/, |      Utah/NN->NNP      | ,/, $/$ 15,000/CD *U*/-NO\n",
        "CD *U*/-NONE- fine/NN ;/: |    Clinton/NN->NNP     | P./NNP Hayne/NNP ,/, New/\n",
        "NN ;/: Clinton/NNP P./NNP |     Hayne/NN->NNP      | ,/, New/NNP Orleans/NNP ,\n",
        "*U*/-NONE- fine/NN and/CC |    one-week/NN->JJ     | suspension/NN ;/: Richard\n",
        "NN ;/: Richard/NNP M./NNP |      Kane/NN->NNP      | ,/, Coconut/NNP Creek/NNP\n",
        "d/NNP M./NNP Kane/NNP ,/, |    Coconut/NN->NNP     | Creek/NNP ,/, Fla./NNP ,/\n",
        "ne/NN ;/: John/NNP B./NNP |    Merrick/NN->NNP     | ,/, Aurora/NNP ,/, Colo./\n",
        "NP B./NNP Merrick/NNP ,/, |     Aurora/NN->NNP     | ,/, Colo./NNP ,/, $/$ 1,0\n",
        "*U*/-NONE- fine/NN and/CC |     10-day/NN->JJ      | suspension/NN ;/: John/NN\n",
        "on/NN ;/: John/NNP P./NNP |     Miller/NN->NNP     | ,/, Baton/NNP Rouge/NNP ,\n",
        "NNP P./NNP Miller/NNP ,/, |     Baton/NN->NNP      | Rouge/NNP ,/, $/$ 2,000/C\n",
        " Miller/NNP ,/, Baton/NNP |     Rouge/NN->NNP      | ,/, $/$ 2,000/CD *U*/-NON\n",
        "*U*/-NONE- fine/NN and/CC |    two-week/NN->JJ     | suspension/NN ;/: Randolp\n",
        "week/JJ suspension/NN ;/: |    Randolph/NN->NNP    | K./NNP Pace/NNP ,/, New/N\n",
        "N ;/: Randolph/NNP K./NNP |      Pace/NN->NNP      | ,/, New/NNP York/NNP ,/, \n",
        "*U*/-NONE- fine/NN and/CC |     90-day/NN->JJ      | suspension/NN ;/: Brian/N\n",
        "-day/JJ suspension/NN ;/: |     Brian/NN->NNP      | D./NNP Pitcher/NNP ,/, Ne\n",
        "n/NN ;/: Brian/NNP D./NNP |    Pitcher/NN->NNP     | ,/, New/NNP Providence/NN\n",
        "e/NN ;/: Wayne/NNP A./NNP |     Russo/NN->NNP      | ,/, Bridgeville/NNP ,/, P\n",
        "/NNP A./NNP Russo/NNP ,/, |  Bridgeville/NN->NNP   | ,/, Pa./NNP ,/, $/$ 4,000\n",
        "P ,/, Bridgeville/NNP ,/, |      Pa./NN->NNP       | ,/, $/$ 4,000/CD *U*/-NON\n",
        "*U*/-NONE- fine/NN and/CC |     15-day/NN->JJ      | suspension/NN ;/: Orville\n",
        "-day/JJ suspension/NN ;/: |    Orville/NN->NNP     | Leroy/NNP Sandberg/NNP ,/\n",
        "ension/NN ;/: Orville/NNP |     Leroy/NN->NNP      | Sandberg/NNP ,/, Aurora/N\n",
        ";/: Orville/NNP Leroy/NNP |    Sandberg/NN->NNP    | ,/, Aurora/NNP ,/, Colo./\n",
        "eroy/NNP Sandberg/NNP ,/, |     Aurora/NN->NNP     | ,/, Colo./NNP ,/, $/$ 3,5\n",
        "*U*/-NONE- fine/NN and/CC |     10-day/NN->JJ      | suspension/NN ;/: Richard\n",
        "NN ;/: Richard/NNP T./NNP |    Marchese/NN->NNP    | ,/, Las/NNP Vegas/NNP ,/,\n",
        "P T./NNP Marchese/NNP ,/, |      Las/NN->NNP       | Vegas/NNP ,/, Nev./NNP ,/\n",
        " Marchese/NNP ,/, Las/NNP |     Vegas/NN->NNP      | ,/, Nev./NNP ,/, $/$ 5,00\n",
        ",/, Las/NNP Vegas/NNP ,/, |      Nev./NN->NNP      | ,/, $/$ 5,000/CD *U*/-NON\n",
        ",000/CD *U*/-NONE- and/CC |    one-year/NN->JJ     | suspension/NN ;/: Eric/NN\n",
        "year/JJ suspension/NN ;/: |      Eric/NN->NNP      | G./NNP Monchecourt/NNP ,/\n",
        "on/NN ;/: Eric/NNP G./NNP |  Monchecourt/NN->NNP   | ,/, Las/NNP Vegas/NNP ,/,\n",
        "./NNP Monchecourt/NNP ,/, |      Las/NN->NNP       | Vegas/NNP ,/, $/$ 5,000/C\n",
        "nchecourt/NNP ,/, Las/NNP |     Vegas/NN->NNP      | ,/, $/$ 5,000/CD *U*/-NON\n",
        ",000/CD *U*/-NONE- and/CC |    one-year/NN->JJ     | suspension/NN ;/: and/CC \n",
        "/NN ;/: and/CC Robert/NNP |    Gerhard/NN->NNP     | Smith/NNP ,/, Carson/NNP \n",
        "Gerhard/NNP Smith/NNP ,/, |     Carson/NN->NNP     | City/NNP ,/, Nev./NNP ,/,\n",
        ", Carson/NNP City/NNP ,/, |      Nev./NN->NNP      | ,/, two-year/JJ suspensio\n",
        "RP was/VBD n't/RB ever/RB |    actively/NN->RB     | engaged/VBN *-1/-NONE- in\n",
        "'t/RB ever/RB actively/RB |    engaged/NN->VBN     | *-1/-NONE- in/IN any/DT s\n",
        "/VBD *T*-2/-NONE- Mr./NNP |     Cutrer/NN->NNP     | ./.\n",
        "ONE- was/VBD just/RB a/DT |     stupid/NN->JJ      | mistake/NN */-NONE- to/TO\n",
        "NONE- to/TO get/VB the/DT |     license/VB->NN     | ,/, ''/'' he/PRP said/VBD\n",
        "``/`` I/PRP 'd/MD just/RB |       as/IN->RB        | soon/RB not/RB get/VB int\n",
        "                          |    Program/NNP->NN     | traders/NNS are/VBP fond/\n",
        "am/NN traders/NNS are/VBP |      fond/NN->JJ       | of/IN *-1/-NONE- predicti\n",
        "IN if/IN they/PRP are/VBP |    blocked/NN->VBN     | *-159/-NONE- in/IN the/DT\n",
        "y/PRP are/VBP blocked/VBN |    *-159/NN->-NONE-    | in/IN the/DT U.S./NNP ,/,\n",
        "hey/PRP will/MD simply/RB |    emigrate/NN->VB     | to/TO foreign/JJ stock/NN\n",
        "C Tokyo/NNP ,/, where/WRB | computer-driven/NN->JJ | trading/NN now/RB plays/V\n",
        "iven/JJ trading/NN now/RB |     plays/NN->VBZ      | a/DT small/JJ but/CC grow\n",
        "ONE- a/DT number/NN of/IN |    hurdles/NN->NNS     | loom/VBP ./.\n",
        "mber/NN of/IN hurdles/NNS |      loom/NN->VBP      | ./.\n",
        "                          |   Government/NNP->NN   | officials/NNS ,/, especia\n",
        " ,/, probably/RB would/MD |     resist/NN->VB      | any/DT onslaught/NN of/IN\n",
        "trying/VBG */-NONE- to/TO |      shrug/NN->VB      | off/RP the/DT U.S./NNP fu\n",
        "G */-NONE- to/TO shrug/VB |       off/IN->RP       | the/DT U.S./NNP furor/NN \n",
        "RP$ activities/NNS and/CC |    marching/NN->VBG    | abroad/RB with/IN their/P\n",
        "s/NNS and/CC marching/VBG |     abroad/NN->RB      | with/IN their/PRP$ busine\n",
        "                 U.S./NNP |   stock-index/JJ->NN   | futures/NNS are/VBP n't/R\n",
        "N hours/NNS do/VBP n't/RB |     overlap/NN->VB     | ./.\n",
        "                   It/PRP |       all/RB->DT       | adds/VBZ up/RP to/TO a/DT\n",
        "/TO a/DT barrier/NN to/TO | American-style/NN->JJ  | index/NN arbitrage/NN ,/,\n",
        "am/NN trading/NN that/WDT |   *T*-253/NN->-NONE-   | seeks/VBZ *-1/-NONE- to/T\n",
        "eeks/VBZ *-1/-NONE- to/TO |     exploit/NN->VB     | brief/JJ differences/NNS \n",
        "                          |       Yet/RB->CC       | it/PRP *EXP*-1/-NONE- is/\n",
        "fficult/JJ */-NONE- to/TO |     imagine/NN->VB     | Japan/NNP racing/VBG *-2/\n",
        "o/TO imagine/VB Japan/NNP |     racing/NN->VBG     | *-2/-NONE- to/TO introduc\n",
        "-NONE- to/TO introduce/VB |  Chicago-style/NN->JJ  | stock-index/JJ futures/NN\n",
        "try/NNP already/RB is/VBZ |  scrutinizing/NN->VBG  | institutional/JJ investor\n",
        "cy/NN changes/NNS are/VBP |    needed/VBD->VBN     | *-160/-NONE- */-NONE- to/\n",
        "es/NNS are/VBP needed/VBN |    *-160/NN->-NONE-    | */-NONE- to/TO cope/VB wi\n",
        "160/-NONE- */-NONE- to/TO |      cope/NN->VB       | with/IN the/DT current/JJ\n",
        "VBD 0/-NONE- *T*-2/-NONE- |     Makato/NN->NNP     | Utsumi/NNP ,/, vice/NN mi\n",
        "- *T*-2/-NONE- Makato/NNP |     Utsumi/NN->NNP     | ,/, vice/NN minister/NN f\n",
        "                          |    Program/NNP->NN     | trading/NN has/VBZ taken/\n",
        "               Program/NN |    trading/VBG->NN     | has/VBZ taken/VBN off/RB \n",
        "ding/NN has/VBZ taken/VBN |       off/RP->RB       | in/IN Japan/NNP since/IN \n",
        "POS introduction/NN of/IN |   home-market/NN->JJ   | stock-index/NN futures/NN\n",
        "n/NN of/IN home-market/JJ |   stock-index/JJ->NN   | futures/NNS trading/NN on\n",
        "N the/DT Tokyo/NNP and/CC |     Osaka/NN->NNP      | stock/NN exchanges/NNS ./\n",
        "and/CC Osaka/NNP stock/NN |   exchanges/NN->NNS    | ./.\n",
        "CC regulators/NNS are/VBP |      wary/NN->JJ       | ./.\n",
        " They/PRP have/VBP n't/RB |   forgotten/NN->VBN    | the/DT leap/NN in/IN shar\n",
        "are/NN prices/NNS last/JJ |      Dec./NN->NNP      | 7/CD ,/, when/WRB the/DT \n",
        "DT first/JJ bout/NN of/IN |   foreign-led/NN->JJ   | index/NN arbitrage/NN dro\n",
        "/JJ index/NN arbitrage/NN |     drove/NN->VBD      | stocks/NNS skyward/RB in/\n",
        "e/NN drove/VBD stocks/NNS |     skyward/NN->RB     | in/IN the/DT last/JJ half\n",
        "/JJ regulators/NNS who/WP |   *T*-254/NN->-NONE-   | thought/VBD 0/-NONE- they\n",
        "y/PRP had/VBD written/VBN |     enough/RB->JJ      | rules/NNS 0/-NONE- *T*-2/\n",
        "2/-NONE- to/TO prevent/VB |      such/JJ->PDT      | a/DT swing/NN ./.\n",
        " prevent/VB such/PDT a/DT |      swing/VB->NN      | ./.\n",
        "NNP had/VBD set/VBN up/RP |   mechanisms/NN->NNS   | 0/-NONE- *-1/-NONE- to/TO\n",
        "0/-NONE- *-1/-NONE- to/TO |      limit/NN->VB      | how/WRB far/JJ futures/NN\n",
        "E- to/TO limit/VB how/WRB |       far/RB->JJ       | futures/NNS prices/NNS co\n",
        "s/NNS prices/NNS could/MD |      fall/NN->VB       | *T*-2/-NONE- in/IN a/DT s\n",
        "- to/TO give/VB market/NN |   operators/NN->NNS    | the/DT authority/NN */-NO\n",
        "thority/NN */-NONE- to/TO |     suspend/NN->VB     | trading/NN in/IN futures/\n",
        "                    ``/`` |      Maybe/NN->RB      | it/PRP was/VBD n't/RB eno\n",
        "ors/NNS have/VBP since/IN |   tightened/NN->VBN    | controls/NNS on/IN index-\n",
        "ed/VBN controls/NNS on/IN |  index-related/NN->JJ  | stock/NN purchases/NNS ./\n",
        "rities/NNS houses/NNS ,/, |     though/RB->IN      | the/DT Japanese/NNP are/V\n",
        "/NNS ,/, though/IN the/DT |    Japanese/JJ->NNP    | are/VBP playing/VBG catch\n",
        " firms/NNS ,/, notably/RB |    Salomon/NN->NNP     | Inc./NNP and/CC Morgan/NN\n",
        "NNP Inc./NNP ,/, have/VBP |     reaped/NN->VBN     | a/DT hefty/JJ chunk/NN of\n",
        "es/NNS firms/NNS that/WDT |   *T*-255/NN->-NONE-   | have/VBP stopped/VBN *-1/\n",
        "T *T*-255/-NONE- have/VBP |    stopped/VBD->VBN    | *-1/-NONE- doing/VBG inde\n",
        "                  Both/DT |     Deryck/NN->NNP     | C./NNP Maughan/NNP ,/, wh\n",
        "Both/DT Deryck/NNP C./NNP |    Maughan/NN->NNP     | ,/, who/WP *T*-256/-NONE-\n",
        "NP Maughan/NNP ,/, who/WP |   *T*-256/NN->-NONE-   | heads/VBZ Salomon/NNP in/\n",
        " *T*-256/-NONE- heads/VBZ |    Salomon/NN->NNP     | in/IN Tokyo/NNP ,/, and/C\n",
        "o/NNP ,/, and/CC John/NNP |       S./NN->NNP       | Wadsworth/NNP ,/, who/WP \n",
        "/, and/CC John/NNP S./NNP |   Wadsworth/NN->NNP    | ,/, who/WP *T*-257/-NONE-\n",
        " Wadsworth/NNP ,/, who/WP |   *T*-257/NN->-NONE-   | heads/VBZ Morgan/NNP Stan\n",
        " Stanley/NNP there/RB ,/, |    ascribe/NN->VBP     | a/DT good/JJ part/NN of/I\n",
        "ability/NN */-NONE- to/TO |      offer/NN->VB      | sophisticated/JJ ,/, futu\n",
        "r/VB sophisticated/JJ ,/, | futures-related/NN->JJ | investment/NN strategies/\n",
        "-related/JJ investment/NN |   strategies/NN->NNS   | to/TO big/JJ institutiona\n",
        "PRP do/VBP n't/RB have/VB |     plans/VBZ->NNS     | */-NONE- to/TO cut/VB bac\n",
        "NNS */-NONE- to/TO cut/VB |      back/NN->RB       | ./.\n",
        "P has/VBZ not/RB been/VBN |   disruptive/NN->JJ    | in/IN the/DT markets/NNS \n",
        "here/RB ,/, ''/'' Mr./NNP |    Maughan/NN->NNP     | said/VBD *T*-1/-NONE- ./.\n",
        ": is/VBZ big/JJ enough/RB |   *RNR*-2/NN->-NONE-   | and/CC liquid/NN enough/R\n",
        "nd/CC liquid/NN enough/RB |   *RNR*-2/NN->-NONE-   | that/IN the/DT futures/NN\n",
        "                   The/DT |    British/JJ->NNP     | also/RB are/VBP scrutiniz\n",
        "itish/NNP also/RB are/VBP |  scrutinizing/NN->VBG  | program/NN trades/NNS ./.\n",
        " 0/-NONE- there/EX is/VBZ |     cause/VBP->NN      | for/IN concern/NN at/IN t\n",
        "               London/NNP |     serves/NN->VBZ     | increasingly/RB as/IN a/D\n",
        "                          |     Market/NNP->NN     | professionals/NNS said/VB\n",
        "                Market/NN | professionals/NN->NNS  | said/VBD 0/-NONE- London/\n",
        "on/NNP has/VBZ several/JJ |  attractions/NN->NNS   | ./.\n",
        "                          |     First/NNP->JJ      | ,/, the/DT trading/NN is/\n",
        " the/DT trading/NN is/VBZ |      done/NN->VBN      | *-1/-NONE- over/IN the/DT\n",
        "r/NN and/CC is/VBZ n't/RB |   reported/VBD->VBN    | *-1/-NONE- on/IN either/C\n",
        "rted/VBN *-1/-NONE- on/IN |     either/RB->CC      | the/DT U.S./NNP or/CC Lon\n",
        "n/NNP stock/NN trading/NN |     tapes/NN->NNS      | ./.\n",
        "*-1/-NONE- */-NONE- to/TO |     unwind/NN->VB      | positions/NNS before/IN U\n",
        "ns/NNS before/IN U.S./NNP |    trading/VBG->NN     | begins/VBZ ,/, but/CC at/\n",
        "re/IN U.S./NNP trading/NN |     begins/NN->VBZ     | ,/, but/CC at/IN prices/N\n",
        ", but/CC at/IN prices/NNS |     pegged/NN->VBN     | */-NONE- to/TO the/DT pre\n",
        "ious/JJ session/NN 's/POS |      Big/JJ->NNP       | Board/NNP close/NN ./.\n",
        "RB- *ICH*-1/-NONE- is/VBZ |      done/NN->VBN      | *-161/-NONE- over/IN here\n",
        "-1/-NONE- is/VBZ done/VBN |    *-161/NN->-NONE-    | over/IN here/RB than/IN i\n",
        " *T*-2/-NONE- Richard/NNP |    Barfield/NN->NNP    | ,/, chief/NN investment/N\n",
        "/IN Standard/NNP Life/NNP |   Assurance/NN->NNP    | Co./NNP ,/, which/WDT *T*\n",
        "NNP Co./NNP ,/, which/WDT |   *T*-258/NN->-NONE-   | manages/VBZ about/IN #/# \n",
        " which/WDT *T*-258/-NONE- |    manages/NN->VBZ     | about/IN #/# 15/CD billio\n",
        "ONE- manages/VBZ about/IN |        #/NN->#         | 15/CD billion/CD *U*/-NON\n",
        "B-/-RRB- in/IN United/NNP |    Kingdom/NN->NNP     | institutional/JJ funds/NN\n",
        "       A/DT Financial/NNP |  Times-Stock/NN->NNP   | Exchange/NNP 100-share/JJ\n",
        "es-Stock/NNP Exchange/NNP |    100-share/NN->JJ    | index/NN option/NN contra\n",
        "ract/NN is/VBZ traded/VBN |    *-162/NN->-NONE-    | on/IN the/DT London/NNP S\n",
        "k/NNP Exchange/NNP 's/POS |     Traded/NN->NNP     | Options/NNPS Market/NNP .\n",
        "nge/NNP 's/POS Traded/NNP |    Options/NN->NNPS    | Market/NNP ./.\n",
        "             And/CC an/DT |     FT-SE/NN->NNP      | futures/NNS contract/NN i\n",
        "ational/NNP Financial/NNP |    Futures/NN->NNPS    | Exchange/NNP ./.\n",
        "DT contracts/NNS have/VBP |    gained/VBD->VBN     | a/DT following/NN since/I\n",
        " have/VBP gained/VBN a/DT |   following/VBG->NN    | since/IN the/DT 1987/CD g\n",
        "verage/JJ number/NN of/IN |     FT-SE/NN->NNP      | option/NN contracts/NNS t\n",
        "/VBZ surged/VBN nearly/RB |     tenfold/NN->RB     | since/IN the/DT contract/\n",
        "his/DT year/NN ,/, the/DT |     average/JJ->NN     | of/IN daily/JJ contracts/\n",
        " totaled/VBD 9,118/CD ,/, |       up/RB->IN        | from/IN 4,645/CD a/DT yea\n",
        "    But/CC a/DT survey/NN |      early/JJ->RB      | this/DT summer/NN indicat\n",
        "IN the/DT volume/NN of/IN | index-options/NN->NNS  | trading/NN was/VBD only/R\n",
        "                  This/DT |    compares/NN->VBZ    | with/IN estimates/NNS tha\n",
        "s/DT compares/VBZ with/IN |   estimates/VBZ->NNS   | that/IN the/DT U.S./NNP `\n",
        "/IN the/DT U.S./NNP ``/`` |  derivatives/NN->NNS   | ''/'' market/NN is/VBZ pe\n",
        "haps/RB four/CD times/NNS |       as/IN->RB        | large/JJ as/IN the/DT und\n",
        "         The/DT House/NNP |     voted/VBN->VBD     | *-1/-NONE- to/TO boost/VB\n",
        "oost/VB the/DT federal/JJ |     minimum/NN->JJ     | wage/NN for/IN the/DT fir\n",
        " compromise/NN measure/NN |     backed/NN->VBN     | */-NONE- by/IN President/\n",
        "D after/IN a/DT debate/NN |     replete/NN->JJ     | with/IN complaints/NNS fr\n",
        "aints/NNS from/IN both/DT |   proponents/NN->NNS   | and/CC critics/NNS of/IN \n",
        "of/IN a/DT substantial/JJ |    increase/VB->NN     | in/IN the/DT wage/NN floo\n",
        "                          |   Advocates/NN->NNS    | said/VBD 0/-NONE- the/DT \n",
        " said/VBD 0/-NONE- the/DT | 90-cent-an-hour/NN->JJ | rise/NN ,/, to/TO $/$ 4.2\n",
        "for/IN the/DT working/VBG |      poor/JJ->NN       | ,/, while/IN opponents/NN\n",
        "/VBG poor/NN ,/, while/IN |   opponents/NN->NNS    | argued/VBD that/IN the/DT\n",
        "/, while/IN opponents/NNS |    argued/VBN->VBD     | that/IN the/DT increase/N\n",
        "all/JJ business/NN and/CC |      cost/NN->VB       | many/JJ thousands/NNS of/\n",
        "/CC the/DT legislation/NN |   reflected/NN->VBD    | a/DT compromise/NN agreed\n",
        "ed/VBD a/DT compromise/NN |    agreed/VBD->VBN     | to/TO */-NONE- on/IN Tues\n",
        "after/IN congressional/JJ |  Republicans/NN->NNPS  | urged/VBD the/DT White/NN\n",
        "ouse/NNP *-2/-NONE- to/TO |      bend/NN->VB       | a/DT bit/NN from/IN its/P\n",
        "istance/NN */-NONE- to/TO |   compromise/NN->VB    | ./.\n",
        "                          |       So/RB->IN        | both/DT sides/NNS accepte\n",
        "  So/IN both/DT sides/NNS |   accepted/VBN->VBD    | the/DT compromise/NN ,/, \n",
        "mpromise/NN ,/, which/WDT |   *T*-259/NN->-NONE-   | would/MD lead/VB to/TO th\n",
        "J lifting/NN of/IN the/DT |     minimum/NN->JJ     | wage/NN since/IN a/DT fou\n",
        "/JJ wage/NN since/IN a/DT |    four-year/NN->JJ    | law/NN was/VBD enacted/VB\n",
        "ur-year/JJ law/NN was/VBD |    enacted/NN->VBN     | *-163/-NONE- in/IN 1977/C\n",
        "aw/NN was/VBD enacted/VBN |    *-163/NN->-NONE-    | in/IN 1977/CD ,/, *-163/-\n",
        "/-NONE- in/IN 1977/CD ,/, |    *-163/NN->-NONE-    | raising/VBG the/DT wage/N\n",
        "nder/IN the/DT measure/NN |    passed/VBN->VBD     | */-NONE- yesterday/NN ,/,\n",
        "- yesterday/NN ,/, the/DT |     minimum/NN->JJ     | wage/NN would/MD rise/VB \n",
        "`` There/EX are/VBP no/DT |     smiles/NN->NNS     | about/IN this/DT bill/NN \n",
        "ill/NN ,/, ''/'' Rep./NNP |      Pat/NN->NNP       | Williams/NNP -LRB-/-LRB- \n",
        "/, ''/'' Rep./NNP Pat/NNP |    Williams/NN->NNP    | -LRB-/-LRB- D./NNP ,/, Mo\n",
        "NP -LRB-/-LRB- D./NNP ,/, |      Mont/NN->NNP      | ./. -RRB-/-RRB- said/VBD \n",
        "             But/CC ``/`` |     because/RB->IN     | it/PRP 's/VBZ all/DT 0/-N\n",
        "oing/VBG *-2/-NONE- to/TO |      vote/NN->VB       | for/IN it/PRP ./. ''/''\n",
        "          While/IN the/DT |     minimum/NN->JJ     | wage/NN had/VBD tradition\n",
        "traditionally/RB been/VBN |     pegged/NN->VBN     | *-164/-NONE- at/IN half/P\n",
        "ly/RB been/VBN pegged/VBN |    *-164/NN->-NONE-    | at/IN half/PDT the/DT ave\n",
        "ed/VBN *-164/-NONE- at/IN |      half/DT->PDT      | the/DT average/JJ U.S./NN\n",
        "CD will/MD still/RB be/VB |     less/RBR->JJR      | than/IN 35/CD %/NN of/IN \n",
        "ory/NN pay/NN ,/, Mr./NNP |    Williams/NN->NNP    | said/VBD 0/-NONE- *T*-1/-\n",
        "          But/CC Rep./NNP |     Marge/NN->NNP      | Roukema/NNP -LRB-/-LRB- R\n",
        "But/CC Rep./NNP Marge/NNP |    Roukema/NN->NNP     | -LRB-/-LRB- R./NNP ,/, N.\n",
        "inimum/NN that/IN GOP/NNP | administrations/NN->NNS | have/VBP sought/VBN *T*-1\n",
        "inistrations/NNS have/VBP |     sought/NN->VBN     | *T*-1/-NONE- for/IN many/\n",
        "                 */-NONE- |    Adopting/NN->VBG    | a/DT training-wage/JJ pol\n",
        "/-NONE- Adopting/VBG a/DT |  training-wage/NN->JJ  | policy/NN means/VBZ ``/``\n",
        "`/`` */-NONE- getting/VBG |     beyond/NN->IN      | the/DT nickel/NN and/CC d\n",
        "CC diming/NN of/IN the/DT |     minimum/NN->JJ     | wage/NN ,/, ''/'' Mrs./NN\n",
        "age/NN ,/, ''/'' Mrs./NNP |    Roukema/NN->NNP     | said/VBD 0/-NONE- *T*-1/-\n",
        "ping/VBG *-1/-NONE- to/TO |      limit/NN->VB      | the/DT loss/NN of/IN jobs\n",
        " increase/NN in/IN the/DT |     minimum/NN->JJ     | wage/NN ,/, but/CC they/P\n",
        " but/CC they/PRP have/VBP |     lately/NN->RB      | touted/VBN it/PRP as/RB n\n",
        "ey/PRP have/VBP lately/RB |     touted/NN->VBN     | it/PRP as/RB necessary/JJ\n",
        "tely/RB touted/VBN it/PRP |       as/IN->RB        | necessary/JJ *-2/-NONE- t\n",
        " to/TO help/VB *-3/-NONE- |     impart/NN->VB      | job/NN skills/NNS to/TO e\n",
        "3/-NONE- impart/VB job/NN |     skills/NN->NNS     | to/TO entrants/NNS into/I\n",
        "B job/NN skills/NNS to/TO |    entrants/NN->NNS    | into/IN the/DT work/NN fo\n",
        "abor/NN unions/NNS and/CC |   Democrats/NN->NNPS   | long/RB fought/VBD the/DT\n",
        "NNS and/CC Democrats/NNPS |      long/JJ->RB       | fought/VBD the/DT idea/NN\n",
        "CC Democrats/NNPS long/RB |     fought/NN->VBD     | the/DT idea/NN ,/, but/CC\n",
        "NN ,/, but/CC recently/RB |    acceded/NN->VBD     | to/TO it/PRP in/IN the/DT\n",
        "C 85/CD %/NN of/IN the/DT |     minimum/NN->JJ     | wage/NN ,/, in/IN April/N\n",
        "                          |   Employers/NN->NNS    | can/MD pay/VB the/DT subm\n",
        "f/IN job/NN experience/NN |    *NOT*/NN->-NONE-    | ,/, and/CC for/IN another\n",
        "S if/IN the/DT company/NN |     uses/NNS->VBZ      | a/DT government-certified\n",
        " company/NN uses/VBZ a/DT | government-certified/NN->JJ | training/NN program/NN fo\n",
        "he/DT training/NN wage/NN |     covers/NN->VBZ     | only/JJ workers/NNS who/W\n",
        "ing/NN wage/NN covers/VBZ |      only/RB->JJ       | workers/NNS who/WP *T*-26\n",
        "nly/JJ workers/NNS who/WP |   *T*-260/NN->-NONE-   | are/VBP 16/CD to/TO 19/CD\n",
        " insisted/VBD on/IN an/DT |  unrestricted/NN->JJ   | six-month/JJ training/NN \n",
        "- could/MD be/VB paid/VBN |    *-165/NN->-NONE-    | any/DT time/NN 0/-NONE- a\n",
        "          The/DT U.S./NNP |    Chamber/NN->NNP     | of/IN Commerce/NNP ,/, *-\n",
        "91/CD ``/`` will/MD be/VB |   impossible/NN->JJ    | for/IN many/JJ employers/\n",
        "ossible/JJ for/IN many/JJ |   employers/NN->NNS    | to/TO accommodate/VB and/\n",
        "                          |     Zenith/NN->NNP     | Data/NNP Systems/NNPS Cor\n",
        "               Zenith/NNP |      Data/NN->NNP      | Systems/NNPS Corp./NNP ,/\n",
        " a/DT subsidiary/NN of/IN |     Zenith/NN->NNP     | Electronics/NNP Corp./NNP\n",
        "diary/NN of/IN Zenith/NNP |  Electronics/NN->NNP   | Corp./NNP ,/, received/VB\n",
        "/CD million/CD *U*/-NONE- |      Navy/NN->NNP      | contract/NN for/IN softwa\n",
        "and/CC services/NNS of/IN | microcomputers/NN->NNS | over/IN an/DT 84-month/JJ\n",
        "mputers/NNS over/IN an/DT |    84-month/NN->JJ     | period/NN ./.\n",
        "                          |    Rockwell/NN->NNP    | International/NNP Corp./N\n",
        "/CD million/CD *U*/-NONE- |      Air/NN->NNP       | Force/NNP contract/NN for\n",
        "ion/CD *U*/-NONE- Air/NNP |     Force/NN->NNP      | contract/NN for/IN AC-130\n",
        "               Martin/NNP |    Marietta/NN->NNP    | Corp./NNP was/VBD given/V\n",
        "rp./NNP was/VBD given/VBN |    *-166/NN->-NONE-    | a/DT $/$ 29.9/CD million/\n",
        "/CD million/CD *U*/-NONE- |      Air/NN->NNP       | Force/NNP contract/NN for\n",
        "ion/CD *U*/-NONE- Air/NNP |     Force/NN->NNP      | contract/NN for/IN low-al\n",
        "                          |    Federal/JJ->NNP     | Data/NNP Corp./NNP got/VB\n",
        "              Federal/NNP |      Data/NN->NNP      | Corp./NNP got/VBD a/DT $/\n",
        "/CD million/CD *U*/-NONE- |      Air/NN->NNP       | Force/NNP contract/NN for\n",
        "ion/CD *U*/-NONE- Air/NNP |     Force/NN->NNP      | contract/NN for/IN intell\n",
        "S ,/, T./NNP Marshall/NNP |      Hahn/NN->NNP      | Jr./NNP has/VBZ made/VBN \n",
        "/NNP Bush/NNP mode/NN :/: |      kind/NN->JJ       | and/CC gentle/JJ ./.\n",
        "ode/NN :/: kind/JJ and/CC |     gentle/NN->JJ      | ./.\n",
        "DT question/NN now/RB :/: |       Can/NN->MD       | he/PRP act/VB more/RBR li\n",
        "P act/VB more/RBR like/IN |  hard-charging/NN->JJ  | Teddy/NNP Roosevelt/NNP ?\n",
        " like/IN hard-charging/JJ |     Teddy/NN->NNP      | Roosevelt/NNP ?/.\n",
        "ard-charging/JJ Teddy/NNP |   Roosevelt/NN->NNP    | ?/.\n",
        "                  Mr./NNP |      Hahn/NN->NNP      | ,/, the/DT 62-year-old/JJ\n",
        "./NNP Hahn/NNP ,/, the/DT |   62-year-old/NN->JJ   | chairman/NN and/CC chief/\n",
        "airman/NN and/CC chief/NN |    executive/NN->JJ    | officer/NN of/IN Georgia-\n",
        "duct/NN concern/NN 's/POS |   unsolicited/NN->JJ   | $/$ 3.19/CD billion/CD *U\n",
        " *U*/-NONE- bid/NN for/IN |     Great/JJ->NNP      | Northern/NNP Nekoosa/NNP \n",
        "/VBN the/DT offer/NN a/DT |     public/NN->JJ      | cold/JJ shoulder/NN ,/, a\n",
        "T offer/NN a/DT public/JJ |      cold/NN->JJ       | shoulder/NN ,/, a/DT reac\n",
        "ction/NN 0/-NONE- Mr./NNP |      Hahn/NN->NNP      | has/VBZ n't/RB faced/VBN \n",
        "P Hahn/NNP has/VBZ n't/RB |     faced/NN->VBN      | *T*-2/-NONE- in/IN his/PR\n",
        "WDT *T*-3/-NONE- were/VBD |   negotiated/NN->VBN   | *-1/-NONE- behind/IN the/\n",
        "                          |       So/RB->IN        | far/RB ,/, Mr./NNP Hahn/N\n",
        " So/IN far/RB ,/, Mr./NNP |      Hahn/NN->NNP      | is/VBZ trying/VBG *-1/-NO\n",
        "ying/VBG *-1/-NONE- to/TO |     entice/NN->VB      | Nekoosa/NNP into/IN */-NO\n",
        "oosa/NNP into/IN */-NONE- |  negotiating/NN->VBG   | a/DT friendly/JJ surrende\n",
        "IN *-1/-NONE- talking/VBG |      tough/NN->JJ      | ./.\n",
        "/DT takeover/NN battle/NN |     opens/NN->VBZ      | up/RP the/DT possibility/\n",
        "er/NN battle/NN opens/VBZ |       up/IN->RP        | the/DT possibility/NN of/\n",
        ", with/IN all/DT 0/-NONE- |      that/IN->DT       | implies/VBZ *T*-1/-NONE- \n",
        "N all/DT 0/-NONE- that/DT |    implies/NN->VBZ     | *T*-1/-NONE- ./.\n",
        "IN example/NN ,/, Mr./NNP |      Hahn/NN->NNP      | could/MD face/VB the/DT d\n",
        "NN fall/NN into/IN the/DT |      arms/NN->NNS      | of/IN a/DT rival/NN ./.\n",
        "               *-2/-NONE- |     Given/NN->VBN      | *-3/-NONE- that/DT choice\n",
        "ONE- Given/VBN *-3/-NONE- |      that/IN->DT       | choice/NN ,/, associates/\n",
        "ociates/NNS of/IN Mr./NNP |      Hahn/NN->NNP      | and/CC industry/NN observ\n",
        "hn/NNP and/CC industry/NN |   observers/NN->NNS    | say/VBP 0/-NONE- the/DT f\n",
        "o/WP *T*-1/-NONE- has/VBZ |   developed/VBD->VBN   | a/DT reputation/NN for/IN\n",
        "NN for/IN */-NONE- not/RB |   overpaying/NN->VBG   | for/IN anything/NN --/: w\n",
        "anything/NN --/: would/MD |      fold/NN->VB       | ./.\n",
        "/'' says/VBZ *T*-2/-NONE- |      A.D./NN->NNP      | Correll/NNP ,/, Georgia-P\n",
        "VBZ *T*-2/-NONE- A.D./NNP |    Correll/NN->NNP     | ,/, Georgia-Pacific/NNP '\n",
        "eorgia-Pacific/NNP 's/POS |    executive/NN->JJ    | vice/NN president/NN for/\n",
        "  Says/VBZ *ICH*-1/-NONE- |    long-time/NN->JJ    | associate/NN Jerry/NNP Gr\n",
        "JJ associate/NN Jerry/NNP |    Griffin/NN->NNP     | ,/, vice/NN president/NN \n",
        " development/NN ,/, at/IN |      WTD/NN->NNP       | Industries/NNPS Inc./NNP \n",
        "ment/NN ,/, at/IN WTD/NNP |  Industries/NNP->NNPS  | Inc./NNP :/: ``/`` He/PRP\n",
        " school/NN of/IN */-NONE- |    winning/JJ->VBG     | at/IN any/DT cost/NN ./. \n",
        "nsensus/NN manager/NN ,/, |    insiders/NN->NNS    | say/VBP 0/-NONE- *T*-1/-N\n",
        "anagement/NN committee/NN |    signed/VBN->VBD     | onto/IN the/DT deal/NN --\n",
        "N committee/NN signed/VBD |      onto/NN->IN       | the/DT deal/NN --/: even/\n",
        "to/IN the/DT deal/NN --/: |      even/JJ->RB       | though/IN Mr./NNP Hahn/NN\n",
        "even/RB though/IN Mr./NNP |      Hahn/NN->NNP      | knew/VBD 0/-NONE- he/PRP \n",
        "hough/IN Mr./NNP Hahn/NNP |      knew/NN->VBD      | 0/-NONE- he/PRP wanted/VB\n",
        "fter/IN the/DT company/NN |      early/JJ->RB      | on/IN ,/, says/VBZ 0/-NON\n",
        "ONE- *T*-1/-NONE- Mr./NNP |    Correll/NN->NNP     | ./.\n",
        "                          |  Associates/NNPS->NNS  | say/VBP 0/-NONE- Mr./NNP \n",
        " say/VBP 0/-NONE- Mr./NNP |      Hahn/NN->NNP      | picked/VBD up/RP that/DT \n",
        "0/-NONE- Mr./NNP Hahn/NNP |     picked/NN->VBD     | up/RP that/DT careful/JJ \n",
        "./NNP Hahn/NNP picked/VBD |       up/IN->RP        | that/DT careful/JJ approa\n",
        " picked/VBD up/RP that/DT |     careful/NN->JJ     | approach/NN to/TO managem\n",
        " up/RP that/DT careful/JJ |    approach/VBP->NN    | to/TO management/NN as/IN\n",
        "ent/NN of/IN Virginia/NNP |  Polytechnic/NN->NNP   | Institute/NNP ./.\n",
        "               *-1/-NONE- |    Assuming/NN->VBG    | that/DT post/NN at/IN the\n",
        "  *-1/-NONE- Assuming/VBG |      that/WDT->DT      | post/NN at/IN the/DT age/\n",
        "ONE- Assuming/VBG that/DT |      post/VB->NN       | at/IN the/DT age/NN of/IN\n",
        "NN of/IN 35/CD ,/, he/PRP |    managed/VBN->VBD    | by/IN consensus/NN ,/, as\n",
        "/VBZ the/DT rule/NN in/IN |  universities/NN->NNS  | ,/, says/VBZ 0/-NONE- *T*\n",
        "/-NONE- Warren/NNP H./NNP |    Strother/NN->NNP    | ,/, a/DT university/NN of\n",
        "ho/WP *T*-2/-NONE- is/VBZ |  researching/NN->VBG   | a/DT book/NN on/IN Mr./NN\n",
        "/DT book/NN on/IN Mr./NNP |      Hahn/NN->NNP      | ./.\n",
        "TO take/VB a/DT strong/JJ |      stand/VB->NN      | ./.\n",
        "In/IN 1970/CD ,/, Mr./NNP |      Hahn/NN->NNP      | called/VBD in/RP state/NN\n",
        "0/CD ,/, Mr./NNP Hahn/NNP |    called/VBN->VBD     | in/RP state/NN police/NNS\n",
        "./NNP Hahn/NNP called/VBD |       in/IN->RP        | state/NN police/NNS to/TO\n",
        "called/VBD in/RP state/NN |     police/NN->NNS     | to/TO arrest/VB student/N\n",
        "state/NN police/NNS to/TO |     arrest/NN->VB      | student/NN protesters/NNS\n",
        "o/TO arrest/VB student/NN |   protesters/NN->NNS   | who/WP *T*-3/-NONE- were/\n",
        "/WP *T*-3/-NONE- were/VBD |   occupying/NN->VBG    | a/DT university/NN buildi\n",
        "                  That/DT |   impressed/NN->VBN    | Robert/NNP B./NNP Pamplin\n",
        "sed/VBN Robert/NNP B./NNP |    Pamplin/NN->NNP     | ,/, Georgia-Pacific/NNP '\n",
        "eorgia-Pacific/NNP 's/POS |      chief/JJ->NN      | executive/JJ at/IN the/DT\n",
        "cific/NNP 's/POS chief/NN |    executive/NN->JJ    | at/IN the/DT time/NN ,/, \n",
        "me/NN ,/, whom/WP Mr./NNP |      Hahn/NN->NNP      | had/VBD met/VBN *T*-4/-NO\n",
        " Mr./NNP Hahn/NNP had/VBD |      met/VBD->VBN      | *T*-4/-NONE- while/IN *-1\n",
        "NONE- while/IN *-1/-NONE- |  fundraising/NN->VBG   | for/IN the/DT institute/N\n",
        "raising/VBG for/IN the/DT |    institute/VB->NN    | ./.\n",
        "In/IN 1975/CD ,/, Mr./NNP |    Pamplin/NN->NNP     | enticed/VBD Mr./NNP Hahn/\n",
        "D ,/, Mr./NNP Pamplin/NNP |    enticed/NN->VBD     | Mr./NNP Hahn/NNP into/IN \n",
        "n/NNP enticed/VBD Mr./NNP |      Hahn/NN->NNP      | into/IN */-NONE- joining/\n",
        "Hahn/NNP into/IN */-NONE- |    joining/NN->VBG     | the/DT company/NN as/IN e\n",
        "G the/DT company/NN as/IN |    executive/NN->JJ    | vice/NN president/NN in/I\n",
        "ls/NNS ;/: the/DT move/NN |   befuddled/NN->VBD    | many/JJ in/IN Georgia-Pac\n",
        "           But/CC Mr./NNP |      Hahn/NN->NNP      | rose/VBD swiftly/RB throu\n",
        "Mr./NNP Hahn/NNP rose/VBD |     swiftly/NN->RB     | through/IN the/DT ranks/N\n",
        "ftly/RB through/IN the/DT |     ranks/NN->NNS      | ,/, *-1/-NONE- demonstrat\n",
        " ranks/NNS ,/, *-1/-NONE- | demonstrating/NN->VBG  | a/DT raw/JJ intelligence/\n",
        "E- demonstrating/VBG a/DT |       raw/NN->JJ       | intelligence/NN that/IN h\n",
        " says/VBZ 0/-NONE- he/PRP |      knew/NN->VBD      | 0/-NONE- he/PRP possessed\n",
        " knew/VBD 0/-NONE- he/PRP |   possessed/NN->VBD    | *T*-2/-NONE- early/RB on/\n",
        " physicist/NN ,/, Mr./NNP |      Hahn/NN->NNP      | skipped/VBD first/JJ grad\n",
        "t/NN ,/, Mr./NNP Hahn/NNP |    skipped/NN->VBD     | first/JJ grade/NN because\n",
        "/NNP Hahn/NNP skipped/VBD |      first/RB->JJ      | grade/NN because/IN his/P\n",
        " far/RB above/IN his/PRP$ |   classmates/NN->NNS   | ./.\n",
        "               *-1/-NONE- |     Moving/NN->VBG     | rapidly/RB through/IN sch\n",
        "h/IN school/NN ,/, he/PRP |   graduated/NN->VBD    | Phi/NNP Beta/NNP Kappa/NN\n",
        " ,/, he/PRP graduated/VBD |      Phi/NN->NNP       | Beta/NNP Kappa/NNP from/I\n",
        "PRP graduated/VBD Phi/NNP |      Beta/NN->NNP      | Kappa/NNP from/IN the/DT \n",
        "ated/VBD Phi/NNP Beta/NNP |     Kappa/NN->NNP      | from/IN the/DT University\n",
        "e/DT University/NNP of/IN |    Kentucky/NN->NNP    | at/IN age/NN 18/CD ,/, af\n",
        "/CD ,/, after/IN */-NONE- |    spending/NN->VBG    | only/RB 2/CD 1\\/2/CD year\n",
        "                  Mr./NNP |      Hahn/NN->NNP      | agrees/VBZ that/IN he/PRP\n",
        "he/PRP has/VBZ a/DT ``/`` |    retentive/NN->JJ    | ''/'' memory/NN ,/, but/C\n",
        "ends/NNS say/VBP 0/-NONE- |      that/IN->DT       | 's/VBZ an/DT understateme\n",
        " say/VBP 0/-NONE- that/DT |      's/POS->VBZ       | an/DT understatement/NN .\n",
        "                 They/PRP |      call/VB->VBP      | it/PRP ``/`` photographic\n",
        "PRP call/VBP it/PRP ``/`` |  photographic/NN->JJ   | ''/'' ./.\n",
        "                  Mr./NNP |      Hahn/NN->NNP      | also/RB has/VBZ engineere\n",
        " Hahn/NNP also/RB has/VBZ |   engineered/NN->VBN   | a/DT surprising/JJ turnar\n",
        "               *-1/-NONE- |     Taking/NN->VBG     | over/RP as/RB chief/NN ex\n",
        "    *-1/-NONE- Taking/VBG |      over/IN->RP       | as/RB chief/NN executive/\n",
        "-NONE- Taking/VBG over/RP |       as/IN->RB        | chief/NN executive/JJ off\n",
        "BG over/RP as/RB chief/NN |    executive/NN->JJ    | officer/NN in/IN 1983/CD \n",
        " in/IN 1983/CD ,/, he/PRP |   inherited/NN->VBD    | a/DT company/NN that/WDT \n",
        "ONE- in/IN debt/NN and/CC |      hurt/VB->VBN      | *-2/-NONE- by/IN a/DT rec\n",
        "VBN *-2/-NONE- by/IN a/DT | recession-inspired/NN->JJ | slide/NN in/IN its/PRP$ b\n",
        "J slide/NN in/IN its/PRP$ | building-products/NN->NNS | business/NN ./.\n",
        "                  Mr./NNP |      Hahn/NN->NNP      | began/VBD *-1/-NONE- sell\n",
        "BD *-1/-NONE- selling/VBG |    non-core/NN->JJ     | businesses/NNS ,/, such/J\n",
        "           He/PRP even/RB |     sold/VBN->VBD      | one/CD unit/NN that/WDT *\n",
        "VBD vinyl/NN checkbook/NN |     covers/NN->NNS     | ./.\n",
        "/PRP began/VBD *-1/-NONE- |    building/NN->VBG    | up/RP the/DT pulp/NN and/\n",
        "D *-1/-NONE- building/VBG |       up/IN->RP        | the/DT pulp/NN and/CC pap\n",
        "N of/IN the/DT company/NN |      while/IN->NN      | *-1/-NONE- refocusing/NN \n",
        "n/IN materials/NNS for/IN |    new-home/NN->JJ     | construction/NN ./.\n",
        "NN was/VBD */-NONE- to/TO |     buffet/NN->VB      | building/NN products/NNS \n",
        "g/NN products/NNS from/IN |     cycles/NN->NNS     | in/IN new-home/JJ constru\n",
        " from/IN cycles/NNS in/IN |    new-home/NN->JJ     | construction/NN ./.\n",
        "s/VBZ paid/VBN off/RP ,/, |       so/IN->RB        | far/RB ./.\n",
        "ific/NNP 's/POS sales/NNS |    climbed/VBN->VBD    | to/TO $/$ 9.5/CD billion/\n",
        "3/CD ,/, when/WRB Mr./NNP |      Hahn/NN->NNP      | took/VBD the/DT reins/NNS\n",
        " Hahn/NNP took/VBD the/DT |     reins/NN->NNS      | *T*-1/-NONE- ./.\n",
        "                  Mr./NNP |      Hahn/NN->NNP      | attributes/VBZ the/DT gai\n",
        "         Mr./NNP Hahn/NNP |   attributes/NN->VBZ   | the/DT gains/NNS to/TO th\n",
        "losophy/NN of/IN */-NONE- | concentrating/NN->VBG  | on/IN what/WP a/DT compan\n",
        "WDT *T*-8/-NONE- have/VBP |  diversified/NN->VBN   | is/VBZ n't/RB all/DT that\n",
        "/VBN is/VBZ n't/RB all/DT |      that/WDT->DT      | impressive/JJ ,/, ''/'' h\n",
        "VBZ n't/RB all/DT that/DT |   impressive/NN->JJ    | ,/, ''/'' he/PRP says/VBZ\n",
        "d/JJ match/NN ,/, Mr./NNP |      Hahn/NN->NNP      | and/CC many/JJ analysts/N\n",
        "/JJ companies/NNS with/IN |  high-quality/NN->JJ   | assets/NNS and/CC strong/\n",
        " and/CC strong/JJ cash/NN |     flows/NNS->VBZ     | ./.\n",
        " be/VB the/DT largest/JJS | forest-products/NN->NNS | concern/NN in/IN the/DT w\n",
        "bined/VBN sales/NNS of/IN |     more/RBR->JJR      | than/IN $/$ 13/CD billion\n",
        "    But/CC can/MD Mr./NNP |      Hahn/NN->NNP      | carry/VB it/PRP off/IN ?/\n",
        " Hahn/NNP carry/VB it/PRP |       off/RP->IN       | ?/.\n",
        "stance/NN ,/, industry/NN |   observers/NN->NNS    | say/VBP 0/-NONE- *T*-1/-N\n",
        "entering/VBG uncharted/JJ |     waters/NN->NNS     | ./.\n",
        "  Says/VBZ *ICH*-1/-NONE- |    Kathryn/NN->NNP     | McAuley/NNP ,/, an/DT ana\n",
        "ICH*-1/-NONE- Kathryn/NNP |    McAuley/NN->NNP     | ,/, an/DT analyst/NN at/I\n",
        "/`` This/DT is/VBZ the/DT |    greatest/NN->JJS    | acquisition/NN challenge/\n",
        "N 0/-NONE- he/PRP has/VBZ |     faced/NN->VBN      | *T*-2/-NONE- ./.\n",
        "                     A/DT |  House-Senate/NN->NNP  | conference/NN approved/VB\n",
        "/NN approved/VBD major/JJ |    portions/NN->NNS    | of/IN a/DT package/NN for\n",
        "IN a/DT package/NN for/IN |     more/RBR->JJR      | than/IN $/$ 500/CD millio\n",
        " aid/NN for/IN Poland/NNP |      that/IN->WDT      | *T*-1/-NONE- relies/VBZ h\n",
        "NNP that/WDT *T*-1/-NONE- |     relies/NN->VBZ     | heavily/RB on/IN $/$ 240/\n",
        " credit/NN and/CC loan/NN |   guarantees/NN->NNS   | in/IN fiscal/JJ 1990/CD i\n",
        "N fiscal/JJ 1990/CD in/IN |     hopes/VBZ->NNS     | of/IN */-NONE- stimulatin\n",
        " hopes/NNS of/IN */-NONE- |  stimulating/NN->VBG   | future/JJ trade/NN and/CC\n",
        "l/NNP Development/NNP ,/, | appropriators/NN->NNS  | approved/VBD $/$ 200/CD m\n",
        "n/IN secondary/JJ loan/NN |   guarantees/NN->NNS   | under/IN an/DT expanded/V\n",
        "antees/NNS under/IN an/DT |   expanded/VBD->VBN    | trade/NN credit/NN insura\n",
        "/NN program/NN ,/, and/CC |      total/NN->JJ      | loan/NN guarantees/NNS fo\n",
        ", and/CC total/JJ loan/NN |   guarantees/NN->NNS   | for/IN the/DT Overseas/NN\n",
        "rantees/NNS for/IN the/DT |    Overseas/NN->NNP    | Private/NNP Investment/NN\n",
        "or/IN the/DT Overseas/NNP |    Private/JJ->NNP     | Investment/NNP Corp./NNP \n",
        "elopment/NN assistance/NN |       as/RB->IN        | well/RB ,/, and/CC though\n",
        "both/DT sides/NNS are/VBP |   committed/VBD->VBN   | to/TO */-NONE- adding/VBG\n",
        "to/TO */-NONE- adding/VBG |     more/RBR->JJR      | than/IN $/$ 200/CD millio\n",
        "S and/CC environmental/JJ |  initiatives/NN->NNS   | sought/VBN */-NONE- by/IN\n",
        "mental/JJ initiatives/NNS |     sought/NN->VBN     | */-NONE- by/IN the/DT Bus\n",
        "ement/NN on/IN Poland/NNP |   contrasts/NN->VBZ    | with/IN the/DT major/JJ d\n",
        "-NONE- has/VBZ already/RB |    provoked/NN->VBN    | veto/NN threats/NNS by/IN\n",
        " and/CC is/VBZ sharply/RB |    confined/NN->VBN    | under/IN this/DT year/NN \n",
        " factor/NN in/IN */-NONE- |    shaping/NN->VBG     | the/DT Poland/NNP package\n",
        "/IN more/RBR ambitious/JJ |  authorizing/NN->VBG   | legislation/NN is/VBZ sti\n",
        "RB pending/VBG ,/, the/DT | appropriations/NN->NNS | bill/NN in/IN conference/\n",
        "nference/NN will/MD be/VB |     more/JJR->RBR      | decisive/JJ on/IN U.S./NN\n",
        "NN will/MD be/VB more/RBR |    decisive/NN->JJ     | on/IN U.S./NNP aid/NN to/\n",
        "e/NN ,/, the/DT House/NNP | Appropriations/NN->NNPS | Committee/NNP last/JJ wee\n",
        "ired/VBN *-1/-NONE- to/TO |   reallocate/NN->VB    | an/DT estimated/VBN $/$ 1\n",
        "*U*/-NONE- from/IN the/DT |    Pentagon/NN->NNP    | ./.\n",
        "e/NN of/IN the/DT loan/NN |   guarantees/NN->NNS   | approved/VBN */-NONE- yes\n",
        "DT loan/NN guarantees/NNS |   approved/VBD->VBN    | */-NONE- yesterday/NN is/\n",
        "on/IN Poland/NNP came/VBD |       as/RB->IN        | the/DT conference/NN sepa\n",
        "s/IN the/DT conference/NN |   separately/NN->RB    | approved/VBD $/$ 220/CD m\n",
        "national/JJ population/NN |    planning/NN->VBG    | activities/NNS ,/, an/DT \n",
        "T United/NNP Nations/NNPS |   Population/NN->NNP   | Fund/NNP will/MD receive/\n",
        "portion/NN of/IN these/DT | appropriations/NN->NNS | ,/, but/CC the/DT size/NN\n",
        "T second/JJ area/NN of/IN |     common/NN->JJ      | concern/NN ,/, the/DT wor\n",
        "d/VB a/DT series/NN of/IN |  initiatives/NN->NNS   | ,/, related/VBN both/DT t\n",
        "of/IN initiatives/NNS ,/, |    related/JJ->VBN     | both/DT to/TO global/JJ w\n",
        "DT plight/NN of/IN the/DT |     African/NN->JJ     | elephant/NN ./.\n",
        "                   The/DT |    sweeping/VBG->JJ    | nature/NN of/IN the/DT bi\n",
        "e/NN of/IN the/DT bill/NN |     draws/NN->VBZ      | a/DT variety/NN of/IN spe\n",
        "IN special/JJ interest/NN |   amendments/NN->NNS   | ,/, running/VBG from/IN a\n",
        "o/TO a/DT small/JJ but/CC |   intriguing/NN->JJ    | struggle/NN among/IN suga\n",
        "       Panama/NNP was/VBD |    stripped/NN->VBN    | *-8/-NONE- of/IN this/DT \n",
        "rences/NNS with/IN the/DT |    Noriega/NN->NNP     | regime/NN ,/, but/CC the/\n",
        "untry/NN would/MD have/VB |   received/VBD->VBN    | a/DT quota/NN of/IN 30,53\n",
        "of/IN 30,537/CD metric/JJ |      tons/NN->NNS      | over/IN a/DT 21-month/JJ \n",
        "/JJ tons/NNS over/IN a/DT |    21-month/NN->JJ     | period/NN ending/VBG Sept\n",
        "s/VBZ already/RB been/VBN |  reallocated/NN->VBN   | *-9/-NONE- ,/, according/\n",
        "T remaining/VBG 23,403/CD |      tons/NN->NNS      | are/VBP still/RB a/DT luc\n",
        "ative/JJ target/NN for/IN |    growers/NN->NNS     | because/IN the/DT current\n",
        "NS a/DT pound/NN runs/VBZ |       as/IN->RB        | much/JJ as/IN a/DT nickel\n",
        "T pound/NN runs/VBZ as/RB |      much/RB->JJ       | as/IN a/DT nickel/NN a/DT\n",
        "ONE- ,/, and/CC House/NNP |    Majority/NN->NNP    | Whip/NNP William/NNP Gray\n",
        "CC House/NNP Majority/NNP |      Whip/NN->NNP      | William/NNP Gray/NNP -LRB\n",
        "/NNP Whip/NNP William/NNP |      Gray/NN->NNP      | -LRB-/-LRB- D./NNP ,/, Pa\n",
        "NP -LRB-/-LRB- D./NNP ,/, |       Pa/NN->NNP       | ./. -RRB-/-RRB- began/VBD\n",
        "ted/VBN *-10/-NONE- to/TO | English-speaking/NN->JJ | countries/NNS of/IN the/D\n",
        "ountries/NNS of/IN the/DT |   Caribbean/NN->NNP    | ,/, such/JJ as/IN Jamaica\n",
        "ean/NNP ,/, such/JJ as/IN |    Jamaica/NN->NNP     | and/CC Barbados/NNP ./.\n",
        " as/IN Jamaica/NNP and/CC |    Barbados/NN->NNP    | ./.\n",
        "ry/NNP Lewis/NNP ,/, a/DT |  conservative/NN->JJ   | Californian/NN ,/, added/\n",
        "tended/VBN */-NONE- to/TO |     assist/VBP->VB     | Bolivia/NNP ,/, and/CC th\n",
        " */-NONE- to/TO assist/VB |    Bolivia/NN->NNP     | ,/, and/CC the/DT Senate/\n",
        "the/DT Senate/NNP then/RB |   broadened/NN->VBD    | the/DT list/NN further/RB\n",
        "adened/VBD the/DT list/NN |     further/JJ->RB     | by/IN *-1/-NONE- includin\n",
        "NNS in/IN the/DT U.S./NNP |   Caribbean/NN->NNP    | Basin/NNP initiate/NN as/\n",
        "DT U.S./NNP Caribbean/NNP |     Basin/NN->NNP      | initiate/NN as/RB well/RB\n",
        "s/RB well/RB as/IN the/DT | Philippines/NNPS->NNP  | -/: *-1/-NONE- backed/VBN\n",
        "ppines/NNP -/: *-1/-NONE- |     backed/NN->VBN     | */-NONE- by/IN the/DT pow\n",
        "VBN */-NONE- by/IN the/DT |    powerful/NN->JJ     | Hawaii/NNP Democrat/NNP S\n",
        " by/IN the/DT powerful/JJ |     Hawaii/NN->NNP     | Democrat/NNP Sen./NNP Dan\n",
        "t/NNP Sen./NNP Daniel/NNP |     Inouye/NN->NNP     | ./.\n",
        "                          |    Jamaica/NN->NNP     | ,/, wary/JJ of/IN */-NONE\n",
        "          Jamaica/NNP ,/, |      wary/NN->JJ       | of/IN */-NONE- upsetting/\n",
        "/, wary/JJ of/IN */-NONE- |   upsetting/NN->VBG    | its/PRP$ Caribbean/NNP Ba\n",
        "E- upsetting/VBG its/PRP$ |   Caribbean/NN->NNP    | Basin/NNP allies/NNS ,/, \n",
        "BG its/PRP$ Caribbean/NNP |     Basin/NN->NNP      | allies/NNS ,/, has/VBZ ap\n",
        "$ Caribbean/NNP Basin/NNP |     allies/NN->NNS     | ,/, has/VBZ apparently/RB\n",
        ",/, has/VBZ apparently/RB |   instructed/NN->VBN   | its/PRP$ lobbyist/NN *-2/\n",
        "byist/NN *-2/-NONE- to/TO |     abandon/NN->VB     | the/DT provision/NN initi\n",
        "provision/NN initially/RB |    drafted/NN->VBN     | */-NONE- by/IN Mr./NNP Gr\n",
        "BN */-NONE- by/IN Mr./NNP |      Gray/NN->NNP      | ,/, but/CC the/DT greater\n",
        "is/VBZ whether/IN Mr./NNP |     Inouye/NN->NNP     | ,/, who/WP *T*-10/-NONE- \n",
        " able/JJ *-3/-NONE- to/TO |     insert/NN->VB      | a/DT claim/NN by/IN the/D\n",
        "ONE- to/TO insert/VB a/DT |     claim/VBP->NN      | by/IN the/DT Philippines/\n",
        "n/NN ,/, the/DT House/NNP |     waived/NN->VBD     | budget/NN restrictions/NN\n",
        "llion/CD *U*/-NONE- in/IN |  supplemental/NN->JJ   | appropriations/NNS for/IN\n",
        "NE- in/IN supplemental/JJ | appropriations/NN->NNS | for/IN law/NN enforcement\n",
        "/NN enforcement/NN and/CC |    anti-drug/NN->JJ    | programs/NNS in/IN fiscal\n",
        " The/DT funding/NN is/VBZ |   attached/VBD->VBN    | *-11/-NONE- to/TO an/DT e\n",
        "NP domestic/JJ airline/NN |    flights/NN->NNS     | ./.\n",
        " compromise/NN measure/NN |    promptly/NN->RB     | to/TO the/DT White/NNP Ho\n",
        "nate/NNP has/VBZ been/VBN |       as/IN->RB        | likely/JJ *-3/-NONE- to/T\n",
        "ikely/JJ *-3/-NONE- to/TO |     bounce/NN->VB      | bills/NNS back/RB to/TO t\n",
        "to/TO bounce/VB bills/NNS |      back/NN->RB       | to/TO the/DT House/NNP ./\n",
        "fiscal/JJ 1990/CD bill/NN |    funding/NN->VBG     | the/DT State/NNP ,/, Just\n",
        "e/NNP and/CC Commerce/NNP |  departments/NN->NNS   | ./.\n",
        "DT Senate/NNP Foreign/NNP |   Relations/NN->NNP    | Committee/NNP ,/, appropr\n",
        "ons/NNP Committee/NNP ,/, | appropriators/NN->NNS  | from/IN both/DT houses/NN\n",
        "VB forced/VBN *-12/-NONE- |      back/NN->RB       | to/TO conference/NN ./.\n",
        "                Beauty/NN |     Takes/NN->VBZ      | Backseat/NN To/TO Safety/\n",
        "NN To/TO Safety/NNP on/IN |    Bridges/NN->NNPS    | \n",
        "              EVERYONE/NN |     AGREES/NN->VBZ     | that/IN most/JJS of/IN th\n",
        "   EVERYONE/NN AGREES/VBZ |      that/WDT->IN      | most/JJS of/IN the/DT nat\n",
        "T nation/NN 's/POS old/JJ |    bridges/NN->NNS     | need/VBP *-1/-NONE- to/TO\n",
        "BP *-1/-NONE- to/TO be/VB |    repaired/NN->VBN    | or/CC replaced/VBN *-13/-\n",
        "                          |    Highway/NNP->NN     | officials/NNS insist/VBP \n",
        "nsist/VBP 0/-NONE- the/DT |   ornamental/NN->JJ    | railings/NNS on/IN older/\n",
        "ONE- the/DT ornamental/JJ |    railings/NN->NNS    | on/IN older/JJR bridges/N\n",
        "lings/NNS on/IN older/JJR |    bridges/NN->NNS     | are/VBP n't/RB strong/JJ \n",
        "cles/NNS from/IN */-NONE- |    crashing/NN->VBG    | through/IN ./.\n",
        " want/VB *-1/-NONE- to/TO |      lose/NN->VB       | the/DT bridges/NNS '/POS \n",
        "ONE- to/TO lose/VB the/DT |    bridges/NN->NNS     | '/POS beautiful/JJ ,/, so\n",
        "ose/VB the/DT bridges/NNS |       '/''->POS        | beautiful/JJ ,/, sometime\n",
        "tiful/JJ ,/, sometimes/RB |    historic/NN->JJ     | ,/, features/NNS ./.\n",
        "/NN is/VBZ */-NONE- to/TO |    contain/VBP->VB     | a/DT vehicle/NN and/CC no\n",
        "/RB to/TO provide/VB a/DT |     scenic/NN->JJ      | view/NN ,/, ''/'' says/VB\n",
        "provide/VB a/DT scenic/JJ |      view/VBP->NN      | ,/, ''/'' says/VBZ *T*-1/\n",
        " He/PRP and/CC others/NNS |     prefer/NN->VBP     | *-1/-NONE- to/TO install/\n",
        "efer/VBP *-1/-NONE- to/TO |     install/NN->VB     | railings/NNS such/JJ as/I\n",
        "1/-NONE- to/TO install/VB |    railings/NN->NNS    | such/JJ as/IN the/DT ``/`\n",
        "N shape/NN ,/, ''/'' a/DT | four-foot-high/NN->JJ  | concrete/JJ slab/NN with/\n",
        "'' a/DT four-foot-high/JJ |    concrete/NN->JJ     | slab/NN with/IN no/DT ope\n",
        "/JJ slab/NN with/IN no/DT |    openings/NN->NNS    | ./.\n",
        "   In/IN Richmond/NNP ,/, |      Ind./NN->NNP      | ,/, the/DT type/NN F/NN r\n",
        "1/-NONE- *-2/-NONE- to/TO |     replace/NN->VB     | arched/JJ openings/NNS on\n",
        "2/-NONE- to/TO replace/VB |     arched/NN->JJ      | openings/NNS on/IN the/DT\n",
        "o/TO replace/VB arched/JJ |    openings/NN->NNS    | on/IN the/DT G/NNP Street\n",
        "openings/NNS on/IN the/DT |       G/NN->NNP        | Street/NNP Bridge/NNP ./.\n",
        "N the/DT G/NNP Street/NNP |     Bridge/NN->NNP     | ./.\n",
        "                          |     Garret/NN->NNP     | Boone/NNP ,/, who/WP *T*-\n",
        " ,/, who/WP *T*-11/-NONE- |    teaches/NN->VBZ     | art/NN at/IN Earlham/NNP \n",
        " teaches/VBZ art/NN at/IN |    Earlham/NN->NNP     | College/NNP ,/, calls/VBZ\n",
        "re/NN ``/`` just/RB an/DT |      ugly/NN->JJ       | bridge/NN ''/'' and/CC on\n",
        "/CD that/WDT *T*-1/-NONE- |     blocks/NN->VBZ     | the/DT view/NN of/IN a/DT\n",
        "/-NONE- blocks/VBZ the/DT |      view/VBP->NN      | of/IN a/DT new/JJ park/NN\n",
        " ,/, Conn./NNP ,/, the/DT |    Charter/NN->NNP     | Oak/NNP Bridge/NNP will/M\n",
        "NP ,/, the/DT Charter/NNP |      Oak/NN->NNP       | Bridge/NNP will/MD soon/R\n",
        "he/DT Charter/NNP Oak/NNP |     Bridge/NN->NNP     | will/MD soon/RB be/VB rep\n",
        "BN *-14/-NONE- ,/, the/DT |    cast-iron/NN->JJ    | medallions/NNS from/IN it\n",
        "- ,/, the/DT cast-iron/JJ |   medallions/NN->NNS   | from/IN its/PRP$ railings\n",
        "ions/NNS from/IN its/PRP$ |    railings/NN->NNS    | relegated/VBN to/TO a/DT \n",
        "                          |  Compromises/NN->NNS   | are/VBP possible/JJ ./.\n",
        "                          |    Citizens/NN->NNS    | in/IN Peninsula/NNP ,/, O\n",
        "       Citizens/NNS in/IN |   Peninsula/NN->NNP    | ,/, Ohio/NNP ,/, *-1/-NON\n",
        ", Ohio/NNP ,/, *-1/-NONE- |     upset/NN->VBN      | over/IN changes/NNS to/TO\n",
        " to/TO a/DT bridge/NN ,/, |   negotiated/NN->VBD   | a/DT deal/NN :/: The/DT b\n",
        "T old/JJ bridge/NN 's/POS |     floral/NN->JJ      | pattern/NN ./.\n",
        "                          |    Similarly/NN->RB    | ,/, highway/NN engineers/\n",
        "/TO keep/VB the/DT old/JJ |    railings/NN->NNS    | on/IN the/DT Key/NNP Brid\n",
        "/NNS on/IN the/DT Key/NNP |     Bridge/NN->NNP     | in/IN Washington/NNP ,/, \n",
        "gton/NNP ,/, D.C./NNP ,/, |       as/IN->RB        | long/RB as/IN they/PRP co\n",
        "NP ,/, D.C./NNP ,/, as/RB |      long/JJ->RB       | as/IN they/PRP could/MD i\n",
        "B as/IN they/PRP could/MD |     install/NN->VB     | a/DT crash/JJ barrier/NN \n",
        " could/MD install/VB a/DT |      crash/NN->JJ      | barrier/NN between/IN the\n",
        "                          |      Tray/NN->NNP      | Bon/NNP ?/.\n",
        "                 Tray/NNP |      Bon/NN->NNP       | ?/.\n",
        "      Drink/NN Carrier/NN |    Competes/NN->VBZ    | With/IN Cartons/NNS\n",
        "r/NN Competes/VBZ With/IN |    Cartons/NN->NNS     | \n",
        "                 */-NONE- |    PORTING/NN->VBG     | POTABLES/NNS just/RB got/\n",
        "     */-NONE- PORTING/VBG |    POTABLES/NN->NNS    | just/RB got/VBD easier/JJ\n",
        "/, or/CC so/RB claims/VBZ |    Scypher/NN->NNP     | Corp./NNP ,/, the/DT make\n",
        "/DT maker/NN of/IN the/DT |    Cup-Tote/NN->NNP    | ./.\n",
        "\n"
       ]
      }
     ],
     "prompt_number": 79
    },
    {
     "cell_type": "markdown",
     "metadata": {},
     "source": [
      "# 5.7. Determining Categories of a Word"
     ]
    },
    {
     "cell_type": "markdown",
     "metadata": {},
     "source": [
      "## Morphological Clues"
     ]
    },
    {
     "cell_type": "markdown",
     "metadata": {},
     "source": [
      "* internal structure of word\n",
      "* eg. -ness -> suffix which combines adjective to produce noun"
     ]
    },
    {
     "cell_type": "markdown",
     "metadata": {},
     "source": [
      "## Syntactic Clues"
     ]
    },
    {
     "cell_type": "markdown",
     "metadata": {},
     "source": [
      "* Context a word can occur"
     ]
    },
    {
     "cell_type": "markdown",
     "metadata": {},
     "source": [
      "## Semantic Clues"
     ]
    },
    {
     "cell_type": "markdown",
     "metadata": {},
     "source": [
      "* Meaning of words can make us understand lexical category"
     ]
    },
    {
     "cell_type": "markdown",
     "metadata": {},
     "source": [
      "## New Words"
     ]
    },
    {
     "cell_type": "markdown",
     "metadata": {},
     "source": [
      "* New texical terms, All words have recently been nouns which is an open class\n",
      "* Prepositions are closed classes as a limited set of words belong to class"
     ]
    },
    {
     "cell_type": "markdown",
     "metadata": {},
     "source": [
      "## Morphology in POS"
     ]
    },
    {
     "cell_type": "markdown",
     "metadata": {},
     "source": [
      "* Common tagsets can capture some morphosyntactic info"
     ]
    },
    {
     "cell_type": "code",
     "collapsed": false,
     "input": [],
     "language": "python",
     "metadata": {},
     "outputs": []
    }
   ],
   "metadata": {}
  }
 ]
}