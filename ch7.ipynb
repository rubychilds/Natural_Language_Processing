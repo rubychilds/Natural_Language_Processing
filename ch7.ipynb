{
 "metadata": {
  "name": "",
  "signature": "sha256:2e797c98206d71b4bc30a65f2b3755f55f5495d80747f4206114819c2ad8299c"
 },
 "nbformat": 3,
 "nbformat_minor": 0,
 "worksheets": [
  {
   "cells": [
    {
     "cell_type": "markdown",
     "metadata": {},
     "source": [
      "# CH7 Extracting Information from text\n",
      "* How to extract unstructured text into structured data\n",
      "* robust methods for identification of relationships and entities\n",
      "* appropriateness of corpora and how to train and evaluate models\n",
      "## 7.1 Information Extraction\n",
      "* Structured data - regular and predictable organization of entities and relationships\n"
     ]
    }
   ],
   "metadata": {}
  }
 ]
}