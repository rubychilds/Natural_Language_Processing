{
 "metadata": {
  "name": "",
  "signature": "sha256:cd4ca2fa546d6fa0f070bda724d100698286fabd45aff9c9b528f929e5fd2f36"
 },
 "nbformat": 3,
 "nbformat_minor": 0,
 "worksheets": [
  {
   "cells": [
    {
     "cell_type": "markdown",
     "metadata": {},
     "source": [
      "# CH7 Extracting Information from text\n",
      "* How to extract unstructured text into structured data\n",
      "* robust methods for identification of relationships and entities\n",
      "* appropriateness of corpora and how to train and evaluate models\n",
      "## 7.1 Information Extraction\n",
      "* Structured data - regular and predictable organization of entities and relationships\n",
      "* First convert unstructured data of natural lang sentences into a table then can use SQL\n",
      "* Information extraction is the way of getting data from text\n",
      "* Applications like buinsess intelligence, resume harvesting, media anal, sentiment detection, patent search etc\n",
      "## Information Extraction Architecture\n",
      "* Process document by cleaning, segmentation, tokenization\n",
      "* Next use part of speech taggers\n",
      "* Named entity recognition - searches for mentions of interesting entities in each sentence\n",
      "* Relation recognition - search for likely relations between different entities in a text"
     ]
    },
    {
     "cell_type": "code",
     "collapsed": false,
     "input": [
      "import nltk\n",
      "def ie_preprocess(document):\n",
      "    sentences = nltk.sent_tokenize(document) # tokenizes sentences\n",
      "    sentences = [nltk.word_toeknize(sentence) for sentence in sentences] # word tokenize\n",
      "    sentences = [nltk.pos_tag(sent) for sent in sentences] # part of speech tagger\n",
      "    return sentences"
     ],
     "language": "python",
     "metadata": {},
     "outputs": [],
     "prompt_number": 2
    },
    {
     "cell_type": "code",
     "collapsed": false,
     "input": [],
     "language": "python",
     "metadata": {},
     "outputs": []
    }
   ],
   "metadata": {}
  }
 ]
}